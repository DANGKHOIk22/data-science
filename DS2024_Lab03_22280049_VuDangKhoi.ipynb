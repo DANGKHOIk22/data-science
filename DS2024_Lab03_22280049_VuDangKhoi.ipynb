{
  "cells": [
    {
      "cell_type": "markdown",
      "metadata": {
        "id": "view-in-github",
        "colab_type": "text"
      },
      "source": [
        "<a href=\"https://colab.research.google.com/github/DANGKHOIk22/data-science/blob/main/DS2024_Lab03_22280049_VuDangKhoi.ipynb\" target=\"_parent\"><img src=\"https://colab.research.google.com/assets/colab-badge.svg\" alt=\"Open In Colab\"/></a>"
      ]
    },
    {
      "cell_type": "markdown",
      "metadata": {
        "id": "V9IsIqQY0RSi"
      },
      "source": [
        "# Data Preprocessing:"
      ]
    },
    {
      "cell_type": "code",
      "execution_count": null,
      "metadata": {
        "id": "elU16ZqPOigQ"
      },
      "outputs": [],
      "source": [
        "import pandas as pd\n",
        "import numpy as np\n",
        "import seaborn as sns\n",
        "import matplotlib.pyplot as plt"
      ]
    },
    {
      "cell_type": "code",
      "execution_count": null,
      "metadata": {
        "id": "XRnsAdPayi0f"
      },
      "outputs": [],
      "source": [
        "df=pd.read_csv(\"cancer_reg.csv\")"
      ]
    },
    {
      "cell_type": "code",
      "execution_count": null,
      "metadata": {
        "colab": {
          "base_uri": "https://localhost:8080/",
          "height": 342
        },
        "id": "4giObUuuyruN",
        "outputId": "5bc9e4b4-4cd6-4a1b-b102-babe00223e1b"
      },
      "outputs": [
        {
          "output_type": "execute_result",
          "data": {
            "text/plain": [
              "   avganncount  avgdeathsperyear  target_deathrate  incidencerate  medincome  \\\n",
              "0       1397.0               469             164.9          489.8      61898   \n",
              "1        173.0                70             161.3          411.6      48127   \n",
              "2        102.0                50             174.7          349.7      49348   \n",
              "3        427.0               202             194.8          430.4      44243   \n",
              "4         57.0                26             144.4          350.1      49955   \n",
              "\n",
              "   popest2015  povertypercent  studypercap           binnedinc  medianage  \\\n",
              "0      260131            11.2   499.748204   (61494.5, 125635]       39.3   \n",
              "1       43269            18.6    23.111234  (48021.6, 51046.4]       33.0   \n",
              "2       21026            14.6    47.560164  (48021.6, 51046.4]       45.0   \n",
              "3       75882            17.1   342.637253    (42724.4, 45201]       42.8   \n",
              "4       10321            12.5     0.000000  (48021.6, 51046.4]       48.3   \n",
              "\n",
              "   ...  pctprivatecoveragealone  pctempprivcoverage pctpubliccoverage  \\\n",
              "0  ...                      NaN                41.6              32.9   \n",
              "1  ...                     53.8                43.6              31.1   \n",
              "2  ...                     43.5                34.9              42.1   \n",
              "3  ...                     40.3                35.0              45.3   \n",
              "4  ...                     43.9                35.1              44.0   \n",
              "\n",
              "   pctpubliccoveragealone   pctwhite  pctblack  pctasian  pctotherrace  \\\n",
              "0                    14.0  81.780529  2.594728  4.821857      1.843479   \n",
              "1                    15.3  89.228509  0.969102  2.246233      3.741352   \n",
              "2                    21.1  90.922190  0.739673  0.465898      2.747358   \n",
              "3                    25.0  91.744686  0.782626  1.161359      1.362643   \n",
              "4                    22.7  94.104024  0.270192  0.665830      0.492135   \n",
              "\n",
              "   pctmarriedhouseholds  birthrate  \n",
              "0             52.856076   6.118831  \n",
              "1             45.372500   4.333096  \n",
              "2             54.444868   3.729488  \n",
              "3             51.021514   4.603841  \n",
              "4             54.027460   6.796657  \n",
              "\n",
              "[5 rows x 33 columns]"
            ],
            "text/html": [
              "\n",
              "  <div id=\"df-ae06a44f-87d0-430f-9ebb-51731552463b\" class=\"colab-df-container\">\n",
              "    <div>\n",
              "<style scoped>\n",
              "    .dataframe tbody tr th:only-of-type {\n",
              "        vertical-align: middle;\n",
              "    }\n",
              "\n",
              "    .dataframe tbody tr th {\n",
              "        vertical-align: top;\n",
              "    }\n",
              "\n",
              "    .dataframe thead th {\n",
              "        text-align: right;\n",
              "    }\n",
              "</style>\n",
              "<table border=\"1\" class=\"dataframe\">\n",
              "  <thead>\n",
              "    <tr style=\"text-align: right;\">\n",
              "      <th></th>\n",
              "      <th>avganncount</th>\n",
              "      <th>avgdeathsperyear</th>\n",
              "      <th>target_deathrate</th>\n",
              "      <th>incidencerate</th>\n",
              "      <th>medincome</th>\n",
              "      <th>popest2015</th>\n",
              "      <th>povertypercent</th>\n",
              "      <th>studypercap</th>\n",
              "      <th>binnedinc</th>\n",
              "      <th>medianage</th>\n",
              "      <th>...</th>\n",
              "      <th>pctprivatecoveragealone</th>\n",
              "      <th>pctempprivcoverage</th>\n",
              "      <th>pctpubliccoverage</th>\n",
              "      <th>pctpubliccoveragealone</th>\n",
              "      <th>pctwhite</th>\n",
              "      <th>pctblack</th>\n",
              "      <th>pctasian</th>\n",
              "      <th>pctotherrace</th>\n",
              "      <th>pctmarriedhouseholds</th>\n",
              "      <th>birthrate</th>\n",
              "    </tr>\n",
              "  </thead>\n",
              "  <tbody>\n",
              "    <tr>\n",
              "      <th>0</th>\n",
              "      <td>1397.0</td>\n",
              "      <td>469</td>\n",
              "      <td>164.9</td>\n",
              "      <td>489.8</td>\n",
              "      <td>61898</td>\n",
              "      <td>260131</td>\n",
              "      <td>11.2</td>\n",
              "      <td>499.748204</td>\n",
              "      <td>(61494.5, 125635]</td>\n",
              "      <td>39.3</td>\n",
              "      <td>...</td>\n",
              "      <td>NaN</td>\n",
              "      <td>41.6</td>\n",
              "      <td>32.9</td>\n",
              "      <td>14.0</td>\n",
              "      <td>81.780529</td>\n",
              "      <td>2.594728</td>\n",
              "      <td>4.821857</td>\n",
              "      <td>1.843479</td>\n",
              "      <td>52.856076</td>\n",
              "      <td>6.118831</td>\n",
              "    </tr>\n",
              "    <tr>\n",
              "      <th>1</th>\n",
              "      <td>173.0</td>\n",
              "      <td>70</td>\n",
              "      <td>161.3</td>\n",
              "      <td>411.6</td>\n",
              "      <td>48127</td>\n",
              "      <td>43269</td>\n",
              "      <td>18.6</td>\n",
              "      <td>23.111234</td>\n",
              "      <td>(48021.6, 51046.4]</td>\n",
              "      <td>33.0</td>\n",
              "      <td>...</td>\n",
              "      <td>53.8</td>\n",
              "      <td>43.6</td>\n",
              "      <td>31.1</td>\n",
              "      <td>15.3</td>\n",
              "      <td>89.228509</td>\n",
              "      <td>0.969102</td>\n",
              "      <td>2.246233</td>\n",
              "      <td>3.741352</td>\n",
              "      <td>45.372500</td>\n",
              "      <td>4.333096</td>\n",
              "    </tr>\n",
              "    <tr>\n",
              "      <th>2</th>\n",
              "      <td>102.0</td>\n",
              "      <td>50</td>\n",
              "      <td>174.7</td>\n",
              "      <td>349.7</td>\n",
              "      <td>49348</td>\n",
              "      <td>21026</td>\n",
              "      <td>14.6</td>\n",
              "      <td>47.560164</td>\n",
              "      <td>(48021.6, 51046.4]</td>\n",
              "      <td>45.0</td>\n",
              "      <td>...</td>\n",
              "      <td>43.5</td>\n",
              "      <td>34.9</td>\n",
              "      <td>42.1</td>\n",
              "      <td>21.1</td>\n",
              "      <td>90.922190</td>\n",
              "      <td>0.739673</td>\n",
              "      <td>0.465898</td>\n",
              "      <td>2.747358</td>\n",
              "      <td>54.444868</td>\n",
              "      <td>3.729488</td>\n",
              "    </tr>\n",
              "    <tr>\n",
              "      <th>3</th>\n",
              "      <td>427.0</td>\n",
              "      <td>202</td>\n",
              "      <td>194.8</td>\n",
              "      <td>430.4</td>\n",
              "      <td>44243</td>\n",
              "      <td>75882</td>\n",
              "      <td>17.1</td>\n",
              "      <td>342.637253</td>\n",
              "      <td>(42724.4, 45201]</td>\n",
              "      <td>42.8</td>\n",
              "      <td>...</td>\n",
              "      <td>40.3</td>\n",
              "      <td>35.0</td>\n",
              "      <td>45.3</td>\n",
              "      <td>25.0</td>\n",
              "      <td>91.744686</td>\n",
              "      <td>0.782626</td>\n",
              "      <td>1.161359</td>\n",
              "      <td>1.362643</td>\n",
              "      <td>51.021514</td>\n",
              "      <td>4.603841</td>\n",
              "    </tr>\n",
              "    <tr>\n",
              "      <th>4</th>\n",
              "      <td>57.0</td>\n",
              "      <td>26</td>\n",
              "      <td>144.4</td>\n",
              "      <td>350.1</td>\n",
              "      <td>49955</td>\n",
              "      <td>10321</td>\n",
              "      <td>12.5</td>\n",
              "      <td>0.000000</td>\n",
              "      <td>(48021.6, 51046.4]</td>\n",
              "      <td>48.3</td>\n",
              "      <td>...</td>\n",
              "      <td>43.9</td>\n",
              "      <td>35.1</td>\n",
              "      <td>44.0</td>\n",
              "      <td>22.7</td>\n",
              "      <td>94.104024</td>\n",
              "      <td>0.270192</td>\n",
              "      <td>0.665830</td>\n",
              "      <td>0.492135</td>\n",
              "      <td>54.027460</td>\n",
              "      <td>6.796657</td>\n",
              "    </tr>\n",
              "  </tbody>\n",
              "</table>\n",
              "<p>5 rows × 33 columns</p>\n",
              "</div>\n",
              "    <div class=\"colab-df-buttons\">\n",
              "\n",
              "  <div class=\"colab-df-container\">\n",
              "    <button class=\"colab-df-convert\" onclick=\"convertToInteractive('df-ae06a44f-87d0-430f-9ebb-51731552463b')\"\n",
              "            title=\"Convert this dataframe to an interactive table.\"\n",
              "            style=\"display:none;\">\n",
              "\n",
              "  <svg xmlns=\"http://www.w3.org/2000/svg\" height=\"24px\" viewBox=\"0 -960 960 960\">\n",
              "    <path d=\"M120-120v-720h720v720H120Zm60-500h600v-160H180v160Zm220 220h160v-160H400v160Zm0 220h160v-160H400v160ZM180-400h160v-160H180v160Zm440 0h160v-160H620v160ZM180-180h160v-160H180v160Zm440 0h160v-160H620v160Z\"/>\n",
              "  </svg>\n",
              "    </button>\n",
              "\n",
              "  <style>\n",
              "    .colab-df-container {\n",
              "      display:flex;\n",
              "      gap: 12px;\n",
              "    }\n",
              "\n",
              "    .colab-df-convert {\n",
              "      background-color: #E8F0FE;\n",
              "      border: none;\n",
              "      border-radius: 50%;\n",
              "      cursor: pointer;\n",
              "      display: none;\n",
              "      fill: #1967D2;\n",
              "      height: 32px;\n",
              "      padding: 0 0 0 0;\n",
              "      width: 32px;\n",
              "    }\n",
              "\n",
              "    .colab-df-convert:hover {\n",
              "      background-color: #E2EBFA;\n",
              "      box-shadow: 0px 1px 2px rgba(60, 64, 67, 0.3), 0px 1px 3px 1px rgba(60, 64, 67, 0.15);\n",
              "      fill: #174EA6;\n",
              "    }\n",
              "\n",
              "    .colab-df-buttons div {\n",
              "      margin-bottom: 4px;\n",
              "    }\n",
              "\n",
              "    [theme=dark] .colab-df-convert {\n",
              "      background-color: #3B4455;\n",
              "      fill: #D2E3FC;\n",
              "    }\n",
              "\n",
              "    [theme=dark] .colab-df-convert:hover {\n",
              "      background-color: #434B5C;\n",
              "      box-shadow: 0px 1px 3px 1px rgba(0, 0, 0, 0.15);\n",
              "      filter: drop-shadow(0px 1px 2px rgba(0, 0, 0, 0.3));\n",
              "      fill: #FFFFFF;\n",
              "    }\n",
              "  </style>\n",
              "\n",
              "    <script>\n",
              "      const buttonEl =\n",
              "        document.querySelector('#df-ae06a44f-87d0-430f-9ebb-51731552463b button.colab-df-convert');\n",
              "      buttonEl.style.display =\n",
              "        google.colab.kernel.accessAllowed ? 'block' : 'none';\n",
              "\n",
              "      async function convertToInteractive(key) {\n",
              "        const element = document.querySelector('#df-ae06a44f-87d0-430f-9ebb-51731552463b');\n",
              "        const dataTable =\n",
              "          await google.colab.kernel.invokeFunction('convertToInteractive',\n",
              "                                                    [key], {});\n",
              "        if (!dataTable) return;\n",
              "\n",
              "        const docLinkHtml = 'Like what you see? Visit the ' +\n",
              "          '<a target=\"_blank\" href=https://colab.research.google.com/notebooks/data_table.ipynb>data table notebook</a>'\n",
              "          + ' to learn more about interactive tables.';\n",
              "        element.innerHTML = '';\n",
              "        dataTable['output_type'] = 'display_data';\n",
              "        await google.colab.output.renderOutput(dataTable, element);\n",
              "        const docLink = document.createElement('div');\n",
              "        docLink.innerHTML = docLinkHtml;\n",
              "        element.appendChild(docLink);\n",
              "      }\n",
              "    </script>\n",
              "  </div>\n",
              "\n",
              "\n",
              "<div id=\"df-799809d0-e7d7-459d-9417-540764509942\">\n",
              "  <button class=\"colab-df-quickchart\" onclick=\"quickchart('df-799809d0-e7d7-459d-9417-540764509942')\"\n",
              "            title=\"Suggest charts\"\n",
              "            style=\"display:none;\">\n",
              "\n",
              "<svg xmlns=\"http://www.w3.org/2000/svg\" height=\"24px\"viewBox=\"0 0 24 24\"\n",
              "     width=\"24px\">\n",
              "    <g>\n",
              "        <path d=\"M19 3H5c-1.1 0-2 .9-2 2v14c0 1.1.9 2 2 2h14c1.1 0 2-.9 2-2V5c0-1.1-.9-2-2-2zM9 17H7v-7h2v7zm4 0h-2V7h2v10zm4 0h-2v-4h2v4z\"/>\n",
              "    </g>\n",
              "</svg>\n",
              "  </button>\n",
              "\n",
              "<style>\n",
              "  .colab-df-quickchart {\n",
              "      --bg-color: #E8F0FE;\n",
              "      --fill-color: #1967D2;\n",
              "      --hover-bg-color: #E2EBFA;\n",
              "      --hover-fill-color: #174EA6;\n",
              "      --disabled-fill-color: #AAA;\n",
              "      --disabled-bg-color: #DDD;\n",
              "  }\n",
              "\n",
              "  [theme=dark] .colab-df-quickchart {\n",
              "      --bg-color: #3B4455;\n",
              "      --fill-color: #D2E3FC;\n",
              "      --hover-bg-color: #434B5C;\n",
              "      --hover-fill-color: #FFFFFF;\n",
              "      --disabled-bg-color: #3B4455;\n",
              "      --disabled-fill-color: #666;\n",
              "  }\n",
              "\n",
              "  .colab-df-quickchart {\n",
              "    background-color: var(--bg-color);\n",
              "    border: none;\n",
              "    border-radius: 50%;\n",
              "    cursor: pointer;\n",
              "    display: none;\n",
              "    fill: var(--fill-color);\n",
              "    height: 32px;\n",
              "    padding: 0;\n",
              "    width: 32px;\n",
              "  }\n",
              "\n",
              "  .colab-df-quickchart:hover {\n",
              "    background-color: var(--hover-bg-color);\n",
              "    box-shadow: 0 1px 2px rgba(60, 64, 67, 0.3), 0 1px 3px 1px rgba(60, 64, 67, 0.15);\n",
              "    fill: var(--button-hover-fill-color);\n",
              "  }\n",
              "\n",
              "  .colab-df-quickchart-complete:disabled,\n",
              "  .colab-df-quickchart-complete:disabled:hover {\n",
              "    background-color: var(--disabled-bg-color);\n",
              "    fill: var(--disabled-fill-color);\n",
              "    box-shadow: none;\n",
              "  }\n",
              "\n",
              "  .colab-df-spinner {\n",
              "    border: 2px solid var(--fill-color);\n",
              "    border-color: transparent;\n",
              "    border-bottom-color: var(--fill-color);\n",
              "    animation:\n",
              "      spin 1s steps(1) infinite;\n",
              "  }\n",
              "\n",
              "  @keyframes spin {\n",
              "    0% {\n",
              "      border-color: transparent;\n",
              "      border-bottom-color: var(--fill-color);\n",
              "      border-left-color: var(--fill-color);\n",
              "    }\n",
              "    20% {\n",
              "      border-color: transparent;\n",
              "      border-left-color: var(--fill-color);\n",
              "      border-top-color: var(--fill-color);\n",
              "    }\n",
              "    30% {\n",
              "      border-color: transparent;\n",
              "      border-left-color: var(--fill-color);\n",
              "      border-top-color: var(--fill-color);\n",
              "      border-right-color: var(--fill-color);\n",
              "    }\n",
              "    40% {\n",
              "      border-color: transparent;\n",
              "      border-right-color: var(--fill-color);\n",
              "      border-top-color: var(--fill-color);\n",
              "    }\n",
              "    60% {\n",
              "      border-color: transparent;\n",
              "      border-right-color: var(--fill-color);\n",
              "    }\n",
              "    80% {\n",
              "      border-color: transparent;\n",
              "      border-right-color: var(--fill-color);\n",
              "      border-bottom-color: var(--fill-color);\n",
              "    }\n",
              "    90% {\n",
              "      border-color: transparent;\n",
              "      border-bottom-color: var(--fill-color);\n",
              "    }\n",
              "  }\n",
              "</style>\n",
              "\n",
              "  <script>\n",
              "    async function quickchart(key) {\n",
              "      const quickchartButtonEl =\n",
              "        document.querySelector('#' + key + ' button');\n",
              "      quickchartButtonEl.disabled = true;  // To prevent multiple clicks.\n",
              "      quickchartButtonEl.classList.add('colab-df-spinner');\n",
              "      try {\n",
              "        const charts = await google.colab.kernel.invokeFunction(\n",
              "            'suggestCharts', [key], {});\n",
              "      } catch (error) {\n",
              "        console.error('Error during call to suggestCharts:', error);\n",
              "      }\n",
              "      quickchartButtonEl.classList.remove('colab-df-spinner');\n",
              "      quickchartButtonEl.classList.add('colab-df-quickchart-complete');\n",
              "    }\n",
              "    (() => {\n",
              "      let quickchartButtonEl =\n",
              "        document.querySelector('#df-799809d0-e7d7-459d-9417-540764509942 button');\n",
              "      quickchartButtonEl.style.display =\n",
              "        google.colab.kernel.accessAllowed ? 'block' : 'none';\n",
              "    })();\n",
              "  </script>\n",
              "</div>\n",
              "\n",
              "    </div>\n",
              "  </div>\n"
            ],
            "application/vnd.google.colaboratory.intrinsic+json": {
              "type": "dataframe",
              "variable_name": "df"
            }
          },
          "metadata": {},
          "execution_count": 96
        }
      ],
      "source": [
        "df.head()"
      ]
    },
    {
      "cell_type": "code",
      "execution_count": null,
      "metadata": {
        "colab": {
          "base_uri": "https://localhost:8080/"
        },
        "id": "aRvhEWwVyy2d",
        "outputId": "888945a9-1e54-43aa-e147-80d8c7fadde7"
      },
      "outputs": [
        {
          "output_type": "execute_result",
          "data": {
            "text/plain": [
              "avganncount                   0\n",
              "avgdeathsperyear              0\n",
              "target_deathrate              0\n",
              "incidencerate                 0\n",
              "medincome                     0\n",
              "popest2015                    0\n",
              "povertypercent                0\n",
              "studypercap                   0\n",
              "binnedinc                     0\n",
              "medianage                     0\n",
              "medianagemale                 0\n",
              "medianagefemale               0\n",
              "geography                     0\n",
              "percentmarried                0\n",
              "pctnohs18_24                  0\n",
              "pcths18_24                    0\n",
              "pctsomecol18_24            2285\n",
              "pctbachdeg18_24               0\n",
              "pcths25_over                  0\n",
              "pctbachdeg25_over             0\n",
              "pctemployed16_over          152\n",
              "pctunemployed16_over          0\n",
              "pctprivatecoverage            0\n",
              "pctprivatecoveragealone     609\n",
              "pctempprivcoverage            0\n",
              "pctpubliccoverage             0\n",
              "pctpubliccoveragealone        0\n",
              "pctwhite                      0\n",
              "pctblack                      0\n",
              "pctasian                      0\n",
              "pctotherrace                  0\n",
              "pctmarriedhouseholds          0\n",
              "birthrate                     0\n",
              "dtype: int64"
            ]
          },
          "metadata": {},
          "execution_count": 97
        }
      ],
      "source": [
        "df.isnull().sum()"
      ]
    },
    {
      "cell_type": "markdown",
      "metadata": {
        "id": "R9_VRnnnq-6X"
      },
      "source": [
        "3047 rows , 32 columns"
      ]
    },
    {
      "cell_type": "code",
      "execution_count": null,
      "metadata": {
        "colab": {
          "base_uri": "https://localhost:8080/"
        },
        "id": "g8eFhNRcq9QP",
        "outputId": "61bd5148-5e69-4b6d-ccef-06ef17c6b1df"
      },
      "outputs": [
        {
          "output_type": "execute_result",
          "data": {
            "text/plain": [
              "(3047, 33)"
            ]
          },
          "metadata": {},
          "execution_count": 98
        }
      ],
      "source": [
        "df.shape"
      ]
    },
    {
      "cell_type": "markdown",
      "metadata": {
        "id": "Xg_AN0-BrGH3"
      },
      "source": [
        "Feature pctsomecol18_24 has many null values, so dropping it"
      ]
    },
    {
      "cell_type": "code",
      "execution_count": null,
      "metadata": {
        "id": "LqlOp51TqrAn"
      },
      "outputs": [],
      "source": [
        "df.drop(['pctsomecol18_24'],axis=1,inplace=True)"
      ]
    },
    {
      "cell_type": "code",
      "execution_count": null,
      "metadata": {
        "colab": {
          "base_uri": "https://localhost:8080/"
        },
        "id": "httK2IeMzC5e",
        "outputId": "98dffdf9-a105-4990-cb61-07405d141260"
      },
      "outputs": [
        {
          "output_type": "stream",
          "name": "stdout",
          "text": [
            "<class 'pandas.core.frame.DataFrame'>\n",
            "RangeIndex: 3047 entries, 0 to 3046\n",
            "Data columns (total 32 columns):\n",
            " #   Column                   Non-Null Count  Dtype  \n",
            "---  ------                   --------------  -----  \n",
            " 0   avganncount              3047 non-null   float64\n",
            " 1   avgdeathsperyear         3047 non-null   int64  \n",
            " 2   target_deathrate         3047 non-null   float64\n",
            " 3   incidencerate            3047 non-null   float64\n",
            " 4   medincome                3047 non-null   int64  \n",
            " 5   popest2015               3047 non-null   int64  \n",
            " 6   povertypercent           3047 non-null   float64\n",
            " 7   studypercap              3047 non-null   float64\n",
            " 8   binnedinc                3047 non-null   object \n",
            " 9   medianage                3047 non-null   float64\n",
            " 10  medianagemale            3047 non-null   float64\n",
            " 11  medianagefemale          3047 non-null   float64\n",
            " 12  geography                3047 non-null   object \n",
            " 13  percentmarried           3047 non-null   float64\n",
            " 14  pctnohs18_24             3047 non-null   float64\n",
            " 15  pcths18_24               3047 non-null   float64\n",
            " 16  pctbachdeg18_24          3047 non-null   float64\n",
            " 17  pcths25_over             3047 non-null   float64\n",
            " 18  pctbachdeg25_over        3047 non-null   float64\n",
            " 19  pctemployed16_over       2895 non-null   float64\n",
            " 20  pctunemployed16_over     3047 non-null   float64\n",
            " 21  pctprivatecoverage       3047 non-null   float64\n",
            " 22  pctprivatecoveragealone  2438 non-null   float64\n",
            " 23  pctempprivcoverage       3047 non-null   float64\n",
            " 24  pctpubliccoverage        3047 non-null   float64\n",
            " 25  pctpubliccoveragealone   3047 non-null   float64\n",
            " 26  pctwhite                 3047 non-null   float64\n",
            " 27  pctblack                 3047 non-null   float64\n",
            " 28  pctasian                 3047 non-null   float64\n",
            " 29  pctotherrace             3047 non-null   float64\n",
            " 30  pctmarriedhouseholds     3047 non-null   float64\n",
            " 31  birthrate                3047 non-null   float64\n",
            "dtypes: float64(27), int64(3), object(2)\n",
            "memory usage: 761.9+ KB\n"
          ]
        }
      ],
      "source": [
        "df.info()"
      ]
    },
    {
      "cell_type": "markdown",
      "source": [
        "\n",
        "I have two features, 'binnedic' and 'geography', which are both of object type. Therefore, I've decided to use a one-hot encoder for the 'binnedic' feature and to augment the dataset with additional data for the 'geography' feature."
      ],
      "metadata": {
        "id": "7-h22Y1CBsqR"
      }
    },
    {
      "cell_type": "code",
      "execution_count": null,
      "metadata": {
        "colab": {
          "base_uri": "https://localhost:8080/"
        },
        "id": "_Ic33J6szQSf",
        "outputId": "d1d9c013-03cb-4d3f-b056-7750f5907015"
      },
      "outputs": [
        {
          "output_type": "execute_result",
          "data": {
            "text/plain": [
              "binnedinc\n",
              "(54545.6, 61494.5]    306\n",
              "[22640, 34218.1]      306\n",
              "(45201, 48021.6]      306\n",
              "(48021.6, 51046.4]    305\n",
              "(42724.4, 45201]      305\n",
              "(51046.4, 54545.6]    305\n",
              "(37413.8, 40362.7]    304\n",
              "(40362.7, 42724.4]    304\n",
              "(34218.1, 37413.8]    304\n",
              "(61494.5, 125635]     302\n",
              "Name: count, dtype: int64"
            ]
          },
          "metadata": {},
          "execution_count": 101
        }
      ],
      "source": [
        "df['binnedinc'].value_counts()"
      ]
    },
    {
      "cell_type": "code",
      "execution_count": null,
      "metadata": {
        "id": "FW-x2-jUsKHU"
      },
      "outputs": [],
      "source": [
        "dummies=pd.get_dummies(df.binnedinc,dtype=int)"
      ]
    },
    {
      "cell_type": "code",
      "execution_count": null,
      "metadata": {
        "id": "vP2yuUDCvTpI"
      },
      "outputs": [],
      "source": [
        "df=pd.concat([df,dummies],axis=1)"
      ]
    },
    {
      "cell_type": "code",
      "execution_count": null,
      "metadata": {
        "id": "lH7Z1pNCwGnX"
      },
      "outputs": [],
      "source": [
        "location=pd.read_excel('Location.xlsx')"
      ]
    },
    {
      "cell_type": "code",
      "execution_count": null,
      "metadata": {
        "colab": {
          "base_uri": "https://localhost:8080/",
          "height": 206
        },
        "id": "YDJEtSIywMi3",
        "outputId": "1390ae34-1451-4d45-a2c1-fd37017241b1"
      },
      "outputs": [
        {
          "output_type": "execute_result",
          "data": {
            "text/plain": [
              "        State   Latitude   Longitude\n",
              "0     Alabama  32.806671  -86.791130\n",
              "1      Alaska  61.370716 -152.404419\n",
              "2     Arizona  33.729759 -111.431221\n",
              "3    Arkansas  34.969704  -92.373123\n",
              "4  California  36.116203 -119.681564"
            ],
            "text/html": [
              "\n",
              "  <div id=\"df-9183b56f-efb5-4c4a-af52-919611696d6e\" class=\"colab-df-container\">\n",
              "    <div>\n",
              "<style scoped>\n",
              "    .dataframe tbody tr th:only-of-type {\n",
              "        vertical-align: middle;\n",
              "    }\n",
              "\n",
              "    .dataframe tbody tr th {\n",
              "        vertical-align: top;\n",
              "    }\n",
              "\n",
              "    .dataframe thead th {\n",
              "        text-align: right;\n",
              "    }\n",
              "</style>\n",
              "<table border=\"1\" class=\"dataframe\">\n",
              "  <thead>\n",
              "    <tr style=\"text-align: right;\">\n",
              "      <th></th>\n",
              "      <th>State</th>\n",
              "      <th>Latitude</th>\n",
              "      <th>Longitude</th>\n",
              "    </tr>\n",
              "  </thead>\n",
              "  <tbody>\n",
              "    <tr>\n",
              "      <th>0</th>\n",
              "      <td>Alabama</td>\n",
              "      <td>32.806671</td>\n",
              "      <td>-86.791130</td>\n",
              "    </tr>\n",
              "    <tr>\n",
              "      <th>1</th>\n",
              "      <td>Alaska</td>\n",
              "      <td>61.370716</td>\n",
              "      <td>-152.404419</td>\n",
              "    </tr>\n",
              "    <tr>\n",
              "      <th>2</th>\n",
              "      <td>Arizona</td>\n",
              "      <td>33.729759</td>\n",
              "      <td>-111.431221</td>\n",
              "    </tr>\n",
              "    <tr>\n",
              "      <th>3</th>\n",
              "      <td>Arkansas</td>\n",
              "      <td>34.969704</td>\n",
              "      <td>-92.373123</td>\n",
              "    </tr>\n",
              "    <tr>\n",
              "      <th>4</th>\n",
              "      <td>California</td>\n",
              "      <td>36.116203</td>\n",
              "      <td>-119.681564</td>\n",
              "    </tr>\n",
              "  </tbody>\n",
              "</table>\n",
              "</div>\n",
              "    <div class=\"colab-df-buttons\">\n",
              "\n",
              "  <div class=\"colab-df-container\">\n",
              "    <button class=\"colab-df-convert\" onclick=\"convertToInteractive('df-9183b56f-efb5-4c4a-af52-919611696d6e')\"\n",
              "            title=\"Convert this dataframe to an interactive table.\"\n",
              "            style=\"display:none;\">\n",
              "\n",
              "  <svg xmlns=\"http://www.w3.org/2000/svg\" height=\"24px\" viewBox=\"0 -960 960 960\">\n",
              "    <path d=\"M120-120v-720h720v720H120Zm60-500h600v-160H180v160Zm220 220h160v-160H400v160Zm0 220h160v-160H400v160ZM180-400h160v-160H180v160Zm440 0h160v-160H620v160ZM180-180h160v-160H180v160Zm440 0h160v-160H620v160Z\"/>\n",
              "  </svg>\n",
              "    </button>\n",
              "\n",
              "  <style>\n",
              "    .colab-df-container {\n",
              "      display:flex;\n",
              "      gap: 12px;\n",
              "    }\n",
              "\n",
              "    .colab-df-convert {\n",
              "      background-color: #E8F0FE;\n",
              "      border: none;\n",
              "      border-radius: 50%;\n",
              "      cursor: pointer;\n",
              "      display: none;\n",
              "      fill: #1967D2;\n",
              "      height: 32px;\n",
              "      padding: 0 0 0 0;\n",
              "      width: 32px;\n",
              "    }\n",
              "\n",
              "    .colab-df-convert:hover {\n",
              "      background-color: #E2EBFA;\n",
              "      box-shadow: 0px 1px 2px rgba(60, 64, 67, 0.3), 0px 1px 3px 1px rgba(60, 64, 67, 0.15);\n",
              "      fill: #174EA6;\n",
              "    }\n",
              "\n",
              "    .colab-df-buttons div {\n",
              "      margin-bottom: 4px;\n",
              "    }\n",
              "\n",
              "    [theme=dark] .colab-df-convert {\n",
              "      background-color: #3B4455;\n",
              "      fill: #D2E3FC;\n",
              "    }\n",
              "\n",
              "    [theme=dark] .colab-df-convert:hover {\n",
              "      background-color: #434B5C;\n",
              "      box-shadow: 0px 1px 3px 1px rgba(0, 0, 0, 0.15);\n",
              "      filter: drop-shadow(0px 1px 2px rgba(0, 0, 0, 0.3));\n",
              "      fill: #FFFFFF;\n",
              "    }\n",
              "  </style>\n",
              "\n",
              "    <script>\n",
              "      const buttonEl =\n",
              "        document.querySelector('#df-9183b56f-efb5-4c4a-af52-919611696d6e button.colab-df-convert');\n",
              "      buttonEl.style.display =\n",
              "        google.colab.kernel.accessAllowed ? 'block' : 'none';\n",
              "\n",
              "      async function convertToInteractive(key) {\n",
              "        const element = document.querySelector('#df-9183b56f-efb5-4c4a-af52-919611696d6e');\n",
              "        const dataTable =\n",
              "          await google.colab.kernel.invokeFunction('convertToInteractive',\n",
              "                                                    [key], {});\n",
              "        if (!dataTable) return;\n",
              "\n",
              "        const docLinkHtml = 'Like what you see? Visit the ' +\n",
              "          '<a target=\"_blank\" href=https://colab.research.google.com/notebooks/data_table.ipynb>data table notebook</a>'\n",
              "          + ' to learn more about interactive tables.';\n",
              "        element.innerHTML = '';\n",
              "        dataTable['output_type'] = 'display_data';\n",
              "        await google.colab.output.renderOutput(dataTable, element);\n",
              "        const docLink = document.createElement('div');\n",
              "        docLink.innerHTML = docLinkHtml;\n",
              "        element.appendChild(docLink);\n",
              "      }\n",
              "    </script>\n",
              "  </div>\n",
              "\n",
              "\n",
              "<div id=\"df-a50bd863-2437-4a66-a5db-f7c83bf0fa50\">\n",
              "  <button class=\"colab-df-quickchart\" onclick=\"quickchart('df-a50bd863-2437-4a66-a5db-f7c83bf0fa50')\"\n",
              "            title=\"Suggest charts\"\n",
              "            style=\"display:none;\">\n",
              "\n",
              "<svg xmlns=\"http://www.w3.org/2000/svg\" height=\"24px\"viewBox=\"0 0 24 24\"\n",
              "     width=\"24px\">\n",
              "    <g>\n",
              "        <path d=\"M19 3H5c-1.1 0-2 .9-2 2v14c0 1.1.9 2 2 2h14c1.1 0 2-.9 2-2V5c0-1.1-.9-2-2-2zM9 17H7v-7h2v7zm4 0h-2V7h2v10zm4 0h-2v-4h2v4z\"/>\n",
              "    </g>\n",
              "</svg>\n",
              "  </button>\n",
              "\n",
              "<style>\n",
              "  .colab-df-quickchart {\n",
              "      --bg-color: #E8F0FE;\n",
              "      --fill-color: #1967D2;\n",
              "      --hover-bg-color: #E2EBFA;\n",
              "      --hover-fill-color: #174EA6;\n",
              "      --disabled-fill-color: #AAA;\n",
              "      --disabled-bg-color: #DDD;\n",
              "  }\n",
              "\n",
              "  [theme=dark] .colab-df-quickchart {\n",
              "      --bg-color: #3B4455;\n",
              "      --fill-color: #D2E3FC;\n",
              "      --hover-bg-color: #434B5C;\n",
              "      --hover-fill-color: #FFFFFF;\n",
              "      --disabled-bg-color: #3B4455;\n",
              "      --disabled-fill-color: #666;\n",
              "  }\n",
              "\n",
              "  .colab-df-quickchart {\n",
              "    background-color: var(--bg-color);\n",
              "    border: none;\n",
              "    border-radius: 50%;\n",
              "    cursor: pointer;\n",
              "    display: none;\n",
              "    fill: var(--fill-color);\n",
              "    height: 32px;\n",
              "    padding: 0;\n",
              "    width: 32px;\n",
              "  }\n",
              "\n",
              "  .colab-df-quickchart:hover {\n",
              "    background-color: var(--hover-bg-color);\n",
              "    box-shadow: 0 1px 2px rgba(60, 64, 67, 0.3), 0 1px 3px 1px rgba(60, 64, 67, 0.15);\n",
              "    fill: var(--button-hover-fill-color);\n",
              "  }\n",
              "\n",
              "  .colab-df-quickchart-complete:disabled,\n",
              "  .colab-df-quickchart-complete:disabled:hover {\n",
              "    background-color: var(--disabled-bg-color);\n",
              "    fill: var(--disabled-fill-color);\n",
              "    box-shadow: none;\n",
              "  }\n",
              "\n",
              "  .colab-df-spinner {\n",
              "    border: 2px solid var(--fill-color);\n",
              "    border-color: transparent;\n",
              "    border-bottom-color: var(--fill-color);\n",
              "    animation:\n",
              "      spin 1s steps(1) infinite;\n",
              "  }\n",
              "\n",
              "  @keyframes spin {\n",
              "    0% {\n",
              "      border-color: transparent;\n",
              "      border-bottom-color: var(--fill-color);\n",
              "      border-left-color: var(--fill-color);\n",
              "    }\n",
              "    20% {\n",
              "      border-color: transparent;\n",
              "      border-left-color: var(--fill-color);\n",
              "      border-top-color: var(--fill-color);\n",
              "    }\n",
              "    30% {\n",
              "      border-color: transparent;\n",
              "      border-left-color: var(--fill-color);\n",
              "      border-top-color: var(--fill-color);\n",
              "      border-right-color: var(--fill-color);\n",
              "    }\n",
              "    40% {\n",
              "      border-color: transparent;\n",
              "      border-right-color: var(--fill-color);\n",
              "      border-top-color: var(--fill-color);\n",
              "    }\n",
              "    60% {\n",
              "      border-color: transparent;\n",
              "      border-right-color: var(--fill-color);\n",
              "    }\n",
              "    80% {\n",
              "      border-color: transparent;\n",
              "      border-right-color: var(--fill-color);\n",
              "      border-bottom-color: var(--fill-color);\n",
              "    }\n",
              "    90% {\n",
              "      border-color: transparent;\n",
              "      border-bottom-color: var(--fill-color);\n",
              "    }\n",
              "  }\n",
              "</style>\n",
              "\n",
              "  <script>\n",
              "    async function quickchart(key) {\n",
              "      const quickchartButtonEl =\n",
              "        document.querySelector('#' + key + ' button');\n",
              "      quickchartButtonEl.disabled = true;  // To prevent multiple clicks.\n",
              "      quickchartButtonEl.classList.add('colab-df-spinner');\n",
              "      try {\n",
              "        const charts = await google.colab.kernel.invokeFunction(\n",
              "            'suggestCharts', [key], {});\n",
              "      } catch (error) {\n",
              "        console.error('Error during call to suggestCharts:', error);\n",
              "      }\n",
              "      quickchartButtonEl.classList.remove('colab-df-spinner');\n",
              "      quickchartButtonEl.classList.add('colab-df-quickchart-complete');\n",
              "    }\n",
              "    (() => {\n",
              "      let quickchartButtonEl =\n",
              "        document.querySelector('#df-a50bd863-2437-4a66-a5db-f7c83bf0fa50 button');\n",
              "      quickchartButtonEl.style.display =\n",
              "        google.colab.kernel.accessAllowed ? 'block' : 'none';\n",
              "    })();\n",
              "  </script>\n",
              "</div>\n",
              "\n",
              "    </div>\n",
              "  </div>\n"
            ],
            "application/vnd.google.colaboratory.intrinsic+json": {
              "type": "dataframe",
              "variable_name": "location",
              "summary": "{\n  \"name\": \"location\",\n  \"rows\": 51,\n  \"fields\": [\n    {\n      \"column\": \"State\",\n      \"properties\": {\n        \"dtype\": \"string\",\n        \"num_unique_values\": 51,\n        \"samples\": [\n          \"Texas\",\n          \"South Carolina\",\n          \"Virginia\"\n        ],\n        \"semantic_type\": \"\",\n        \"description\": \"\"\n      }\n    },\n    {\n      \"column\": \"Latitude\",\n      \"properties\": {\n        \"dtype\": \"number\",\n        \"std\": 6.069546180038868,\n        \"min\": 21.094318,\n        \"max\": 61.370716,\n        \"num_unique_values\": 51,\n        \"samples\": [\n          31.054487,\n          33.856892,\n          37.769337\n        ],\n        \"semantic_type\": \"\",\n        \"description\": \"\"\n      }\n    },\n    {\n      \"column\": \"Longitude\",\n      \"properties\": {\n        \"dtype\": \"number\",\n        \"std\": 19.288252725348823,\n        \"min\": -157.498337,\n        \"max\": -69.381927,\n        \"num_unique_values\": 51,\n        \"samples\": [\n          -97.563461,\n          -80.945007,\n          -78.169968\n        ],\n        \"semantic_type\": \"\",\n        \"description\": \"\"\n      }\n    }\n  ]\n}"
            }
          },
          "metadata": {},
          "execution_count": 105
        }
      ],
      "source": [
        "location.head()"
      ]
    },
    {
      "cell_type": "code",
      "execution_count": null,
      "metadata": {
        "colab": {
          "base_uri": "https://localhost:8080/"
        },
        "id": "I_ppp8xOpMbQ",
        "outputId": "597832fc-6e8f-45ba-bfcb-ad804bb03c42"
      },
      "outputs": [
        {
          "output_type": "execute_result",
          "data": {
            "text/plain": [
              "geography\n",
              "Kitsap County, Washington            1\n",
              "Ralls County, Missouri               1\n",
              "Pemiscot County, Missouri            1\n",
              "Perry County, Missouri               1\n",
              "Pettis County, Missouri              1\n",
              "                                    ..\n",
              "San Bernardino County, California    1\n",
              "Cullman County, Alabama              1\n",
              "San Diego County, California         1\n",
              "San Francisco County, California     1\n",
              "Geary County, Kansas                 1\n",
              "Name: count, Length: 3047, dtype: int64"
            ]
          },
          "metadata": {},
          "execution_count": 106
        }
      ],
      "source": [
        "df['geography'].value_counts()"
      ]
    },
    {
      "cell_type": "code",
      "execution_count": null,
      "metadata": {
        "id": "6_yirPN80ZZV"
      },
      "outputs": [],
      "source": [
        "df['State']=df['geography'].apply(lambda x: x.split(\",\")[1])"
      ]
    },
    {
      "cell_type": "code",
      "execution_count": null,
      "metadata": {
        "id": "JIxQB5hG6HHA"
      },
      "outputs": [],
      "source": [
        "df['State']=df['State'].apply(lambda x:x.strip())"
      ]
    },
    {
      "cell_type": "code",
      "execution_count": null,
      "metadata": {
        "id": "l5ghOViQ8aef"
      },
      "outputs": [],
      "source": [
        "avg_house=pd.read_csv('avg-household-size.csv')"
      ]
    },
    {
      "cell_type": "code",
      "source": [
        "avg_house.info()"
      ],
      "metadata": {
        "colab": {
          "base_uri": "https://localhost:8080/"
        },
        "id": "OYRFP8M8FuPJ",
        "outputId": "e6023558-2942-4dc3-8421-f7389577f252"
      },
      "execution_count": null,
      "outputs": [
        {
          "output_type": "stream",
          "name": "stdout",
          "text": [
            "<class 'pandas.core.frame.DataFrame'>\n",
            "RangeIndex: 3220 entries, 0 to 3219\n",
            "Data columns (total 4 columns):\n",
            " #   Column            Non-Null Count  Dtype  \n",
            "---  ------            --------------  -----  \n",
            " 0   statefips         3220 non-null   int64  \n",
            " 1   countyfips        3220 non-null   int64  \n",
            " 2   avghouseholdsize  3220 non-null   float64\n",
            " 3   geography         3220 non-null   object \n",
            "dtypes: float64(1), int64(2), object(1)\n",
            "memory usage: 100.8+ KB\n"
          ]
        }
      ]
    },
    {
      "cell_type": "markdown",
      "source": [
        "i add 'Longitude' and 'Latidue' features for 'State' feature"
      ],
      "metadata": {
        "id": "1bAZrsTJDCFT"
      }
    },
    {
      "cell_type": "code",
      "execution_count": null,
      "metadata": {
        "id": "bu1TMZdR73rJ"
      },
      "outputs": [],
      "source": [
        "df=pd.merge(df, location, on='State', how='left')"
      ]
    },
    {
      "cell_type": "markdown",
      "source": [
        "avg_house doen't have missing values. So we can merge data"
      ],
      "metadata": {
        "id": "729JHGnYFz6Q"
      }
    },
    {
      "cell_type": "code",
      "execution_count": null,
      "metadata": {
        "id": "S2Coyiwx7_lW"
      },
      "outputs": [],
      "source": [
        "df=pd.merge(df, avg_house, on='geography', how='left')"
      ]
    },
    {
      "cell_type": "code",
      "execution_count": null,
      "metadata": {
        "colab": {
          "base_uri": "https://localhost:8080/"
        },
        "id": "Wzxe2N0W9YTH",
        "outputId": "707168c0-64fd-4ab1-97aa-97de5a872f16"
      },
      "outputs": [
        {
          "output_type": "stream",
          "name": "stdout",
          "text": [
            "<class 'pandas.core.frame.DataFrame'>\n",
            "RangeIndex: 3047 entries, 0 to 3046\n",
            "Data columns (total 48 columns):\n",
            " #   Column                   Non-Null Count  Dtype  \n",
            "---  ------                   --------------  -----  \n",
            " 0   avganncount              3047 non-null   float64\n",
            " 1   avgdeathsperyear         3047 non-null   int64  \n",
            " 2   target_deathrate         3047 non-null   float64\n",
            " 3   incidencerate            3047 non-null   float64\n",
            " 4   medincome                3047 non-null   int64  \n",
            " 5   popest2015               3047 non-null   int64  \n",
            " 6   povertypercent           3047 non-null   float64\n",
            " 7   studypercap              3047 non-null   float64\n",
            " 8   binnedinc                3047 non-null   object \n",
            " 9   medianage                3047 non-null   float64\n",
            " 10  medianagemale            3047 non-null   float64\n",
            " 11  medianagefemale          3047 non-null   float64\n",
            " 12  geography                3047 non-null   object \n",
            " 13  percentmarried           3047 non-null   float64\n",
            " 14  pctnohs18_24             3047 non-null   float64\n",
            " 15  pcths18_24               3047 non-null   float64\n",
            " 16  pctbachdeg18_24          3047 non-null   float64\n",
            " 17  pcths25_over             3047 non-null   float64\n",
            " 18  pctbachdeg25_over        3047 non-null   float64\n",
            " 19  pctemployed16_over       2895 non-null   float64\n",
            " 20  pctunemployed16_over     3047 non-null   float64\n",
            " 21  pctprivatecoverage       3047 non-null   float64\n",
            " 22  pctprivatecoveragealone  2438 non-null   float64\n",
            " 23  pctempprivcoverage       3047 non-null   float64\n",
            " 24  pctpubliccoverage        3047 non-null   float64\n",
            " 25  pctpubliccoveragealone   3047 non-null   float64\n",
            " 26  pctwhite                 3047 non-null   float64\n",
            " 27  pctblack                 3047 non-null   float64\n",
            " 28  pctasian                 3047 non-null   float64\n",
            " 29  pctotherrace             3047 non-null   float64\n",
            " 30  pctmarriedhouseholds     3047 non-null   float64\n",
            " 31  birthrate                3047 non-null   float64\n",
            " 32  (34218.1, 37413.8]       3047 non-null   int64  \n",
            " 33  (37413.8, 40362.7]       3047 non-null   int64  \n",
            " 34  (40362.7, 42724.4]       3047 non-null   int64  \n",
            " 35  (42724.4, 45201]         3047 non-null   int64  \n",
            " 36  (45201, 48021.6]         3047 non-null   int64  \n",
            " 37  (48021.6, 51046.4]       3047 non-null   int64  \n",
            " 38  (51046.4, 54545.6]       3047 non-null   int64  \n",
            " 39  (54545.6, 61494.5]       3047 non-null   int64  \n",
            " 40  (61494.5, 125635]        3047 non-null   int64  \n",
            " 41  [22640, 34218.1]         3047 non-null   int64  \n",
            " 42  State                    3047 non-null   object \n",
            " 43  Latitude                 3047 non-null   float64\n",
            " 44  Longitude                3047 non-null   float64\n",
            " 45  statefips                3047 non-null   int64  \n",
            " 46  countyfips               3047 non-null   int64  \n",
            " 47  avghouseholdsize         3047 non-null   float64\n",
            "dtypes: float64(30), int64(15), object(3)\n",
            "memory usage: 1.1+ MB\n"
          ]
        }
      ],
      "source": [
        "df.info()"
      ]
    },
    {
      "cell_type": "code",
      "execution_count": null,
      "metadata": {
        "colab": {
          "base_uri": "https://localhost:8080/"
        },
        "id": "RwZcXDbXApf4",
        "outputId": "1e1d6e2a-bca7-463c-8cac-39833e23843a"
      },
      "outputs": [
        {
          "output_type": "execute_result",
          "data": {
            "text/plain": [
              "avganncount                  0\n",
              "avgdeathsperyear             0\n",
              "target_deathrate             0\n",
              "incidencerate                0\n",
              "medincome                    0\n",
              "popest2015                   0\n",
              "povertypercent               0\n",
              "studypercap                  0\n",
              "binnedinc                    0\n",
              "medianage                    0\n",
              "medianagemale                0\n",
              "medianagefemale              0\n",
              "geography                    0\n",
              "percentmarried               0\n",
              "pctnohs18_24                 0\n",
              "pcths18_24                   0\n",
              "pctbachdeg18_24              0\n",
              "pcths25_over                 0\n",
              "pctbachdeg25_over            0\n",
              "pctemployed16_over         152\n",
              "pctunemployed16_over         0\n",
              "pctprivatecoverage           0\n",
              "pctprivatecoveragealone    609\n",
              "pctempprivcoverage           0\n",
              "pctpubliccoverage            0\n",
              "pctpubliccoveragealone       0\n",
              "pctwhite                     0\n",
              "pctblack                     0\n",
              "pctasian                     0\n",
              "pctotherrace                 0\n",
              "pctmarriedhouseholds         0\n",
              "birthrate                    0\n",
              "(34218.1, 37413.8]           0\n",
              "(37413.8, 40362.7]           0\n",
              "(40362.7, 42724.4]           0\n",
              "(42724.4, 45201]             0\n",
              "(45201, 48021.6]             0\n",
              "(48021.6, 51046.4]           0\n",
              "(51046.4, 54545.6]           0\n",
              "(54545.6, 61494.5]           0\n",
              "(61494.5, 125635]            0\n",
              "[22640, 34218.1]             0\n",
              "State                        0\n",
              "Latitude                     0\n",
              "Longitude                    0\n",
              "statefips                    0\n",
              "countyfips                   0\n",
              "avghouseholdsize             0\n",
              "dtype: int64"
            ]
          },
          "metadata": {},
          "execution_count": 114
        }
      ],
      "source": [
        "df.isnull().sum()"
      ]
    },
    {
      "cell_type": "markdown",
      "source": [
        "Removing object features"
      ],
      "metadata": {
        "id": "Cf3O9pMVCYp7"
      }
    },
    {
      "cell_type": "code",
      "execution_count": null,
      "metadata": {
        "id": "VO3wwbW1HQ0n"
      },
      "outputs": [],
      "source": [
        "df.drop(['binnedinc','geography','State'],axis=1,inplace=True)"
      ]
    },
    {
      "cell_type": "code",
      "source": [
        "df.dropna(inplace=True)"
      ],
      "metadata": {
        "id": "4ROgXzoJQFRh"
      },
      "execution_count": null,
      "outputs": []
    },
    {
      "cell_type": "code",
      "source": [
        "target=np.array(df['target_deathrate'])\n",
        "df=df.drop('target_deathrate',axis=1)"
      ],
      "metadata": {
        "id": "wgjyeoCDOTc1"
      },
      "execution_count": null,
      "outputs": []
    },
    {
      "cell_type": "code",
      "source": [
        "data=df.copy()"
      ],
      "metadata": {
        "id": "hL5bSOUnmrzZ"
      },
      "execution_count": null,
      "outputs": []
    },
    {
      "cell_type": "markdown",
      "source": [
        "Performing PCA on un-normalized variables will lead to exponentially large loadings for variables with high variance. In turn, this will lead to the dependence of a principal component on the variable with high variance. This is undesirable."
      ],
      "metadata": {
        "id": "XrFSeGT4-Xx5"
      }
    },
    {
      "cell_type": "code",
      "execution_count": null,
      "metadata": {
        "id": "rabC0lygIGdn"
      },
      "outputs": [],
      "source": [
        "from sklearn.preprocessing import StandardScaler\n",
        "scaler = StandardScaler()\n",
        "df=scaler.fit_transform(df)"
      ]
    },
    {
      "cell_type": "markdown",
      "metadata": {
        "id": "zwVm3D2_IWin"
      },
      "source": [
        "# Implement PCA:"
      ]
    },
    {
      "cell_type": "code",
      "execution_count": null,
      "metadata": {
        "colab": {
          "base_uri": "https://localhost:8080/",
          "height": 466
        },
        "id": "A3RlNfH9IYIf",
        "outputId": "35b3ebff-55f4-40d8-8917-39e11f13c7c5"
      },
      "outputs": [
        {
          "output_type": "execute_result",
          "data": {
            "text/plain": [
              "Text(0, 0.5, 'PCA 2')"
            ]
          },
          "metadata": {},
          "execution_count": 120
        },
        {
          "output_type": "display_data",
          "data": {
            "text/plain": [
              "<Figure size 640x480 with 1 Axes>"
            ],
            "image/png": "[encoded data removed]"
          },
          "metadata": {}
        }
      ],
      "source": [
        "from sklearn.decomposition import PCA\n",
        "pca = PCA(n_components=2)\n",
        "Xx=pca.fit_transform(df)\n",
        "plt.scatter(Xx[:,0],Xx[:,1])\n",
        "plt.xlabel(\"PCA 1\")\n",
        "plt.ylabel(\"PCA 2\")"
      ]
    },
    {
      "cell_type": "code",
      "source": [
        "pca = PCA(n_components=43)\n",
        "pca.fit(df)"
      ],
      "metadata": {
        "colab": {
          "base_uri": "https://localhost:8080/",
          "height": 74
        },
        "id": "nYUJ0nh7fYTl",
        "outputId": "1ec11e63-e7bf-4293-cad6-65e7cfd5eb5a"
      },
      "execution_count": null,
      "outputs": [
        {
          "output_type": "execute_result",
          "data": {
            "text/plain": [
              "PCA(n_components=43)"
            ],
            "text/html": [
              "<style>#sk-container-id-5 {color: black;background-color: white;}#sk-container-id-5 pre{padding: 0;}#sk-container-id-5 div.sk-toggleable {background-color: white;}#sk-container-id-5 label.sk-toggleable__label {cursor: pointer;display: block;width: 100%;margin-bottom: 0;padding: 0.3em;box-sizing: border-box;text-align: center;}#sk-container-id-5 label.sk-toggleable__label-arrow:before {content: \"▸\";float: left;margin-right: 0.25em;color: #696969;}#sk-container-id-5 label.sk-toggleable__label-arrow:hover:before {color: black;}#sk-container-id-5 div.sk-estimator:hover label.sk-toggleable__label-arrow:before {color: black;}#sk-container-id-5 div.sk-toggleable__content {max-height: 0;max-width: 0;overflow: hidden;text-align: left;background-color: #f0f8ff;}#sk-container-id-5 div.sk-toggleable__content pre {margin: 0.2em;color: black;border-radius: 0.25em;background-color: #f0f8ff;}#sk-container-id-5 input.sk-toggleable__control:checked~div.sk-toggleable__content {max-height: 200px;max-width: 100%;overflow: auto;}#sk-container-id-5 input.sk-toggleable__control:checked~label.sk-toggleable__label-arrow:before {content: \"▾\";}#sk-container-id-5 div.sk-estimator input.sk-toggleable__control:checked~label.sk-toggleable__label {background-color: #d4ebff;}#sk-container-id-5 div.sk-label input.sk-toggleable__control:checked~label.sk-toggleable__label {background-color: #d4ebff;}#sk-container-id-5 input.sk-hidden--visually {border: 0;clip: rect(1px 1px 1px 1px);clip: rect(1px, 1px, 1px, 1px);height: 1px;margin: -1px;overflow: hidden;padding: 0;position: absolute;width: 1px;}#sk-container-id-5 div.sk-estimator {font-family: monospace;background-color: #f0f8ff;border: 1px dotted black;border-radius: 0.25em;box-sizing: border-box;margin-bottom: 0.5em;}#sk-container-id-5 div.sk-estimator:hover {background-color: #d4ebff;}#sk-container-id-5 div.sk-parallel-item::after {content: \"\";width: 100%;border-bottom: 1px solid gray;flex-grow: 1;}#sk-container-id-5 div.sk-label:hover label.sk-toggleable__label {background-color: #d4ebff;}#sk-container-id-5 div.sk-serial::before {content: \"\";position: absolute;border-left: 1px solid gray;box-sizing: border-box;top: 0;bottom: 0;left: 50%;z-index: 0;}#sk-container-id-5 div.sk-serial {display: flex;flex-direction: column;align-items: center;background-color: white;padding-right: 0.2em;padding-left: 0.2em;position: relative;}#sk-container-id-5 div.sk-item {position: relative;z-index: 1;}#sk-container-id-5 div.sk-parallel {display: flex;align-items: stretch;justify-content: center;background-color: white;position: relative;}#sk-container-id-5 div.sk-item::before, #sk-container-id-5 div.sk-parallel-item::before {content: \"\";position: absolute;border-left: 1px solid gray;box-sizing: border-box;top: 0;bottom: 0;left: 50%;z-index: -1;}#sk-container-id-5 div.sk-parallel-item {display: flex;flex-direction: column;z-index: 1;position: relative;background-color: white;}#sk-container-id-5 div.sk-parallel-item:first-child::after {align-self: flex-end;width: 50%;}#sk-container-id-5 div.sk-parallel-item:last-child::after {align-self: flex-start;width: 50%;}#sk-container-id-5 div.sk-parallel-item:only-child::after {width: 0;}#sk-container-id-5 div.sk-dashed-wrapped {border: 1px dashed gray;margin: 0 0.4em 0.5em 0.4em;box-sizing: border-box;padding-bottom: 0.4em;background-color: white;}#sk-container-id-5 div.sk-label label {font-family: monospace;font-weight: bold;display: inline-block;line-height: 1.2em;}#sk-container-id-5 div.sk-label-container {text-align: center;}#sk-container-id-5 div.sk-container {/* jupyter's `normalize.less` sets `[hidden] { display: none; }` but bootstrap.min.css set `[hidden] { display: none !important; }` so we also need the `!important` here to be able to override the default hidden behavior on the sphinx rendered scikit-learn.org. See: https://github.com/scikit-learn/scikit-learn/issues/21755 */display: inline-block !important;position: relative;}#sk-container-id-5 div.sk-text-repr-fallback {display: none;}</style><div id=\"sk-container-id-5\" class=\"sk-top-container\"><div class=\"sk-text-repr-fallback\"><pre>PCA(n_components=43)</pre><b>In a Jupyter environment, please rerun this cell to show the HTML representation or trust the notebook. <br />On GitHub, the HTML representation is unable to render, please try loading this page with nbviewer.org.</b></div><div class=\"sk-container\" hidden><div class=\"sk-item\"><div class=\"sk-estimator sk-toggleable\"><input class=\"sk-toggleable__control sk-hidden--visually\" id=\"sk-estimator-id-5\" type=\"checkbox\" checked><label for=\"sk-estimator-id-5\" class=\"sk-toggleable__label sk-toggleable__label-arrow\">PCA</label><div class=\"sk-toggleable__content\"><pre>PCA(n_components=43)</pre></div></div></div></div></div>"
            ]
          },
          "metadata": {},
          "execution_count": 121
        }
      ]
    },
    {
      "cell_type": "markdown",
      "source": [
        "The ability to capture variance of each principal component decreases gradually."
      ],
      "metadata": {
        "id": "JpDlN5uoH5ng"
      }
    },
    {
      "cell_type": "markdown",
      "source": [
        "Since eigenvectors are orthogonal to each other, they do not capture any unique variance in the data beyond what has already been captured by other directions.So variance of each principal component decreases gradually"
      ],
      "metadata": {
        "id": "A-G5mGNJW50B"
      }
    },
    {
      "cell_type": "code",
      "source": [
        "plt.figure(figsize=(10,5))\n",
        "sns.barplot(pca.explained_variance_)\n",
        "plt.xlabel(\"Principal components\")\n",
        "plt.ylabel(\"Variance\")"
      ],
      "metadata": {
        "colab": {
          "base_uri": "https://localhost:8080/",
          "height": 482
        },
        "id": "cwzbm5I5HRDt",
        "outputId": "ec876ac0-ab9a-4ea6-ef56-49d401b35b75"
      },
      "execution_count": null,
      "outputs": [
        {
          "output_type": "execute_result",
          "data": {
            "text/plain": [
              "Text(0, 0.5, 'Variance')"
            ]
          },
          "metadata": {},
          "execution_count": 122
        },
        {
          "output_type": "display_data",
          "data": {
            "text/plain": [
              "<Figure size 1000x500 with 1 Axes>"
            ],
            "image/png": "[encoded data removed]"
          },
          "metadata": {}
        }
      ]
    },
    {
      "cell_type": "markdown",
      "source": [
        "The ability to capture information of each  principal component decreases gradually."
      ],
      "metadata": {
        "id": "2ROBPvzbEBYD"
      }
    },
    {
      "cell_type": "code",
      "source": [
        "pd.DataFrame(pca.explained_variance_ratio_,columns=['Percentage of information'])[:10]"
      ],
      "metadata": {
        "colab": {
          "base_uri": "https://localhost:8080/",
          "height": 363
        },
        "id": "xA0M2mgRIyPW",
        "outputId": "60864307-2843-427c-afe7-f18c47f0b059"
      },
      "execution_count": null,
      "outputs": [
        {
          "output_type": "execute_result",
          "data": {
            "text/plain": [
              "   Percentage of information\n",
              "0                   0.230495\n",
              "1                   0.121723\n",
              "2                   0.059268\n",
              "3                   0.053527\n",
              "4                   0.035338\n",
              "5                   0.033604\n",
              "6                   0.030313\n",
              "7                   0.027030\n",
              "8                   0.026454\n",
              "9                   0.025658"
            ],
            "text/html": [
              "\n",
              "  <div id=\"df-6ceb887b-0918-4554-8fc1-7b3971b246c1\" class=\"colab-df-container\">\n",
              "    <div>\n",
              "<style scoped>\n",
              "    .dataframe tbody tr th:only-of-type {\n",
              "        vertical-align: middle;\n",
              "    }\n",
              "\n",
              "    .dataframe tbody tr th {\n",
              "        vertical-align: top;\n",
              "    }\n",
              "\n",
              "    .dataframe thead th {\n",
              "        text-align: right;\n",
              "    }\n",
              "</style>\n",
              "<table border=\"1\" class=\"dataframe\">\n",
              "  <thead>\n",
              "    <tr style=\"text-align: right;\">\n",
              "      <th></th>\n",
              "      <th>Percentage of information</th>\n",
              "    </tr>\n",
              "  </thead>\n",
              "  <tbody>\n",
              "    <tr>\n",
              "      <th>0</th>\n",
              "      <td>0.230495</td>\n",
              "    </tr>\n",
              "    <tr>\n",
              "      <th>1</th>\n",
              "      <td>0.121723</td>\n",
              "    </tr>\n",
              "    <tr>\n",
              "      <th>2</th>\n",
              "      <td>0.059268</td>\n",
              "    </tr>\n",
              "    <tr>\n",
              "      <th>3</th>\n",
              "      <td>0.053527</td>\n",
              "    </tr>\n",
              "    <tr>\n",
              "      <th>4</th>\n",
              "      <td>0.035338</td>\n",
              "    </tr>\n",
              "    <tr>\n",
              "      <th>5</th>\n",
              "      <td>0.033604</td>\n",
              "    </tr>\n",
              "    <tr>\n",
              "      <th>6</th>\n",
              "      <td>0.030313</td>\n",
              "    </tr>\n",
              "    <tr>\n",
              "      <th>7</th>\n",
              "      <td>0.027030</td>\n",
              "    </tr>\n",
              "    <tr>\n",
              "      <th>8</th>\n",
              "      <td>0.026454</td>\n",
              "    </tr>\n",
              "    <tr>\n",
              "      <th>9</th>\n",
              "      <td>0.025658</td>\n",
              "    </tr>\n",
              "  </tbody>\n",
              "</table>\n",
              "</div>\n",
              "    <div class=\"colab-df-buttons\">\n",
              "\n",
              "  <div class=\"colab-df-container\">\n",
              "    <button class=\"colab-df-convert\" onclick=\"convertToInteractive('df-6ceb887b-0918-4554-8fc1-7b3971b246c1')\"\n",
              "            title=\"Convert this dataframe to an interactive table.\"\n",
              "            style=\"display:none;\">\n",
              "\n",
              "  <svg xmlns=\"http://www.w3.org/2000/svg\" height=\"24px\" viewBox=\"0 -960 960 960\">\n",
              "    <path d=\"M120-120v-720h720v720H120Zm60-500h600v-160H180v160Zm220 220h160v-160H400v160Zm0 220h160v-160H400v160ZM180-400h160v-160H180v160Zm440 0h160v-160H620v160ZM180-180h160v-160H180v160Zm440 0h160v-160H620v160Z\"/>\n",
              "  </svg>\n",
              "    </button>\n",
              "\n",
              "  <style>\n",
              "    .colab-df-container {\n",
              "      display:flex;\n",
              "      gap: 12px;\n",
              "    }\n",
              "\n",
              "    .colab-df-convert {\n",
              "      background-color: #E8F0FE;\n",
              "      border: none;\n",
              "      border-radius: 50%;\n",
              "      cursor: pointer;\n",
              "      display: none;\n",
              "      fill: #1967D2;\n",
              "      height: 32px;\n",
              "      padding: 0 0 0 0;\n",
              "      width: 32px;\n",
              "    }\n",
              "\n",
              "    .colab-df-convert:hover {\n",
              "      background-color: #E2EBFA;\n",
              "      box-shadow: 0px 1px 2px rgba(60, 64, 67, 0.3), 0px 1px 3px 1px rgba(60, 64, 67, 0.15);\n",
              "      fill: #174EA6;\n",
              "    }\n",
              "\n",
              "    .colab-df-buttons div {\n",
              "      margin-bottom: 4px;\n",
              "    }\n",
              "\n",
              "    [theme=dark] .colab-df-convert {\n",
              "      background-color: #3B4455;\n",
              "      fill: #D2E3FC;\n",
              "    }\n",
              "\n",
              "    [theme=dark] .colab-df-convert:hover {\n",
              "      background-color: #434B5C;\n",
              "      box-shadow: 0px 1px 3px 1px rgba(0, 0, 0, 0.15);\n",
              "      filter: drop-shadow(0px 1px 2px rgba(0, 0, 0, 0.3));\n",
              "      fill: #FFFFFF;\n",
              "    }\n",
              "  </style>\n",
              "\n",
              "    <script>\n",
              "      const buttonEl =\n",
              "        document.querySelector('#df-6ceb887b-0918-4554-8fc1-7b3971b246c1 button.colab-df-convert');\n",
              "      buttonEl.style.display =\n",
              "        google.colab.kernel.accessAllowed ? 'block' : 'none';\n",
              "\n",
              "      async function convertToInteractive(key) {\n",
              "        const element = document.querySelector('#df-6ceb887b-0918-4554-8fc1-7b3971b246c1');\n",
              "        const dataTable =\n",
              "          await google.colab.kernel.invokeFunction('convertToInteractive',\n",
              "                                                    [key], {});\n",
              "        if (!dataTable) return;\n",
              "\n",
              "        const docLinkHtml = 'Like what you see? Visit the ' +\n",
              "          '<a target=\"_blank\" href=https://colab.research.google.com/notebooks/data_table.ipynb>data table notebook</a>'\n",
              "          + ' to learn more about interactive tables.';\n",
              "        element.innerHTML = '';\n",
              "        dataTable['output_type'] = 'display_data';\n",
              "        await google.colab.output.renderOutput(dataTable, element);\n",
              "        const docLink = document.createElement('div');\n",
              "        docLink.innerHTML = docLinkHtml;\n",
              "        element.appendChild(docLink);\n",
              "      }\n",
              "    </script>\n",
              "  </div>\n",
              "\n",
              "\n",
              "<div id=\"df-18c971ef-e488-41cc-a275-08637d2b8b05\">\n",
              "  <button class=\"colab-df-quickchart\" onclick=\"quickchart('df-18c971ef-e488-41cc-a275-08637d2b8b05')\"\n",
              "            title=\"Suggest charts\"\n",
              "            style=\"display:none;\">\n",
              "\n",
              "<svg xmlns=\"http://www.w3.org/2000/svg\" height=\"24px\"viewBox=\"0 0 24 24\"\n",
              "     width=\"24px\">\n",
              "    <g>\n",
              "        <path d=\"M19 3H5c-1.1 0-2 .9-2 2v14c0 1.1.9 2 2 2h14c1.1 0 2-.9 2-2V5c0-1.1-.9-2-2-2zM9 17H7v-7h2v7zm4 0h-2V7h2v10zm4 0h-2v-4h2v4z\"/>\n",
              "    </g>\n",
              "</svg>\n",
              "  </button>\n",
              "\n",
              "<style>\n",
              "  .colab-df-quickchart {\n",
              "      --bg-color: #E8F0FE;\n",
              "      --fill-color: #1967D2;\n",
              "      --hover-bg-color: #E2EBFA;\n",
              "      --hover-fill-color: #174EA6;\n",
              "      --disabled-fill-color: #AAA;\n",
              "      --disabled-bg-color: #DDD;\n",
              "  }\n",
              "\n",
              "  [theme=dark] .colab-df-quickchart {\n",
              "      --bg-color: #3B4455;\n",
              "      --fill-color: #D2E3FC;\n",
              "      --hover-bg-color: #434B5C;\n",
              "      --hover-fill-color: #FFFFFF;\n",
              "      --disabled-bg-color: #3B4455;\n",
              "      --disabled-fill-color: #666;\n",
              "  }\n",
              "\n",
              "  .colab-df-quickchart {\n",
              "    background-color: var(--bg-color);\n",
              "    border: none;\n",
              "    border-radius: 50%;\n",
              "    cursor: pointer;\n",
              "    display: none;\n",
              "    fill: var(--fill-color);\n",
              "    height: 32px;\n",
              "    padding: 0;\n",
              "    width: 32px;\n",
              "  }\n",
              "\n",
              "  .colab-df-quickchart:hover {\n",
              "    background-color: var(--hover-bg-color);\n",
              "    box-shadow: 0 1px 2px rgba(60, 64, 67, 0.3), 0 1px 3px 1px rgba(60, 64, 67, 0.15);\n",
              "    fill: var(--button-hover-fill-color);\n",
              "  }\n",
              "\n",
              "  .colab-df-quickchart-complete:disabled,\n",
              "  .colab-df-quickchart-complete:disabled:hover {\n",
              "    background-color: var(--disabled-bg-color);\n",
              "    fill: var(--disabled-fill-color);\n",
              "    box-shadow: none;\n",
              "  }\n",
              "\n",
              "  .colab-df-spinner {\n",
              "    border: 2px solid var(--fill-color);\n",
              "    border-color: transparent;\n",
              "    border-bottom-color: var(--fill-color);\n",
              "    animation:\n",
              "      spin 1s steps(1) infinite;\n",
              "  }\n",
              "\n",
              "  @keyframes spin {\n",
              "    0% {\n",
              "      border-color: transparent;\n",
              "      border-bottom-color: var(--fill-color);\n",
              "      border-left-color: var(--fill-color);\n",
              "    }\n",
              "    20% {\n",
              "      border-color: transparent;\n",
              "      border-left-color: var(--fill-color);\n",
              "      border-top-color: var(--fill-color);\n",
              "    }\n",
              "    30% {\n",
              "      border-color: transparent;\n",
              "      border-left-color: var(--fill-color);\n",
              "      border-top-color: var(--fill-color);\n",
              "      border-right-color: var(--fill-color);\n",
              "    }\n",
              "    40% {\n",
              "      border-color: transparent;\n",
              "      border-right-color: var(--fill-color);\n",
              "      border-top-color: var(--fill-color);\n",
              "    }\n",
              "    60% {\n",
              "      border-color: transparent;\n",
              "      border-right-color: var(--fill-color);\n",
              "    }\n",
              "    80% {\n",
              "      border-color: transparent;\n",
              "      border-right-color: var(--fill-color);\n",
              "      border-bottom-color: var(--fill-color);\n",
              "    }\n",
              "    90% {\n",
              "      border-color: transparent;\n",
              "      border-bottom-color: var(--fill-color);\n",
              "    }\n",
              "  }\n",
              "</style>\n",
              "\n",
              "  <script>\n",
              "    async function quickchart(key) {\n",
              "      const quickchartButtonEl =\n",
              "        document.querySelector('#' + key + ' button');\n",
              "      quickchartButtonEl.disabled = true;  // To prevent multiple clicks.\n",
              "      quickchartButtonEl.classList.add('colab-df-spinner');\n",
              "      try {\n",
              "        const charts = await google.colab.kernel.invokeFunction(\n",
              "            'suggestCharts', [key], {});\n",
              "      } catch (error) {\n",
              "        console.error('Error during call to suggestCharts:', error);\n",
              "      }\n",
              "      quickchartButtonEl.classList.remove('colab-df-spinner');\n",
              "      quickchartButtonEl.classList.add('colab-df-quickchart-complete');\n",
              "    }\n",
              "    (() => {\n",
              "      let quickchartButtonEl =\n",
              "        document.querySelector('#df-18c971ef-e488-41cc-a275-08637d2b8b05 button');\n",
              "      quickchartButtonEl.style.display =\n",
              "        google.colab.kernel.accessAllowed ? 'block' : 'none';\n",
              "    })();\n",
              "  </script>\n",
              "</div>\n",
              "\n",
              "    </div>\n",
              "  </div>\n"
            ],
            "application/vnd.google.colaboratory.intrinsic+json": {
              "type": "dataframe",
              "summary": "{\n  \"name\": \"pd\",\n  \"rows\": 10,\n  \"fields\": [\n    {\n      \"column\": \"Percentage of information\",\n      \"properties\": {\n        \"dtype\": \"number\",\n        \"std\": 0.06524326223466603,\n        \"min\": 0.025658257982932864,\n        \"max\": 0.2304949720787399,\n        \"num_unique_values\": 10,\n        \"samples\": [\n          0.026454334416131667,\n          0.12172279385660668,\n          0.03360447862880579\n        ],\n        \"semantic_type\": \"\",\n        \"description\": \"\"\n      }\n    }\n  ]\n}"
            }
          },
          "metadata": {},
          "execution_count": 123
        }
      ]
    },
    {
      "cell_type": "code",
      "source": [
        "plt.figure(figsize=(10,5))\n",
        "sns.barplot(pca.explained_variance_ratio_)\n",
        "plt.xlabel(\"Principal components\")\n",
        "plt.ylabel(\"Percentage of information\")"
      ],
      "metadata": {
        "colab": {
          "base_uri": "https://localhost:8080/",
          "height": 482
        },
        "id": "C6TESD4Sq5Gc",
        "outputId": "ac76c240-b768-4e4d-d756-74d0a8349e60"
      },
      "execution_count": null,
      "outputs": [
        {
          "output_type": "execute_result",
          "data": {
            "text/plain": [
              "Text(0, 0.5, 'Percentage of information')"
            ]
          },
          "metadata": {},
          "execution_count": 124
        },
        {
          "output_type": "display_data",
          "data": {
            "text/plain": [
              "<Figure size 1000x500 with 1 Axes>"
            ],
            "image/png": "[encoded data removed]"
          },
          "metadata": {}
        }
      ]
    },
    {
      "cell_type": "markdown",
      "metadata": {
        "id": "600fFnAb_Lu2"
      },
      "source": [
        "# Dimensionality Reduction:"
      ]
    },
    {
      "cell_type": "markdown",
      "metadata": {
        "id": "V47UR-dJARnN"
      },
      "source": [
        "So choosing 26 components is optimal and capture more than 95% information"
      ]
    },
    {
      "cell_type": "code",
      "execution_count": null,
      "metadata": {
        "colab": {
          "base_uri": "https://localhost:8080/"
        },
        "id": "VM-a-eLM_OBV",
        "outputId": "ae479bcf-cfaf-438e-c529-9f63b994719b"
      },
      "outputs": [
        {
          "output_type": "execute_result",
          "data": {
            "text/plain": [
              "26"
            ]
          },
          "metadata": {},
          "execution_count": 125
        }
      ],
      "source": [
        "np.argmax(np.cumsum(pca.explained_variance_ratio_)>=0.95)+1"
      ]
    },
    {
      "cell_type": "code",
      "source": [
        "from sklearn.metrics import mean_squared_error as MSE\n",
        "from sklearn.linear_model import LinearRegression\n",
        "LR1=LinearRegression()\n",
        "LR1.fit(df,target)"
      ],
      "metadata": {
        "colab": {
          "base_uri": "https://localhost:8080/",
          "height": 74
        },
        "id": "sUedT0oBHnZS",
        "outputId": "934bfcf0-297c-4a0c-9e6c-e089068fb090"
      },
      "execution_count": null,
      "outputs": [
        {
          "output_type": "execute_result",
          "data": {
            "text/plain": [
              "LinearRegression()"
            ],
            "text/html": [
              "<style>#sk-container-id-6 {color: black;background-color: white;}#sk-container-id-6 pre{padding: 0;}#sk-container-id-6 div.sk-toggleable {background-color: white;}#sk-container-id-6 label.sk-toggleable__label {cursor: pointer;display: block;width: 100%;margin-bottom: 0;padding: 0.3em;box-sizing: border-box;text-align: center;}#sk-container-id-6 label.sk-toggleable__label-arrow:before {content: \"▸\";float: left;margin-right: 0.25em;color: #696969;}#sk-container-id-6 label.sk-toggleable__label-arrow:hover:before {color: black;}#sk-container-id-6 div.sk-estimator:hover label.sk-toggleable__label-arrow:before {color: black;}#sk-container-id-6 div.sk-toggleable__content {max-height: 0;max-width: 0;overflow: hidden;text-align: left;background-color: #f0f8ff;}#sk-container-id-6 div.sk-toggleable__content pre {margin: 0.2em;color: black;border-radius: 0.25em;background-color: #f0f8ff;}#sk-container-id-6 input.sk-toggleable__control:checked~div.sk-toggleable__content {max-height: 200px;max-width: 100%;overflow: auto;}#sk-container-id-6 input.sk-toggleable__control:checked~label.sk-toggleable__label-arrow:before {content: \"▾\";}#sk-container-id-6 div.sk-estimator input.sk-toggleable__control:checked~label.sk-toggleable__label {background-color: #d4ebff;}#sk-container-id-6 div.sk-label input.sk-toggleable__control:checked~label.sk-toggleable__label {background-color: #d4ebff;}#sk-container-id-6 input.sk-hidden--visually {border: 0;clip: rect(1px 1px 1px 1px);clip: rect(1px, 1px, 1px, 1px);height: 1px;margin: -1px;overflow: hidden;padding: 0;position: absolute;width: 1px;}#sk-container-id-6 div.sk-estimator {font-family: monospace;background-color: #f0f8ff;border: 1px dotted black;border-radius: 0.25em;box-sizing: border-box;margin-bottom: 0.5em;}#sk-container-id-6 div.sk-estimator:hover {background-color: #d4ebff;}#sk-container-id-6 div.sk-parallel-item::after {content: \"\";width: 100%;border-bottom: 1px solid gray;flex-grow: 1;}#sk-container-id-6 div.sk-label:hover label.sk-toggleable__label {background-color: #d4ebff;}#sk-container-id-6 div.sk-serial::before {content: \"\";position: absolute;border-left: 1px solid gray;box-sizing: border-box;top: 0;bottom: 0;left: 50%;z-index: 0;}#sk-container-id-6 div.sk-serial {display: flex;flex-direction: column;align-items: center;background-color: white;padding-right: 0.2em;padding-left: 0.2em;position: relative;}#sk-container-id-6 div.sk-item {position: relative;z-index: 1;}#sk-container-id-6 div.sk-parallel {display: flex;align-items: stretch;justify-content: center;background-color: white;position: relative;}#sk-container-id-6 div.sk-item::before, #sk-container-id-6 div.sk-parallel-item::before {content: \"\";position: absolute;border-left: 1px solid gray;box-sizing: border-box;top: 0;bottom: 0;left: 50%;z-index: -1;}#sk-container-id-6 div.sk-parallel-item {display: flex;flex-direction: column;z-index: 1;position: relative;background-color: white;}#sk-container-id-6 div.sk-parallel-item:first-child::after {align-self: flex-end;width: 50%;}#sk-container-id-6 div.sk-parallel-item:last-child::after {align-self: flex-start;width: 50%;}#sk-container-id-6 div.sk-parallel-item:only-child::after {width: 0;}#sk-container-id-6 div.sk-dashed-wrapped {border: 1px dashed gray;margin: 0 0.4em 0.5em 0.4em;box-sizing: border-box;padding-bottom: 0.4em;background-color: white;}#sk-container-id-6 div.sk-label label {font-family: monospace;font-weight: bold;display: inline-block;line-height: 1.2em;}#sk-container-id-6 div.sk-label-container {text-align: center;}#sk-container-id-6 div.sk-container {/* jupyter's `normalize.less` sets `[hidden] { display: none; }` but bootstrap.min.css set `[hidden] { display: none !important; }` so we also need the `!important` here to be able to override the default hidden behavior on the sphinx rendered scikit-learn.org. See: https://github.com/scikit-learn/scikit-learn/issues/21755 */display: inline-block !important;position: relative;}#sk-container-id-6 div.sk-text-repr-fallback {display: none;}</style><div id=\"sk-container-id-6\" class=\"sk-top-container\"><div class=\"sk-text-repr-fallback\"><pre>LinearRegression()</pre><b>In a Jupyter environment, please rerun this cell to show the HTML representation or trust the notebook. <br />On GitHub, the HTML representation is unable to render, please try loading this page with nbviewer.org.</b></div><div class=\"sk-container\" hidden><div class=\"sk-item\"><div class=\"sk-estimator sk-toggleable\"><input class=\"sk-toggleable__control sk-hidden--visually\" id=\"sk-estimator-id-6\" type=\"checkbox\" checked><label for=\"sk-estimator-id-6\" class=\"sk-toggleable__label sk-toggleable__label-arrow\">LinearRegression</label><div class=\"sk-toggleable__content\"><pre>LinearRegression()</pre></div></div></div></div></div>"
            ]
          },
          "metadata": {},
          "execution_count": 126
        }
      ]
    },
    {
      "cell_type": "code",
      "source": [
        "pca = PCA(n_components=26)\n",
        "x_new=pca.fit_transform(df)\n",
        "LR2=LinearRegression()\n",
        "LR2.fit(x_new,target)"
      ],
      "metadata": {
        "colab": {
          "base_uri": "https://localhost:8080/",
          "height": 74
        },
        "id": "kqTkt9fJhl9w",
        "outputId": "0f1104db-64b0-43dd-ecf1-6f5c6b358cab"
      },
      "execution_count": null,
      "outputs": [
        {
          "output_type": "execute_result",
          "data": {
            "text/plain": [
              "LinearRegression()"
            ],
            "text/html": [
              "<style>#sk-container-id-7 {color: black;background-color: white;}#sk-container-id-7 pre{padding: 0;}#sk-container-id-7 div.sk-toggleable {background-color: white;}#sk-container-id-7 label.sk-toggleable__label {cursor: pointer;display: block;width: 100%;margin-bottom: 0;padding: 0.3em;box-sizing: border-box;text-align: center;}#sk-container-id-7 label.sk-toggleable__label-arrow:before {content: \"▸\";float: left;margin-right: 0.25em;color: #696969;}#sk-container-id-7 label.sk-toggleable__label-arrow:hover:before {color: black;}#sk-container-id-7 div.sk-estimator:hover label.sk-toggleable__label-arrow:before {color: black;}#sk-container-id-7 div.sk-toggleable__content {max-height: 0;max-width: 0;overflow: hidden;text-align: left;background-color: #f0f8ff;}#sk-container-id-7 div.sk-toggleable__content pre {margin: 0.2em;color: black;border-radius: 0.25em;background-color: #f0f8ff;}#sk-container-id-7 input.sk-toggleable__control:checked~div.sk-toggleable__content {max-height: 200px;max-width: 100%;overflow: auto;}#sk-container-id-7 input.sk-toggleable__control:checked~label.sk-toggleable__label-arrow:before {content: \"▾\";}#sk-container-id-7 div.sk-estimator input.sk-toggleable__control:checked~label.sk-toggleable__label {background-color: #d4ebff;}#sk-container-id-7 div.sk-label input.sk-toggleable__control:checked~label.sk-toggleable__label {background-color: #d4ebff;}#sk-container-id-7 input.sk-hidden--visually {border: 0;clip: rect(1px 1px 1px 1px);clip: rect(1px, 1px, 1px, 1px);height: 1px;margin: -1px;overflow: hidden;padding: 0;position: absolute;width: 1px;}#sk-container-id-7 div.sk-estimator {font-family: monospace;background-color: #f0f8ff;border: 1px dotted black;border-radius: 0.25em;box-sizing: border-box;margin-bottom: 0.5em;}#sk-container-id-7 div.sk-estimator:hover {background-color: #d4ebff;}#sk-container-id-7 div.sk-parallel-item::after {content: \"\";width: 100%;border-bottom: 1px solid gray;flex-grow: 1;}#sk-container-id-7 div.sk-label:hover label.sk-toggleable__label {background-color: #d4ebff;}#sk-container-id-7 div.sk-serial::before {content: \"\";position: absolute;border-left: 1px solid gray;box-sizing: border-box;top: 0;bottom: 0;left: 50%;z-index: 0;}#sk-container-id-7 div.sk-serial {display: flex;flex-direction: column;align-items: center;background-color: white;padding-right: 0.2em;padding-left: 0.2em;position: relative;}#sk-container-id-7 div.sk-item {position: relative;z-index: 1;}#sk-container-id-7 div.sk-parallel {display: flex;align-items: stretch;justify-content: center;background-color: white;position: relative;}#sk-container-id-7 div.sk-item::before, #sk-container-id-7 div.sk-parallel-item::before {content: \"\";position: absolute;border-left: 1px solid gray;box-sizing: border-box;top: 0;bottom: 0;left: 50%;z-index: -1;}#sk-container-id-7 div.sk-parallel-item {display: flex;flex-direction: column;z-index: 1;position: relative;background-color: white;}#sk-container-id-7 div.sk-parallel-item:first-child::after {align-self: flex-end;width: 50%;}#sk-container-id-7 div.sk-parallel-item:last-child::after {align-self: flex-start;width: 50%;}#sk-container-id-7 div.sk-parallel-item:only-child::after {width: 0;}#sk-container-id-7 div.sk-dashed-wrapped {border: 1px dashed gray;margin: 0 0.4em 0.5em 0.4em;box-sizing: border-box;padding-bottom: 0.4em;background-color: white;}#sk-container-id-7 div.sk-label label {font-family: monospace;font-weight: bold;display: inline-block;line-height: 1.2em;}#sk-container-id-7 div.sk-label-container {text-align: center;}#sk-container-id-7 div.sk-container {/* jupyter's `normalize.less` sets `[hidden] { display: none; }` but bootstrap.min.css set `[hidden] { display: none !important; }` so we also need the `!important` here to be able to override the default hidden behavior on the sphinx rendered scikit-learn.org. See: https://github.com/scikit-learn/scikit-learn/issues/21755 */display: inline-block !important;position: relative;}#sk-container-id-7 div.sk-text-repr-fallback {display: none;}</style><div id=\"sk-container-id-7\" class=\"sk-top-container\"><div class=\"sk-text-repr-fallback\"><pre>LinearRegression()</pre><b>In a Jupyter environment, please rerun this cell to show the HTML representation or trust the notebook. <br />On GitHub, the HTML representation is unable to render, please try loading this page with nbviewer.org.</b></div><div class=\"sk-container\" hidden><div class=\"sk-item\"><div class=\"sk-estimator sk-toggleable\"><input class=\"sk-toggleable__control sk-hidden--visually\" id=\"sk-estimator-id-7\" type=\"checkbox\" checked><label for=\"sk-estimator-id-7\" class=\"sk-toggleable__label sk-toggleable__label-arrow\">LinearRegression</label><div class=\"sk-toggleable__content\"><pre>LinearRegression()</pre></div></div></div></div></div>"
            ]
          },
          "metadata": {},
          "execution_count": 127
        }
      ]
    },
    {
      "cell_type": "code",
      "source": [
        "MSE1= MSE(target,LR1.predict(df))"
      ],
      "metadata": {
        "id": "jDJOQLjAi0Jy"
      },
      "execution_count": null,
      "outputs": []
    },
    {
      "cell_type": "code",
      "source": [
        "print( MSE(target,LR1.predict(df)))\n",
        "print( MSE(target,LR2.predict(x_new)))"
      ],
      "metadata": {
        "colab": {
          "base_uri": "https://localhost:8080/"
        },
        "id": "roM8QVL7hrCp",
        "outputId": "d027757c-c3fd-4417-da7f-1f01572a3290"
      },
      "execution_count": null,
      "outputs": [
        {
          "output_type": "stream",
          "name": "stdout",
          "text": [
            "368.2714007303297\n",
            "390.98849833277023\n"
          ]
        }
      ]
    },
    {
      "cell_type": "code",
      "source": [
        "deviation=[]\n",
        "\n",
        "for i in range(1,45):\n",
        "  pca = PCA(n_components=i)\n",
        "  x_new=pca.fit_transform(df)\n",
        "  LR2=LinearRegression()\n",
        "  LR2.fit(x_new,target)\n",
        "  MSE2=MSE(target,LR2.predict(x_new))\n",
        "  deviation.append(MSE2-MSE1)\n",
        "deviation=np.array(deviation)"
      ],
      "metadata": {
        "id": "m73aFmDuhtgB"
      },
      "execution_count": null,
      "outputs": []
    },
    {
      "cell_type": "markdown",
      "source": [
        "The more components utilized in PCA, the better the performance tends to be ( the closer score to without PCA)"
      ],
      "metadata": {
        "id": "3VQcmYzmkSgq"
      }
    },
    {
      "cell_type": "code",
      "source": [
        "plt.plot(deviation)\n",
        "plt.xlabel('Number of components')\n",
        "plt.ylabel('Deviation')\n",
        "plt.show()"
      ],
      "metadata": {
        "colab": {
          "base_uri": "https://localhost:8080/",
          "height": 449
        },
        "id": "im60Yd8yj1gi",
        "outputId": "7d2c9d1f-cfed-409b-ac2d-b8a84a287652"
      },
      "execution_count": null,
      "outputs": [
        {
          "output_type": "display_data",
          "data": {
            "text/plain": [
              "<Figure size 640x480 with 1 Axes>"
            ],
            "image/png": "[encoded data removed]"
          },
          "metadata": {}
        }
      ]
    },
    {
      "cell_type": "markdown",
      "source": [
        "# Interpretation and Analysis:\n"
      ],
      "metadata": {
        "id": "8L22a85wXH3H"
      }
    },
    {
      "cell_type": "code",
      "source": [
        "from sklearn.model_selection import train_test_split\n",
        "X_train,X_test,y_train,y_test=train_test_split(df,target,test_size=0.2,random_state=2)\n",
        "MSE_train=[]\n",
        "MSE_test=[]\n",
        "for i in range(1,44):\n",
        "   pca=PCA(n_components=i)\n",
        "   X_train_new=pca.fit_transform(X_train)\n",
        "   LR=LinearRegression()\n",
        "   LR.fit(X_train_new,y_train)\n",
        "   y_pred=LR.predict(pca.transform(X_test))\n",
        "   MSE_test.append(MSE(y_pred,y_test))\n",
        "   MSE_train.append(MSE(LR.predict(X_train_new),y_train))\n",
        "MSE_test=np.array(MSE_test)\n",
        "MSE_train=np.array(MSE_train)"
      ],
      "metadata": {
        "id": "z1Mj-RLgxcfV"
      },
      "execution_count": null,
      "outputs": []
    },
    {
      "cell_type": "code",
      "source": [
        "MSE_train"
      ],
      "metadata": {
        "colab": {
          "base_uri": "https://localhost:8080/"
        },
        "id": "KzeCSIHDW1nC",
        "outputId": "abf23540-c92c-4001-c6d8-0ac497c1a525"
      },
      "execution_count": null,
      "outputs": [
        {
          "output_type": "execute_result",
          "data": {
            "text/plain": [
              "array([584.64560755, 584.26710664, 555.03724404, 496.47971913,\n",
              "       480.60312607, 442.57230679, 431.70522812, 434.05458277,\n",
              "       428.35813014, 428.58039087, 427.44139995, 427.69562343,\n",
              "       427.38792489, 422.51890943, 421.94034792, 420.64105149,\n",
              "       420.6134322 , 420.00168705, 405.89068751, 405.24480444,\n",
              "       399.91431136, 399.14064182, 398.23502832, 396.47905648,\n",
              "       389.96401232, 389.49315462, 388.68658269, 388.68328156,\n",
              "       388.43526411, 384.37113488, 383.08066025, 382.00243162,\n",
              "       381.61384161, 380.85579317, 380.74243201, 372.06660718,\n",
              "       368.2234988 , 368.05882534, 367.24710135, 366.5144098 ,\n",
              "       363.6569177 , 361.90222989, 361.82958037])"
            ]
          },
          "metadata": {},
          "execution_count": 133
        }
      ]
    },
    {
      "cell_type": "markdown",
      "source": [
        "The result exhibits an overfitting trend."
      ],
      "metadata": {
        "id": "cI5reolX4J7B"
      }
    },
    {
      "cell_type": "code",
      "source": [
        "LR=LinearRegression()\n",
        "LR.fit(X_train,y_train)\n",
        "y_pred=LR.predict(X_test)\n",
        "print(MSE(y_pred,y_test),MSE(LR.predict(X_train),y_train))"
      ],
      "metadata": {
        "colab": {
          "base_uri": "https://localhost:8080/"
        },
        "id": "TJJELgkceFl_",
        "outputId": "b0622394-27dc-40a8-8095-f72fb90701af"
      },
      "execution_count": null,
      "outputs": [
        {
          "output_type": "stream",
          "name": "stdout",
          "text": [
            "415.6392900194173 362.3547758625296\n"
          ]
        }
      ]
    },
    {
      "cell_type": "code",
      "source": [
        "plt.plot(MSE_train, label='Train MSE with PCA')\n",
        "plt.plot(MSE_test, label='Test MSE with PCA')\n",
        "plt.axhline(MSE(y_pred,y_test),color='g',label='Test MSE without PCA', linestyle='--')\n",
        "plt.axhline(MSE(LR.predict(X_train),y_train),color='r',label='Train MSE without PCA', linestyle='--')\n",
        "plt.xlabel(\"The number of principal components\")\n",
        "plt.ylabel(\"Mean square error\")\n",
        "plt.legend()\n",
        "plt.show()"
      ],
      "metadata": {
        "colab": {
          "base_uri": "https://localhost:8080/",
          "height": 449
        },
        "id": "zUT6oHLvy2q6",
        "outputId": "555018e5-ccaa-47f5-d342-b586d700e437"
      },
      "execution_count": null,
      "outputs": [
        {
          "output_type": "display_data",
          "data": {
            "text/plain": [
              "<Figure size 640x480 with 1 Axes>"
            ],
            "image/png": "[encoded data removed]"
          },
          "metadata": {}
        }
      ]
    },
    {
      "cell_type": "markdown",
      "source": [
        "Due to information loss, the performance on the training set with PCA will always be worse than without PCA. However, for the test set, since we have reduced dimensions, the model hasn't learned complex features, reducing overfitting (resulting in similar performance between train and test sets). Then, we increase the dimensionality of the data until reaching a saturation point where the model overfits (learning complex features, thus reducing generalization with the data), consequently inscreasing the test result. It increases until reaching a point where the limit touches the result of the test without PCA."
      ],
      "metadata": {
        "id": "LI6zE33a38Zp"
      }
    },
    {
      "cell_type": "markdown",
      "source": [
        "Upon analyzing the plot, it's clear that the model with PCA exhibits poorer performance on the training data compared to the one without PCA. Additionally, on the testing data, model with PCA between 1-22 principal components yield worse results, while model with PCA above 35 principal components show signs of overfitting."
      ],
      "metadata": {
        "id": "QVwe1-Y44ezS"
      }
    },
    {
      "cell_type": "markdown",
      "metadata": {
        "id": "TvUninQDvf1W"
      },
      "source": [
        "**Interpret the principal components:**"
      ]
    },
    {
      "cell_type": "markdown",
      "metadata": {
        "id": "5u8nnuAZwYqu"
      },
      "source": [
        "- Eigenvectors: These are the directions (vectors) along which the data varies the most. Each eigenvector corresponds to a principal component.\n",
        "- Eigenvalues: These represent the amount of variance explained by each eigenvector. Larger eigenvalues indicate more significant contributions."
      ]
    },
    {
      "cell_type": "markdown",
      "source": [
        "pca.explained_variance_ represents eigenvalues, sorted in descending order, indicating the variance explained by each principal component.As it is sorted in descending order, variance per principal component decreases."
      ],
      "metadata": {
        "id": "zqNKx9Snqxxd"
      }
    },
    {
      "cell_type": "code",
      "source": [
        "pca=PCA(n_components=26)\n",
        "pca.fit(df)"
      ],
      "metadata": {
        "colab": {
          "base_uri": "https://localhost:8080/",
          "height": 74
        },
        "id": "AV6CT12duwRZ",
        "outputId": "6dc9b991-5e2a-428c-f746-96403ea4e791"
      },
      "execution_count": null,
      "outputs": [
        {
          "output_type": "execute_result",
          "data": {
            "text/plain": [
              "PCA(n_components=26)"
            ],
            "text/html": [
              "<style>#sk-container-id-8 {color: black;background-color: white;}#sk-container-id-8 pre{padding: 0;}#sk-container-id-8 div.sk-toggleable {background-color: white;}#sk-container-id-8 label.sk-toggleable__label {cursor: pointer;display: block;width: 100%;margin-bottom: 0;padding: 0.3em;box-sizing: border-box;text-align: center;}#sk-container-id-8 label.sk-toggleable__label-arrow:before {content: \"▸\";float: left;margin-right: 0.25em;color: #696969;}#sk-container-id-8 label.sk-toggleable__label-arrow:hover:before {color: black;}#sk-container-id-8 div.sk-estimator:hover label.sk-toggleable__label-arrow:before {color: black;}#sk-container-id-8 div.sk-toggleable__content {max-height: 0;max-width: 0;overflow: hidden;text-align: left;background-color: #f0f8ff;}#sk-container-id-8 div.sk-toggleable__content pre {margin: 0.2em;color: black;border-radius: 0.25em;background-color: #f0f8ff;}#sk-container-id-8 input.sk-toggleable__control:checked~div.sk-toggleable__content {max-height: 200px;max-width: 100%;overflow: auto;}#sk-container-id-8 input.sk-toggleable__control:checked~label.sk-toggleable__label-arrow:before {content: \"▾\";}#sk-container-id-8 div.sk-estimator input.sk-toggleable__control:checked~label.sk-toggleable__label {background-color: #d4ebff;}#sk-container-id-8 div.sk-label input.sk-toggleable__control:checked~label.sk-toggleable__label {background-color: #d4ebff;}#sk-container-id-8 input.sk-hidden--visually {border: 0;clip: rect(1px 1px 1px 1px);clip: rect(1px, 1px, 1px, 1px);height: 1px;margin: -1px;overflow: hidden;padding: 0;position: absolute;width: 1px;}#sk-container-id-8 div.sk-estimator {font-family: monospace;background-color: #f0f8ff;border: 1px dotted black;border-radius: 0.25em;box-sizing: border-box;margin-bottom: 0.5em;}#sk-container-id-8 div.sk-estimator:hover {background-color: #d4ebff;}#sk-container-id-8 div.sk-parallel-item::after {content: \"\";width: 100%;border-bottom: 1px solid gray;flex-grow: 1;}#sk-container-id-8 div.sk-label:hover label.sk-toggleable__label {background-color: #d4ebff;}#sk-container-id-8 div.sk-serial::before {content: \"\";position: absolute;border-left: 1px solid gray;box-sizing: border-box;top: 0;bottom: 0;left: 50%;z-index: 0;}#sk-container-id-8 div.sk-serial {display: flex;flex-direction: column;align-items: center;background-color: white;padding-right: 0.2em;padding-left: 0.2em;position: relative;}#sk-container-id-8 div.sk-item {position: relative;z-index: 1;}#sk-container-id-8 div.sk-parallel {display: flex;align-items: stretch;justify-content: center;background-color: white;position: relative;}#sk-container-id-8 div.sk-item::before, #sk-container-id-8 div.sk-parallel-item::before {content: \"\";position: absolute;border-left: 1px solid gray;box-sizing: border-box;top: 0;bottom: 0;left: 50%;z-index: -1;}#sk-container-id-8 div.sk-parallel-item {display: flex;flex-direction: column;z-index: 1;position: relative;background-color: white;}#sk-container-id-8 div.sk-parallel-item:first-child::after {align-self: flex-end;width: 50%;}#sk-container-id-8 div.sk-parallel-item:last-child::after {align-self: flex-start;width: 50%;}#sk-container-id-8 div.sk-parallel-item:only-child::after {width: 0;}#sk-container-id-8 div.sk-dashed-wrapped {border: 1px dashed gray;margin: 0 0.4em 0.5em 0.4em;box-sizing: border-box;padding-bottom: 0.4em;background-color: white;}#sk-container-id-8 div.sk-label label {font-family: monospace;font-weight: bold;display: inline-block;line-height: 1.2em;}#sk-container-id-8 div.sk-label-container {text-align: center;}#sk-container-id-8 div.sk-container {/* jupyter's `normalize.less` sets `[hidden] { display: none; }` but bootstrap.min.css set `[hidden] { display: none !important; }` so we also need the `!important` here to be able to override the default hidden behavior on the sphinx rendered scikit-learn.org. See: https://github.com/scikit-learn/scikit-learn/issues/21755 */display: inline-block !important;position: relative;}#sk-container-id-8 div.sk-text-repr-fallback {display: none;}</style><div id=\"sk-container-id-8\" class=\"sk-top-container\"><div class=\"sk-text-repr-fallback\"><pre>PCA(n_components=26)</pre><b>In a Jupyter environment, please rerun this cell to show the HTML representation or trust the notebook. <br />On GitHub, the HTML representation is unable to render, please try loading this page with nbviewer.org.</b></div><div class=\"sk-container\" hidden><div class=\"sk-item\"><div class=\"sk-estimator sk-toggleable\"><input class=\"sk-toggleable__control sk-hidden--visually\" id=\"sk-estimator-id-8\" type=\"checkbox\" checked><label for=\"sk-estimator-id-8\" class=\"sk-toggleable__label sk-toggleable__label-arrow\">PCA</label><div class=\"sk-toggleable__content\"><pre>PCA(n_components=26)</pre></div></div></div></div></div>"
            ]
          },
          "metadata": {},
          "execution_count": 136
        }
      ]
    },
    {
      "cell_type": "code",
      "source": [
        "pca.explained_variance_ # Eigen Values"
      ],
      "metadata": {
        "id": "fEgMEHLZqvBz",
        "colab": {
          "base_uri": "https://localhost:8080/"
        },
        "outputId": "8b61a003-825e-4049-a8e4-c54839dfdf07"
      },
      "execution_count": null,
      "outputs": [
        {
          "output_type": "execute_result",
          "data": {
            "text/plain": [
              "array([10.1461296 ,  5.35810057,  2.60892857,  2.35620659,  1.5555265 ,\n",
              "        1.47923138,  1.33435571,  1.18983554,  1.16449007,  1.12944768,\n",
              "        1.11942763,  1.11217516,  1.10624596,  1.06832348,  1.02672305,\n",
              "        0.97956387,  0.94913225,  0.93223738,  0.82049489,  0.81951644,\n",
              "        0.73327601,  0.69221077,  0.62471024,  0.56883337,  0.52790063,\n",
              "        0.45969054])"
            ]
          },
          "metadata": {},
          "execution_count": 137
        }
      ]
    },
    {
      "cell_type": "markdown",
      "source": [
        "This shows that first principal components explains 23.2 % variance, second principal component explain 12.17% variance"
      ],
      "metadata": {
        "id": "S4p98KkSr9Km"
      }
    },
    {
      "cell_type": "code",
      "execution_count": null,
      "metadata": {
        "id": "-OwDV6L15O5q",
        "colab": {
          "base_uri": "https://localhost:8080/",
          "height": 363
        },
        "outputId": "0ad021a7-e8b0-4b5c-baf8-fcbf46858be4"
      },
      "outputs": [
        {
          "output_type": "execute_result",
          "data": {
            "text/plain": [
              "   Percentage of information\n",
              "0                   0.230495\n",
              "1                   0.121723\n",
              "2                   0.059268\n",
              "3                   0.053527\n",
              "4                   0.035338\n",
              "5                   0.033604\n",
              "6                   0.030313\n",
              "7                   0.027030\n",
              "8                   0.026454\n",
              "9                   0.025658"
            ],
            "text/html": [
              "\n",
              "  <div id=\"df-1d0163b8-6a59-4e58-9468-dca08cba75fd\" class=\"colab-df-container\">\n",
              "    <div>\n",
              "<style scoped>\n",
              "    .dataframe tbody tr th:only-of-type {\n",
              "        vertical-align: middle;\n",
              "    }\n",
              "\n",
              "    .dataframe tbody tr th {\n",
              "        vertical-align: top;\n",
              "    }\n",
              "\n",
              "    .dataframe thead th {\n",
              "        text-align: right;\n",
              "    }\n",
              "</style>\n",
              "<table border=\"1\" class=\"dataframe\">\n",
              "  <thead>\n",
              "    <tr style=\"text-align: right;\">\n",
              "      <th></th>\n",
              "      <th>Percentage of information</th>\n",
              "    </tr>\n",
              "  </thead>\n",
              "  <tbody>\n",
              "    <tr>\n",
              "      <th>0</th>\n",
              "      <td>0.230495</td>\n",
              "    </tr>\n",
              "    <tr>\n",
              "      <th>1</th>\n",
              "      <td>0.121723</td>\n",
              "    </tr>\n",
              "    <tr>\n",
              "      <th>2</th>\n",
              "      <td>0.059268</td>\n",
              "    </tr>\n",
              "    <tr>\n",
              "      <th>3</th>\n",
              "      <td>0.053527</td>\n",
              "    </tr>\n",
              "    <tr>\n",
              "      <th>4</th>\n",
              "      <td>0.035338</td>\n",
              "    </tr>\n",
              "    <tr>\n",
              "      <th>5</th>\n",
              "      <td>0.033604</td>\n",
              "    </tr>\n",
              "    <tr>\n",
              "      <th>6</th>\n",
              "      <td>0.030313</td>\n",
              "    </tr>\n",
              "    <tr>\n",
              "      <th>7</th>\n",
              "      <td>0.027030</td>\n",
              "    </tr>\n",
              "    <tr>\n",
              "      <th>8</th>\n",
              "      <td>0.026454</td>\n",
              "    </tr>\n",
              "    <tr>\n",
              "      <th>9</th>\n",
              "      <td>0.025658</td>\n",
              "    </tr>\n",
              "  </tbody>\n",
              "</table>\n",
              "</div>\n",
              "    <div class=\"colab-df-buttons\">\n",
              "\n",
              "  <div class=\"colab-df-container\">\n",
              "    <button class=\"colab-df-convert\" onclick=\"convertToInteractive('df-1d0163b8-6a59-4e58-9468-dca08cba75fd')\"\n",
              "            title=\"Convert this dataframe to an interactive table.\"\n",
              "            style=\"display:none;\">\n",
              "\n",
              "  <svg xmlns=\"http://www.w3.org/2000/svg\" height=\"24px\" viewBox=\"0 -960 960 960\">\n",
              "    <path d=\"M120-120v-720h720v720H120Zm60-500h600v-160H180v160Zm220 220h160v-160H400v160Zm0 220h160v-160H400v160ZM180-400h160v-160H180v160Zm440 0h160v-160H620v160ZM180-180h160v-160H180v160Zm440 0h160v-160H620v160Z\"/>\n",
              "  </svg>\n",
              "    </button>\n",
              "\n",
              "  <style>\n",
              "    .colab-df-container {\n",
              "      display:flex;\n",
              "      gap: 12px;\n",
              "    }\n",
              "\n",
              "    .colab-df-convert {\n",
              "      background-color: #E8F0FE;\n",
              "      border: none;\n",
              "      border-radius: 50%;\n",
              "      cursor: pointer;\n",
              "      display: none;\n",
              "      fill: #1967D2;\n",
              "      height: 32px;\n",
              "      padding: 0 0 0 0;\n",
              "      width: 32px;\n",
              "    }\n",
              "\n",
              "    .colab-df-convert:hover {\n",
              "      background-color: #E2EBFA;\n",
              "      box-shadow: 0px 1px 2px rgba(60, 64, 67, 0.3), 0px 1px 3px 1px rgba(60, 64, 67, 0.15);\n",
              "      fill: #174EA6;\n",
              "    }\n",
              "\n",
              "    .colab-df-buttons div {\n",
              "      margin-bottom: 4px;\n",
              "    }\n",
              "\n",
              "    [theme=dark] .colab-df-convert {\n",
              "      background-color: #3B4455;\n",
              "      fill: #D2E3FC;\n",
              "    }\n",
              "\n",
              "    [theme=dark] .colab-df-convert:hover {\n",
              "      background-color: #434B5C;\n",
              "      box-shadow: 0px 1px 3px 1px rgba(0, 0, 0, 0.15);\n",
              "      filter: drop-shadow(0px 1px 2px rgba(0, 0, 0, 0.3));\n",
              "      fill: #FFFFFF;\n",
              "    }\n",
              "  </style>\n",
              "\n",
              "    <script>\n",
              "      const buttonEl =\n",
              "        document.querySelector('#df-1d0163b8-6a59-4e58-9468-dca08cba75fd button.colab-df-convert');\n",
              "      buttonEl.style.display =\n",
              "        google.colab.kernel.accessAllowed ? 'block' : 'none';\n",
              "\n",
              "      async function convertToInteractive(key) {\n",
              "        const element = document.querySelector('#df-1d0163b8-6a59-4e58-9468-dca08cba75fd');\n",
              "        const dataTable =\n",
              "          await google.colab.kernel.invokeFunction('convertToInteractive',\n",
              "                                                    [key], {});\n",
              "        if (!dataTable) return;\n",
              "\n",
              "        const docLinkHtml = 'Like what you see? Visit the ' +\n",
              "          '<a target=\"_blank\" href=https://colab.research.google.com/notebooks/data_table.ipynb>data table notebook</a>'\n",
              "          + ' to learn more about interactive tables.';\n",
              "        element.innerHTML = '';\n",
              "        dataTable['output_type'] = 'display_data';\n",
              "        await google.colab.output.renderOutput(dataTable, element);\n",
              "        const docLink = document.createElement('div');\n",
              "        docLink.innerHTML = docLinkHtml;\n",
              "        element.appendChild(docLink);\n",
              "      }\n",
              "    </script>\n",
              "  </div>\n",
              "\n",
              "\n",
              "<div id=\"df-adfa7200-9bc8-421f-b430-81bba966d028\">\n",
              "  <button class=\"colab-df-quickchart\" onclick=\"quickchart('df-adfa7200-9bc8-421f-b430-81bba966d028')\"\n",
              "            title=\"Suggest charts\"\n",
              "            style=\"display:none;\">\n",
              "\n",
              "<svg xmlns=\"http://www.w3.org/2000/svg\" height=\"24px\"viewBox=\"0 0 24 24\"\n",
              "     width=\"24px\">\n",
              "    <g>\n",
              "        <path d=\"M19 3H5c-1.1 0-2 .9-2 2v14c0 1.1.9 2 2 2h14c1.1 0 2-.9 2-2V5c0-1.1-.9-2-2-2zM9 17H7v-7h2v7zm4 0h-2V7h2v10zm4 0h-2v-4h2v4z\"/>\n",
              "    </g>\n",
              "</svg>\n",
              "  </button>\n",
              "\n",
              "<style>\n",
              "  .colab-df-quickchart {\n",
              "      --bg-color: #E8F0FE;\n",
              "      --fill-color: #1967D2;\n",
              "      --hover-bg-color: #E2EBFA;\n",
              "      --hover-fill-color: #174EA6;\n",
              "      --disabled-fill-color: #AAA;\n",
              "      --disabled-bg-color: #DDD;\n",
              "  }\n",
              "\n",
              "  [theme=dark] .colab-df-quickchart {\n",
              "      --bg-color: #3B4455;\n",
              "      --fill-color: #D2E3FC;\n",
              "      --hover-bg-color: #434B5C;\n",
              "      --hover-fill-color: #FFFFFF;\n",
              "      --disabled-bg-color: #3B4455;\n",
              "      --disabled-fill-color: #666;\n",
              "  }\n",
              "\n",
              "  .colab-df-quickchart {\n",
              "    background-color: var(--bg-color);\n",
              "    border: none;\n",
              "    border-radius: 50%;\n",
              "    cursor: pointer;\n",
              "    display: none;\n",
              "    fill: var(--fill-color);\n",
              "    height: 32px;\n",
              "    padding: 0;\n",
              "    width: 32px;\n",
              "  }\n",
              "\n",
              "  .colab-df-quickchart:hover {\n",
              "    background-color: var(--hover-bg-color);\n",
              "    box-shadow: 0 1px 2px rgba(60, 64, 67, 0.3), 0 1px 3px 1px rgba(60, 64, 67, 0.15);\n",
              "    fill: var(--button-hover-fill-color);\n",
              "  }\n",
              "\n",
              "  .colab-df-quickchart-complete:disabled,\n",
              "  .colab-df-quickchart-complete:disabled:hover {\n",
              "    background-color: var(--disabled-bg-color);\n",
              "    fill: var(--disabled-fill-color);\n",
              "    box-shadow: none;\n",
              "  }\n",
              "\n",
              "  .colab-df-spinner {\n",
              "    border: 2px solid var(--fill-color);\n",
              "    border-color: transparent;\n",
              "    border-bottom-color: var(--fill-color);\n",
              "    animation:\n",
              "      spin 1s steps(1) infinite;\n",
              "  }\n",
              "\n",
              "  @keyframes spin {\n",
              "    0% {\n",
              "      border-color: transparent;\n",
              "      border-bottom-color: var(--fill-color);\n",
              "      border-left-color: var(--fill-color);\n",
              "    }\n",
              "    20% {\n",
              "      border-color: transparent;\n",
              "      border-left-color: var(--fill-color);\n",
              "      border-top-color: var(--fill-color);\n",
              "    }\n",
              "    30% {\n",
              "      border-color: transparent;\n",
              "      border-left-color: var(--fill-color);\n",
              "      border-top-color: var(--fill-color);\n",
              "      border-right-color: var(--fill-color);\n",
              "    }\n",
              "    40% {\n",
              "      border-color: transparent;\n",
              "      border-right-color: var(--fill-color);\n",
              "      border-top-color: var(--fill-color);\n",
              "    }\n",
              "    60% {\n",
              "      border-color: transparent;\n",
              "      border-right-color: var(--fill-color);\n",
              "    }\n",
              "    80% {\n",
              "      border-color: transparent;\n",
              "      border-right-color: var(--fill-color);\n",
              "      border-bottom-color: var(--fill-color);\n",
              "    }\n",
              "    90% {\n",
              "      border-color: transparent;\n",
              "      border-bottom-color: var(--fill-color);\n",
              "    }\n",
              "  }\n",
              "</style>\n",
              "\n",
              "  <script>\n",
              "    async function quickchart(key) {\n",
              "      const quickchartButtonEl =\n",
              "        document.querySelector('#' + key + ' button');\n",
              "      quickchartButtonEl.disabled = true;  // To prevent multiple clicks.\n",
              "      quickchartButtonEl.classList.add('colab-df-spinner');\n",
              "      try {\n",
              "        const charts = await google.colab.kernel.invokeFunction(\n",
              "            'suggestCharts', [key], {});\n",
              "      } catch (error) {\n",
              "        console.error('Error during call to suggestCharts:', error);\n",
              "      }\n",
              "      quickchartButtonEl.classList.remove('colab-df-spinner');\n",
              "      quickchartButtonEl.classList.add('colab-df-quickchart-complete');\n",
              "    }\n",
              "    (() => {\n",
              "      let quickchartButtonEl =\n",
              "        document.querySelector('#df-adfa7200-9bc8-421f-b430-81bba966d028 button');\n",
              "      quickchartButtonEl.style.display =\n",
              "        google.colab.kernel.accessAllowed ? 'block' : 'none';\n",
              "    })();\n",
              "  </script>\n",
              "</div>\n",
              "\n",
              "    </div>\n",
              "  </div>\n"
            ],
            "application/vnd.google.colaboratory.intrinsic+json": {
              "type": "dataframe",
              "summary": "{\n  \"name\": \"pd\",\n  \"rows\": 10,\n  \"fields\": [\n    {\n      \"column\": \"Percentage of information\",\n      \"properties\": {\n        \"dtype\": \"number\",\n        \"std\": 0.06524326223473993,\n        \"min\": 0.02565825798205278,\n        \"max\": 0.23049497207873965,\n        \"num_unique_values\": 10,\n        \"samples\": [\n          0.026454334415981034,\n          0.12172279385660657,\n          0.03360447862879488\n        ],\n        \"semantic_type\": \"\",\n        \"description\": \"\"\n      }\n    }\n  ]\n}"
            }
          },
          "metadata": {},
          "execution_count": 138
        }
      ],
      "source": [
        "pd.DataFrame(pca.explained_variance_ratio_,columns=['Percentage of information'])[:10]"
      ]
    },
    {
      "cell_type": "markdown",
      "source": [
        "pca.components_ contains the principal axes in feature space,representing the directions of maximum variance in the data. Each row corresponds to a principal component, and the columns represent the original features in the dataset. These principal components are orthogonal to each other."
      ],
      "metadata": {
        "id": "n7piiTtXq0KM"
      }
    },
    {
      "cell_type": "code",
      "source": [
        "pca.components_  # Eigen Vectors"
      ],
      "metadata": {
        "id": "WD0TS_sMqzyC",
        "colab": {
          "base_uri": "https://localhost:8080/"
        },
        "outputId": "4e785092-1e63-4b16-c57f-54edd7065a2d"
      },
      "execution_count": null,
      "outputs": [
        {
          "output_type": "execute_result",
          "data": {
            "text/plain": [
              "array([[ 0.08394036,  0.06351862,  0.01123869, ...,  0.0346327 ,\n",
              "        -0.01875801, -0.01860848],\n",
              "       [ 0.24537436,  0.2661639 ,  0.0149103 , ..., -0.06611406,\n",
              "         0.03681117,  0.21676226],\n",
              "       [ 0.35336356,  0.35764129,  0.16847822, ..., -0.04342438,\n",
              "        -0.15185631, -0.33823794],\n",
              "       ...,\n",
              "       [-0.10316016, -0.08205859, -0.04615277, ...,  0.06723377,\n",
              "         0.11253347,  0.22841726],\n",
              "       [-0.01590755, -0.02960408,  0.36699553, ...,  0.25268822,\n",
              "        -0.27565896, -0.17705235],\n",
              "       [ 0.00281731,  0.00793595,  0.14103191, ..., -0.03118796,\n",
              "        -0.05455866,  0.12917237]])"
            ]
          },
          "metadata": {},
          "execution_count": 139
        }
      ]
    },
    {
      "cell_type": "markdown",
      "source": [
        "Each value in the resulting array represents the percentage of information retained after using a certain number of components.\n",
        "\n",
        "First principal component captures 23 % informtaion, first and second principal component capture 35.2 % information"
      ],
      "metadata": {
        "id": "XM0cVLz7q8P0"
      }
    },
    {
      "cell_type": "code",
      "source": [
        "pd.DataFrame(np.cumsum(pca.explained_variance_ratio_),columns=['Percentage of information'])[:10]"
      ],
      "metadata": {
        "id": "wXK614xErAy7",
        "colab": {
          "base_uri": "https://localhost:8080/",
          "height": 363
        },
        "outputId": "f37fbbe8-fba7-4530-ccd1-e84cb5abc953"
      },
      "execution_count": null,
      "outputs": [
        {
          "output_type": "execute_result",
          "data": {
            "text/plain": [
              "   Percentage of information\n",
              "0                   0.230495\n",
              "1                   0.352218\n",
              "2                   0.411486\n",
              "3                   0.465013\n",
              "4                   0.500351\n",
              "5                   0.533956\n",
              "6                   0.564269\n",
              "7                   0.591299\n",
              "8                   0.617753\n",
              "9                   0.643412"
            ],
            "text/html": [
              "\n",
              "  <div id=\"df-a923acb2-5a94-467e-8433-39779b72e24d\" class=\"colab-df-container\">\n",
              "    <div>\n",
              "<style scoped>\n",
              "    .dataframe tbody tr th:only-of-type {\n",
              "        vertical-align: middle;\n",
              "    }\n",
              "\n",
              "    .dataframe tbody tr th {\n",
              "        vertical-align: top;\n",
              "    }\n",
              "\n",
              "    .dataframe thead th {\n",
              "        text-align: right;\n",
              "    }\n",
              "</style>\n",
              "<table border=\"1\" class=\"dataframe\">\n",
              "  <thead>\n",
              "    <tr style=\"text-align: right;\">\n",
              "      <th></th>\n",
              "      <th>Percentage of information</th>\n",
              "    </tr>\n",
              "  </thead>\n",
              "  <tbody>\n",
              "    <tr>\n",
              "      <th>0</th>\n",
              "      <td>0.230495</td>\n",
              "    </tr>\n",
              "    <tr>\n",
              "      <th>1</th>\n",
              "      <td>0.352218</td>\n",
              "    </tr>\n",
              "    <tr>\n",
              "      <th>2</th>\n",
              "      <td>0.411486</td>\n",
              "    </tr>\n",
              "    <tr>\n",
              "      <th>3</th>\n",
              "      <td>0.465013</td>\n",
              "    </tr>\n",
              "    <tr>\n",
              "      <th>4</th>\n",
              "      <td>0.500351</td>\n",
              "    </tr>\n",
              "    <tr>\n",
              "      <th>5</th>\n",
              "      <td>0.533956</td>\n",
              "    </tr>\n",
              "    <tr>\n",
              "      <th>6</th>\n",
              "      <td>0.564269</td>\n",
              "    </tr>\n",
              "    <tr>\n",
              "      <th>7</th>\n",
              "      <td>0.591299</td>\n",
              "    </tr>\n",
              "    <tr>\n",
              "      <th>8</th>\n",
              "      <td>0.617753</td>\n",
              "    </tr>\n",
              "    <tr>\n",
              "      <th>9</th>\n",
              "      <td>0.643412</td>\n",
              "    </tr>\n",
              "  </tbody>\n",
              "</table>\n",
              "</div>\n",
              "    <div class=\"colab-df-buttons\">\n",
              "\n",
              "  <div class=\"colab-df-container\">\n",
              "    <button class=\"colab-df-convert\" onclick=\"convertToInteractive('df-a923acb2-5a94-467e-8433-39779b72e24d')\"\n",
              "            title=\"Convert this dataframe to an interactive table.\"\n",
              "            style=\"display:none;\">\n",
              "\n",
              "  <svg xmlns=\"http://www.w3.org/2000/svg\" height=\"24px\" viewBox=\"0 -960 960 960\">\n",
              "    <path d=\"M120-120v-720h720v720H120Zm60-500h600v-160H180v160Zm220 220h160v-160H400v160Zm0 220h160v-160H400v160ZM180-400h160v-160H180v160Zm440 0h160v-160H620v160ZM180-180h160v-160H180v160Zm440 0h160v-160H620v160Z\"/>\n",
              "  </svg>\n",
              "    </button>\n",
              "\n",
              "  <style>\n",
              "    .colab-df-container {\n",
              "      display:flex;\n",
              "      gap: 12px;\n",
              "    }\n",
              "\n",
              "    .colab-df-convert {\n",
              "      background-color: #E8F0FE;\n",
              "      border: none;\n",
              "      border-radius: 50%;\n",
              "      cursor: pointer;\n",
              "      display: none;\n",
              "      fill: #1967D2;\n",
              "      height: 32px;\n",
              "      padding: 0 0 0 0;\n",
              "      width: 32px;\n",
              "    }\n",
              "\n",
              "    .colab-df-convert:hover {\n",
              "      background-color: #E2EBFA;\n",
              "      box-shadow: 0px 1px 2px rgba(60, 64, 67, 0.3), 0px 1px 3px 1px rgba(60, 64, 67, 0.15);\n",
              "      fill: #174EA6;\n",
              "    }\n",
              "\n",
              "    .colab-df-buttons div {\n",
              "      margin-bottom: 4px;\n",
              "    }\n",
              "\n",
              "    [theme=dark] .colab-df-convert {\n",
              "      background-color: #3B4455;\n",
              "      fill: #D2E3FC;\n",
              "    }\n",
              "\n",
              "    [theme=dark] .colab-df-convert:hover {\n",
              "      background-color: #434B5C;\n",
              "      box-shadow: 0px 1px 3px 1px rgba(0, 0, 0, 0.15);\n",
              "      filter: drop-shadow(0px 1px 2px rgba(0, 0, 0, 0.3));\n",
              "      fill: #FFFFFF;\n",
              "    }\n",
              "  </style>\n",
              "\n",
              "    <script>\n",
              "      const buttonEl =\n",
              "        document.querySelector('#df-a923acb2-5a94-467e-8433-39779b72e24d button.colab-df-convert');\n",
              "      buttonEl.style.display =\n",
              "        google.colab.kernel.accessAllowed ? 'block' : 'none';\n",
              "\n",
              "      async function convertToInteractive(key) {\n",
              "        const element = document.querySelector('#df-a923acb2-5a94-467e-8433-39779b72e24d');\n",
              "        const dataTable =\n",
              "          await google.colab.kernel.invokeFunction('convertToInteractive',\n",
              "                                                    [key], {});\n",
              "        if (!dataTable) return;\n",
              "\n",
              "        const docLinkHtml = 'Like what you see? Visit the ' +\n",
              "          '<a target=\"_blank\" href=https://colab.research.google.com/notebooks/data_table.ipynb>data table notebook</a>'\n",
              "          + ' to learn more about interactive tables.';\n",
              "        element.innerHTML = '';\n",
              "        dataTable['output_type'] = 'display_data';\n",
              "        await google.colab.output.renderOutput(dataTable, element);\n",
              "        const docLink = document.createElement('div');\n",
              "        docLink.innerHTML = docLinkHtml;\n",
              "        element.appendChild(docLink);\n",
              "      }\n",
              "    </script>\n",
              "  </div>\n",
              "\n",
              "\n",
              "<div id=\"df-0ab9738e-0947-4ae9-a0a6-35a2eb7ab40b\">\n",
              "  <button class=\"colab-df-quickchart\" onclick=\"quickchart('df-0ab9738e-0947-4ae9-a0a6-35a2eb7ab40b')\"\n",
              "            title=\"Suggest charts\"\n",
              "            style=\"display:none;\">\n",
              "\n",
              "<svg xmlns=\"http://www.w3.org/2000/svg\" height=\"24px\"viewBox=\"0 0 24 24\"\n",
              "     width=\"24px\">\n",
              "    <g>\n",
              "        <path d=\"M19 3H5c-1.1 0-2 .9-2 2v14c0 1.1.9 2 2 2h14c1.1 0 2-.9 2-2V5c0-1.1-.9-2-2-2zM9 17H7v-7h2v7zm4 0h-2V7h2v10zm4 0h-2v-4h2v4z\"/>\n",
              "    </g>\n",
              "</svg>\n",
              "  </button>\n",
              "\n",
              "<style>\n",
              "  .colab-df-quickchart {\n",
              "      --bg-color: #E8F0FE;\n",
              "      --fill-color: #1967D2;\n",
              "      --hover-bg-color: #E2EBFA;\n",
              "      --hover-fill-color: #174EA6;\n",
              "      --disabled-fill-color: #AAA;\n",
              "      --disabled-bg-color: #DDD;\n",
              "  }\n",
              "\n",
              "  [theme=dark] .colab-df-quickchart {\n",
              "      --bg-color: #3B4455;\n",
              "      --fill-color: #D2E3FC;\n",
              "      --hover-bg-color: #434B5C;\n",
              "      --hover-fill-color: #FFFFFF;\n",
              "      --disabled-bg-color: #3B4455;\n",
              "      --disabled-fill-color: #666;\n",
              "  }\n",
              "\n",
              "  .colab-df-quickchart {\n",
              "    background-color: var(--bg-color);\n",
              "    border: none;\n",
              "    border-radius: 50%;\n",
              "    cursor: pointer;\n",
              "    display: none;\n",
              "    fill: var(--fill-color);\n",
              "    height: 32px;\n",
              "    padding: 0;\n",
              "    width: 32px;\n",
              "  }\n",
              "\n",
              "  .colab-df-quickchart:hover {\n",
              "    background-color: var(--hover-bg-color);\n",
              "    box-shadow: 0 1px 2px rgba(60, 64, 67, 0.3), 0 1px 3px 1px rgba(60, 64, 67, 0.15);\n",
              "    fill: var(--button-hover-fill-color);\n",
              "  }\n",
              "\n",
              "  .colab-df-quickchart-complete:disabled,\n",
              "  .colab-df-quickchart-complete:disabled:hover {\n",
              "    background-color: var(--disabled-bg-color);\n",
              "    fill: var(--disabled-fill-color);\n",
              "    box-shadow: none;\n",
              "  }\n",
              "\n",
              "  .colab-df-spinner {\n",
              "    border: 2px solid var(--fill-color);\n",
              "    border-color: transparent;\n",
              "    border-bottom-color: var(--fill-color);\n",
              "    animation:\n",
              "      spin 1s steps(1) infinite;\n",
              "  }\n",
              "\n",
              "  @keyframes spin {\n",
              "    0% {\n",
              "      border-color: transparent;\n",
              "      border-bottom-color: var(--fill-color);\n",
              "      border-left-color: var(--fill-color);\n",
              "    }\n",
              "    20% {\n",
              "      border-color: transparent;\n",
              "      border-left-color: var(--fill-color);\n",
              "      border-top-color: var(--fill-color);\n",
              "    }\n",
              "    30% {\n",
              "      border-color: transparent;\n",
              "      border-left-color: var(--fill-color);\n",
              "      border-top-color: var(--fill-color);\n",
              "      border-right-color: var(--fill-color);\n",
              "    }\n",
              "    40% {\n",
              "      border-color: transparent;\n",
              "      border-right-color: var(--fill-color);\n",
              "      border-top-color: var(--fill-color);\n",
              "    }\n",
              "    60% {\n",
              "      border-color: transparent;\n",
              "      border-right-color: var(--fill-color);\n",
              "    }\n",
              "    80% {\n",
              "      border-color: transparent;\n",
              "      border-right-color: var(--fill-color);\n",
              "      border-bottom-color: var(--fill-color);\n",
              "    }\n",
              "    90% {\n",
              "      border-color: transparent;\n",
              "      border-bottom-color: var(--fill-color);\n",
              "    }\n",
              "  }\n",
              "</style>\n",
              "\n",
              "  <script>\n",
              "    async function quickchart(key) {\n",
              "      const quickchartButtonEl =\n",
              "        document.querySelector('#' + key + ' button');\n",
              "      quickchartButtonEl.disabled = true;  // To prevent multiple clicks.\n",
              "      quickchartButtonEl.classList.add('colab-df-spinner');\n",
              "      try {\n",
              "        const charts = await google.colab.kernel.invokeFunction(\n",
              "            'suggestCharts', [key], {});\n",
              "      } catch (error) {\n",
              "        console.error('Error during call to suggestCharts:', error);\n",
              "      }\n",
              "      quickchartButtonEl.classList.remove('colab-df-spinner');\n",
              "      quickchartButtonEl.classList.add('colab-df-quickchart-complete');\n",
              "    }\n",
              "    (() => {\n",
              "      let quickchartButtonEl =\n",
              "        document.querySelector('#df-0ab9738e-0947-4ae9-a0a6-35a2eb7ab40b button');\n",
              "      quickchartButtonEl.style.display =\n",
              "        google.colab.kernel.accessAllowed ? 'block' : 'none';\n",
              "    })();\n",
              "  </script>\n",
              "</div>\n",
              "\n",
              "    </div>\n",
              "  </div>\n"
            ],
            "application/vnd.google.colaboratory.intrinsic+json": {
              "type": "dataframe",
              "summary": "{\n  \"name\": \"pd\",\n  \"rows\": 10,\n  \"fields\": [\n    {\n      \"column\": \"Percentage of information\",\n      \"properties\": {\n        \"dtype\": \"number\",\n        \"std\": 0.12943364130547946,\n        \"min\": 0.23049497207873965,\n        \"max\": 0.6434115260066989,\n        \"num_unique_values\": 10,\n        \"samples\": [\n          0.6177532680246461,\n          0.3522177659353462,\n          0.5339555510451596\n        ],\n        \"semantic_type\": \"\",\n        \"description\": \"\"\n      }\n    }\n  ]\n}"
            }
          },
          "metadata": {},
          "execution_count": 140
        }
      ]
    },
    {
      "cell_type": "markdown",
      "source": [
        "The more components are , the more information is retained"
      ],
      "metadata": {
        "id": "3qJ7mnXErky2"
      }
    },
    {
      "cell_type": "code",
      "source": [
        "plt.plot(np.cumsum(pca.explained_variance_ratio_))\n",
        "plt.xlabel(\"The number of principal components\")\n",
        "plt.ylabel(\"Percentage of information\")"
      ],
      "metadata": {
        "id": "fSHnMhg-rl3r",
        "colab": {
          "base_uri": "https://localhost:8080/",
          "height": 466
        },
        "outputId": "a44ba75f-d3b8-4a06-cd7b-5c85c2cd5f9e"
      },
      "execution_count": null,
      "outputs": [
        {
          "output_type": "execute_result",
          "data": {
            "text/plain": [
              "Text(0, 0.5, 'Percentage of information')"
            ]
          },
          "metadata": {},
          "execution_count": 141
        },
        {
          "output_type": "display_data",
          "data": {
            "text/plain": [
              "<Figure size 640x480 with 1 Axes>"
            ],
            "image/png": "[encoded data removed]"
          },
          "metadata": {}
        }
      ]
    },
    {
      "cell_type": "markdown",
      "source": [
        "PCA can help with multicollinearity. It can reduce multicollinearity by transforming the original variables into a smaller set of uncorrelated variables through orthogonal eigen vectors.If two directions are not orthogonal, they are linearly dependent on each other, which means that one direction can be expressed as a linear combination of the other direction. If two directions are orthogonal , they do not capture any unique variance in the data beyond what the first direction has already caught."
      ],
      "metadata": {
        "id": "iyGVqToaqQJ6"
      }
    },
    {
      "cell_type": "markdown",
      "source": [
        "Upon examining the heatmap, it becomes evident that the data exhibits high correlation among certain features"
      ],
      "metadata": {
        "id": "YTFEMfQID7QS"
      }
    },
    {
      "cell_type": "code",
      "source": [
        "cor=pd.DataFrame(df[:,:10]).corr()\n",
        "sns.heatmap(cor, annot=True,fmt='.2f')"
      ],
      "metadata": {
        "id": "ybuWxcG5DHqq",
        "colab": {
          "base_uri": "https://localhost:8080/",
          "height": 452
        },
        "outputId": "740524b2-7a03-43c8-f15d-25f7ab8aff81"
      },
      "execution_count": null,
      "outputs": [
        {
          "output_type": "execute_result",
          "data": {
            "text/plain": [
              "<Axes: >"
            ]
          },
          "metadata": {},
          "execution_count": 142
        },
        {
          "output_type": "display_data",
          "data": {
            "text/plain": [
              "<Figure size 640x480 with 2 Axes>"
            ],
            "image/png": "[encoded data removed]"
          },
          "metadata": {}
        }
      ]
    },
    {
      "cell_type": "markdown",
      "source": [
        "After applying PCA, features no longer exhibit correlation"
      ],
      "metadata": {
        "id": "PKrWhhzGEYbS"
      }
    },
    {
      "cell_type": "code",
      "source": [
        "pca = PCA(n_components=10)\n",
        "x_new=pca.fit_transform(df)\n",
        "x_new=pd.DataFrame(x_new)\n",
        "cor=x_new.corr()\n",
        "sns.heatmap(cor, annot=True,fmt='.2f')"
      ],
      "metadata": {
        "id": "EAt1vYhvBRsq",
        "colab": {
          "base_uri": "https://localhost:8080/",
          "height": 452
        },
        "outputId": "a3372dfa-775a-44b1-82d9-c6f5a1835f89"
      },
      "execution_count": null,
      "outputs": [
        {
          "output_type": "execute_result",
          "data": {
            "text/plain": [
              "<Axes: >"
            ]
          },
          "metadata": {},
          "execution_count": 143
        },
        {
          "output_type": "display_data",
          "data": {
            "text/plain": [
              "<Figure size 640x480 with 2 Axes>"
            ],
            "image/png": "[encoded data removed]"
          },
          "metadata": {}
        }
      ]
    },
    {
      "cell_type": "markdown",
      "source": [
        "The eigenvectors are orthogonal to each other"
      ],
      "metadata": {
        "id": "nfkkHecoEx_C"
      }
    },
    {
      "cell_type": "code",
      "source": [
        "eigenvecs=pca.components_"
      ],
      "metadata": {
        "id": "w_ULcIzhCkJK"
      },
      "execution_count": null,
      "outputs": []
    },
    {
      "cell_type": "code",
      "source": [
        "table = np.zeros((len(eigenvecs), len(eigenvecs)))\n",
        "\n",
        "labels = [f'$u_{{{i}}}$' for i in range(len(eigenvecs))]\n",
        "\n",
        "fig, ax = plt.subplots()\n",
        "\n",
        "for i, vec_x in enumerate(eigenvecs):\n",
        "    for j, vec_y in enumerate(eigenvecs):\n",
        "        table[i, j] = vec_x.T.dot(vec_y)\n",
        "\n",
        "sns.heatmap(table, annot=True, fmt='.2f', ax=ax)\n",
        "\n",
        "ax.set(xlabel='Eigen vectors',\n",
        "       ylabel='Eigen vectors',\n",
        "       title='Orthogonality of eigen vectors',\n",
        "       xticks=np.arange(len(eigenvecs)),\n",
        "       yticks=np.arange(len(eigenvecs)),\n",
        "       xticklabels=labels,\n",
        "       yticklabels=labels)\n",
        "\n",
        "plt.tight_layout()\n",
        "plt.show()"
      ],
      "metadata": {
        "id": "A4tL1cvtp0zW",
        "colab": {
          "base_uri": "https://localhost:8080/",
          "height": 487
        },
        "outputId": "4385a3db-382d-446c-8875-38b5130f636d"
      },
      "execution_count": null,
      "outputs": [
        {
          "output_type": "display_data",
          "data": {
            "text/plain": [
              "<Figure size 640x480 with 2 Axes>"
            ],
            "image/png": "[encoded data removed]"
          },
          "metadata": {}
        }
      ]
    },
    {
      "cell_type": "markdown",
      "source": [
        "**Underlying structure of the data:**"
      ],
      "metadata": {
        "id": "II6s1ms56KL_"
      }
    },
    {
      "cell_type": "code",
      "execution_count": null,
      "metadata": {
        "id": "ieuYTCDyr9X2"
      },
      "outputs": [],
      "source": [
        "pca = PCA(n_components=40)\n",
        "x_new=pca.fit_transform(df)"
      ]
    },
    {
      "cell_type": "code",
      "source": [
        "Eigenvectors=pca.components_\n",
        "Eigenvalues=pca.explained_variance_"
      ],
      "metadata": {
        "id": "bGOgH5E_Caro"
      },
      "execution_count": null,
      "outputs": []
    },
    {
      "cell_type": "markdown",
      "source": [
        "I calculate the standard deviation for each sample to determine which one exhibits the high variance in principal components"
      ],
      "metadata": {
        "id": "VwfJLnfW4JIH"
      }
    },
    {
      "cell_type": "code",
      "execution_count": null,
      "metadata": {
        "id": "n7viKR9077Sv"
      },
      "outputs": [],
      "source": [
        "project=df@Eigenvectors.T\n",
        "std=np.sum(abs(project-np.mean(project,axis=0)),axis=1)"
      ]
    },
    {
      "cell_type": "code",
      "source": [
        "project[:,0]"
      ],
      "metadata": {
        "id": "df4xFfWXybHc",
        "colab": {
          "base_uri": "https://localhost:8080/"
        },
        "outputId": "c9fbec91-e591-4eb7-d112-5079c90af975"
      },
      "execution_count": null,
      "outputs": [
        {
          "output_type": "execute_result",
          "data": {
            "text/plain": [
              "array([ 2.10045448,  0.18505463, -1.52113677, ...,  1.74443906,\n",
              "        1.92061921,  0.96940182])"
            ]
          },
          "metadata": {},
          "execution_count": 149
        }
      ]
    },
    {
      "cell_type": "code",
      "source": [
        "sns.scatterplot(std)"
      ],
      "metadata": {
        "id": "aVErYLVOxXQc",
        "colab": {
          "base_uri": "https://localhost:8080/",
          "height": 447
        },
        "outputId": "9c59f401-2dfe-43a1-c246-b22997dcb20c"
      },
      "execution_count": null,
      "outputs": [
        {
          "output_type": "execute_result",
          "data": {
            "text/plain": [
              "<Axes: >"
            ]
          },
          "metadata": {},
          "execution_count": 150
        },
        {
          "output_type": "display_data",
          "data": {
            "text/plain": [
              "<Figure size 640x480 with 1 Axes>"
            ],
            "image/png": "[encoded data removed]"
          },
          "metadata": {}
        }
      ]
    },
    {
      "cell_type": "markdown",
      "source": [
        "samples 758,2086,1762,227,1421 result in high variance in principal components"
      ],
      "metadata": {
        "id": "_dBSsMb35pFb"
      }
    },
    {
      "cell_type": "code",
      "execution_count": null,
      "metadata": {
        "id": "GluHSx30-_Kg",
        "colab": {
          "base_uri": "https://localhost:8080/"
        },
        "outputId": "07b9985b-c985-429c-d583-7bbe0af29429"
      },
      "outputs": [
        {
          "output_type": "execute_result",
          "data": {
            "text/plain": [
              "[(758, 145.62698680259064),\n",
              " (2086, 85.8916942260886),\n",
              " (1762, 76.180116825685),\n",
              " (227, 70.33121192963071),\n",
              " (1421, 69.8153446227803)]"
            ]
          },
          "metadata": {},
          "execution_count": 151
        }
      ],
      "source": [
        "sorted(enumerate(std),key=lambda x:x[1],reverse=True)[:5]"
      ]
    },
    {
      "cell_type": "markdown",
      "source": [
        "We can observe that Feature 5 and 2 have similar eigenvector values ( approximately 0.06), indicating multicollinearity."
      ],
      "metadata": {
        "id": "Rvd3z1tsmuhH"
      }
    },
    {
      "cell_type": "code",
      "source": [
        "list(enumerate(Eigenvectors[0,:]))[:10]"
      ],
      "metadata": {
        "id": "0duRUhkomkkj",
        "colab": {
          "base_uri": "https://localhost:8080/"
        },
        "outputId": "0a4438d6-f2ad-47fc-8073-7722ae538391"
      },
      "execution_count": null,
      "outputs": [
        {
          "output_type": "execute_result",
          "data": {
            "text/plain": [
              "[(0, 0.08394036327818558),\n",
              " (1, 0.06351861759296212),\n",
              " (2, 0.011238693723355286),\n",
              " (3, 0.274184421261756),\n",
              " (4, 0.06597454179350679),\n",
              " (5, -0.2763553341429707),\n",
              " (6, 0.02277581805191452),\n",
              " (7, -0.004407859767905741),\n",
              " (8, -0.01331739153062018),\n",
              " (9, -0.034518578314368026)]"
            ]
          },
          "metadata": {},
          "execution_count": 152
        }
      ]
    },
    {
      "cell_type": "markdown",
      "source": [
        "If a component has a high positive coefficient for a feature, it means that the component increases with the feature. Conversely, if it has a low positive coefficient for a feature, it means that the component decreases with the feature"
      ],
      "metadata": {
        "id": "Tm_ZCNOabX5Y"
      }
    },
    {
      "cell_type": "markdown",
      "source": [
        "Feature 20 is the most important for the first principal component => It has a significant impact on the direction of the eigenvector."
      ],
      "metadata": {
        "id": "mH_3dQQIC8uJ"
      }
    },
    {
      "cell_type": "code",
      "source": [
        "sorted(enumerate(Eigenvectors[0,:]),key=lambda x:x[1],reverse=True)[:5]"
      ],
      "metadata": {
        "id": "eMczF9xlCDdf",
        "colab": {
          "base_uri": "https://localhost:8080/"
        },
        "outputId": "90a81651-e636-4d17-e8e1-4af0fd386bdb"
      },
      "execution_count": null,
      "outputs": [
        {
          "output_type": "execute_result",
          "data": {
            "text/plain": [
              "[(19, 0.2922507512697905),\n",
              " (18, 0.2844804486242825),\n",
              " (3, 0.274184421261756),\n",
              " (16, 0.267103367113416),\n",
              " (20, 0.26559524263139345)]"
            ]
          },
          "metadata": {},
          "execution_count": 153
        }
      ]
    },
    {
      "cell_type": "markdown",
      "source": [
        "Feature 23 is the worst important for the first principal component => It contributes little to the direction of the eigenvector."
      ],
      "metadata": {
        "id": "l__ks1_4DWY_"
      }
    },
    {
      "cell_type": "code",
      "source": [
        "sorted(enumerate(Eigenvectors[0,:]),key=lambda x:x[1])[:5]"
      ],
      "metadata": {
        "id": "Kv64O4KWDS8Z",
        "colab": {
          "base_uri": "https://localhost:8080/"
        },
        "outputId": "95829d63-1341-4744-da4c-a72ed42e9d46"
      },
      "execution_count": null,
      "outputs": [
        {
          "output_type": "execute_result",
          "data": {
            "text/plain": [
              "[(22, -0.2782896012612455),\n",
              " (5, -0.2763553341429707),\n",
              " (21, -0.2665442309547029),\n",
              " (17, -0.21198693177947783),\n",
              " (38, -0.17316372334009927)]"
            ]
          },
          "metadata": {},
          "execution_count": 154
        }
      ]
    },
    {
      "cell_type": "code",
      "source": [
        "n=np.arange(1,df.shape[1]+1)\n",
        "\n",
        "fig, ax = plt.subplots()\n",
        "ax.scatter(Eigenvectors[0,:],Eigenvectors[1,:] )\n",
        "\n",
        "\n",
        "for i, txt in enumerate(n):\n",
        "    ax.annotate(txt, (Eigenvectors[0,i],Eigenvectors[1,i]))\n",
        "plt.xlabel(\"PC1\")\n",
        "plt.ylabel(\"PC2\")\n",
        "plt.show()\n"
      ],
      "metadata": {
        "id": "o-RSJ4Ej56Vt",
        "colab": {
          "base_uri": "https://localhost:8080/",
          "height": 449
        },
        "outputId": "a350a5fa-0027-4c43-dfe5-4094abb1f32b"
      },
      "execution_count": null,
      "outputs": [
        {
          "output_type": "display_data",
          "data": {
            "text/plain": [
              "<Figure size 640x480 with 1 Axes>"
            ],
            "image/png": "[encoded data removed]"
          },
          "metadata": {}
        }
      ]
    },
    {
      "cell_type": "markdown",
      "source": [
        "We can see that Feature 20 is the most important, while Feature 23 is the least important for the first principal component, respectively. Plus, Feature 6 is the most important, while Feature 25 is the least important for the second principal component, respectively"
      ],
      "metadata": {
        "id": "aYpqx4eqDtdR"
      }
    },
    {
      "cell_type": "markdown",
      "source": [
        " Points that are close together indicate a correlation between the variables they represent"
      ],
      "metadata": {
        "id": "tJgfggasEnYY"
      }
    },
    {
      "cell_type": "markdown",
      "source": [
        "Looking at that plot, Feature 5 and Feature 2 are highly correlated. In feature selection, I will drop one of the two features."
      ],
      "metadata": {
        "id": "2D59nVouGg6Z"
      }
    },
    {
      "cell_type": "code",
      "source": [
        "np.corrcoef(df[:,4], df[:,1])[1,0]"
      ],
      "metadata": {
        "id": "-C9eJ-CLD0U4",
        "colab": {
          "base_uri": "https://localhost:8080/"
        },
        "outputId": "16c9ef8e-9403-409a-e391-f305d73ef15e"
      },
      "execution_count": null,
      "outputs": [
        {
          "output_type": "execute_result",
          "data": {
            "text/plain": [
              "0.9798556297869163"
            ]
          },
          "metadata": {},
          "execution_count": 156
        }
      ]
    },
    {
      "cell_type": "markdown",
      "source": [
        "When two features are highly correlated, they contribute the same variance, leading to the eigenvector (vector direction) having the same value for both features"
      ],
      "metadata": {
        "id": "pgdjbBRgOIqN"
      }
    },
    {
      "cell_type": "code",
      "source": [
        "pca=PCA(n_components=44)\n",
        "pca.fit(df)\n",
        "eigenvecs=pca.components_"
      ],
      "metadata": {
        "id": "Rk-C9B61T1lg"
      },
      "execution_count": null,
      "outputs": []
    },
    {
      "cell_type": "code",
      "source": [
        "feature=[]\n",
        "for index,eigenvec in enumerate(eigenvecs):\n",
        "  feature.append({\"PCA\":f\"PC{index+1}\",\n",
        "                  'The most important feature':np.argmax(eigenvec)})\n"
      ],
      "metadata": {
        "id": "Hwo1pGldQ7u0"
      },
      "execution_count": null,
      "outputs": []
    },
    {
      "cell_type": "code",
      "source": [
        "dataa=pd.DataFrame(feature,columns=['PCA','The most important feature'])"
      ],
      "metadata": {
        "id": "YORomGWOTdQA"
      },
      "execution_count": null,
      "outputs": []
    },
    {
      "cell_type": "markdown",
      "source": [
        "I find the most important feature for each principal component"
      ],
      "metadata": {
        "id": "VxgHYe2aCADh"
      }
    },
    {
      "cell_type": "code",
      "source": [
        "dataa.head()"
      ],
      "metadata": {
        "colab": {
          "base_uri": "https://localhost:8080/",
          "height": 206
        },
        "id": "YQGfCvcsWFTT",
        "outputId": "bd84dec1-6a3a-4459-bf88-823fa165599d"
      },
      "execution_count": null,
      "outputs": [
        {
          "output_type": "execute_result",
          "data": {
            "text/plain": [
              "   PCA  The most important feature\n",
              "0  PC1                          19\n",
              "1  PC2                           4\n",
              "2  PC3                           1\n",
              "3  PC4                          26\n",
              "4  PC5                          40"
            ],
            "text/html": [
              "\n",
              "  <div id=\"df-03b3d32a-1de8-4c6c-ad9d-da13c1556bdd\" class=\"colab-df-container\">\n",
              "    <div>\n",
              "<style scoped>\n",
              "    .dataframe tbody tr th:only-of-type {\n",
              "        vertical-align: middle;\n",
              "    }\n",
              "\n",
              "    .dataframe tbody tr th {\n",
              "        vertical-align: top;\n",
              "    }\n",
              "\n",
              "    .dataframe thead th {\n",
              "        text-align: right;\n",
              "    }\n",
              "</style>\n",
              "<table border=\"1\" class=\"dataframe\">\n",
              "  <thead>\n",
              "    <tr style=\"text-align: right;\">\n",
              "      <th></th>\n",
              "      <th>PCA</th>\n",
              "      <th>The most important feature</th>\n",
              "    </tr>\n",
              "  </thead>\n",
              "  <tbody>\n",
              "    <tr>\n",
              "      <th>0</th>\n",
              "      <td>PC1</td>\n",
              "      <td>19</td>\n",
              "    </tr>\n",
              "    <tr>\n",
              "      <th>1</th>\n",
              "      <td>PC2</td>\n",
              "      <td>4</td>\n",
              "    </tr>\n",
              "    <tr>\n",
              "      <th>2</th>\n",
              "      <td>PC3</td>\n",
              "      <td>1</td>\n",
              "    </tr>\n",
              "    <tr>\n",
              "      <th>3</th>\n",
              "      <td>PC4</td>\n",
              "      <td>26</td>\n",
              "    </tr>\n",
              "    <tr>\n",
              "      <th>4</th>\n",
              "      <td>PC5</td>\n",
              "      <td>40</td>\n",
              "    </tr>\n",
              "  </tbody>\n",
              "</table>\n",
              "</div>\n",
              "    <div class=\"colab-df-buttons\">\n",
              "\n",
              "  <div class=\"colab-df-container\">\n",
              "    <button class=\"colab-df-convert\" onclick=\"convertToInteractive('df-03b3d32a-1de8-4c6c-ad9d-da13c1556bdd')\"\n",
              "            title=\"Convert this dataframe to an interactive table.\"\n",
              "            style=\"display:none;\">\n",
              "\n",
              "  <svg xmlns=\"http://www.w3.org/2000/svg\" height=\"24px\" viewBox=\"0 -960 960 960\">\n",
              "    <path d=\"M120-120v-720h720v720H120Zm60-500h600v-160H180v160Zm220 220h160v-160H400v160Zm0 220h160v-160H400v160ZM180-400h160v-160H180v160Zm440 0h160v-160H620v160ZM180-180h160v-160H180v160Zm440 0h160v-160H620v160Z\"/>\n",
              "  </svg>\n",
              "    </button>\n",
              "\n",
              "  <style>\n",
              "    .colab-df-container {\n",
              "      display:flex;\n",
              "      gap: 12px;\n",
              "    }\n",
              "\n",
              "    .colab-df-convert {\n",
              "      background-color: #E8F0FE;\n",
              "      border: none;\n",
              "      border-radius: 50%;\n",
              "      cursor: pointer;\n",
              "      display: none;\n",
              "      fill: #1967D2;\n",
              "      height: 32px;\n",
              "      padding: 0 0 0 0;\n",
              "      width: 32px;\n",
              "    }\n",
              "\n",
              "    .colab-df-convert:hover {\n",
              "      background-color: #E2EBFA;\n",
              "      box-shadow: 0px 1px 2px rgba(60, 64, 67, 0.3), 0px 1px 3px 1px rgba(60, 64, 67, 0.15);\n",
              "      fill: #174EA6;\n",
              "    }\n",
              "\n",
              "    .colab-df-buttons div {\n",
              "      margin-bottom: 4px;\n",
              "    }\n",
              "\n",
              "    [theme=dark] .colab-df-convert {\n",
              "      background-color: #3B4455;\n",
              "      fill: #D2E3FC;\n",
              "    }\n",
              "\n",
              "    [theme=dark] .colab-df-convert:hover {\n",
              "      background-color: #434B5C;\n",
              "      box-shadow: 0px 1px 3px 1px rgba(0, 0, 0, 0.15);\n",
              "      filter: drop-shadow(0px 1px 2px rgba(0, 0, 0, 0.3));\n",
              "      fill: #FFFFFF;\n",
              "    }\n",
              "  </style>\n",
              "\n",
              "    <script>\n",
              "      const buttonEl =\n",
              "        document.querySelector('#df-03b3d32a-1de8-4c6c-ad9d-da13c1556bdd button.colab-df-convert');\n",
              "      buttonEl.style.display =\n",
              "        google.colab.kernel.accessAllowed ? 'block' : 'none';\n",
              "\n",
              "      async function convertToInteractive(key) {\n",
              "        const element = document.querySelector('#df-03b3d32a-1de8-4c6c-ad9d-da13c1556bdd');\n",
              "        const dataTable =\n",
              "          await google.colab.kernel.invokeFunction('convertToInteractive',\n",
              "                                                    [key], {});\n",
              "        if (!dataTable) return;\n",
              "\n",
              "        const docLinkHtml = 'Like what you see? Visit the ' +\n",
              "          '<a target=\"_blank\" href=https://colab.research.google.com/notebooks/data_table.ipynb>data table notebook</a>'\n",
              "          + ' to learn more about interactive tables.';\n",
              "        element.innerHTML = '';\n",
              "        dataTable['output_type'] = 'display_data';\n",
              "        await google.colab.output.renderOutput(dataTable, element);\n",
              "        const docLink = document.createElement('div');\n",
              "        docLink.innerHTML = docLinkHtml;\n",
              "        element.appendChild(docLink);\n",
              "      }\n",
              "    </script>\n",
              "  </div>\n",
              "\n",
              "\n",
              "<div id=\"df-967efd20-e384-4b53-97d4-55c144831d43\">\n",
              "  <button class=\"colab-df-quickchart\" onclick=\"quickchart('df-967efd20-e384-4b53-97d4-55c144831d43')\"\n",
              "            title=\"Suggest charts\"\n",
              "            style=\"display:none;\">\n",
              "\n",
              "<svg xmlns=\"http://www.w3.org/2000/svg\" height=\"24px\"viewBox=\"0 0 24 24\"\n",
              "     width=\"24px\">\n",
              "    <g>\n",
              "        <path d=\"M19 3H5c-1.1 0-2 .9-2 2v14c0 1.1.9 2 2 2h14c1.1 0 2-.9 2-2V5c0-1.1-.9-2-2-2zM9 17H7v-7h2v7zm4 0h-2V7h2v10zm4 0h-2v-4h2v4z\"/>\n",
              "    </g>\n",
              "</svg>\n",
              "  </button>\n",
              "\n",
              "<style>\n",
              "  .colab-df-quickchart {\n",
              "      --bg-color: #E8F0FE;\n",
              "      --fill-color: #1967D2;\n",
              "      --hover-bg-color: #E2EBFA;\n",
              "      --hover-fill-color: #174EA6;\n",
              "      --disabled-fill-color: #AAA;\n",
              "      --disabled-bg-color: #DDD;\n",
              "  }\n",
              "\n",
              "  [theme=dark] .colab-df-quickchart {\n",
              "      --bg-color: #3B4455;\n",
              "      --fill-color: #D2E3FC;\n",
              "      --hover-bg-color: #434B5C;\n",
              "      --hover-fill-color: #FFFFFF;\n",
              "      --disabled-bg-color: #3B4455;\n",
              "      --disabled-fill-color: #666;\n",
              "  }\n",
              "\n",
              "  .colab-df-quickchart {\n",
              "    background-color: var(--bg-color);\n",
              "    border: none;\n",
              "    border-radius: 50%;\n",
              "    cursor: pointer;\n",
              "    display: none;\n",
              "    fill: var(--fill-color);\n",
              "    height: 32px;\n",
              "    padding: 0;\n",
              "    width: 32px;\n",
              "  }\n",
              "\n",
              "  .colab-df-quickchart:hover {\n",
              "    background-color: var(--hover-bg-color);\n",
              "    box-shadow: 0 1px 2px rgba(60, 64, 67, 0.3), 0 1px 3px 1px rgba(60, 64, 67, 0.15);\n",
              "    fill: var(--button-hover-fill-color);\n",
              "  }\n",
              "\n",
              "  .colab-df-quickchart-complete:disabled,\n",
              "  .colab-df-quickchart-complete:disabled:hover {\n",
              "    background-color: var(--disabled-bg-color);\n",
              "    fill: var(--disabled-fill-color);\n",
              "    box-shadow: none;\n",
              "  }\n",
              "\n",
              "  .colab-df-spinner {\n",
              "    border: 2px solid var(--fill-color);\n",
              "    border-color: transparent;\n",
              "    border-bottom-color: var(--fill-color);\n",
              "    animation:\n",
              "      spin 1s steps(1) infinite;\n",
              "  }\n",
              "\n",
              "  @keyframes spin {\n",
              "    0% {\n",
              "      border-color: transparent;\n",
              "      border-bottom-color: var(--fill-color);\n",
              "      border-left-color: var(--fill-color);\n",
              "    }\n",
              "    20% {\n",
              "      border-color: transparent;\n",
              "      border-left-color: var(--fill-color);\n",
              "      border-top-color: var(--fill-color);\n",
              "    }\n",
              "    30% {\n",
              "      border-color: transparent;\n",
              "      border-left-color: var(--fill-color);\n",
              "      border-top-color: var(--fill-color);\n",
              "      border-right-color: var(--fill-color);\n",
              "    }\n",
              "    40% {\n",
              "      border-color: transparent;\n",
              "      border-right-color: var(--fill-color);\n",
              "      border-top-color: var(--fill-color);\n",
              "    }\n",
              "    60% {\n",
              "      border-color: transparent;\n",
              "      border-right-color: var(--fill-color);\n",
              "    }\n",
              "    80% {\n",
              "      border-color: transparent;\n",
              "      border-right-color: var(--fill-color);\n",
              "      border-bottom-color: var(--fill-color);\n",
              "    }\n",
              "    90% {\n",
              "      border-color: transparent;\n",
              "      border-bottom-color: var(--fill-color);\n",
              "    }\n",
              "  }\n",
              "</style>\n",
              "\n",
              "  <script>\n",
              "    async function quickchart(key) {\n",
              "      const quickchartButtonEl =\n",
              "        document.querySelector('#' + key + ' button');\n",
              "      quickchartButtonEl.disabled = true;  // To prevent multiple clicks.\n",
              "      quickchartButtonEl.classList.add('colab-df-spinner');\n",
              "      try {\n",
              "        const charts = await google.colab.kernel.invokeFunction(\n",
              "            'suggestCharts', [key], {});\n",
              "      } catch (error) {\n",
              "        console.error('Error during call to suggestCharts:', error);\n",
              "      }\n",
              "      quickchartButtonEl.classList.remove('colab-df-spinner');\n",
              "      quickchartButtonEl.classList.add('colab-df-quickchart-complete');\n",
              "    }\n",
              "    (() => {\n",
              "      let quickchartButtonEl =\n",
              "        document.querySelector('#df-967efd20-e384-4b53-97d4-55c144831d43 button');\n",
              "      quickchartButtonEl.style.display =\n",
              "        google.colab.kernel.accessAllowed ? 'block' : 'none';\n",
              "    })();\n",
              "  </script>\n",
              "</div>\n",
              "\n",
              "    </div>\n",
              "  </div>\n"
            ],
            "application/vnd.google.colaboratory.intrinsic+json": {
              "type": "dataframe",
              "variable_name": "dataa",
              "summary": "{\n  \"name\": \"dataa\",\n  \"rows\": 44,\n  \"fields\": [\n    {\n      \"column\": \"PCA\",\n      \"properties\": {\n        \"dtype\": \"string\",\n        \"num_unique_values\": 44,\n        \"samples\": [\n          \"PC38\",\n          \"PC25\",\n          \"PC26\"\n        ],\n        \"semantic_type\": \"\",\n        \"description\": \"\"\n      }\n    },\n    {\n      \"column\": \"The most important feature\",\n      \"properties\": {\n        \"dtype\": \"number\",\n        \"std\": 13,\n        \"min\": 1,\n        \"max\": 43,\n        \"num_unique_values\": 32,\n        \"samples\": [\n          21,\n          11,\n          5\n        ],\n        \"semantic_type\": \"\",\n        \"description\": \"\"\n      }\n    }\n  ]\n}"
            }
          },
          "metadata": {},
          "execution_count": 160
        }
      ]
    },
    {
      "cell_type": "markdown",
      "source": [
        "So i have 32 important features in an original data"
      ],
      "metadata": {
        "id": "RmfMERvjWrMX"
      }
    },
    {
      "cell_type": "code",
      "source": [
        "len(dataa['The most important feature'].value_counts())"
      ],
      "metadata": {
        "colab": {
          "base_uri": "https://localhost:8080/"
        },
        "id": "wlpkCvxnWMi5",
        "outputId": "cc3c974e-c0f9-449a-c9f9-fcb6491bd3a5"
      },
      "execution_count": null,
      "outputs": [
        {
          "output_type": "execute_result",
          "data": {
            "text/plain": [
              "32"
            ]
          },
          "metadata": {},
          "execution_count": 161
        }
      ]
    },
    {
      "cell_type": "markdown",
      "source": [
        "As we can see, after 32 principal components, the information captured by each principal component decreases very slightly =>they are redudant features=> PCA helps in extracting the most important features from a high-dimensional dataset."
      ],
      "metadata": {
        "id": "6vNav84qJ8Ni"
      }
    },
    {
      "cell_type": "code",
      "source": [
        "cums=np.cumsum(pca.explained_variance_ratio_)\n",
        "plt.figure(figsize=(10,5))\n",
        "plt.plot(cums)\n",
        "x = range(len(cums))\n",
        "plt.scatter(x, cums, color='g')\n",
        "plt.axvline(32,color='r', linestyle='--')\n",
        "plt.xlabel(\"Principal components\")\n",
        "plt.ylabel(\"Variance\")"
      ],
      "metadata": {
        "colab": {
          "base_uri": "https://localhost:8080/",
          "height": 482
        },
        "id": "DXIVY1v6JvlX",
        "outputId": "9b8be05d-9bc0-46cc-e7f2-3911640d7d37"
      },
      "execution_count": null,
      "outputs": [
        {
          "output_type": "execute_result",
          "data": {
            "text/plain": [
              "Text(0, 0.5, 'Variance')"
            ]
          },
          "metadata": {},
          "execution_count": 162
        },
        {
          "output_type": "display_data",
          "data": {
            "text/plain": [
              "<Figure size 1000x500 with 1 Axes>"
            ],
            "image/png": "[encoded data removed]"
          },
          "metadata": {}
        }
      ]
    },
    {
      "cell_type": "markdown",
      "source": [
        "Feature 5 is the most important"
      ],
      "metadata": {
        "id": "Ty5D_EY6X0iD"
      }
    },
    {
      "cell_type": "code",
      "source": [
        "dataa['The most important feature'].mode()"
      ],
      "metadata": {
        "colab": {
          "base_uri": "https://localhost:8080/"
        },
        "id": "wlZSaZjiW19m",
        "outputId": "08ceb98f-9f76-47ff-cede-f891e9b49270"
      },
      "execution_count": null,
      "outputs": [
        {
          "output_type": "execute_result",
          "data": {
            "text/plain": [
              "0    4\n",
              "Name: The most important feature, dtype: int64"
            ]
          },
          "metadata": {},
          "execution_count": 163
        }
      ]
    },
    {
      "cell_type": "markdown",
      "source": [
        "**Trade-offs observed between dimensionality reduction and model performance.**"
      ],
      "metadata": {
        "id": "mfD9H3MFw4uq"
      }
    },
    {
      "cell_type": "markdown",
      "source": [
        "Time-consuming, Information-loss ,Easier visualize, Performance"
      ],
      "metadata": {
        "id": "dORyPKyexKDF"
      }
    },
    {
      "cell_type": "markdown",
      "source": [
        "Overfitting: PCA helps in overcoming overfitting by reducing the dimensionality of the data\n",
        "\n",
        "Information loss: A small quantity of features can lead the model to predict less precisely.\n",
        "\n",
        "Time-cosuming: Although dimensionality reduction offers the benefit of streamlining subsequent machine learning algorithms, the upfront computational cost of the reduction process itself can be significant, particularly for datasets with a large number of data points or features with high dimensionality. This can lead to increased training time and strain resource availability\n",
        "\n",
        "\n",
        "\n",
        "Easier visualization: Visualizing a plot with multiple dimensions can be challenging, but PCA can help by reducing dimensionality.\n",
        "\n",
        "Performance: Fewer dimensions lead to poor results.\n",
        "\n"
      ],
      "metadata": {
        "id": "upbX4Qlo5Dc2"
      }
    },
    {
      "cell_type": "markdown",
      "source": [
        "Using PCA is more efficient; it saves time"
      ],
      "metadata": {
        "id": "_EirfAu9fdHo"
      }
    },
    {
      "cell_type": "code",
      "source": [
        "import time\n",
        "pca = PCA(n_components=10)\n",
        "x_new=pca.fit_transform(df)\n",
        "start_time = time.time()\n",
        "LR2=LinearRegression()\n",
        "LR2.fit(x_new,target)\n",
        "print(\"--- %s seconds ---\" % (time.time() - start_time))"
      ],
      "metadata": {
        "id": "CQjVrA2twNYd",
        "colab": {
          "base_uri": "https://localhost:8080/"
        },
        "outputId": "fe8657de-50e9-4c3d-87fa-db2518683b81"
      },
      "execution_count": null,
      "outputs": [
        {
          "output_type": "stream",
          "name": "stdout",
          "text": [
            "--- 0.0050699710845947266 seconds ---\n"
          ]
        }
      ]
    },
    {
      "cell_type": "code",
      "source": [
        "start_time = time.time()\n",
        "LR1=LinearRegression()\n",
        "LR1.fit(df,target)\n",
        "print(\"--- %s seconds ---\" % (time.time() - start_time))"
      ],
      "metadata": {
        "id": "-w4wKBF9wq_N",
        "colab": {
          "base_uri": "https://localhost:8080/"
        },
        "outputId": "2a4bdad3-20cb-4a10-ddb6-116bcc37dce1"
      },
      "execution_count": null,
      "outputs": [
        {
          "output_type": "stream",
          "name": "stdout",
          "text": [
            "--- 0.021983623504638672 seconds ---\n"
          ]
        }
      ]
    },
    {
      "cell_type": "markdown",
      "source": [
        "# Report and Conclusion:"
      ],
      "metadata": {
        "id": "hpUhFlDc-8DE"
      }
    },
    {
      "cell_type": "markdown",
      "source": [
        "**Findings:**"
      ],
      "metadata": {
        "id": "URecy7fcabt5"
      }
    },
    {
      "cell_type": "markdown",
      "source": [
        "\n",
        "\n",
        " PCA helps capture significant features, which is easier for visualization\n",
        "\n",
        "PCA reduce the impact of noise and irrelevant features\n",
        "\n",
        "\n",
        "Eigenvalues tell me how much variance principal components explain. With descending order, I can identify which principal components capture the most information.\n",
        "\n",
        "Fewer features make visualization easier and fix overfitting and are also more time efficient .\n",
        "\n",
        "Each principal component explains which features are important for it.\n",
        "\n",
        "Eigen vector: These represent the orientations (vectors) where the data exhibits its greatest variability. Each eigenvector corresponds to a principal component.\n",
        "\n",
        "Eigen vector is orthogonal to each other\n",
        "\n",
        "PCA helps in identifying dominant patterns or structures in the data by capturing the directions of maximum variance\n",
        "\n",
        "\n",
        "\n"
      ],
      "metadata": {
        "id": "NqhV2_GGACVW"
      }
    },
    {
      "cell_type": "markdown",
      "source": [
        "**Methodology:**"
      ],
      "metadata": {
        "id": "wVu9jzPpaYRz"
      }
    },
    {
      "cell_type": "markdown",
      "source": [
        "Without scaling"
      ],
      "metadata": {
        "id": "tJHoKL7vTB5d"
      }
    },
    {
      "cell_type": "markdown",
      "source": [
        "A variable with a high standard deviation will have a higher weight for the calculation of axis than a variable with a low standard deviation. Because PCA projects  original data onto directions which maximize the variance. It results in a poor direction for the principal component."
      ],
      "metadata": {
        "id": "9bG6EInATJFx"
      }
    },
    {
      "cell_type": "code",
      "source": [
        "pca=PCA(n_components=4)\n",
        "X=pca.fit_transform(data)\n",
        "plt.scatter(X[:,0],X[:,1])"
      ],
      "metadata": {
        "id": "9g5fKgKnMmM0",
        "colab": {
          "base_uri": "https://localhost:8080/",
          "height": 465
        },
        "outputId": "e2c7507e-e867-46ac-dae3-5119f8b1b30b"
      },
      "execution_count": null,
      "outputs": [
        {
          "output_type": "execute_result",
          "data": {
            "text/plain": [
              "<matplotlib.collections.PathCollection at 0x7cbbe448d9c0>"
            ]
          },
          "metadata": {},
          "execution_count": 166
        },
        {
          "output_type": "display_data",
          "data": {
            "text/plain": [
              "<Figure size 640x480 with 1 Axes>"
            ],
            "image/png": "[encoded data removed]"
          },
          "metadata": {}
        }
      ]
    },
    {
      "cell_type": "code",
      "source": [
        "pca.explained_variance_"
      ],
      "metadata": {
        "id": "6XaTKYOCUIFa",
        "colab": {
          "base_uri": "https://localhost:8080/"
        },
        "outputId": "2eef9556-9f4f-4aee-e414-5c059f88298d"
      },
      "execution_count": null,
      "outputs": [
        {
          "output_type": "execute_result",
          "data": {
            "text/plain": [
              "array([1.17522784e+11, 1.37779109e+08, 3.39204507e+05, 2.70751669e+05])"
            ]
          },
          "metadata": {},
          "execution_count": 167
        }
      ]
    },
    {
      "cell_type": "markdown",
      "source": [
        "With scaling"
      ],
      "metadata": {
        "id": "-WNJ5KdCTFCv"
      }
    },
    {
      "cell_type": "code",
      "source": [
        "scaler=StandardScaler()\n",
        "X=scaler.fit_transform(data)\n",
        "pca=PCA(n_components=4)\n",
        "X=pca.fit_transform(X)\n",
        "plt.scatter(X[:,0],X[:,1])"
      ],
      "metadata": {
        "id": "NN056n0Iw91l",
        "colab": {
          "base_uri": "https://localhost:8080/",
          "height": 447
        },
        "outputId": "bfd177dd-2b20-46c8-b7a3-60483bae8dde"
      },
      "execution_count": null,
      "outputs": [
        {
          "output_type": "execute_result",
          "data": {
            "text/plain": [
              "<matplotlib.collections.PathCollection at 0x7cbbe4310730>"
            ]
          },
          "metadata": {},
          "execution_count": 168
        },
        {
          "output_type": "display_data",
          "data": {
            "text/plain": [
              "<Figure size 640x480 with 1 Axes>"
            ],
            "image/png": "[encoded data removed]"
          },
          "metadata": {}
        }
      ]
    },
    {
      "cell_type": "markdown",
      "source": [
        "If I scale my data, all variables have the same standard deviation, thus all variables have the same weight and  PCA calculates relevant axis."
      ],
      "metadata": {
        "id": "2hRi0hRaTNfC"
      }
    },
    {
      "cell_type": "code",
      "source": [
        "pca.explained_variance_"
      ],
      "metadata": {
        "id": "l65-yAigUyty",
        "colab": {
          "base_uri": "https://localhost:8080/"
        },
        "outputId": "eec4b168-ad8b-4e21-c84d-36db4dd1c2e7"
      },
      "execution_count": null,
      "outputs": [
        {
          "output_type": "execute_result",
          "data": {
            "text/plain": [
              "array([10.1461296 ,  5.35810057,  2.60892802,  2.35620365])"
            ]
          },
          "metadata": {},
          "execution_count": 169
        }
      ]
    },
    {
      "cell_type": "markdown",
      "source": [
        "We can see two plots and conclude that a PCA without scaleling would perform worse than one with scaling."
      ],
      "metadata": {
        "id": "KcSlsQqmbMPC"
      }
    },
    {
      "cell_type": "markdown",
      "source": [
        "So we should normalize data before using PCA"
      ],
      "metadata": {
        "id": "GP_YCGQ-dpDK"
      }
    },
    {
      "cell_type": "markdown",
      "source": [
        "The PCA algorithm follows these steps:\n",
        "\n",
        "Scaling data: This ensures features with larger scales don't dominate the analysis.\n",
        "\n",
        "Covariance matrix computation : The covariance matrix captures the linear relationships between all features.\n",
        "\n",
        "Compute the eigenvectors and eigenvalues of the covariance matrix to identify the principal components:Eigenvectors and eigenvalues are the linear algebra concepts that i need to compute from the covariance matrix in order to determine the principal components of the data. Eigenvectors corresponding to the highest eigenvalues represent the directions of greatest variance.\n",
        "\n",
        "Choosing Principal Components:   PCA selects a subset of the principal components based on their corresponding eigenvalues or the amount of variance they explain.\n",
        "\n",
        "Transformation: The data is projected onto the chosen principal components, resulting in a reduced-dimensionality representation."
      ],
      "metadata": {
        "id": "uzdt0uGAcCjF"
      }
    },
    {
      "cell_type": "markdown",
      "source": [
        "**Insight:**"
      ],
      "metadata": {
        "id": "S0BAlninl56b"
      }
    },
    {
      "cell_type": "markdown",
      "source": [
        "\n",
        "\n",
        "PCA can help in detecting multicollinearity (high correlation between features) in the data by identifying principal components with high variance explained by multiple original features.\n",
        "\n",
        "It is crucial to choose the correct number of components to maintain a balance between simplifying the data and retaining meaningful information\n",
        "\n",
        "PCA is a linear method. That is it can only be applied to datasets which are linearly separable. It does an excellent job for datasets, which are linearly separable. But, if we use it to non-linear datasets, we might get a result which may not be the optimal dimensionality reduction"
      ],
      "metadata": {
        "id": "NPSBn9tsmYUD"
      }
    },
    {
      "cell_type": "markdown",
      "source": [
        "**Visualizations  to illustrate key observations.**"
      ],
      "metadata": {
        "id": "QbxUJtzTtMZs"
      }
    },
    {
      "cell_type": "markdown",
      "source": [
        "eigen values is sorted in descending order, variance per principal component decreases."
      ],
      "metadata": {
        "id": "os7y2rY6tjZ9"
      }
    },
    {
      "cell_type": "code",
      "source": [
        "sns.barplot(x=[1,2,3,4],y=pca.explained_variance_[:4])\n",
        "plt.xlabel(\"Eigen values\")\n",
        "plt.ylabel('Variance')"
      ],
      "metadata": {
        "id": "8EDjF0jbssmk",
        "colab": {
          "base_uri": "https://localhost:8080/",
          "height": 466
        },
        "outputId": "25bddc56-e2d5-44f2-d305-0bba777e019b"
      },
      "execution_count": null,
      "outputs": [
        {
          "output_type": "execute_result",
          "data": {
            "text/plain": [
              "Text(0, 0.5, 'Variance')"
            ]
          },
          "metadata": {},
          "execution_count": 170
        },
        {
          "output_type": "display_data",
          "data": {
            "text/plain": [
              "<Figure size 640x480 with 1 Axes>"
            ],
            "image/png": "[encoded data removed]"
          },
          "metadata": {}
        }
      ]
    },
    {
      "cell_type": "markdown",
      "source": [
        "The ability to capture information of each principal component decreases gradually."
      ],
      "metadata": {
        "id": "yo2oCJ_xOyBO"
      }
    },
    {
      "cell_type": "code",
      "source": [
        "plt.figure(figsize=(10,5))\n",
        "plt.plot(pca.explained_variance_ratio_)\n",
        "x = range(len(pca.explained_variance_ratio_))\n",
        "plt.scatter(x, pca.explained_variance_ratio_, color='r')\n",
        "plt.xlabel(\"Principal components\")\n",
        "plt.ylabel(\"Information each component\")"
      ],
      "metadata": {
        "colab": {
          "base_uri": "https://localhost:8080/",
          "height": 482
        },
        "id": "u-aXhRv9MY3p",
        "outputId": "d786ecd6-5dfe-4b42-a417-29b21c90acd1"
      },
      "execution_count": null,
      "outputs": [
        {
          "output_type": "execute_result",
          "data": {
            "text/plain": [
              "Text(0, 0.5, 'Information each component')"
            ]
          },
          "metadata": {},
          "execution_count": 171
        },
        {
          "output_type": "display_data",
          "data": {
            "text/plain": [
              "<Figure size 1000x500 with 1 Axes>"
            ],
            "image/png": "[encoded data removed]"
          },
          "metadata": {}
        }
      ]
    },
    {
      "cell_type": "markdown",
      "source": [
        "The more components are , the more information is retained"
      ],
      "metadata": {
        "id": "Yoi2_VjUvMZM"
      }
    },
    {
      "cell_type": "code",
      "source": [
        "sns.barplot(x=[\"1\",\"1,2\",\"1,2,3\",\"1,2,3,4\"],y=np.cumsum(pca.explained_variance_ratio_))\n",
        "plt.xlabel(\"Eigen values\")\n",
        "plt.ylabel('Percentage of variance')"
      ],
      "metadata": {
        "id": "LF0c2YaPu27p",
        "colab": {
          "base_uri": "https://localhost:8080/",
          "height": 466
        },
        "outputId": "72694218-2553-44e4-96df-80769f94d616"
      },
      "execution_count": null,
      "outputs": [
        {
          "output_type": "execute_result",
          "data": {
            "text/plain": [
              "Text(0, 0.5, 'Percentage of variance')"
            ]
          },
          "metadata": {},
          "execution_count": 172
        },
        {
          "output_type": "display_data",
          "data": {
            "text/plain": [
              "<Figure size 640x480 with 1 Axes>"
            ],
            "image/png": "[encoded data removed]"
          },
          "metadata": {}
        }
      ]
    },
    {
      "cell_type": "markdown",
      "source": [
        "The more components utilized in PCA, the better the performance tends to be ( the closer score to without PCA)"
      ],
      "metadata": {
        "id": "MlrD35apv8S9"
      }
    },
    {
      "cell_type": "code",
      "source": [
        "plt.plot(deviation)\n",
        "plt.xlabel('Number of components')\n",
        "plt.ylabel('Deviation')\n",
        "plt.show()"
      ],
      "metadata": {
        "id": "VD8PbRyAv1p0",
        "colab": {
          "base_uri": "https://localhost:8080/",
          "height": 449
        },
        "outputId": "9f2d2dd7-f193-4bd1-fba3-e492ec61b46e"
      },
      "execution_count": null,
      "outputs": [
        {
          "output_type": "display_data",
          "data": {
            "text/plain": [
              "<Figure size 640x480 with 1 Axes>"
            ],
            "image/png": "[encoded data removed]"
          },
          "metadata": {}
        }
      ]
    },
    {
      "cell_type": "markdown",
      "source": [
        "PCA can help mitigate overfitting but may also result in decreased performance on the training data."
      ],
      "metadata": {
        "id": "GuQULOfcN9UJ"
      }
    },
    {
      "cell_type": "code",
      "source": [
        "plt.plot(MSE_train, label='Train MSE with PCA')\n",
        "plt.plot(MSE_test, label='Test MSE with PCA')\n",
        "plt.axhline(MSE(y_pred,y_test),color='g',label='Test MSE without PCA', linestyle='--')\n",
        "plt.axhline(MSE(LR.predict(X_train),y_train),color='r',label='Train MSE without PCA', linestyle='--')\n",
        "plt.xlabel(\"The number of principal components\")\n",
        "plt.ylabel(\"Mean square error\")\n",
        "plt.legend()\n",
        "plt.show()"
      ],
      "metadata": {
        "colab": {
          "base_uri": "https://localhost:8080/",
          "height": 449
        },
        "id": "xxMJrlJx1Z73",
        "outputId": "345eed41-0296-4024-e6c0-44ecf1727768"
      },
      "execution_count": null,
      "outputs": [
        {
          "output_type": "display_data",
          "data": {
            "text/plain": [
              "<Figure size 640x480 with 1 Axes>"
            ],
            "image/png": "[encoded data removed]"
          },
          "metadata": {}
        }
      ]
    },
    {
      "cell_type": "markdown",
      "source": [
        "**Highlighting the importance of PCA in the context of dimensionality reduction and its implications for real-world data analysis.**"
      ],
      "metadata": {
        "id": "-fivaAtSqnwN"
      }
    },
    {
      "cell_type": "markdown",
      "source": [
        "Principal Component Analysis (PCA) is a powerful dimensionality reduction technique used to transform high-dimensional data into a lower-dimensional space. It is  used to reduce the number of variables in a dataset while preserving as much variance as possible by ranking PCs according to importance and discarding the least important ones. It can also be a preprocessing step for other machine learning algorithms, improving their  interpretability.It can help with collinearity, which occurs when two or more variables in a dataset are highly correlated. It can reduce collinearity by transforming the original variables into a smaller set of uncorrelated variables. It makes the dataset more suitable for modeling and analysis. However, PCA assumes linearity and may struggle with non-linear relationships in the data."
      ],
      "metadata": {
        "id": "YEKXXVjvl33k"
      }
    },
    {
      "cell_type": "markdown",
      "source": [
        "Not have to use PCA for every machine learning application.  PCA should only be used if memory or computation speed becomes an issue. Otherwise, we are completely fine without it."
      ],
      "metadata": {
        "id": "o3z26NF-sy4b"
      }
    },
    {
      "cell_type": "markdown",
      "source": [
        "PCA is widely used for data visualization, noise reduction, and feature extraction in various fields, including image and signal processing, finance, and bioinformatics"
      ],
      "metadata": {
        "id": "MmR0r26hC2Nq"
      }
    }
  ],
  "metadata": {
    "accelerator": "GPU",
    "colab": {
      "gpuType": "T4",
      "provenance": [],
      "authorship_tag": "ABX9TyOCigiScwLRY9avoAClmnpT",
      "include_colab_link": true
    },
    "kernelspec": {
      "display_name": "Python 3",
      "name": "python3"
    },
    "language_info": {
      "name": "python"
    }
  },
  "nbformat": 4,
  "nbformat_minor": 0
}