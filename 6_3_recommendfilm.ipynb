{
  "metadata": {
    "kernelspec": {
      "language": "python",
      "display_name": "Python 3",
      "name": "python3"
    },
    "language_info": {
      "name": "python",
      "version": "3.10.13",
      "mimetype": "text/x-python",
      "codemirror_mode": {
        "name": "ipython",
        "version": 3
      },
      "pygments_lexer": "ipython3",
      "nbconvert_exporter": "python",
      "file_extension": ".py"
    },
    "kaggle": {
      "accelerator": "none",
      "dataSources": [
        {
          "sourceId": 4508,
          "sourceType": "datasetVersion",
          "datasetId": 138
        }
      ],
      "dockerImageVersionId": 30646,
      "isInternetEnabled": false,
      "language": "python",
      "sourceType": "notebook",
      "isGpuEnabled": false
    },
    "colab": {
      "name": "6_3_recommendfilm",
      "provenance": [],
      "include_colab_link": true
    }
  },
  "nbformat_minor": 0,
  "nbformat": 4,
  "cells": [
    {
      "cell_type": "markdown",
      "metadata": {
        "id": "view-in-github",
        "colab_type": "text"
      },
      "source": [
        "<a href=\"https://colab.research.google.com/github/DANGKHOIk22/data-science/blob/main/6_3_recommendfilm.ipynb\" target=\"_parent\"><img src=\"https://colab.research.google.com/assets/colab-badge.svg\" alt=\"Open In Colab\"/></a>"
      ]
    },
    {
      "source": [
        "\n",
        "# IMPORTANT: RUN THIS CELL IN ORDER TO IMPORT YOUR KAGGLE DATA SOURCES\n",
        "# TO THE CORRECT LOCATION (/kaggle/input) IN YOUR NOTEBOOK,\n",
        "# THEN FEEL FREE TO DELETE THIS CELL.\n",
        "# NOTE: THIS NOTEBOOK ENVIRONMENT DIFFERS FROM KAGGLE'S PYTHON\n",
        "# ENVIRONMENT SO THERE MAY BE MISSING LIBRARIES USED BY YOUR\n",
        "# NOTEBOOK.\n",
        "\n",
        "import os\n",
        "import sys\n",
        "from tempfile import NamedTemporaryFile\n",
        "from urllib.request import urlopen\n",
        "from urllib.parse import unquote, urlparse\n",
        "from urllib.error import HTTPError\n",
        "from zipfile import ZipFile\n",
        "import tarfile\n",
        "import shutil\n",
        "\n",
        "CHUNK_SIZE = 40960\n",
        "DATA_SOURCE_MAPPING = 'tmdb-movie-metadata:https%3A%2F%2Fstorage.googleapis.com%2Fkaggle-data-sets%2F138%2F4508%2Fbundle%2Farchive.zip%3FX-Goog-Algorithm%3DGOOG4-RSA-SHA256%26X-Goog-Credential%3Dgcp-kaggle-com%2540kaggle-161607.iam.gserviceaccount.com%252F20240306%252Fauto%252Fstorage%252Fgoog4_request%26X-Goog-Date%3D20240306T085309Z%26X-Goog-Expires%3D259200%26X-Goog-SignedHeaders%3Dhost%26X-Goog-Signature%3D8a2ad23d6ca6cd1ad7ca037454cb54a373469fc8db3ad53514f5adffb56273b17b9f0655ce5f31a09974bc5abffdee5eb0df57cd8de5ec94bdd1e5c2947cc634db248f8a2b1dd5596946e87f347d430ca43d61284af000d84d1e543559fac3e412416aa11c58175f7336af82b181d30a2d499a945332777b284f6882091d8da9b2834feedfe5329ffcb7a081dbb5c1c312a18118cc2eb761e0338b4e9653f3dcf6c99825ee8ca7fe9b04790e048e896aef0731a6878940db710eb61a5d7d4fc9ae0ff501e2d41067838eacbd8659708a37202e05b4fc9172a9b1594969bb4f3eb38cd7c1f467394481938d99bd14fac7eb98ec8d374844fdc5111ac05f0133bc'\n",
        "\n",
        "KAGGLE_INPUT_PATH='/kaggle/input'\n",
        "KAGGLE_WORKING_PATH='/kaggle/working'\n",
        "KAGGLE_SYMLINK='kaggle'\n",
        "\n",
        "!umount /kaggle/input/ 2> /dev/null\n",
        "shutil.rmtree('/kaggle/input', ignore_errors=True)\n",
        "os.makedirs(KAGGLE_INPUT_PATH, 0o777, exist_ok=True)\n",
        "os.makedirs(KAGGLE_WORKING_PATH, 0o777, exist_ok=True)\n",
        "\n",
        "try:\n",
        "  os.symlink(KAGGLE_INPUT_PATH, os.path.join(\"..\", 'input'), target_is_directory=True)\n",
        "except FileExistsError:\n",
        "  pass\n",
        "try:\n",
        "  os.symlink(KAGGLE_WORKING_PATH, os.path.join(\"..\", 'working'), target_is_directory=True)\n",
        "except FileExistsError:\n",
        "  pass\n",
        "\n",
        "for data_source_mapping in DATA_SOURCE_MAPPING.split(','):\n",
        "    directory, download_url_encoded = data_source_mapping.split(':')\n",
        "    download_url = unquote(download_url_encoded)\n",
        "    filename = urlparse(download_url).path\n",
        "    destination_path = os.path.join(KAGGLE_INPUT_PATH, directory)\n",
        "    try:\n",
        "        with urlopen(download_url) as fileres, NamedTemporaryFile() as tfile:\n",
        "            total_length = fileres.headers['content-length']\n",
        "            print(f'Downloading {directory}, {total_length} bytes compressed')\n",
        "            dl = 0\n",
        "            data = fileres.read(CHUNK_SIZE)\n",
        "            while len(data) > 0:\n",
        "                dl += len(data)\n",
        "                tfile.write(data)\n",
        "                done = int(50 * dl / int(total_length))\n",
        "                sys.stdout.write(f\"\\r[{'=' * done}{' ' * (50-done)}] {dl} bytes downloaded\")\n",
        "                sys.stdout.flush()\n",
        "                data = fileres.read(CHUNK_SIZE)\n",
        "            if filename.endswith('.zip'):\n",
        "              with ZipFile(tfile) as zfile:\n",
        "                zfile.extractall(destination_path)\n",
        "            else:\n",
        "              with tarfile.open(tfile.name) as tarfile:\n",
        "                tarfile.extractall(destination_path)\n",
        "            print(f'\\nDownloaded and uncompressed: {directory}')\n",
        "    except HTTPError as e:\n",
        "        print(f'Failed to load (likely expired) {download_url} to path {destination_path}')\n",
        "        continue\n",
        "    except OSError as e:\n",
        "        print(f'Failed to load {download_url} to path {destination_path}')\n",
        "        continue\n",
        "\n",
        "print('Data source import complete.')\n"
      ],
      "metadata": {
        "id": "-UDO6C4293mz"
      },
      "cell_type": "code",
      "outputs": [],
      "execution_count": null
    },
    {
      "cell_type": "code",
      "source": [
        "# This Python 3 environment comes with many helpful analytics libraries installed\n",
        "# It is defined by the kaggle/python Docker image: https://github.com/kaggle/docker-python\n",
        "# For example, here's several helpful packages to load\n",
        "\n",
        "import numpy as np # linear algebra\n",
        "import pandas as pd # data processing, CSV file I/O (e.g. pd.read_csv)\n",
        "\n",
        "# Input data files are available in the read-only \"../input/\" directory\n",
        "# For example, running this (by clicking run or pressing Shift+Enter) will list all files under the input directory\n",
        "\n",
        "import os\n",
        "for dirname, _, filenames in os.walk('/kaggle/input'):\n",
        "    for filename in filenames:\n",
        "        print(os.path.join(dirname, filename))\n",
        "\n",
        "# You can write up to 20GB to the current directory (/kaggle/working/) that gets preserved as output when you create a version using \"Save & Run All\"\n",
        "# You can also write temporary files to /kaggle/temp/, but they won't be saved outside of the current session"
      ],
      "metadata": {
        "_uuid": "8f2839f25d086af736a60e9eeb907d3b93b6e0e5",
        "_cell_guid": "b1076dfc-b9ad-4769-8c92-a6c4dae69d19",
        "execution": {
          "iopub.status.busy": "2024-02-26T06:18:49.145696Z",
          "iopub.execute_input": "2024-02-26T06:18:49.146973Z",
          "iopub.status.idle": "2024-02-26T06:18:49.161352Z",
          "shell.execute_reply.started": "2024-02-26T06:18:49.146921Z",
          "shell.execute_reply": "2024-02-26T06:18:49.160128Z"
        },
        "trusted": true,
        "id": "iAp4S9zs93m3",
        "outputId": "b7909c65-1e59-4774-82ab-022deaf0eea6"
      },
      "execution_count": null,
      "outputs": [
        {
          "name": "stdout",
          "text": "/kaggle/input/tmdb-movie-metadata/tmdb_5000_movies.csv\n/kaggle/input/tmdb-movie-metadata/tmdb_5000_credits.csv\n",
          "output_type": "stream"
        }
      ]
    },
    {
      "cell_type": "code",
      "source": [
        "movies=pd.read_csv('/kaggle/input/tmdb-movie-metadata/tmdb_5000_movies.csv')\n",
        "credits=pd.read_csv('/kaggle/input/tmdb-movie-metadata/tmdb_5000_credits.csv')"
      ],
      "metadata": {
        "execution": {
          "iopub.status.busy": "2024-02-26T06:18:49.164275Z",
          "iopub.execute_input": "2024-02-26T06:18:49.165186Z",
          "iopub.status.idle": "2024-02-26T06:18:49.975882Z",
          "shell.execute_reply.started": "2024-02-26T06:18:49.16514Z",
          "shell.execute_reply": "2024-02-26T06:18:49.974717Z"
        },
        "trusted": true,
        "id": "mbg9pmPe93m5"
      },
      "execution_count": null,
      "outputs": []
    },
    {
      "cell_type": "code",
      "source": [
        "movies.head()"
      ],
      "metadata": {
        "execution": {
          "iopub.status.busy": "2024-02-26T06:18:49.977526Z",
          "iopub.execute_input": "2024-02-26T06:18:49.978196Z",
          "iopub.status.idle": "2024-02-26T06:18:50.018714Z",
          "shell.execute_reply.started": "2024-02-26T06:18:49.978162Z",
          "shell.execute_reply": "2024-02-26T06:18:50.017033Z"
        },
        "trusted": true,
        "id": "aBko-fcq93m5",
        "outputId": "eea5cca6-96c5-4502-88b2-6dbb5604ad86"
      },
      "execution_count": null,
      "outputs": [
        {
          "execution_count": 16,
          "output_type": "execute_result",
          "data": {
            "text/plain": "      budget                                             genres  \\\n0  237000000  [{\"id\": 28, \"name\": \"Action\"}, {\"id\": 12, \"nam...   \n1  300000000  [{\"id\": 12, \"name\": \"Adventure\"}, {\"id\": 14, \"...   \n2  245000000  [{\"id\": 28, \"name\": \"Action\"}, {\"id\": 12, \"nam...   \n3  250000000  [{\"id\": 28, \"name\": \"Action\"}, {\"id\": 80, \"nam...   \n4  260000000  [{\"id\": 28, \"name\": \"Action\"}, {\"id\": 12, \"nam...   \n\n                                       homepage      id  \\\n0                   http://www.avatarmovie.com/   19995   \n1  http://disney.go.com/disneypictures/pirates/     285   \n2   http://www.sonypictures.com/movies/spectre/  206647   \n3            http://www.thedarkknightrises.com/   49026   \n4          http://movies.disney.com/john-carter   49529   \n\n                                            keywords original_language  \\\n0  [{\"id\": 1463, \"name\": \"culture clash\"}, {\"id\":...                en   \n1  [{\"id\": 270, \"name\": \"ocean\"}, {\"id\": 726, \"na...                en   \n2  [{\"id\": 470, \"name\": \"spy\"}, {\"id\": 818, \"name...                en   \n3  [{\"id\": 849, \"name\": \"dc comics\"}, {\"id\": 853,...                en   \n4  [{\"id\": 818, \"name\": \"based on novel\"}, {\"id\":...                en   \n\n                             original_title  \\\n0                                    Avatar   \n1  Pirates of the Caribbean: At World's End   \n2                                   Spectre   \n3                     The Dark Knight Rises   \n4                               John Carter   \n\n                                            overview  popularity  \\\n0  In the 22nd century, a paraplegic Marine is di...  150.437577   \n1  Captain Barbossa, long believed to be dead, ha...  139.082615   \n2  A cryptic message from Bond’s past sends him o...  107.376788   \n3  Following the death of District Attorney Harve...  112.312950   \n4  John Carter is a war-weary, former military ca...   43.926995   \n\n                                production_companies  \\\n0  [{\"name\": \"Ingenious Film Partners\", \"id\": 289...   \n1  [{\"name\": \"Walt Disney Pictures\", \"id\": 2}, {\"...   \n2  [{\"name\": \"Columbia Pictures\", \"id\": 5}, {\"nam...   \n3  [{\"name\": \"Legendary Pictures\", \"id\": 923}, {\"...   \n4        [{\"name\": \"Walt Disney Pictures\", \"id\": 2}]   \n\n                                production_countries release_date     revenue  \\\n0  [{\"iso_3166_1\": \"US\", \"name\": \"United States o...   2009-12-10  2787965087   \n1  [{\"iso_3166_1\": \"US\", \"name\": \"United States o...   2007-05-19   961000000   \n2  [{\"iso_3166_1\": \"GB\", \"name\": \"United Kingdom\"...   2015-10-26   880674609   \n3  [{\"iso_3166_1\": \"US\", \"name\": \"United States o...   2012-07-16  1084939099   \n4  [{\"iso_3166_1\": \"US\", \"name\": \"United States o...   2012-03-07   284139100   \n\n   runtime                                   spoken_languages    status  \\\n0    162.0  [{\"iso_639_1\": \"en\", \"name\": \"English\"}, {\"iso...  Released   \n1    169.0           [{\"iso_639_1\": \"en\", \"name\": \"English\"}]  Released   \n2    148.0  [{\"iso_639_1\": \"fr\", \"name\": \"Fran\\u00e7ais\"},...  Released   \n3    165.0           [{\"iso_639_1\": \"en\", \"name\": \"English\"}]  Released   \n4    132.0           [{\"iso_639_1\": \"en\", \"name\": \"English\"}]  Released   \n\n                                          tagline  \\\n0                     Enter the World of Pandora.   \n1  At the end of the world, the adventure begins.   \n2                           A Plan No One Escapes   \n3                                 The Legend Ends   \n4            Lost in our world, found in another.   \n\n                                      title  vote_average  vote_count  \n0                                    Avatar           7.2       11800  \n1  Pirates of the Caribbean: At World's End           6.9        4500  \n2                                   Spectre           6.3        4466  \n3                     The Dark Knight Rises           7.6        9106  \n4                               John Carter           6.1        2124  ",
            "text/html": "<div>\n<style scoped>\n    .dataframe tbody tr th:only-of-type {\n        vertical-align: middle;\n    }\n\n    .dataframe tbody tr th {\n        vertical-align: top;\n    }\n\n    .dataframe thead th {\n        text-align: right;\n    }\n</style>\n<table border=\"1\" class=\"dataframe\">\n  <thead>\n    <tr style=\"text-align: right;\">\n      <th></th>\n      <th>budget</th>\n      <th>genres</th>\n      <th>homepage</th>\n      <th>id</th>\n      <th>keywords</th>\n      <th>original_language</th>\n      <th>original_title</th>\n      <th>overview</th>\n      <th>popularity</th>\n      <th>production_companies</th>\n      <th>production_countries</th>\n      <th>release_date</th>\n      <th>revenue</th>\n      <th>runtime</th>\n      <th>spoken_languages</th>\n      <th>status</th>\n      <th>tagline</th>\n      <th>title</th>\n      <th>vote_average</th>\n      <th>vote_count</th>\n    </tr>\n  </thead>\n  <tbody>\n    <tr>\n      <th>0</th>\n      <td>237000000</td>\n      <td>[{\"id\": 28, \"name\": \"Action\"}, {\"id\": 12, \"nam...</td>\n      <td>http://www.avatarmovie.com/</td>\n      <td>19995</td>\n      <td>[{\"id\": 1463, \"name\": \"culture clash\"}, {\"id\":...</td>\n      <td>en</td>\n      <td>Avatar</td>\n      <td>In the 22nd century, a paraplegic Marine is di...</td>\n      <td>150.437577</td>\n      <td>[{\"name\": \"Ingenious Film Partners\", \"id\": 289...</td>\n      <td>[{\"iso_3166_1\": \"US\", \"name\": \"United States o...</td>\n      <td>2009-12-10</td>\n      <td>2787965087</td>\n      <td>162.0</td>\n      <td>[{\"iso_639_1\": \"en\", \"name\": \"English\"}, {\"iso...</td>\n      <td>Released</td>\n      <td>Enter the World of Pandora.</td>\n      <td>Avatar</td>\n      <td>7.2</td>\n      <td>11800</td>\n    </tr>\n    <tr>\n      <th>1</th>\n      <td>300000000</td>\n      <td>[{\"id\": 12, \"name\": \"Adventure\"}, {\"id\": 14, \"...</td>\n      <td>http://disney.go.com/disneypictures/pirates/</td>\n      <td>285</td>\n      <td>[{\"id\": 270, \"name\": \"ocean\"}, {\"id\": 726, \"na...</td>\n      <td>en</td>\n      <td>Pirates of the Caribbean: At World's End</td>\n      <td>Captain Barbossa, long believed to be dead, ha...</td>\n      <td>139.082615</td>\n      <td>[{\"name\": \"Walt Disney Pictures\", \"id\": 2}, {\"...</td>\n      <td>[{\"iso_3166_1\": \"US\", \"name\": \"United States o...</td>\n      <td>2007-05-19</td>\n      <td>961000000</td>\n      <td>169.0</td>\n      <td>[{\"iso_639_1\": \"en\", \"name\": \"English\"}]</td>\n      <td>Released</td>\n      <td>At the end of the world, the adventure begins.</td>\n      <td>Pirates of the Caribbean: At World's End</td>\n      <td>6.9</td>\n      <td>4500</td>\n    </tr>\n    <tr>\n      <th>2</th>\n      <td>245000000</td>\n      <td>[{\"id\": 28, \"name\": \"Action\"}, {\"id\": 12, \"nam...</td>\n      <td>http://www.sonypictures.com/movies/spectre/</td>\n      <td>206647</td>\n      <td>[{\"id\": 470, \"name\": \"spy\"}, {\"id\": 818, \"name...</td>\n      <td>en</td>\n      <td>Spectre</td>\n      <td>A cryptic message from Bond’s past sends him o...</td>\n      <td>107.376788</td>\n      <td>[{\"name\": \"Columbia Pictures\", \"id\": 5}, {\"nam...</td>\n      <td>[{\"iso_3166_1\": \"GB\", \"name\": \"United Kingdom\"...</td>\n      <td>2015-10-26</td>\n      <td>880674609</td>\n      <td>148.0</td>\n      <td>[{\"iso_639_1\": \"fr\", \"name\": \"Fran\\u00e7ais\"},...</td>\n      <td>Released</td>\n      <td>A Plan No One Escapes</td>\n      <td>Spectre</td>\n      <td>6.3</td>\n      <td>4466</td>\n    </tr>\n    <tr>\n      <th>3</th>\n      <td>250000000</td>\n      <td>[{\"id\": 28, \"name\": \"Action\"}, {\"id\": 80, \"nam...</td>\n      <td>http://www.thedarkknightrises.com/</td>\n      <td>49026</td>\n      <td>[{\"id\": 849, \"name\": \"dc comics\"}, {\"id\": 853,...</td>\n      <td>en</td>\n      <td>The Dark Knight Rises</td>\n      <td>Following the death of District Attorney Harve...</td>\n      <td>112.312950</td>\n      <td>[{\"name\": \"Legendary Pictures\", \"id\": 923}, {\"...</td>\n      <td>[{\"iso_3166_1\": \"US\", \"name\": \"United States o...</td>\n      <td>2012-07-16</td>\n      <td>1084939099</td>\n      <td>165.0</td>\n      <td>[{\"iso_639_1\": \"en\", \"name\": \"English\"}]</td>\n      <td>Released</td>\n      <td>The Legend Ends</td>\n      <td>The Dark Knight Rises</td>\n      <td>7.6</td>\n      <td>9106</td>\n    </tr>\n    <tr>\n      <th>4</th>\n      <td>260000000</td>\n      <td>[{\"id\": 28, \"name\": \"Action\"}, {\"id\": 12, \"nam...</td>\n      <td>http://movies.disney.com/john-carter</td>\n      <td>49529</td>\n      <td>[{\"id\": 818, \"name\": \"based on novel\"}, {\"id\":...</td>\n      <td>en</td>\n      <td>John Carter</td>\n      <td>John Carter is a war-weary, former military ca...</td>\n      <td>43.926995</td>\n      <td>[{\"name\": \"Walt Disney Pictures\", \"id\": 2}]</td>\n      <td>[{\"iso_3166_1\": \"US\", \"name\": \"United States o...</td>\n      <td>2012-03-07</td>\n      <td>284139100</td>\n      <td>132.0</td>\n      <td>[{\"iso_639_1\": \"en\", \"name\": \"English\"}]</td>\n      <td>Released</td>\n      <td>Lost in our world, found in another.</td>\n      <td>John Carter</td>\n      <td>6.1</td>\n      <td>2124</td>\n    </tr>\n  </tbody>\n</table>\n</div>"
          },
          "metadata": {}
        }
      ]
    },
    {
      "cell_type": "code",
      "source": [
        "credits.head()"
      ],
      "metadata": {
        "execution": {
          "iopub.status.busy": "2024-02-26T06:18:50.022564Z",
          "iopub.execute_input": "2024-02-26T06:18:50.023392Z",
          "iopub.status.idle": "2024-02-26T06:18:50.042857Z",
          "shell.execute_reply.started": "2024-02-26T06:18:50.023339Z",
          "shell.execute_reply": "2024-02-26T06:18:50.041542Z"
        },
        "trusted": true,
        "id": "-zhHMORw93m6",
        "outputId": "2ef82bce-6acc-47f9-9ee5-83dc573a6f61"
      },
      "execution_count": null,
      "outputs": [
        {
          "execution_count": 17,
          "output_type": "execute_result",
          "data": {
            "text/plain": "   movie_id                                     title  \\\n0     19995                                    Avatar   \n1       285  Pirates of the Caribbean: At World's End   \n2    206647                                   Spectre   \n3     49026                     The Dark Knight Rises   \n4     49529                               John Carter   \n\n                                                cast  \\\n0  [{\"cast_id\": 242, \"character\": \"Jake Sully\", \"...   \n1  [{\"cast_id\": 4, \"character\": \"Captain Jack Spa...   \n2  [{\"cast_id\": 1, \"character\": \"James Bond\", \"cr...   \n3  [{\"cast_id\": 2, \"character\": \"Bruce Wayne / Ba...   \n4  [{\"cast_id\": 5, \"character\": \"John Carter\", \"c...   \n\n                                                crew  \n0  [{\"credit_id\": \"52fe48009251416c750aca23\", \"de...  \n1  [{\"credit_id\": \"52fe4232c3a36847f800b579\", \"de...  \n2  [{\"credit_id\": \"54805967c3a36829b5002c41\", \"de...  \n3  [{\"credit_id\": \"52fe4781c3a36847f81398c3\", \"de...  \n4  [{\"credit_id\": \"52fe479ac3a36847f813eaa3\", \"de...  ",
            "text/html": "<div>\n<style scoped>\n    .dataframe tbody tr th:only-of-type {\n        vertical-align: middle;\n    }\n\n    .dataframe tbody tr th {\n        vertical-align: top;\n    }\n\n    .dataframe thead th {\n        text-align: right;\n    }\n</style>\n<table border=\"1\" class=\"dataframe\">\n  <thead>\n    <tr style=\"text-align: right;\">\n      <th></th>\n      <th>movie_id</th>\n      <th>title</th>\n      <th>cast</th>\n      <th>crew</th>\n    </tr>\n  </thead>\n  <tbody>\n    <tr>\n      <th>0</th>\n      <td>19995</td>\n      <td>Avatar</td>\n      <td>[{\"cast_id\": 242, \"character\": \"Jake Sully\", \"...</td>\n      <td>[{\"credit_id\": \"52fe48009251416c750aca23\", \"de...</td>\n    </tr>\n    <tr>\n      <th>1</th>\n      <td>285</td>\n      <td>Pirates of the Caribbean: At World's End</td>\n      <td>[{\"cast_id\": 4, \"character\": \"Captain Jack Spa...</td>\n      <td>[{\"credit_id\": \"52fe4232c3a36847f800b579\", \"de...</td>\n    </tr>\n    <tr>\n      <th>2</th>\n      <td>206647</td>\n      <td>Spectre</td>\n      <td>[{\"cast_id\": 1, \"character\": \"James Bond\", \"cr...</td>\n      <td>[{\"credit_id\": \"54805967c3a36829b5002c41\", \"de...</td>\n    </tr>\n    <tr>\n      <th>3</th>\n      <td>49026</td>\n      <td>The Dark Knight Rises</td>\n      <td>[{\"cast_id\": 2, \"character\": \"Bruce Wayne / Ba...</td>\n      <td>[{\"credit_id\": \"52fe4781c3a36847f81398c3\", \"de...</td>\n    </tr>\n    <tr>\n      <th>4</th>\n      <td>49529</td>\n      <td>John Carter</td>\n      <td>[{\"cast_id\": 5, \"character\": \"John Carter\", \"c...</td>\n      <td>[{\"credit_id\": \"52fe479ac3a36847f813eaa3\", \"de...</td>\n    </tr>\n  </tbody>\n</table>\n</div>"
          },
          "metadata": {}
        }
      ]
    },
    {
      "cell_type": "code",
      "source": [
        "movies.shape\n",
        "credits.shape"
      ],
      "metadata": {
        "execution": {
          "iopub.status.busy": "2024-02-26T06:18:50.044488Z",
          "iopub.execute_input": "2024-02-26T06:18:50.045877Z",
          "iopub.status.idle": "2024-02-26T06:18:50.059097Z",
          "shell.execute_reply.started": "2024-02-26T06:18:50.0458Z",
          "shell.execute_reply": "2024-02-26T06:18:50.057248Z"
        },
        "trusted": true,
        "id": "078JIrEp93m6",
        "outputId": "4b9a0b12-239e-4c89-e9cf-c20c3745272f"
      },
      "execution_count": null,
      "outputs": [
        {
          "execution_count": 18,
          "output_type": "execute_result",
          "data": {
            "text/plain": "(4803, 4)"
          },
          "metadata": {}
        }
      ]
    },
    {
      "cell_type": "code",
      "source": [
        "df=movies[['genres','keywords','overview','title']].merge(credits[['cast','crew','movie_id']],left_index=True, right_index=True)"
      ],
      "metadata": {
        "execution": {
          "iopub.status.busy": "2024-02-26T06:18:50.061883Z",
          "iopub.execute_input": "2024-02-26T06:18:50.062728Z",
          "iopub.status.idle": "2024-02-26T06:18:50.080307Z",
          "shell.execute_reply.started": "2024-02-26T06:18:50.062686Z",
          "shell.execute_reply": "2024-02-26T06:18:50.079035Z"
        },
        "trusted": true,
        "id": "s465Dj7W93m6"
      },
      "execution_count": null,
      "outputs": []
    },
    {
      "cell_type": "code",
      "source": [
        "df"
      ],
      "metadata": {
        "execution": {
          "iopub.status.busy": "2024-02-26T06:18:50.082953Z",
          "iopub.execute_input": "2024-02-26T06:18:50.083801Z",
          "iopub.status.idle": "2024-02-26T06:18:50.110452Z",
          "shell.execute_reply.started": "2024-02-26T06:18:50.083755Z",
          "shell.execute_reply": "2024-02-26T06:18:50.109275Z"
        },
        "trusted": true,
        "id": "jeMf_n8a93m7",
        "outputId": "af769433-ddf5-458e-d766-316e8f5d63d6"
      },
      "execution_count": null,
      "outputs": [
        {
          "execution_count": 20,
          "output_type": "execute_result",
          "data": {
            "text/plain": "                                                 genres  \\\n0     [{\"id\": 28, \"name\": \"Action\"}, {\"id\": 12, \"nam...   \n1     [{\"id\": 12, \"name\": \"Adventure\"}, {\"id\": 14, \"...   \n2     [{\"id\": 28, \"name\": \"Action\"}, {\"id\": 12, \"nam...   \n3     [{\"id\": 28, \"name\": \"Action\"}, {\"id\": 80, \"nam...   \n4     [{\"id\": 28, \"name\": \"Action\"}, {\"id\": 12, \"nam...   \n...                                                 ...   \n4798  [{\"id\": 28, \"name\": \"Action\"}, {\"id\": 80, \"nam...   \n4799  [{\"id\": 35, \"name\": \"Comedy\"}, {\"id\": 10749, \"...   \n4800  [{\"id\": 35, \"name\": \"Comedy\"}, {\"id\": 18, \"nam...   \n4801                                                 []   \n4802                [{\"id\": 99, \"name\": \"Documentary\"}]   \n\n                                               keywords  \\\n0     [{\"id\": 1463, \"name\": \"culture clash\"}, {\"id\":...   \n1     [{\"id\": 270, \"name\": \"ocean\"}, {\"id\": 726, \"na...   \n2     [{\"id\": 470, \"name\": \"spy\"}, {\"id\": 818, \"name...   \n3     [{\"id\": 849, \"name\": \"dc comics\"}, {\"id\": 853,...   \n4     [{\"id\": 818, \"name\": \"based on novel\"}, {\"id\":...   \n...                                                 ...   \n4798  [{\"id\": 5616, \"name\": \"united states\\u2013mexi...   \n4799                                                 []   \n4800  [{\"id\": 248, \"name\": \"date\"}, {\"id\": 699, \"nam...   \n4801                                                 []   \n4802  [{\"id\": 1523, \"name\": \"obsession\"}, {\"id\": 224...   \n\n                                               overview  \\\n0     In the 22nd century, a paraplegic Marine is di...   \n1     Captain Barbossa, long believed to be dead, ha...   \n2     A cryptic message from Bond’s past sends him o...   \n3     Following the death of District Attorney Harve...   \n4     John Carter is a war-weary, former military ca...   \n...                                                 ...   \n4798  El Mariachi just wants to play his guitar and ...   \n4799  A newlywed couple's honeymoon is upended by th...   \n4800  \"Signed, Sealed, Delivered\" introduces a dedic...   \n4801  When ambitious New York attorney Sam is sent t...   \n4802  Ever since the second grade when he first saw ...   \n\n                                         title  \\\n0                                       Avatar   \n1     Pirates of the Caribbean: At World's End   \n2                                      Spectre   \n3                        The Dark Knight Rises   \n4                                  John Carter   \n...                                        ...   \n4798                               El Mariachi   \n4799                                 Newlyweds   \n4800                 Signed, Sealed, Delivered   \n4801                          Shanghai Calling   \n4802                         My Date with Drew   \n\n                                                   cast  \\\n0     [{\"cast_id\": 242, \"character\": \"Jake Sully\", \"...   \n1     [{\"cast_id\": 4, \"character\": \"Captain Jack Spa...   \n2     [{\"cast_id\": 1, \"character\": \"James Bond\", \"cr...   \n3     [{\"cast_id\": 2, \"character\": \"Bruce Wayne / Ba...   \n4     [{\"cast_id\": 5, \"character\": \"John Carter\", \"c...   \n...                                                 ...   \n4798  [{\"cast_id\": 1, \"character\": \"El Mariachi\", \"c...   \n4799  [{\"cast_id\": 1, \"character\": \"Buzzy\", \"credit_...   \n4800  [{\"cast_id\": 8, \"character\": \"Oliver O\\u2019To...   \n4801  [{\"cast_id\": 3, \"character\": \"Sam\", \"credit_id...   \n4802  [{\"cast_id\": 3, \"character\": \"Herself\", \"credi...   \n\n                                                   crew  movie_id  \n0     [{\"credit_id\": \"52fe48009251416c750aca23\", \"de...     19995  \n1     [{\"credit_id\": \"52fe4232c3a36847f800b579\", \"de...       285  \n2     [{\"credit_id\": \"54805967c3a36829b5002c41\", \"de...    206647  \n3     [{\"credit_id\": \"52fe4781c3a36847f81398c3\", \"de...     49026  \n4     [{\"credit_id\": \"52fe479ac3a36847f813eaa3\", \"de...     49529  \n...                                                 ...       ...  \n4798  [{\"credit_id\": \"52fe44eec3a36847f80b280b\", \"de...      9367  \n4799  [{\"credit_id\": \"52fe487dc3a368484e0fb013\", \"de...     72766  \n4800  [{\"credit_id\": \"52fe4df3c3a36847f8275ecf\", \"de...    231617  \n4801  [{\"credit_id\": \"52fe4ad9c3a368484e16a36b\", \"de...    126186  \n4802  [{\"credit_id\": \"58ce021b9251415a390165d9\", \"de...     25975  \n\n[4803 rows x 7 columns]",
            "text/html": "<div>\n<style scoped>\n    .dataframe tbody tr th:only-of-type {\n        vertical-align: middle;\n    }\n\n    .dataframe tbody tr th {\n        vertical-align: top;\n    }\n\n    .dataframe thead th {\n        text-align: right;\n    }\n</style>\n<table border=\"1\" class=\"dataframe\">\n  <thead>\n    <tr style=\"text-align: right;\">\n      <th></th>\n      <th>genres</th>\n      <th>keywords</th>\n      <th>overview</th>\n      <th>title</th>\n      <th>cast</th>\n      <th>crew</th>\n      <th>movie_id</th>\n    </tr>\n  </thead>\n  <tbody>\n    <tr>\n      <th>0</th>\n      <td>[{\"id\": 28, \"name\": \"Action\"}, {\"id\": 12, \"nam...</td>\n      <td>[{\"id\": 1463, \"name\": \"culture clash\"}, {\"id\":...</td>\n      <td>In the 22nd century, a paraplegic Marine is di...</td>\n      <td>Avatar</td>\n      <td>[{\"cast_id\": 242, \"character\": \"Jake Sully\", \"...</td>\n      <td>[{\"credit_id\": \"52fe48009251416c750aca23\", \"de...</td>\n      <td>19995</td>\n    </tr>\n    <tr>\n      <th>1</th>\n      <td>[{\"id\": 12, \"name\": \"Adventure\"}, {\"id\": 14, \"...</td>\n      <td>[{\"id\": 270, \"name\": \"ocean\"}, {\"id\": 726, \"na...</td>\n      <td>Captain Barbossa, long believed to be dead, ha...</td>\n      <td>Pirates of the Caribbean: At World's End</td>\n      <td>[{\"cast_id\": 4, \"character\": \"Captain Jack Spa...</td>\n      <td>[{\"credit_id\": \"52fe4232c3a36847f800b579\", \"de...</td>\n      <td>285</td>\n    </tr>\n    <tr>\n      <th>2</th>\n      <td>[{\"id\": 28, \"name\": \"Action\"}, {\"id\": 12, \"nam...</td>\n      <td>[{\"id\": 470, \"name\": \"spy\"}, {\"id\": 818, \"name...</td>\n      <td>A cryptic message from Bond’s past sends him o...</td>\n      <td>Spectre</td>\n      <td>[{\"cast_id\": 1, \"character\": \"James Bond\", \"cr...</td>\n      <td>[{\"credit_id\": \"54805967c3a36829b5002c41\", \"de...</td>\n      <td>206647</td>\n    </tr>\n    <tr>\n      <th>3</th>\n      <td>[{\"id\": 28, \"name\": \"Action\"}, {\"id\": 80, \"nam...</td>\n      <td>[{\"id\": 849, \"name\": \"dc comics\"}, {\"id\": 853,...</td>\n      <td>Following the death of District Attorney Harve...</td>\n      <td>The Dark Knight Rises</td>\n      <td>[{\"cast_id\": 2, \"character\": \"Bruce Wayne / Ba...</td>\n      <td>[{\"credit_id\": \"52fe4781c3a36847f81398c3\", \"de...</td>\n      <td>49026</td>\n    </tr>\n    <tr>\n      <th>4</th>\n      <td>[{\"id\": 28, \"name\": \"Action\"}, {\"id\": 12, \"nam...</td>\n      <td>[{\"id\": 818, \"name\": \"based on novel\"}, {\"id\":...</td>\n      <td>John Carter is a war-weary, former military ca...</td>\n      <td>John Carter</td>\n      <td>[{\"cast_id\": 5, \"character\": \"John Carter\", \"c...</td>\n      <td>[{\"credit_id\": \"52fe479ac3a36847f813eaa3\", \"de...</td>\n      <td>49529</td>\n    </tr>\n    <tr>\n      <th>...</th>\n      <td>...</td>\n      <td>...</td>\n      <td>...</td>\n      <td>...</td>\n      <td>...</td>\n      <td>...</td>\n      <td>...</td>\n    </tr>\n    <tr>\n      <th>4798</th>\n      <td>[{\"id\": 28, \"name\": \"Action\"}, {\"id\": 80, \"nam...</td>\n      <td>[{\"id\": 5616, \"name\": \"united states\\u2013mexi...</td>\n      <td>El Mariachi just wants to play his guitar and ...</td>\n      <td>El Mariachi</td>\n      <td>[{\"cast_id\": 1, \"character\": \"El Mariachi\", \"c...</td>\n      <td>[{\"credit_id\": \"52fe44eec3a36847f80b280b\", \"de...</td>\n      <td>9367</td>\n    </tr>\n    <tr>\n      <th>4799</th>\n      <td>[{\"id\": 35, \"name\": \"Comedy\"}, {\"id\": 10749, \"...</td>\n      <td>[]</td>\n      <td>A newlywed couple's honeymoon is upended by th...</td>\n      <td>Newlyweds</td>\n      <td>[{\"cast_id\": 1, \"character\": \"Buzzy\", \"credit_...</td>\n      <td>[{\"credit_id\": \"52fe487dc3a368484e0fb013\", \"de...</td>\n      <td>72766</td>\n    </tr>\n    <tr>\n      <th>4800</th>\n      <td>[{\"id\": 35, \"name\": \"Comedy\"}, {\"id\": 18, \"nam...</td>\n      <td>[{\"id\": 248, \"name\": \"date\"}, {\"id\": 699, \"nam...</td>\n      <td>\"Signed, Sealed, Delivered\" introduces a dedic...</td>\n      <td>Signed, Sealed, Delivered</td>\n      <td>[{\"cast_id\": 8, \"character\": \"Oliver O\\u2019To...</td>\n      <td>[{\"credit_id\": \"52fe4df3c3a36847f8275ecf\", \"de...</td>\n      <td>231617</td>\n    </tr>\n    <tr>\n      <th>4801</th>\n      <td>[]</td>\n      <td>[]</td>\n      <td>When ambitious New York attorney Sam is sent t...</td>\n      <td>Shanghai Calling</td>\n      <td>[{\"cast_id\": 3, \"character\": \"Sam\", \"credit_id...</td>\n      <td>[{\"credit_id\": \"52fe4ad9c3a368484e16a36b\", \"de...</td>\n      <td>126186</td>\n    </tr>\n    <tr>\n      <th>4802</th>\n      <td>[{\"id\": 99, \"name\": \"Documentary\"}]</td>\n      <td>[{\"id\": 1523, \"name\": \"obsession\"}, {\"id\": 224...</td>\n      <td>Ever since the second grade when he first saw ...</td>\n      <td>My Date with Drew</td>\n      <td>[{\"cast_id\": 3, \"character\": \"Herself\", \"credi...</td>\n      <td>[{\"credit_id\": \"58ce021b9251415a390165d9\", \"de...</td>\n      <td>25975</td>\n    </tr>\n  </tbody>\n</table>\n<p>4803 rows × 7 columns</p>\n</div>"
          },
          "metadata": {}
        }
      ]
    },
    {
      "cell_type": "code",
      "source": [
        "df['genres'][0]"
      ],
      "metadata": {
        "execution": {
          "iopub.status.busy": "2024-02-26T06:18:50.112681Z",
          "iopub.execute_input": "2024-02-26T06:18:50.113578Z",
          "iopub.status.idle": "2024-02-26T06:18:50.124035Z",
          "shell.execute_reply.started": "2024-02-26T06:18:50.113532Z",
          "shell.execute_reply": "2024-02-26T06:18:50.122596Z"
        },
        "trusted": true,
        "id": "XohxaCnG93m7",
        "outputId": "4bf93e65-ea5c-4c38-bae1-8c3a90711e1d"
      },
      "execution_count": null,
      "outputs": [
        {
          "execution_count": 21,
          "output_type": "execute_result",
          "data": {
            "text/plain": "'[{\"id\": 28, \"name\": \"Action\"}, {\"id\": 12, \"name\": \"Adventure\"}, {\"id\": 14, \"name\": \"Fantasy\"}, {\"id\": 878, \"name\": \"Science Fiction\"}]'"
          },
          "metadata": {}
        }
      ]
    },
    {
      "cell_type": "code",
      "source": [
        "import json\n",
        "def convert(name):\n",
        "    arr = []\n",
        "    name_list = json.loads(name)\n",
        "    for name_dict in name_list:\n",
        "        arr.append(name_dict[\"name\"])\n",
        "    return arr"
      ],
      "metadata": {
        "execution": {
          "iopub.status.busy": "2024-02-26T06:18:50.126843Z",
          "iopub.execute_input": "2024-02-26T06:18:50.128177Z",
          "iopub.status.idle": "2024-02-26T06:18:50.138399Z",
          "shell.execute_reply.started": "2024-02-26T06:18:50.128115Z",
          "shell.execute_reply": "2024-02-26T06:18:50.137156Z"
        },
        "trusted": true,
        "id": "l9PcBc5L93m8"
      },
      "execution_count": null,
      "outputs": []
    },
    {
      "cell_type": "code",
      "source": [
        "def convert2(name):\n",
        "    arr=[]\n",
        "    name_list=json.loads(name)\n",
        "    count=0\n",
        "    for name_dict in name_list:\n",
        "        if count==3:\n",
        "            arr.append(name_dict['name'])\n",
        "            break\n",
        "        else  : count+=1\n",
        "    return arr"
      ],
      "metadata": {
        "execution": {
          "iopub.status.busy": "2024-02-26T06:18:50.143173Z",
          "iopub.execute_input": "2024-02-26T06:18:50.144059Z",
          "iopub.status.idle": "2024-02-26T06:18:50.153759Z",
          "shell.execute_reply.started": "2024-02-26T06:18:50.144018Z",
          "shell.execute_reply": "2024-02-26T06:18:50.152803Z"
        },
        "trusted": true,
        "id": "m0u5hLJo93m8"
      },
      "execution_count": null,
      "outputs": []
    },
    {
      "cell_type": "code",
      "source": [
        "def convert3(name):\n",
        "    arr=[]\n",
        "    name_list=json.loads(name)\n",
        "    for name_dict in name_list:\n",
        "        if name_dict[\"job\"]==\"Director\":\n",
        "            arr.append(name_dict['name'])\n",
        "            break\n",
        "    return arr"
      ],
      "metadata": {
        "execution": {
          "iopub.status.busy": "2024-02-26T06:18:50.155169Z",
          "iopub.execute_input": "2024-02-26T06:18:50.15571Z",
          "iopub.status.idle": "2024-02-26T06:18:50.171036Z",
          "shell.execute_reply.started": "2024-02-26T06:18:50.155678Z",
          "shell.execute_reply": "2024-02-26T06:18:50.169973Z"
        },
        "trusted": true,
        "id": "3TawO6Zb93m9"
      },
      "execution_count": null,
      "outputs": []
    },
    {
      "cell_type": "code",
      "source": [
        "df.duplicated().sum()"
      ],
      "metadata": {
        "execution": {
          "iopub.status.busy": "2024-02-26T06:18:50.172493Z",
          "iopub.execute_input": "2024-02-26T06:18:50.173046Z",
          "iopub.status.idle": "2024-02-26T06:18:50.314569Z",
          "shell.execute_reply.started": "2024-02-26T06:18:50.173013Z",
          "shell.execute_reply": "2024-02-26T06:18:50.313596Z"
        },
        "trusted": true,
        "id": "7_L5KlWz93m9",
        "outputId": "781461c5-51f9-448b-e7b6-fb0622ade91c"
      },
      "execution_count": null,
      "outputs": [
        {
          "execution_count": 25,
          "output_type": "execute_result",
          "data": {
            "text/plain": "0"
          },
          "metadata": {}
        }
      ]
    },
    {
      "cell_type": "code",
      "source": [
        "df.isnull().sum()"
      ],
      "metadata": {
        "execution": {
          "iopub.status.busy": "2024-02-26T06:18:50.316001Z",
          "iopub.execute_input": "2024-02-26T06:18:50.316516Z",
          "iopub.status.idle": "2024-02-26T06:18:50.334632Z",
          "shell.execute_reply.started": "2024-02-26T06:18:50.316485Z",
          "shell.execute_reply": "2024-02-26T06:18:50.33353Z"
        },
        "trusted": true,
        "id": "4q6b2tJY93m9",
        "outputId": "aebe081b-a89d-421d-d07b-e9e4871dab2f"
      },
      "execution_count": null,
      "outputs": [
        {
          "execution_count": 26,
          "output_type": "execute_result",
          "data": {
            "text/plain": "genres      0\nkeywords    0\noverview    3\ntitle       0\ncast        0\ncrew        0\nmovie_id    0\ndtype: int64"
          },
          "metadata": {}
        }
      ]
    },
    {
      "cell_type": "code",
      "source": [
        "df['genres']=df['genres'].apply(convert)\n",
        "df['keywords']=df['keywords'].apply(convert)\n",
        "df['cast']=df['cast'].apply(convert2)\n",
        "df['crew']=df['crew'].apply(convert3)"
      ],
      "metadata": {
        "execution": {
          "iopub.status.busy": "2024-02-26T06:18:50.335984Z",
          "iopub.execute_input": "2024-02-26T06:18:50.336836Z",
          "iopub.status.idle": "2024-02-26T06:18:51.152024Z",
          "shell.execute_reply.started": "2024-02-26T06:18:50.336789Z",
          "shell.execute_reply": "2024-02-26T06:18:51.150774Z"
        },
        "trusted": true,
        "id": "pT7FPbSL93m9"
      },
      "execution_count": null,
      "outputs": []
    },
    {
      "cell_type": "code",
      "source": [
        "df.dropna(inplace=True)"
      ],
      "metadata": {
        "execution": {
          "iopub.status.busy": "2024-02-26T06:18:51.153534Z",
          "iopub.execute_input": "2024-02-26T06:18:51.153903Z",
          "iopub.status.idle": "2024-02-26T06:18:51.168211Z",
          "shell.execute_reply.started": "2024-02-26T06:18:51.153872Z",
          "shell.execute_reply": "2024-02-26T06:18:51.166869Z"
        },
        "trusted": true,
        "id": "r9dlkxyM93m9"
      },
      "execution_count": null,
      "outputs": []
    },
    {
      "cell_type": "code",
      "source": [
        "df['genres']=df['genres'].apply(lambda x: [s.replace(\" \",\"\") for s in  x])\n",
        "df['keywords']=df['keywords'].apply(lambda x: [s.replace(\" \",\"\") for s in  x])\n",
        "df['cast']=df['cast'].apply(lambda x: [s.replace(\" \",\"\") for s in  x])\n",
        "df['crew']=df['crew'].apply(lambda x: [s.replace(\" \",\"\") for s in  x])"
      ],
      "metadata": {
        "execution": {
          "iopub.status.busy": "2024-02-26T06:18:51.16988Z",
          "iopub.execute_input": "2024-02-26T06:18:51.170216Z",
          "iopub.status.idle": "2024-02-26T06:18:51.216932Z",
          "shell.execute_reply.started": "2024-02-26T06:18:51.170187Z",
          "shell.execute_reply": "2024-02-26T06:18:51.215966Z"
        },
        "trusted": true,
        "id": "_Glh8GYE93m9"
      },
      "execution_count": null,
      "outputs": []
    },
    {
      "cell_type": "code",
      "source": [
        "df['overview']=df['overview'].apply(lambda x: [x])"
      ],
      "metadata": {
        "execution": {
          "iopub.status.busy": "2024-02-26T06:18:51.218482Z",
          "iopub.execute_input": "2024-02-26T06:18:51.219175Z",
          "iopub.status.idle": "2024-02-26T06:18:51.23049Z",
          "shell.execute_reply.started": "2024-02-26T06:18:51.219135Z",
          "shell.execute_reply": "2024-02-26T06:18:51.229275Z"
        },
        "trusted": true,
        "id": "-nGJ7Wzw93m-"
      },
      "execution_count": null,
      "outputs": []
    },
    {
      "cell_type": "code",
      "source": [
        "df['tags']=df['overview']+df['genres']+df['keywords']+df['cast']+df['crew']"
      ],
      "metadata": {
        "execution": {
          "iopub.status.busy": "2024-02-26T06:18:51.232209Z",
          "iopub.execute_input": "2024-02-26T06:18:51.232652Z",
          "iopub.status.idle": "2024-02-26T06:18:51.392219Z",
          "shell.execute_reply.started": "2024-02-26T06:18:51.232613Z",
          "shell.execute_reply": "2024-02-26T06:18:51.390783Z"
        },
        "trusted": true,
        "id": "7_t1nmY693m-"
      },
      "execution_count": null,
      "outputs": []
    },
    {
      "cell_type": "code",
      "source": [
        "df.drop(['genres','keywords','overview','cast','crew'],axis=1,inplace=True)"
      ],
      "metadata": {
        "execution": {
          "iopub.status.busy": "2024-02-26T06:18:51.393701Z",
          "iopub.execute_input": "2024-02-26T06:18:51.39414Z",
          "iopub.status.idle": "2024-02-26T06:18:51.408771Z",
          "shell.execute_reply.started": "2024-02-26T06:18:51.394106Z",
          "shell.execute_reply": "2024-02-26T06:18:51.407361Z"
        },
        "trusted": true,
        "id": "8gx8AYqA93m-"
      },
      "execution_count": null,
      "outputs": []
    },
    {
      "cell_type": "code",
      "source": [
        "df['tags']=df['tags'].apply(lambda x: ' '.join(x))"
      ],
      "metadata": {
        "execution": {
          "iopub.status.busy": "2024-02-26T06:18:51.410612Z",
          "iopub.execute_input": "2024-02-26T06:18:51.412025Z",
          "iopub.status.idle": "2024-02-26T06:18:51.433574Z",
          "shell.execute_reply.started": "2024-02-26T06:18:51.411957Z",
          "shell.execute_reply": "2024-02-26T06:18:51.432083Z"
        },
        "trusted": true,
        "id": "cA9NL_aQ93m-"
      },
      "execution_count": null,
      "outputs": []
    },
    {
      "cell_type": "code",
      "source": [
        "df['tags'][20]"
      ],
      "metadata": {
        "execution": {
          "iopub.status.busy": "2024-02-26T06:18:51.435642Z",
          "iopub.execute_input": "2024-02-26T06:18:51.436399Z",
          "iopub.status.idle": "2024-02-26T06:18:51.449966Z",
          "shell.execute_reply.started": "2024-02-26T06:18:51.436353Z",
          "shell.execute_reply": "2024-02-26T06:18:51.448686Z"
        },
        "trusted": true,
        "id": "swGBgnx393m-",
        "outputId": "74eaa1bd-3c18-4412-af35-0fccf6021212"
      },
      "execution_count": null,
      "outputs": [
        {
          "execution_count": 34,
          "output_type": "execute_result",
          "data": {
            "text/plain": "\"Peter Parker is an outcast high schooler abandoned by his parents as a boy, leaving him to be raised by his Uncle Ben and Aunt May. Like most teenagers, Peter is trying to figure out who he is and how he got to be the person he is today. As Peter discovers a mysterious briefcase that belonged to his father, he begins a quest to understand his parents' disappearance – leading him directly to Oscorp and the lab of Dr. Curt Connors, his father's former partner. As Spider-Man is set on a collision course with Connors' alter ego, The Lizard, Peter will make life-altering choices to use his powers and shape his destiny to become a hero. Action Adventure Fantasy lossoffather vigilante serum marvelcomic scientificexperiment spiderbite maskedvigilante reboot superpowers geneticengineering socialoutcast duringcreditsstinger DenisLeary MarcWebb\""
          },
          "metadata": {}
        }
      ]
    },
    {
      "cell_type": "markdown",
      "source": [
        "**minimize string**"
      ],
      "metadata": {
        "id": "Z4YWbmJ093m-"
      }
    },
    {
      "cell_type": "code",
      "source": [
        "def minimize_string(string):\n",
        "    string=string.lower()\n",
        "\n",
        "    string=re.sub(\"[^A-Za-z0-9]+\",' ',string)\n",
        "    string=re.sub(r\"it's\",\"it is\",string)\n",
        "    string=re.sub(r\"he's\",\"he is\",string)\n",
        "    string=re.sub(r\"she's\",\"she is\",string)\n",
        "    string=re.sub(r\"this's\",\"this is\",string)\n",
        "\n",
        "    text=\"\"\n",
        "    for word in string.split():\n",
        "        if word not in Stopwords:\n",
        "            text+=lemmatizer.lemmatize(word)\n",
        "    return text"
      ],
      "metadata": {
        "execution": {
          "iopub.status.busy": "2024-02-26T06:18:51.451801Z",
          "iopub.execute_input": "2024-02-26T06:18:51.452285Z",
          "iopub.status.idle": "2024-02-26T06:18:51.462995Z",
          "shell.execute_reply.started": "2024-02-26T06:18:51.452244Z",
          "shell.execute_reply": "2024-02-26T06:18:51.461485Z"
        },
        "trusted": true,
        "id": "_4EjFh7g93nA"
      },
      "execution_count": null,
      "outputs": []
    },
    {
      "cell_type": "markdown",
      "source": [
        "**vectorizer**"
      ],
      "metadata": {
        "id": "2WMlUFUs93nA"
      }
    },
    {
      "cell_type": "code",
      "source": [
        "df['tags']=df['tags'].apply(lambda x: x.lower())"
      ],
      "metadata": {
        "execution": {
          "iopub.status.busy": "2024-02-26T06:18:51.465522Z",
          "iopub.execute_input": "2024-02-26T06:18:51.466049Z",
          "iopub.status.idle": "2024-02-26T06:18:51.488016Z",
          "shell.execute_reply.started": "2024-02-26T06:18:51.466006Z",
          "shell.execute_reply": "2024-02-26T06:18:51.486529Z"
        },
        "trusted": true,
        "id": "6xxvyRq293nA"
      },
      "execution_count": null,
      "outputs": []
    },
    {
      "cell_type": "code",
      "source": [
        "from sklearn.feature_extraction.text import CountVectorizer\n",
        "cv=CountVectorizer(max_features=500,stop_words='english')\n",
        "vector=cv.fit_transform(df['tags']).toarray()"
      ],
      "metadata": {
        "execution": {
          "iopub.status.busy": "2024-02-26T06:18:51.489599Z",
          "iopub.execute_input": "2024-02-26T06:18:51.490011Z",
          "iopub.status.idle": "2024-02-26T06:18:52.605407Z",
          "shell.execute_reply.started": "2024-02-26T06:18:51.489978Z",
          "shell.execute_reply": "2024-02-26T06:18:52.604184Z"
        },
        "trusted": true,
        "id": "Zen8BV5i93nA"
      },
      "execution_count": null,
      "outputs": []
    },
    {
      "cell_type": "code",
      "source": [
        "from sklearn.metrics.pairwise import cosine_similarity\n"
      ],
      "metadata": {
        "execution": {
          "iopub.status.busy": "2024-02-26T06:18:52.606839Z",
          "iopub.execute_input": "2024-02-26T06:18:52.607215Z",
          "iopub.status.idle": "2024-02-26T06:18:52.711651Z",
          "shell.execute_reply.started": "2024-02-26T06:18:52.607186Z",
          "shell.execute_reply": "2024-02-26T06:18:52.710205Z"
        },
        "trusted": true,
        "id": "0UqMRYX-93nA"
      },
      "execution_count": null,
      "outputs": []
    },
    {
      "cell_type": "code",
      "source": [
        "similarity = cosine_similarity(vector)\n",
        "similarity"
      ],
      "metadata": {
        "execution": {
          "iopub.status.busy": "2024-02-26T06:18:52.713419Z",
          "iopub.execute_input": "2024-02-26T06:18:52.713749Z",
          "iopub.status.idle": "2024-02-26T06:18:53.110358Z",
          "shell.execute_reply.started": "2024-02-26T06:18:52.713721Z",
          "shell.execute_reply": "2024-02-26T06:18:53.109526Z"
        },
        "trusted": true,
        "id": "xA0h8uN793nA",
        "outputId": "1510b8e4-03c3-48b6-f74b-c52dbe6f9822"
      },
      "execution_count": null,
      "outputs": [
        {
          "execution_count": 39,
          "output_type": "execute_result",
          "data": {
            "text/plain": "array([[1.        , 0.21938173, 0.12524486, ..., 0.05292561, 0.05564149,\n        0.        ],\n       [0.21938173, 1.        , 0.15569979, ..., 0.06579517, 0.        ,\n        0.        ],\n       [0.12524486, 0.15569979, 1.        , ..., 0.05634362, 0.        ,\n        0.        ],\n       ...,\n       [0.05292561, 0.06579517, 0.05634362, ..., 1.        , 0.15018785,\n        0.06579517],\n       [0.05564149, 0.        , 0.        , ..., 0.15018785, 1.        ,\n        0.13834289],\n       [0.        , 0.        , 0.        , ..., 0.06579517, 0.13834289,\n        1.        ]])"
          },
          "metadata": {}
        }
      ]
    },
    {
      "cell_type": "code",
      "source": [
        "srt=sorted(list(enumerate(similarity[0])),reverse=True,key=lambda x:x[1])[:5]\n",
        "index,pro=zip(*srt)\n",
        "print(pro[0])"
      ],
      "metadata": {
        "execution": {
          "iopub.status.busy": "2024-02-26T06:19:47.703909Z",
          "iopub.execute_input": "2024-02-26T06:19:47.704499Z",
          "iopub.status.idle": "2024-02-26T06:19:47.721722Z",
          "shell.execute_reply.started": "2024-02-26T06:19:47.704454Z",
          "shell.execute_reply": "2024-02-26T06:19:47.720323Z"
        },
        "trusted": true,
        "id": "nqi7vSCk93nB",
        "outputId": "d2052cfd-286b-4ab5-da1f-3ca41603e884"
      },
      "execution_count": null,
      "outputs": [
        {
          "name": "stdout",
          "text": "1.0\n",
          "output_type": "stream"
        }
      ]
    },
    {
      "cell_type": "code",
      "source": [
        "df.head()"
      ],
      "metadata": {
        "execution": {
          "iopub.status.busy": "2024-02-26T06:18:53.131517Z",
          "iopub.execute_input": "2024-02-26T06:18:53.131988Z",
          "iopub.status.idle": "2024-02-26T06:18:53.145551Z",
          "shell.execute_reply.started": "2024-02-26T06:18:53.131956Z",
          "shell.execute_reply": "2024-02-26T06:18:53.144288Z"
        },
        "trusted": true,
        "id": "cdbyv-S793nB",
        "outputId": "8bc01780-af34-489a-d4ec-036e750827db"
      },
      "execution_count": null,
      "outputs": [
        {
          "execution_count": 41,
          "output_type": "execute_result",
          "data": {
            "text/plain": "                                      title  movie_id  \\\n0                                    Avatar     19995   \n1  Pirates of the Caribbean: At World's End       285   \n2                                   Spectre    206647   \n3                     The Dark Knight Rises     49026   \n4                               John Carter     49529   \n\n                                                tags  \n0  in the 22nd century, a paraplegic marine is di...  \n1  captain barbossa, long believed to be dead, ha...  \n2  a cryptic message from bond’s past sends him o...  \n3  following the death of district attorney harve...  \n4  john carter is a war-weary, former military ca...  ",
            "text/html": "<div>\n<style scoped>\n    .dataframe tbody tr th:only-of-type {\n        vertical-align: middle;\n    }\n\n    .dataframe tbody tr th {\n        vertical-align: top;\n    }\n\n    .dataframe thead th {\n        text-align: right;\n    }\n</style>\n<table border=\"1\" class=\"dataframe\">\n  <thead>\n    <tr style=\"text-align: right;\">\n      <th></th>\n      <th>title</th>\n      <th>movie_id</th>\n      <th>tags</th>\n    </tr>\n  </thead>\n  <tbody>\n    <tr>\n      <th>0</th>\n      <td>Avatar</td>\n      <td>19995</td>\n      <td>in the 22nd century, a paraplegic marine is di...</td>\n    </tr>\n    <tr>\n      <th>1</th>\n      <td>Pirates of the Caribbean: At World's End</td>\n      <td>285</td>\n      <td>captain barbossa, long believed to be dead, ha...</td>\n    </tr>\n    <tr>\n      <th>2</th>\n      <td>Spectre</td>\n      <td>206647</td>\n      <td>a cryptic message from bond’s past sends him o...</td>\n    </tr>\n    <tr>\n      <th>3</th>\n      <td>The Dark Knight Rises</td>\n      <td>49026</td>\n      <td>following the death of district attorney harve...</td>\n    </tr>\n    <tr>\n      <th>4</th>\n      <td>John Carter</td>\n      <td>49529</td>\n      <td>john carter is a war-weary, former military ca...</td>\n    </tr>\n  </tbody>\n</table>\n</div>"
          },
          "metadata": {}
        }
      ]
    },
    {
      "cell_type": "code",
      "source": [
        "df.loc['Avatar'==df['title']].index[0]"
      ],
      "metadata": {
        "execution": {
          "iopub.status.busy": "2024-02-26T06:18:53.147238Z",
          "iopub.execute_input": "2024-02-26T06:18:53.148801Z",
          "iopub.status.idle": "2024-02-26T06:18:53.161908Z",
          "shell.execute_reply.started": "2024-02-26T06:18:53.148754Z",
          "shell.execute_reply": "2024-02-26T06:18:53.160465Z"
        },
        "trusted": true,
        "id": "cGrsZQKB93nB",
        "outputId": "6c14a125-067f-4a6b-a3a7-c595b3968187"
      },
      "execution_count": null,
      "outputs": [
        {
          "execution_count": 42,
          "output_type": "execute_result",
          "data": {
            "text/plain": "0"
          },
          "metadata": {}
        }
      ]
    },
    {
      "cell_type": "code",
      "source": [
        "def recommend_movie(movie_name):\n",
        "    position=df.loc[movie_name==df['title']].index[0]\n",
        "    sort_movie=sorted(list(enumerate(similarity[position])),reverse=True,key=lambda x:x[1])[1:6]\n",
        "    movie=[]\n",
        "    for i in sort_movie:\n",
        "        movie.append(df['title'][i[0]])\n",
        "    return movie"
      ],
      "metadata": {
        "execution": {
          "iopub.status.busy": "2024-02-26T06:18:53.163832Z",
          "iopub.execute_input": "2024-02-26T06:18:53.164326Z",
          "iopub.status.idle": "2024-02-26T06:18:53.175598Z",
          "shell.execute_reply.started": "2024-02-26T06:18:53.164285Z",
          "shell.execute_reply": "2024-02-26T06:18:53.174131Z"
        },
        "trusted": true,
        "id": "rex4zlhV93nB"
      },
      "execution_count": null,
      "outputs": []
    },
    {
      "cell_type": "markdown",
      "source": [],
      "metadata": {
        "id": "ZMluF1fm93nB"
      }
    },
    {
      "cell_type": "code",
      "source": [
        "recommend_movie('Spider-Man')"
      ],
      "metadata": {
        "execution": {
          "iopub.status.busy": "2024-02-26T06:18:53.177106Z",
          "iopub.execute_input": "2024-02-26T06:18:53.177434Z",
          "iopub.status.idle": "2024-02-26T06:18:53.197456Z",
          "shell.execute_reply.started": "2024-02-26T06:18:53.177406Z",
          "shell.execute_reply": "2024-02-26T06:18:53.195966Z"
        },
        "trusted": true,
        "id": "JW8dumzq93nC",
        "outputId": "88d9ada7-7a47-465d-dab4-d8fbe8ebcf62"
      },
      "execution_count": null,
      "outputs": [
        {
          "execution_count": 44,
          "output_type": "execute_result",
          "data": {
            "text/plain": "['Kick-Ass',\n 'Spider-Man 2',\n 'Superman III',\n 'From Russia with Love',\n 'The Amazing Spider-Man 2']"
          },
          "metadata": {}
        }
      ]
    }
  ]
}