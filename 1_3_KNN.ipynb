{
  "nbformat": 4,
  "nbformat_minor": 0,
  "metadata": {
    "colab": {
      "provenance": [],
      "gpuType": "T4",
      "authorship_tag": "ABX9TyPk9lZndJQY1+tZ2grJNlU2",
      "include_colab_link": true
    },
    "kernelspec": {
      "name": "python3",
      "display_name": "Python 3"
    },
    "language_info": {
      "name": "python"
    },
    "accelerator": "GPU"
  },
  "cells": [
    {
      "cell_type": "markdown",
      "metadata": {
        "id": "view-in-github",
        "colab_type": "text"
      },
      "source": [
        "<a href=\"https://colab.research.google.com/github/DANGKHOIk22/data-science/blob/main/1_3_KNN.ipynb\" target=\"_parent\"><img src=\"https://colab.research.google.com/assets/colab-badge.svg\" alt=\"Open In Colab\"/></a>"
      ]
    },
    {
      "cell_type": "markdown",
      "source": [
        "# **KNN-Nearsest**"
      ],
      "metadata": {
        "id": "fsTxcPVZbjDV"
      }
    },
    {
      "cell_type": "code",
      "execution_count": 94,
      "metadata": {
        "id": "lSJ6BSfi9PxU"
      },
      "outputs": [],
      "source": [
        "import numpy as np\n",
        "import pandas as pd\n",
        "from sklearn.model_selection import train_test_split\n",
        "from sklearn.metrics import accuracy_score"
      ]
    },
    {
      "cell_type": "code",
      "source": [
        "df=pd.read_csv(\"diabetes_prediction_dataset.csv\")"
      ],
      "metadata": {
        "id": "P695pppEFp-t"
      },
      "execution_count": 117,
      "outputs": []
    },
    {
      "cell_type": "code",
      "source": [
        "df['diabetes'].value_counts()"
      ],
      "metadata": {
        "colab": {
          "base_uri": "https://localhost:8080/"
        },
        "id": "AyLuh6WIGL_V",
        "outputId": "cf8154f8-2168-4d64-b5b9-0035e136b9f9"
      },
      "execution_count": 96,
      "outputs": [
        {
          "output_type": "execute_result",
          "data": {
            "text/plain": [
              "0    5260\n",
              "1     504\n",
              "Name: diabetes, dtype: int64"
            ]
          },
          "metadata": {},
          "execution_count": 96
        }
      ]
    },
    {
      "cell_type": "code",
      "source": [
        "df[df['diabetes']==1].index"
      ],
      "metadata": {
        "colab": {
          "base_uri": "https://localhost:8080/"
        },
        "id": "_pFp5vnFiHCA",
        "outputId": "c0631f12-3a28-4196-d988-db7e799e385b"
      },
      "execution_count": 114,
      "outputs": [
        {
          "output_type": "execute_result",
          "data": {
            "text/plain": [
              "Int64Index([ 504,  505,  506,  507,  508,  509,  510,  511,  512,  513,\n",
              "            ...\n",
              "             998,  999, 1000, 1001, 1002, 1003, 1004, 1005, 1006, 1007],\n",
              "           dtype='int64', length=504)"
            ]
          },
          "metadata": {},
          "execution_count": 114
        }
      ]
    },
    {
      "cell_type": "code",
      "source": [
        "df.isnull().sum()"
      ],
      "metadata": {
        "colab": {
          "base_uri": "https://localhost:8080/"
        },
        "id": "UvG1AXkeGxay",
        "outputId": "88a4ddc6-2119-4fa4-e3ea-5d6f49111ccc"
      },
      "execution_count": 97,
      "outputs": [
        {
          "output_type": "execute_result",
          "data": {
            "text/plain": [
              "gender                 0\n",
              "age                    0\n",
              "hypertension           0\n",
              "heart_disease          0\n",
              "smoking_history        0\n",
              "bmi                    0\n",
              "HbA1c_level            0\n",
              "blood_glucose_level    0\n",
              "diabetes               0\n",
              "dtype: int64"
            ]
          },
          "metadata": {},
          "execution_count": 97
        }
      ]
    },
    {
      "cell_type": "code",
      "source": [
        "df.drop(['gender','smoking_history'],axis=1,inplace=True)"
      ],
      "metadata": {
        "id": "2-PA4VN5G15F"
      },
      "execution_count": 98,
      "outputs": []
    },
    {
      "cell_type": "code",
      "source": [
        "label_one=df[df['diabetes']==1]\n",
        "label_zero=df[df['diabetes']==0]"
      ],
      "metadata": {
        "id": "_4PdMpjPWCVM"
      },
      "execution_count": 99,
      "outputs": []
    },
    {
      "cell_type": "code",
      "source": [
        "label_zero=label_zero.sample(n=504)"
      ],
      "metadata": {
        "id": "prsXoM7kWN_G"
      },
      "execution_count": 100,
      "outputs": []
    },
    {
      "cell_type": "code",
      "source": [
        "df=pd.concat([label_zero,label_one],ignore_index=True)"
      ],
      "metadata": {
        "id": "gg2Y7wuoWcm1"
      },
      "execution_count": 101,
      "outputs": []
    },
    {
      "cell_type": "code",
      "source": [
        "X=df.drop('diabetes',axis=1).to_numpy()\n",
        "y=df['diabetes'].to_numpy()"
      ],
      "metadata": {
        "id": "aqS2u9htHKuk"
      },
      "execution_count": 102,
      "outputs": []
    },
    {
      "cell_type": "code",
      "source": [
        "X_train,X_test,y_train,y_test=train_test_split(X,y,stratify=y,random_state=42,test_size=0.3)"
      ],
      "metadata": {
        "id": "KiXF26aVHTyd"
      },
      "execution_count": 103,
      "outputs": []
    },
    {
      "cell_type": "code",
      "source": [
        "y_train[10]"
      ],
      "metadata": {
        "colab": {
          "base_uri": "https://localhost:8080/"
        },
        "id": "Th-2HM4FS4Fu",
        "outputId": "61d31dd9-98be-4a60-cd53-dea7972743a2"
      },
      "execution_count": 104,
      "outputs": [
        {
          "output_type": "execute_result",
          "data": {
            "text/plain": [
              "1"
            ]
          },
          "metadata": {},
          "execution_count": 104
        }
      ]
    },
    {
      "cell_type": "code",
      "source": [
        "import numpy as np\n",
        "\n",
        "class KNN_classifier():\n",
        "    def __init__(self, distance_metric):\n",
        "        self.distance_metric = distance_metric\n",
        "\n",
        "    def get_distance_metric(self, training_point, test_point):\n",
        "        dist = 0\n",
        "        if self.distance_metric == 'euclidean':\n",
        "            for i in range(len(training_point)-1):\n",
        "                dist += (training_point[i] - test_point[i])**2\n",
        "            dist = np.sqrt(dist)\n",
        "            return dist\n",
        "        else:\n",
        "            for i in range(len(training_point)-1):\n",
        "                dist += abs(training_point[i] - test_point[i])\n",
        "            return dist\n",
        "\n",
        "    def nearest_point(self, X_train, y_train, test_point, k):\n",
        "        dist_list = []\n",
        "        for i in range(len(X_train)-1):\n",
        "            dist_list.append((self.get_distance_metric(X_train[i], test_point), y_train[i]))\n",
        "        #print(dist_list)\n",
        "        return sorted(dist_list, key=lambda x: x[0])[:k]\n",
        "\n",
        "    def predict(self, X_train, y_train, test_point, k):\n",
        "        dist_list = self.nearest_point(X_train, y_train, test_point, k)\n",
        "        label_list = [i[1] for i in dist_list]\n",
        "        #print(label_list)\n",
        "        return max(set(label_list), key=label_list.count)"
      ],
      "metadata": {
        "id": "dw7bTb682van"
      },
      "execution_count": 105,
      "outputs": []
    },
    {
      "cell_type": "code",
      "source": [
        "X_train[:10]"
      ],
      "metadata": {
        "colab": {
          "base_uri": "https://localhost:8080/"
        },
        "id": "ptNySpQhK7CG",
        "outputId": "427db5d1-6e15-4256-a573-dea1092e2c36"
      },
      "execution_count": 106,
      "outputs": [
        {
          "output_type": "execute_result",
          "data": {
            "text/plain": [
              "array([[ 24.  ,   0.  ,   0.  ,  25.15,   6.1 , 155.  ],\n",
              "       [ 59.  ,   0.  ,   0.  ,  40.59,   4.  , 159.  ],\n",
              "       [ 60.  ,   0.  ,   0.  ,  30.47,   5.7 , 159.  ],\n",
              "       [ 46.  ,   0.  ,   0.  ,  29.26,   3.5 , 158.  ],\n",
              "       [  8.  ,   0.  ,   0.  ,  27.32,   5.7 , 200.  ],\n",
              "       [ 27.  ,   0.  ,   0.  ,  27.32,   6.6 , 145.  ],\n",
              "       [ 56.  ,   1.  ,   0.  ,  28.22,   7.5 , 140.  ],\n",
              "       [ 80.  ,   1.  ,   0.  ,  32.05,   9.  , 130.  ],\n",
              "       [ 61.  ,   0.  ,   0.  ,  29.28,   5.  , 160.  ],\n",
              "       [ 69.  ,   0.  ,   1.  ,  27.32,   6.5 , 200.  ]])"
            ]
          },
          "metadata": {},
          "execution_count": 106
        }
      ]
    },
    {
      "cell_type": "code",
      "source": [
        "classifier=KNN_classifier(distance_metric='euclidean')\n",
        "nearest_label=classifier.predict(X_train[:10],y_train[:10],X_train[10],k=5)"
      ],
      "metadata": {
        "id": "uHXYMutQB-Ik"
      },
      "execution_count": 107,
      "outputs": []
    },
    {
      "cell_type": "code",
      "source": [
        "y_pred=[]\n",
        "for i in range(len(y_test)):\n",
        "  y_pred.append(classifier.predict(X_train,y_train,X_test[i],k=5))\n"
      ],
      "metadata": {
        "id": "heDOJ1NJB97t"
      },
      "execution_count": 108,
      "outputs": []
    },
    {
      "cell_type": "code",
      "source": [
        "print(accuracy_score(y_test,y_pred)*100)"
      ],
      "metadata": {
        "colab": {
          "base_uri": "https://localhost:8080/"
        },
        "id": "myizPDKpXbut",
        "outputId": "9d1a61b6-07aa-4b04-9145-2c6f8c27b4ea"
      },
      "execution_count": 109,
      "outputs": [
        {
          "output_type": "stream",
          "name": "stdout",
          "text": [
            "76.23762376237624\n"
          ]
        }
      ]
    },
    {
      "cell_type": "markdown",
      "source": [
        "# SVC"
      ],
      "metadata": {
        "id": "9Zs9BRSRbzOt"
      }
    },
    {
      "cell_type": "code",
      "source": [],
      "metadata": {
        "id": "IuEK3eNlm2G9"
      },
      "execution_count": null,
      "outputs": []
    }
  ]
}