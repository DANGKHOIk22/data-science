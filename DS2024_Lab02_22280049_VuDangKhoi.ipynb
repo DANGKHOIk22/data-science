{
  "nbformat": 4,
  "nbformat_minor": 0,
  "metadata": {
    "colab": {
      "provenance": [],
      "gpuType": "T4",
      "authorship_tag": "ABX9TyNRg1jShDQsXbH1z/tP4Too",
      "include_colab_link": true
    },
    "kernelspec": {
      "name": "python3",
      "display_name": "Python 3"
    },
    "language_info": {
      "name": "python"
    },
    "accelerator": "GPU"
  },
  "cells": [
    {
      "cell_type": "markdown",
      "metadata": {
        "id": "view-in-github",
        "colab_type": "text"
      },
      "source": [
        "<a href=\"https://colab.research.google.com/github/DANGKHOIk22/data-science/blob/main/DS2024_Lab02_22280049_VuDangKhoi.ipynb\" target=\"_parent\"><img src=\"https://colab.research.google.com/assets/colab-badge.svg\" alt=\"Open In Colab\"/></a>"
      ]
    },
    {
      "cell_type": "code",
      "execution_count": null,
      "metadata": {
        "id": "9LgAXdtrykLX"
      },
      "outputs": [],
      "source": [
        "import pandas as pd\n",
        "import numpy as np\n",
        "import matplotlib.pyplot as plt\n",
        "import seaborn as sns\n",
        "from sklearn.model_selection import train_test_split\n",
        "from sklearn.preprocessing import StandardScaler\n",
        "from sklearn.linear_model import LinearRegression\n",
        "from sklearn.metrics import mean_squared_error as MSE\n",
        "from sklearn.metrics import r2_score as R2\n",
        "from sklearn.metrics import mean_absolute_error as MAE\n",
        "from sklearn.decomposition import PCA\n",
        "from sklearn.model_selection import GridSearchCV\n",
        "from sklearn.preprocessing import PolynomialFeatures\n",
        "from sklearn.linear_model import Ridge\n",
        "from sklearn.linear_model import ElasticNet\n",
        "from sklearn.linear_model import Lasso\n",
        "from sklearn.model_selection import ShuffleSplit\n",
        "from sklearn.model_selection import cross_val_score\n",
        "from sklearn.pipeline import Pipeline\n",
        "from math import radians, cos, sin, asin, sqrt"
      ]
    },
    {
      "cell_type": "code",
      "source": [
        "df = pd.read_csv(\"Book1.csv\").drop(\"No\",axis=1)"
      ],
      "metadata": {
        "id": "ctAvui6Nyzar"
      },
      "execution_count": null,
      "outputs": []
    },
    {
      "cell_type": "markdown",
      "source": [
        "# **Data Exploration**"
      ],
      "metadata": {
        "id": "D6FLTjsc2JNO"
      }
    },
    {
      "cell_type": "code",
      "source": [
        "df.head()"
      ],
      "metadata": {
        "colab": {
          "base_uri": "https://localhost:8080/",
          "height": 206
        },
        "id": "u_hewvIE2xWB",
        "outputId": "b8987b3e-649e-4dd6-a791-cf7e12ce1f26"
      },
      "execution_count": null,
      "outputs": [
        {
          "output_type": "execute_result",
          "data": {
            "text/plain": [
              "   X1 transaction date  X2 house age  X3 distance to the nearest MRT station  \\\n",
              "0             2012.917          32.0                                84.87882   \n",
              "1             2012.917          19.5                               306.59470   \n",
              "2             2013.583          13.3                               561.98450   \n",
              "3             2013.500          13.3                               561.98450   \n",
              "4             2012.833           5.0                               390.56840   \n",
              "\n",
              "   X4 number of convenience stores  X5 latitude  X6 longitude  \\\n",
              "0                               10     24.98298     121.54024   \n",
              "1                                9     24.98034     121.53951   \n",
              "2                                5     24.98746     121.54391   \n",
              "3                                5     24.98746     121.54391   \n",
              "4                                5     24.97937     121.54245   \n",
              "\n",
              "   Y house price of unit area  \n",
              "0                        37.9  \n",
              "1                        42.2  \n",
              "2                        47.3  \n",
              "3                        54.8  \n",
              "4                        43.1  "
            ],
            "text/html": [
              "\n",
              "  <div id=\"df-2a4b6ff5-ee70-49c6-9979-348bad9497ed\" class=\"colab-df-container\">\n",
              "    <div>\n",
              "<style scoped>\n",
              "    .dataframe tbody tr th:only-of-type {\n",
              "        vertical-align: middle;\n",
              "    }\n",
              "\n",
              "    .dataframe tbody tr th {\n",
              "        vertical-align: top;\n",
              "    }\n",
              "\n",
              "    .dataframe thead th {\n",
              "        text-align: right;\n",
              "    }\n",
              "</style>\n",
              "<table border=\"1\" class=\"dataframe\">\n",
              "  <thead>\n",
              "    <tr style=\"text-align: right;\">\n",
              "      <th></th>\n",
              "      <th>X1 transaction date</th>\n",
              "      <th>X2 house age</th>\n",
              "      <th>X3 distance to the nearest MRT station</th>\n",
              "      <th>X4 number of convenience stores</th>\n",
              "      <th>X5 latitude</th>\n",
              "      <th>X6 longitude</th>\n",
              "      <th>Y house price of unit area</th>\n",
              "    </tr>\n",
              "  </thead>\n",
              "  <tbody>\n",
              "    <tr>\n",
              "      <th>0</th>\n",
              "      <td>2012.917</td>\n",
              "      <td>32.0</td>\n",
              "      <td>84.87882</td>\n",
              "      <td>10</td>\n",
              "      <td>24.98298</td>\n",
              "      <td>121.54024</td>\n",
              "      <td>37.9</td>\n",
              "    </tr>\n",
              "    <tr>\n",
              "      <th>1</th>\n",
              "      <td>2012.917</td>\n",
              "      <td>19.5</td>\n",
              "      <td>306.59470</td>\n",
              "      <td>9</td>\n",
              "      <td>24.98034</td>\n",
              "      <td>121.53951</td>\n",
              "      <td>42.2</td>\n",
              "    </tr>\n",
              "    <tr>\n",
              "      <th>2</th>\n",
              "      <td>2013.583</td>\n",
              "      <td>13.3</td>\n",
              "      <td>561.98450</td>\n",
              "      <td>5</td>\n",
              "      <td>24.98746</td>\n",
              "      <td>121.54391</td>\n",
              "      <td>47.3</td>\n",
              "    </tr>\n",
              "    <tr>\n",
              "      <th>3</th>\n",
              "      <td>2013.500</td>\n",
              "      <td>13.3</td>\n",
              "      <td>561.98450</td>\n",
              "      <td>5</td>\n",
              "      <td>24.98746</td>\n",
              "      <td>121.54391</td>\n",
              "      <td>54.8</td>\n",
              "    </tr>\n",
              "    <tr>\n",
              "      <th>4</th>\n",
              "      <td>2012.833</td>\n",
              "      <td>5.0</td>\n",
              "      <td>390.56840</td>\n",
              "      <td>5</td>\n",
              "      <td>24.97937</td>\n",
              "      <td>121.54245</td>\n",
              "      <td>43.1</td>\n",
              "    </tr>\n",
              "  </tbody>\n",
              "</table>\n",
              "</div>\n",
              "    <div class=\"colab-df-buttons\">\n",
              "\n",
              "  <div class=\"colab-df-container\">\n",
              "    <button class=\"colab-df-convert\" onclick=\"convertToInteractive('df-2a4b6ff5-ee70-49c6-9979-348bad9497ed')\"\n",
              "            title=\"Convert this dataframe to an interactive table.\"\n",
              "            style=\"display:none;\">\n",
              "\n",
              "  <svg xmlns=\"http://www.w3.org/2000/svg\" height=\"24px\" viewBox=\"0 -960 960 960\">\n",
              "    <path d=\"M120-120v-720h720v720H120Zm60-500h600v-160H180v160Zm220 220h160v-160H400v160Zm0 220h160v-160H400v160ZM180-400h160v-160H180v160Zm440 0h160v-160H620v160ZM180-180h160v-160H180v160Zm440 0h160v-160H620v160Z\"/>\n",
              "  </svg>\n",
              "    </button>\n",
              "\n",
              "  <style>\n",
              "    .colab-df-container {\n",
              "      display:flex;\n",
              "      gap: 12px;\n",
              "    }\n",
              "\n",
              "    .colab-df-convert {\n",
              "      background-color: #E8F0FE;\n",
              "      border: none;\n",
              "      border-radius: 50%;\n",
              "      cursor: pointer;\n",
              "      display: none;\n",
              "      fill: #1967D2;\n",
              "      height: 32px;\n",
              "      padding: 0 0 0 0;\n",
              "      width: 32px;\n",
              "    }\n",
              "\n",
              "    .colab-df-convert:hover {\n",
              "      background-color: #E2EBFA;\n",
              "      box-shadow: 0px 1px 2px rgba(60, 64, 67, 0.3), 0px 1px 3px 1px rgba(60, 64, 67, 0.15);\n",
              "      fill: #174EA6;\n",
              "    }\n",
              "\n",
              "    .colab-df-buttons div {\n",
              "      margin-bottom: 4px;\n",
              "    }\n",
              "\n",
              "    [theme=dark] .colab-df-convert {\n",
              "      background-color: #3B4455;\n",
              "      fill: #D2E3FC;\n",
              "    }\n",
              "\n",
              "    [theme=dark] .colab-df-convert:hover {\n",
              "      background-color: #434B5C;\n",
              "      box-shadow: 0px 1px 3px 1px rgba(0, 0, 0, 0.15);\n",
              "      filter: drop-shadow(0px 1px 2px rgba(0, 0, 0, 0.3));\n",
              "      fill: #FFFFFF;\n",
              "    }\n",
              "  </style>\n",
              "\n",
              "    <script>\n",
              "      const buttonEl =\n",
              "        document.querySelector('#df-2a4b6ff5-ee70-49c6-9979-348bad9497ed button.colab-df-convert');\n",
              "      buttonEl.style.display =\n",
              "        google.colab.kernel.accessAllowed ? 'block' : 'none';\n",
              "\n",
              "      async function convertToInteractive(key) {\n",
              "        const element = document.querySelector('#df-2a4b6ff5-ee70-49c6-9979-348bad9497ed');\n",
              "        const dataTable =\n",
              "          await google.colab.kernel.invokeFunction('convertToInteractive',\n",
              "                                                    [key], {});\n",
              "        if (!dataTable) return;\n",
              "\n",
              "        const docLinkHtml = 'Like what you see? Visit the ' +\n",
              "          '<a target=\"_blank\" href=https://colab.research.google.com/notebooks/data_table.ipynb>data table notebook</a>'\n",
              "          + ' to learn more about interactive tables.';\n",
              "        element.innerHTML = '';\n",
              "        dataTable['output_type'] = 'display_data';\n",
              "        await google.colab.output.renderOutput(dataTable, element);\n",
              "        const docLink = document.createElement('div');\n",
              "        docLink.innerHTML = docLinkHtml;\n",
              "        element.appendChild(docLink);\n",
              "      }\n",
              "    </script>\n",
              "  </div>\n",
              "\n",
              "\n",
              "<div id=\"df-94fc554f-2d3c-4345-b684-140f9042f4bf\">\n",
              "  <button class=\"colab-df-quickchart\" onclick=\"quickchart('df-94fc554f-2d3c-4345-b684-140f9042f4bf')\"\n",
              "            title=\"Suggest charts\"\n",
              "            style=\"display:none;\">\n",
              "\n",
              "<svg xmlns=\"http://www.w3.org/2000/svg\" height=\"24px\"viewBox=\"0 0 24 24\"\n",
              "     width=\"24px\">\n",
              "    <g>\n",
              "        <path d=\"M19 3H5c-1.1 0-2 .9-2 2v14c0 1.1.9 2 2 2h14c1.1 0 2-.9 2-2V5c0-1.1-.9-2-2-2zM9 17H7v-7h2v7zm4 0h-2V7h2v10zm4 0h-2v-4h2v4z\"/>\n",
              "    </g>\n",
              "</svg>\n",
              "  </button>\n",
              "\n",
              "<style>\n",
              "  .colab-df-quickchart {\n",
              "      --bg-color: #E8F0FE;\n",
              "      --fill-color: #1967D2;\n",
              "      --hover-bg-color: #E2EBFA;\n",
              "      --hover-fill-color: #174EA6;\n",
              "      --disabled-fill-color: #AAA;\n",
              "      --disabled-bg-color: #DDD;\n",
              "  }\n",
              "\n",
              "  [theme=dark] .colab-df-quickchart {\n",
              "      --bg-color: #3B4455;\n",
              "      --fill-color: #D2E3FC;\n",
              "      --hover-bg-color: #434B5C;\n",
              "      --hover-fill-color: #FFFFFF;\n",
              "      --disabled-bg-color: #3B4455;\n",
              "      --disabled-fill-color: #666;\n",
              "  }\n",
              "\n",
              "  .colab-df-quickchart {\n",
              "    background-color: var(--bg-color);\n",
              "    border: none;\n",
              "    border-radius: 50%;\n",
              "    cursor: pointer;\n",
              "    display: none;\n",
              "    fill: var(--fill-color);\n",
              "    height: 32px;\n",
              "    padding: 0;\n",
              "    width: 32px;\n",
              "  }\n",
              "\n",
              "  .colab-df-quickchart:hover {\n",
              "    background-color: var(--hover-bg-color);\n",
              "    box-shadow: 0 1px 2px rgba(60, 64, 67, 0.3), 0 1px 3px 1px rgba(60, 64, 67, 0.15);\n",
              "    fill: var(--button-hover-fill-color);\n",
              "  }\n",
              "\n",
              "  .colab-df-quickchart-complete:disabled,\n",
              "  .colab-df-quickchart-complete:disabled:hover {\n",
              "    background-color: var(--disabled-bg-color);\n",
              "    fill: var(--disabled-fill-color);\n",
              "    box-shadow: none;\n",
              "  }\n",
              "\n",
              "  .colab-df-spinner {\n",
              "    border: 2px solid var(--fill-color);\n",
              "    border-color: transparent;\n",
              "    border-bottom-color: var(--fill-color);\n",
              "    animation:\n",
              "      spin 1s steps(1) infinite;\n",
              "  }\n",
              "\n",
              "  @keyframes spin {\n",
              "    0% {\n",
              "      border-color: transparent;\n",
              "      border-bottom-color: var(--fill-color);\n",
              "      border-left-color: var(--fill-color);\n",
              "    }\n",
              "    20% {\n",
              "      border-color: transparent;\n",
              "      border-left-color: var(--fill-color);\n",
              "      border-top-color: var(--fill-color);\n",
              "    }\n",
              "    30% {\n",
              "      border-color: transparent;\n",
              "      border-left-color: var(--fill-color);\n",
              "      border-top-color: var(--fill-color);\n",
              "      border-right-color: var(--fill-color);\n",
              "    }\n",
              "    40% {\n",
              "      border-color: transparent;\n",
              "      border-right-color: var(--fill-color);\n",
              "      border-top-color: var(--fill-color);\n",
              "    }\n",
              "    60% {\n",
              "      border-color: transparent;\n",
              "      border-right-color: var(--fill-color);\n",
              "    }\n",
              "    80% {\n",
              "      border-color: transparent;\n",
              "      border-right-color: var(--fill-color);\n",
              "      border-bottom-color: var(--fill-color);\n",
              "    }\n",
              "    90% {\n",
              "      border-color: transparent;\n",
              "      border-bottom-color: var(--fill-color);\n",
              "    }\n",
              "  }\n",
              "</style>\n",
              "\n",
              "  <script>\n",
              "    async function quickchart(key) {\n",
              "      const quickchartButtonEl =\n",
              "        document.querySelector('#' + key + ' button');\n",
              "      quickchartButtonEl.disabled = true;  // To prevent multiple clicks.\n",
              "      quickchartButtonEl.classList.add('colab-df-spinner');\n",
              "      try {\n",
              "        const charts = await google.colab.kernel.invokeFunction(\n",
              "            'suggestCharts', [key], {});\n",
              "      } catch (error) {\n",
              "        console.error('Error during call to suggestCharts:', error);\n",
              "      }\n",
              "      quickchartButtonEl.classList.remove('colab-df-spinner');\n",
              "      quickchartButtonEl.classList.add('colab-df-quickchart-complete');\n",
              "    }\n",
              "    (() => {\n",
              "      let quickchartButtonEl =\n",
              "        document.querySelector('#df-94fc554f-2d3c-4345-b684-140f9042f4bf button');\n",
              "      quickchartButtonEl.style.display =\n",
              "        google.colab.kernel.accessAllowed ? 'block' : 'none';\n",
              "    })();\n",
              "  </script>\n",
              "</div>\n",
              "\n",
              "    </div>\n",
              "  </div>\n"
            ],
            "application/vnd.google.colaboratory.intrinsic+json": {
              "type": "dataframe",
              "variable_name": "df",
              "summary": "{\n  \"name\": \"df\",\n  \"rows\": 414,\n  \"fields\": [\n    {\n      \"column\": \"X1 transaction date\",\n      \"properties\": {\n        \"dtype\": \"number\",\n        \"std\": 0.2819672402630115,\n        \"min\": 2012.667,\n        \"max\": 2013.583,\n        \"num_unique_values\": 12,\n        \"samples\": [\n          2013.0,\n          2012.75,\n          2012.917\n        ],\n        \"semantic_type\": \"\",\n        \"description\": \"\"\n      }\n    },\n    {\n      \"column\": \"X2 house age\",\n      \"properties\": {\n        \"dtype\": \"number\",\n        \"std\": 11.39248453324253,\n        \"min\": 0.0,\n        \"max\": 43.8,\n        \"num_unique_values\": 236,\n        \"samples\": [\n          38.2,\n          3.4,\n          27.5\n        ],\n        \"semantic_type\": \"\",\n        \"description\": \"\"\n      }\n    },\n    {\n      \"column\": \"X3 distance to the nearest MRT station\",\n      \"properties\": {\n        \"dtype\": \"number\",\n        \"std\": 1262.1095954078512,\n        \"min\": 23.38284,\n        \"max\": 6488.021,\n        \"num_unique_values\": 259,\n        \"samples\": [\n          552.4371,\n          4605.749,\n          405.2134\n        ],\n        \"semantic_type\": \"\",\n        \"description\": \"\"\n      }\n    },\n    {\n      \"column\": \"X4 number of convenience stores\",\n      \"properties\": {\n        \"dtype\": \"number\",\n        \"std\": 2,\n        \"min\": 0,\n        \"max\": 10,\n        \"num_unique_values\": 11,\n        \"samples\": [\n          6,\n          10,\n          8\n        ],\n        \"semantic_type\": \"\",\n        \"description\": \"\"\n      }\n    },\n    {\n      \"column\": \"X5 latitude\",\n      \"properties\": {\n        \"dtype\": \"number\",\n        \"std\": 0.012410196590450338,\n        \"min\": 24.93207,\n        \"max\": 25.01459,\n        \"num_unique_values\": 234,\n        \"samples\": [\n          24.98573,\n          24.96143,\n          24.96696\n        ],\n        \"semantic_type\": \"\",\n        \"description\": \"\"\n      }\n    },\n    {\n      \"column\": \"X6 longitude\",\n      \"properties\": {\n        \"dtype\": \"number\",\n        \"std\": 0.015347183004592205,\n        \"min\": 121.47353,\n        \"max\": 121.56627,\n        \"num_unique_values\": 232,\n        \"samples\": [\n          121.54634,\n          121.50831,\n          121.53372\n        ],\n        \"semantic_type\": \"\",\n        \"description\": \"\"\n      }\n    },\n    {\n      \"column\": \"Y house price of unit area\",\n      \"properties\": {\n        \"dtype\": \"number\",\n        \"std\": 13.606487697735314,\n        \"min\": 7.6,\n        \"max\": 117.5,\n        \"num_unique_values\": 270,\n        \"samples\": [\n          25.0,\n          30.7,\n          18.3\n        ],\n        \"semantic_type\": \"\",\n        \"description\": \"\"\n      }\n    }\n  ]\n}"
            }
          },
          "metadata": {},
          "execution_count": 481
        }
      ]
    },
    {
      "cell_type": "markdown",
      "source": [
        "Most of data of features is float"
      ],
      "metadata": {
        "id": "LeVNBsvC8Nwq"
      }
    },
    {
      "cell_type": "code",
      "source": [
        "df.info()"
      ],
      "metadata": {
        "colab": {
          "base_uri": "https://localhost:8080/"
        },
        "id": "NaDwdZr71FbT",
        "outputId": "6a3d050b-c018-441c-fe1a-7b633ba44e16"
      },
      "execution_count": null,
      "outputs": [
        {
          "output_type": "stream",
          "name": "stdout",
          "text": [
            "<class 'pandas.core.frame.DataFrame'>\n",
            "RangeIndex: 414 entries, 0 to 413\n",
            "Data columns (total 7 columns):\n",
            " #   Column                                  Non-Null Count  Dtype  \n",
            "---  ------                                  --------------  -----  \n",
            " 0   X1 transaction date                     414 non-null    float64\n",
            " 1   X2 house age                            414 non-null    float64\n",
            " 2   X3 distance to the nearest MRT station  414 non-null    float64\n",
            " 3   X4 number of convenience stores         414 non-null    int64  \n",
            " 4   X5 latitude                             414 non-null    float64\n",
            " 5   X6 longitude                            414 non-null    float64\n",
            " 6   Y house price of unit area              414 non-null    float64\n",
            "dtypes: float64(6), int64(1)\n",
            "memory usage: 22.8 KB\n"
          ]
        }
      ]
    },
    {
      "cell_type": "markdown",
      "source": [
        "414 rows, 7 columns"
      ],
      "metadata": {
        "id": "QM__oTw08Rfg"
      }
    },
    {
      "cell_type": "code",
      "source": [
        "df.shape"
      ],
      "metadata": {
        "colab": {
          "base_uri": "https://localhost:8080/"
        },
        "id": "NDA5T-YH2Pco",
        "outputId": "ebeccdf1-cff0-419c-e2e8-6cb18faa4e91"
      },
      "execution_count": null,
      "outputs": [
        {
          "output_type": "execute_result",
          "data": {
            "text/plain": [
              "(414, 7)"
            ]
          },
          "metadata": {},
          "execution_count": 483
        }
      ]
    },
    {
      "cell_type": "code",
      "source": [
        "df.describe()"
      ],
      "metadata": {
        "colab": {
          "base_uri": "https://localhost:8080/",
          "height": 300
        },
        "id": "UouBzjM_2tFI",
        "outputId": "7836be89-1ed9-40a6-c6b2-62a5982489e8"
      },
      "execution_count": null,
      "outputs": [
        {
          "output_type": "execute_result",
          "data": {
            "text/plain": [
              "       X1 transaction date  X2 house age  \\\n",
              "count           414.000000    414.000000   \n",
              "mean           2013.148971     17.712560   \n",
              "std               0.281967     11.392485   \n",
              "min            2012.667000      0.000000   \n",
              "25%            2012.917000      9.025000   \n",
              "50%            2013.167000     16.100000   \n",
              "75%            2013.417000     28.150000   \n",
              "max            2013.583000     43.800000   \n",
              "\n",
              "       X3 distance to the nearest MRT station  \\\n",
              "count                              414.000000   \n",
              "mean                              1083.885689   \n",
              "std                               1262.109595   \n",
              "min                                 23.382840   \n",
              "25%                                289.324800   \n",
              "50%                                492.231300   \n",
              "75%                               1454.279000   \n",
              "max                               6488.021000   \n",
              "\n",
              "       X4 number of convenience stores  X5 latitude  X6 longitude  \\\n",
              "count                       414.000000   414.000000    414.000000   \n",
              "mean                          4.094203    24.969030    121.533361   \n",
              "std                           2.945562     0.012410      0.015347   \n",
              "min                           0.000000    24.932070    121.473530   \n",
              "25%                           1.000000    24.963000    121.528085   \n",
              "50%                           4.000000    24.971100    121.538630   \n",
              "75%                           6.000000    24.977455    121.543305   \n",
              "max                          10.000000    25.014590    121.566270   \n",
              "\n",
              "       Y house price of unit area  \n",
              "count                  414.000000  \n",
              "mean                    37.980193  \n",
              "std                     13.606488  \n",
              "min                      7.600000  \n",
              "25%                     27.700000  \n",
              "50%                     38.450000  \n",
              "75%                     46.600000  \n",
              "max                    117.500000  "
            ],
            "text/html": [
              "\n",
              "  <div id=\"df-ebb5aabf-f37a-4fd2-b4cb-0a9d55174037\" class=\"colab-df-container\">\n",
              "    <div>\n",
              "<style scoped>\n",
              "    .dataframe tbody tr th:only-of-type {\n",
              "        vertical-align: middle;\n",
              "    }\n",
              "\n",
              "    .dataframe tbody tr th {\n",
              "        vertical-align: top;\n",
              "    }\n",
              "\n",
              "    .dataframe thead th {\n",
              "        text-align: right;\n",
              "    }\n",
              "</style>\n",
              "<table border=\"1\" class=\"dataframe\">\n",
              "  <thead>\n",
              "    <tr style=\"text-align: right;\">\n",
              "      <th></th>\n",
              "      <th>X1 transaction date</th>\n",
              "      <th>X2 house age</th>\n",
              "      <th>X3 distance to the nearest MRT station</th>\n",
              "      <th>X4 number of convenience stores</th>\n",
              "      <th>X5 latitude</th>\n",
              "      <th>X6 longitude</th>\n",
              "      <th>Y house price of unit area</th>\n",
              "    </tr>\n",
              "  </thead>\n",
              "  <tbody>\n",
              "    <tr>\n",
              "      <th>count</th>\n",
              "      <td>414.000000</td>\n",
              "      <td>414.000000</td>\n",
              "      <td>414.000000</td>\n",
              "      <td>414.000000</td>\n",
              "      <td>414.000000</td>\n",
              "      <td>414.000000</td>\n",
              "      <td>414.000000</td>\n",
              "    </tr>\n",
              "    <tr>\n",
              "      <th>mean</th>\n",
              "      <td>2013.148971</td>\n",
              "      <td>17.712560</td>\n",
              "      <td>1083.885689</td>\n",
              "      <td>4.094203</td>\n",
              "      <td>24.969030</td>\n",
              "      <td>121.533361</td>\n",
              "      <td>37.980193</td>\n",
              "    </tr>\n",
              "    <tr>\n",
              "      <th>std</th>\n",
              "      <td>0.281967</td>\n",
              "      <td>11.392485</td>\n",
              "      <td>1262.109595</td>\n",
              "      <td>2.945562</td>\n",
              "      <td>0.012410</td>\n",
              "      <td>0.015347</td>\n",
              "      <td>13.606488</td>\n",
              "    </tr>\n",
              "    <tr>\n",
              "      <th>min</th>\n",
              "      <td>2012.667000</td>\n",
              "      <td>0.000000</td>\n",
              "      <td>23.382840</td>\n",
              "      <td>0.000000</td>\n",
              "      <td>24.932070</td>\n",
              "      <td>121.473530</td>\n",
              "      <td>7.600000</td>\n",
              "    </tr>\n",
              "    <tr>\n",
              "      <th>25%</th>\n",
              "      <td>2012.917000</td>\n",
              "      <td>9.025000</td>\n",
              "      <td>289.324800</td>\n",
              "      <td>1.000000</td>\n",
              "      <td>24.963000</td>\n",
              "      <td>121.528085</td>\n",
              "      <td>27.700000</td>\n",
              "    </tr>\n",
              "    <tr>\n",
              "      <th>50%</th>\n",
              "      <td>2013.167000</td>\n",
              "      <td>16.100000</td>\n",
              "      <td>492.231300</td>\n",
              "      <td>4.000000</td>\n",
              "      <td>24.971100</td>\n",
              "      <td>121.538630</td>\n",
              "      <td>38.450000</td>\n",
              "    </tr>\n",
              "    <tr>\n",
              "      <th>75%</th>\n",
              "      <td>2013.417000</td>\n",
              "      <td>28.150000</td>\n",
              "      <td>1454.279000</td>\n",
              "      <td>6.000000</td>\n",
              "      <td>24.977455</td>\n",
              "      <td>121.543305</td>\n",
              "      <td>46.600000</td>\n",
              "    </tr>\n",
              "    <tr>\n",
              "      <th>max</th>\n",
              "      <td>2013.583000</td>\n",
              "      <td>43.800000</td>\n",
              "      <td>6488.021000</td>\n",
              "      <td>10.000000</td>\n",
              "      <td>25.014590</td>\n",
              "      <td>121.566270</td>\n",
              "      <td>117.500000</td>\n",
              "    </tr>\n",
              "  </tbody>\n",
              "</table>\n",
              "</div>\n",
              "    <div class=\"colab-df-buttons\">\n",
              "\n",
              "  <div class=\"colab-df-container\">\n",
              "    <button class=\"colab-df-convert\" onclick=\"convertToInteractive('df-ebb5aabf-f37a-4fd2-b4cb-0a9d55174037')\"\n",
              "            title=\"Convert this dataframe to an interactive table.\"\n",
              "            style=\"display:none;\">\n",
              "\n",
              "  <svg xmlns=\"http://www.w3.org/2000/svg\" height=\"24px\" viewBox=\"0 -960 960 960\">\n",
              "    <path d=\"M120-120v-720h720v720H120Zm60-500h600v-160H180v160Zm220 220h160v-160H400v160Zm0 220h160v-160H400v160ZM180-400h160v-160H180v160Zm440 0h160v-160H620v160ZM180-180h160v-160H180v160Zm440 0h160v-160H620v160Z\"/>\n",
              "  </svg>\n",
              "    </button>\n",
              "\n",
              "  <style>\n",
              "    .colab-df-container {\n",
              "      display:flex;\n",
              "      gap: 12px;\n",
              "    }\n",
              "\n",
              "    .colab-df-convert {\n",
              "      background-color: #E8F0FE;\n",
              "      border: none;\n",
              "      border-radius: 50%;\n",
              "      cursor: pointer;\n",
              "      display: none;\n",
              "      fill: #1967D2;\n",
              "      height: 32px;\n",
              "      padding: 0 0 0 0;\n",
              "      width: 32px;\n",
              "    }\n",
              "\n",
              "    .colab-df-convert:hover {\n",
              "      background-color: #E2EBFA;\n",
              "      box-shadow: 0px 1px 2px rgba(60, 64, 67, 0.3), 0px 1px 3px 1px rgba(60, 64, 67, 0.15);\n",
              "      fill: #174EA6;\n",
              "    }\n",
              "\n",
              "    .colab-df-buttons div {\n",
              "      margin-bottom: 4px;\n",
              "    }\n",
              "\n",
              "    [theme=dark] .colab-df-convert {\n",
              "      background-color: #3B4455;\n",
              "      fill: #D2E3FC;\n",
              "    }\n",
              "\n",
              "    [theme=dark] .colab-df-convert:hover {\n",
              "      background-color: #434B5C;\n",
              "      box-shadow: 0px 1px 3px 1px rgba(0, 0, 0, 0.15);\n",
              "      filter: drop-shadow(0px 1px 2px rgba(0, 0, 0, 0.3));\n",
              "      fill: #FFFFFF;\n",
              "    }\n",
              "  </style>\n",
              "\n",
              "    <script>\n",
              "      const buttonEl =\n",
              "        document.querySelector('#df-ebb5aabf-f37a-4fd2-b4cb-0a9d55174037 button.colab-df-convert');\n",
              "      buttonEl.style.display =\n",
              "        google.colab.kernel.accessAllowed ? 'block' : 'none';\n",
              "\n",
              "      async function convertToInteractive(key) {\n",
              "        const element = document.querySelector('#df-ebb5aabf-f37a-4fd2-b4cb-0a9d55174037');\n",
              "        const dataTable =\n",
              "          await google.colab.kernel.invokeFunction('convertToInteractive',\n",
              "                                                    [key], {});\n",
              "        if (!dataTable) return;\n",
              "\n",
              "        const docLinkHtml = 'Like what you see? Visit the ' +\n",
              "          '<a target=\"_blank\" href=https://colab.research.google.com/notebooks/data_table.ipynb>data table notebook</a>'\n",
              "          + ' to learn more about interactive tables.';\n",
              "        element.innerHTML = '';\n",
              "        dataTable['output_type'] = 'display_data';\n",
              "        await google.colab.output.renderOutput(dataTable, element);\n",
              "        const docLink = document.createElement('div');\n",
              "        docLink.innerHTML = docLinkHtml;\n",
              "        element.appendChild(docLink);\n",
              "      }\n",
              "    </script>\n",
              "  </div>\n",
              "\n",
              "\n",
              "<div id=\"df-776e2b4c-e81b-4567-8c41-48a1d11da349\">\n",
              "  <button class=\"colab-df-quickchart\" onclick=\"quickchart('df-776e2b4c-e81b-4567-8c41-48a1d11da349')\"\n",
              "            title=\"Suggest charts\"\n",
              "            style=\"display:none;\">\n",
              "\n",
              "<svg xmlns=\"http://www.w3.org/2000/svg\" height=\"24px\"viewBox=\"0 0 24 24\"\n",
              "     width=\"24px\">\n",
              "    <g>\n",
              "        <path d=\"M19 3H5c-1.1 0-2 .9-2 2v14c0 1.1.9 2 2 2h14c1.1 0 2-.9 2-2V5c0-1.1-.9-2-2-2zM9 17H7v-7h2v7zm4 0h-2V7h2v10zm4 0h-2v-4h2v4z\"/>\n",
              "    </g>\n",
              "</svg>\n",
              "  </button>\n",
              "\n",
              "<style>\n",
              "  .colab-df-quickchart {\n",
              "      --bg-color: #E8F0FE;\n",
              "      --fill-color: #1967D2;\n",
              "      --hover-bg-color: #E2EBFA;\n",
              "      --hover-fill-color: #174EA6;\n",
              "      --disabled-fill-color: #AAA;\n",
              "      --disabled-bg-color: #DDD;\n",
              "  }\n",
              "\n",
              "  [theme=dark] .colab-df-quickchart {\n",
              "      --bg-color: #3B4455;\n",
              "      --fill-color: #D2E3FC;\n",
              "      --hover-bg-color: #434B5C;\n",
              "      --hover-fill-color: #FFFFFF;\n",
              "      --disabled-bg-color: #3B4455;\n",
              "      --disabled-fill-color: #666;\n",
              "  }\n",
              "\n",
              "  .colab-df-quickchart {\n",
              "    background-color: var(--bg-color);\n",
              "    border: none;\n",
              "    border-radius: 50%;\n",
              "    cursor: pointer;\n",
              "    display: none;\n",
              "    fill: var(--fill-color);\n",
              "    height: 32px;\n",
              "    padding: 0;\n",
              "    width: 32px;\n",
              "  }\n",
              "\n",
              "  .colab-df-quickchart:hover {\n",
              "    background-color: var(--hover-bg-color);\n",
              "    box-shadow: 0 1px 2px rgba(60, 64, 67, 0.3), 0 1px 3px 1px rgba(60, 64, 67, 0.15);\n",
              "    fill: var(--button-hover-fill-color);\n",
              "  }\n",
              "\n",
              "  .colab-df-quickchart-complete:disabled,\n",
              "  .colab-df-quickchart-complete:disabled:hover {\n",
              "    background-color: var(--disabled-bg-color);\n",
              "    fill: var(--disabled-fill-color);\n",
              "    box-shadow: none;\n",
              "  }\n",
              "\n",
              "  .colab-df-spinner {\n",
              "    border: 2px solid var(--fill-color);\n",
              "    border-color: transparent;\n",
              "    border-bottom-color: var(--fill-color);\n",
              "    animation:\n",
              "      spin 1s steps(1) infinite;\n",
              "  }\n",
              "\n",
              "  @keyframes spin {\n",
              "    0% {\n",
              "      border-color: transparent;\n",
              "      border-bottom-color: var(--fill-color);\n",
              "      border-left-color: var(--fill-color);\n",
              "    }\n",
              "    20% {\n",
              "      border-color: transparent;\n",
              "      border-left-color: var(--fill-color);\n",
              "      border-top-color: var(--fill-color);\n",
              "    }\n",
              "    30% {\n",
              "      border-color: transparent;\n",
              "      border-left-color: var(--fill-color);\n",
              "      border-top-color: var(--fill-color);\n",
              "      border-right-color: var(--fill-color);\n",
              "    }\n",
              "    40% {\n",
              "      border-color: transparent;\n",
              "      border-right-color: var(--fill-color);\n",
              "      border-top-color: var(--fill-color);\n",
              "    }\n",
              "    60% {\n",
              "      border-color: transparent;\n",
              "      border-right-color: var(--fill-color);\n",
              "    }\n",
              "    80% {\n",
              "      border-color: transparent;\n",
              "      border-right-color: var(--fill-color);\n",
              "      border-bottom-color: var(--fill-color);\n",
              "    }\n",
              "    90% {\n",
              "      border-color: transparent;\n",
              "      border-bottom-color: var(--fill-color);\n",
              "    }\n",
              "  }\n",
              "</style>\n",
              "\n",
              "  <script>\n",
              "    async function quickchart(key) {\n",
              "      const quickchartButtonEl =\n",
              "        document.querySelector('#' + key + ' button');\n",
              "      quickchartButtonEl.disabled = true;  // To prevent multiple clicks.\n",
              "      quickchartButtonEl.classList.add('colab-df-spinner');\n",
              "      try {\n",
              "        const charts = await google.colab.kernel.invokeFunction(\n",
              "            'suggestCharts', [key], {});\n",
              "      } catch (error) {\n",
              "        console.error('Error during call to suggestCharts:', error);\n",
              "      }\n",
              "      quickchartButtonEl.classList.remove('colab-df-spinner');\n",
              "      quickchartButtonEl.classList.add('colab-df-quickchart-complete');\n",
              "    }\n",
              "    (() => {\n",
              "      let quickchartButtonEl =\n",
              "        document.querySelector('#df-776e2b4c-e81b-4567-8c41-48a1d11da349 button');\n",
              "      quickchartButtonEl.style.display =\n",
              "        google.colab.kernel.accessAllowed ? 'block' : 'none';\n",
              "    })();\n",
              "  </script>\n",
              "</div>\n",
              "\n",
              "    </div>\n",
              "  </div>\n"
            ],
            "application/vnd.google.colaboratory.intrinsic+json": {
              "type": "dataframe",
              "summary": "{\n  \"name\": \"df\",\n  \"rows\": 8,\n  \"fields\": [\n    {\n      \"column\": \"X1 transaction date\",\n      \"properties\": {\n        \"dtype\": \"number\",\n        \"std\": 843.3000378322719,\n        \"min\": 0.2819672402630115,\n        \"max\": 2013.583,\n        \"num_unique_values\": 8,\n        \"samples\": [\n          2013.1489710144926,\n          2013.167,\n          414.0\n        ],\n        \"semantic_type\": \"\",\n        \"description\": \"\"\n      }\n    },\n    {\n      \"column\": \"X2 house age\",\n      \"properties\": {\n        \"dtype\": \"number\",\n        \"std\": 140.61941367093425,\n        \"min\": 0.0,\n        \"max\": 414.0,\n        \"num_unique_values\": 8,\n        \"samples\": [\n          17.71256038647343,\n          16.1,\n          414.0\n        ],\n        \"semantic_type\": \"\",\n        \"description\": \"\"\n      }\n    },\n    {\n      \"column\": \"X3 distance to the nearest MRT station\",\n      \"properties\": {\n        \"dtype\": \"number\",\n        \"std\": 2101.800623848225,\n        \"min\": 23.38284,\n        \"max\": 6488.021,\n        \"num_unique_values\": 8,\n        \"samples\": [\n          1083.8856889130436,\n          492.2313,\n          414.0\n        ],\n        \"semantic_type\": \"\",\n        \"description\": \"\"\n      }\n    },\n    {\n      \"column\": \"X4 number of convenience stores\",\n      \"properties\": {\n        \"dtype\": \"number\",\n        \"std\": 144.9874598687052,\n        \"min\": 0.0,\n        \"max\": 414.0,\n        \"num_unique_values\": 8,\n        \"samples\": [\n          4.094202898550725,\n          4.0,\n          414.0\n        ],\n        \"semantic_type\": \"\",\n        \"description\": \"\"\n      }\n    },\n    {\n      \"column\": \"X5 latitude\",\n      \"properties\": {\n        \"dtype\": \"number\",\n        \"std\": 139.0775612485308,\n        \"min\": 0.012410196590450338,\n        \"max\": 414.0,\n        \"num_unique_values\": 8,\n        \"samples\": [\n          24.969030072463767,\n          24.9711,\n          414.0\n        ],\n        \"semantic_type\": \"\",\n        \"description\": \"\"\n      }\n    },\n    {\n      \"column\": \"X6 longitude\",\n      \"properties\": {\n        \"dtype\": \"number\",\n        \"std\": 117.5045070391186,\n        \"min\": 0.015347183004592205,\n        \"max\": 414.0,\n        \"num_unique_values\": 8,\n        \"samples\": [\n          121.53336108695655,\n          121.53863,\n          414.0\n        ],\n        \"semantic_type\": \"\",\n        \"description\": \"\"\n      }\n    },\n    {\n      \"column\": \"Y house price of unit area\",\n      \"properties\": {\n        \"dtype\": \"number\",\n        \"std\": 135.98949464428566,\n        \"min\": 7.6,\n        \"max\": 414.0,\n        \"num_unique_values\": 8,\n        \"samples\": [\n          37.980193236714975,\n          38.45,\n          414.0\n        ],\n        \"semantic_type\": \"\",\n        \"description\": \"\"\n      }\n    }\n  ]\n}"
            }
          },
          "metadata": {},
          "execution_count": 484
        }
      ]
    },
    {
      "cell_type": "code",
      "source": [
        "df.rename(columns ={\"X1 transaction date\":\"Transaction date\",\"X2 house age\":\"House age\",\n",
        "\"X3 distance to the nearest MRT station\":\"Distance to the nearest MRT station\",\"X4 number of convenience stores\":\"Number of convenience stores\",\n",
        "\"X5 latitude\":\"Latitude\",\"X6 longitude\":\"Longitude\",\"Y house price of unit area\":\"House prices\"},inplace=True)"
      ],
      "metadata": {
        "id": "lvTuzcYvIVrI"
      },
      "execution_count": null,
      "outputs": []
    },
    {
      "cell_type": "markdown",
      "source": [
        "Data doesn't have missing values"
      ],
      "metadata": {
        "id": "F3eOX9CG8Ug4"
      }
    },
    {
      "cell_type": "code",
      "source": [
        "df.isnull().sum()"
      ],
      "metadata": {
        "colab": {
          "base_uri": "https://localhost:8080/"
        },
        "id": "GDwJp7lN5bCI",
        "outputId": "a7aa4a35-a80d-4c70-f842-efabb756a96e"
      },
      "execution_count": null,
      "outputs": [
        {
          "output_type": "execute_result",
          "data": {
            "text/plain": [
              "Transaction date                       0\n",
              "House age                              0\n",
              "Distance to the nearest MRT station    0\n",
              "Number of convenience stores           0\n",
              "Latitude                               0\n",
              "Longitude                              0\n",
              "House prices                           0\n",
              "dtype: int64"
            ]
          },
          "metadata": {},
          "execution_count": 486
        }
      ]
    },
    {
      "cell_type": "code",
      "source": [
        "df['Number of convenience stores'].value_counts().sort_index()"
      ],
      "metadata": {
        "colab": {
          "base_uri": "https://localhost:8080/"
        },
        "id": "g9k_b6LT62NK",
        "outputId": "c76513b2-9d57-49f1-b69d-b1303d8fcbce"
      },
      "execution_count": null,
      "outputs": [
        {
          "output_type": "execute_result",
          "data": {
            "text/plain": [
              "Number of convenience stores\n",
              "0     67\n",
              "1     46\n",
              "2     24\n",
              "3     46\n",
              "4     31\n",
              "5     67\n",
              "6     37\n",
              "7     31\n",
              "8     30\n",
              "9     25\n",
              "10    10\n",
              "Name: count, dtype: int64"
            ]
          },
          "metadata": {},
          "execution_count": 487
        }
      ]
    },
    {
      "cell_type": "markdown",
      "source": [
        "The more convinience stores are, the higher the house prices"
      ],
      "metadata": {
        "id": "BKv-8tUQ8W4f"
      }
    },
    {
      "cell_type": "code",
      "source": [
        "df.groupby('Number of convenience stores')['House prices'].mean()"
      ],
      "metadata": {
        "colab": {
          "base_uri": "https://localhost:8080/"
        },
        "id": "3efehvngrKbG",
        "outputId": "34a728ac-dbde-4bb4-c153-94641923315c"
      },
      "execution_count": null,
      "outputs": [
        {
          "output_type": "execute_result",
          "data": {
            "text/plain": [
              "Number of convenience stores\n",
              "0     26.462687\n",
              "1     31.839130\n",
              "2     31.412500\n",
              "3     29.536957\n",
              "4     37.474194\n",
              "5     44.729851\n",
              "6     46.951351\n",
              "7     43.848387\n",
              "8     44.696667\n",
              "9     51.732000\n",
              "10    48.430000\n",
              "Name: House prices, dtype: float64"
            ]
          },
          "metadata": {},
          "execution_count": 488
        }
      ]
    },
    {
      "cell_type": "markdown",
      "source": [
        "People tend to buy house with price bewteen 25 to 50"
      ],
      "metadata": {
        "id": "5ZXkhdMj8amg"
      }
    },
    {
      "cell_type": "code",
      "source": [
        "sns.histplot(df['House prices'])\n"
      ],
      "metadata": {
        "colab": {
          "base_uri": "https://localhost:8080/",
          "height": 466
        },
        "id": "iTje-K759jLn",
        "outputId": "80cf96cf-216d-4d42-b165-a6e3bf454d97"
      },
      "execution_count": null,
      "outputs": [
        {
          "output_type": "execute_result",
          "data": {
            "text/plain": [
              "<Axes: xlabel='House prices', ylabel='Count'>"
            ]
          },
          "metadata": {},
          "execution_count": 489
        },
        {
          "output_type": "display_data",
          "data": {
            "text/plain": [
              "<Figure size 640x480 with 1 Axes>"
            ],
            "image/png": "[encoded data removed]"
          },
          "metadata": {}
        }
      ]
    },
    {
      "cell_type": "code",
      "source": [
        "sns.boxplot(df['House prices'])"
      ],
      "metadata": {
        "colab": {
          "base_uri": "https://localhost:8080/",
          "height": 428
        },
        "id": "MF4g2z-vlkj9",
        "outputId": "9accbfd9-559f-4ad7-895c-8fccc49cf7d0"
      },
      "execution_count": null,
      "outputs": [
        {
          "output_type": "execute_result",
          "data": {
            "text/plain": [
              "<Axes: ylabel='House prices'>"
            ]
          },
          "metadata": {},
          "execution_count": 490
        },
        {
          "output_type": "display_data",
          "data": {
            "text/plain": [
              "<Figure size 640x480 with 1 Axes>"
            ],
            "image/png": "[encoded data removed]"
          },
          "metadata": {}
        }
      ]
    },
    {
      "cell_type": "markdown",
      "source": [
        "There are 3 outliers in House prices"
      ],
      "metadata": {
        "id": "OBMp2zXxl8pE"
      }
    },
    {
      "cell_type": "code",
      "source": [
        "sum(df['House prices']>77)"
      ],
      "metadata": {
        "colab": {
          "base_uri": "https://localhost:8080/"
        },
        "id": "kuSmUEKklpdt",
        "outputId": "88523a2b-ac6a-495d-9cd2-1d976064fae8"
      },
      "execution_count": null,
      "outputs": [
        {
          "output_type": "execute_result",
          "data": {
            "text/plain": [
              "3"
            ]
          },
          "metadata": {},
          "execution_count": 491
        }
      ]
    },
    {
      "cell_type": "markdown",
      "source": [
        "remove outliers"
      ],
      "metadata": {
        "id": "IQAv4FKQmLIt"
      }
    },
    {
      "cell_type": "code",
      "source": [
        "df=df[df['House prices']<=77]"
      ],
      "metadata": {
        "id": "PBvv8z14mDyU"
      },
      "execution_count": null,
      "outputs": []
    },
    {
      "cell_type": "code",
      "source": [
        "sns.boxplot(df['Distance to the nearest MRT station'])"
      ],
      "metadata": {
        "colab": {
          "base_uri": "https://localhost:8080/",
          "height": 428
        },
        "id": "azCb1SicZsE0",
        "outputId": "0ac8f57a-3990-4c57-eb9f-41f37200d8d7"
      },
      "execution_count": null,
      "outputs": [
        {
          "output_type": "execute_result",
          "data": {
            "text/plain": [
              "<Axes: ylabel='Distance to the nearest MRT station'>"
            ]
          },
          "metadata": {},
          "execution_count": 493
        },
        {
          "output_type": "display_data",
          "data": {
            "text/plain": [
              "<Figure size 640x480 with 1 Axes>"
            ],
            "image/png": "[encoded data removed]"
          },
          "metadata": {}
        }
      ]
    },
    {
      "cell_type": "markdown",
      "source": [
        "After identifying 38 outliers in the feature 'Distance to the nearest MRT station,' I chose to eliminate them from the dataset and conducted the analysis both with and without their inclusion. Surprisingly, the analysis performed better with the outliers included ==> these outliers might indeed hold legitimate significance in the data"
      ],
      "metadata": {
        "id": "-SAACS1IaL7-"
      }
    },
    {
      "cell_type": "code",
      "source": [
        "np.sum(df['Distance to the nearest MRT station']>3100)"
      ],
      "metadata": {
        "colab": {
          "base_uri": "https://localhost:8080/"
        },
        "id": "1VCOksPrZY3e",
        "outputId": "fe33e79a-56b7-4e71-d059-f5a17eaed022"
      },
      "execution_count": null,
      "outputs": [
        {
          "output_type": "execute_result",
          "data": {
            "text/plain": [
              "38"
            ]
          },
          "metadata": {},
          "execution_count": 494
        }
      ]
    },
    {
      "cell_type": "markdown",
      "source": [
        "People tend to buy houses which are not too far away from MRT station"
      ],
      "metadata": {
        "id": "l8y21rnl8hXj"
      }
    },
    {
      "cell_type": "code",
      "source": [
        "sns.histplot(df['Distance to the nearest MRT station'], bins=30)"
      ],
      "metadata": {
        "colab": {
          "base_uri": "https://localhost:8080/",
          "height": 466
        },
        "id": "3hvwaDB6ujb-",
        "outputId": "572a1dcb-e274-43a8-f30c-36f73a076aa7"
      },
      "execution_count": null,
      "outputs": [
        {
          "output_type": "execute_result",
          "data": {
            "text/plain": [
              "<Axes: xlabel='Distance to the nearest MRT station', ylabel='Count'>"
            ]
          },
          "metadata": {},
          "execution_count": 495
        },
        {
          "output_type": "display_data",
          "data": {
            "text/plain": [
              "<Figure size 640x480 with 1 Axes>"
            ],
            "image/png": "[encoded data removed]"
          },
          "metadata": {}
        }
      ]
    },
    {
      "cell_type": "markdown",
      "source": [
        "The more convinience stores are, the higher the house prices"
      ],
      "metadata": {
        "id": "IaqusFbG8kL-"
      }
    },
    {
      "cell_type": "code",
      "source": [
        "plt.figure(figsize=(6,5))\n",
        "sns.histplot(x=df['Number of convenience stores'],y=df['House prices'])"
      ],
      "metadata": {
        "id": "1bF9C70t69To",
        "colab": {
          "base_uri": "https://localhost:8080/",
          "height": 482
        },
        "outputId": "8923dfe3-1e71-49c9-e534-e750cc4e4535"
      },
      "execution_count": null,
      "outputs": [
        {
          "output_type": "execute_result",
          "data": {
            "text/plain": [
              "<Axes: xlabel='Number of convenience stores', ylabel='House prices'>"
            ]
          },
          "metadata": {},
          "execution_count": 496
        },
        {
          "output_type": "display_data",
          "data": {
            "text/plain": [
              "<Figure size 600x500 with 1 Axes>"
            ],
            "image/png": "[encoded data removed]"
          },
          "metadata": {}
        }
      ]
    },
    {
      "cell_type": "markdown",
      "source": [
        "People tend to buy a house bewteen 0 to 20 years"
      ],
      "metadata": {
        "id": "sydxiejF8mrN"
      }
    },
    {
      "cell_type": "code",
      "source": [
        "sns.histplot(df['House age'])"
      ],
      "metadata": {
        "colab": {
          "base_uri": "https://localhost:8080/",
          "height": 466
        },
        "id": "ZzN8g0VrpBJ3",
        "outputId": "e3e8bc59-5c41-4181-9049-b309dfc97d1f"
      },
      "execution_count": null,
      "outputs": [
        {
          "output_type": "execute_result",
          "data": {
            "text/plain": [
              "<Axes: xlabel='House age', ylabel='Count'>"
            ]
          },
          "metadata": {},
          "execution_count": 497
        },
        {
          "output_type": "display_data",
          "data": {
            "text/plain": [
              "<Figure size 640x480 with 1 Axes>"
            ],
            "image/png": "[encoded data removed]"
          },
          "metadata": {}
        }
      ]
    },
    {
      "cell_type": "markdown",
      "source": [
        "People tend to buy houses in densely populated areas"
      ],
      "metadata": {
        "id": "Q-1eZG5U8uYx"
      }
    },
    {
      "cell_type": "code",
      "source": [
        "sns.jointplot(x='Latitude', y='Longitude', data=df, kind='scatter')\n",
        "plt.show()\n"
      ],
      "metadata": {
        "colab": {
          "base_uri": "https://localhost:8080/",
          "height": 607
        },
        "id": "BSyw_fhxtcxQ",
        "outputId": "c3d7bc92-d66c-4b97-ab1f-49bd75bf0318"
      },
      "execution_count": null,
      "outputs": [
        {
          "output_type": "display_data",
          "data": {
            "text/plain": [
              "<Figure size 600x600 with 3 Axes>"
            ],
            "image/png": "[encoded data removed]"
          },
          "metadata": {}
        }
      ]
    },
    {
      "cell_type": "markdown",
      "source": [
        "House prices saw a slight increase depending on time"
      ],
      "metadata": {
        "id": "zeQITFqc8rLM"
      }
    },
    {
      "cell_type": "code",
      "source": [
        "sns.lineplot(data=df, x='Transaction date', y='House prices')\n",
        "plt.show()"
      ],
      "metadata": {
        "colab": {
          "base_uri": "https://localhost:8080/",
          "height": 449
        },
        "id": "fdpS2c_qugzW",
        "outputId": "6238aa38-608c-4e8b-a9f5-2b0654240f5b"
      },
      "execution_count": null,
      "outputs": [
        {
          "output_type": "display_data",
          "data": {
            "text/plain": [
              "<Figure size 640x480 with 1 Axes>"
            ],
            "image/png": "[encoded data removed]"
          },
          "metadata": {}
        }
      ]
    },
    {
      "cell_type": "markdown",
      "source": [
        "# **Feature Selection/Engineering:**"
      ],
      "metadata": {
        "id": "3j2zzlMBDE7Z"
      }
    },
    {
      "cell_type": "markdown",
      "source": [
        "Haversine formula: calculates the shortest distance between two points on a sphere\n",
        "\n",
        "\n"
      ],
      "metadata": {
        "id": "YnZBmkIH3Yoa"
      }
    },
    {
      "cell_type": "markdown",
      "source": [
        "![27240436-e9a459da-52d4-11e7-8f84-f96d0b312859.png](data:image/png;base64,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)"
      ],
      "metadata": {
        "id": "PjJ6tqm53VGD"
      }
    },
    {
      "cell_type": "code",
      "source": [
        "def HaversineDistance(lat, lng, degrees=True):\n",
        "    r= 6378 # Earth's radius (km)\n",
        "    lat, lng = map(radians, [lat, lng])\n",
        "    a = sin(lat/2)**2 + cos(lat) * sin(lng/2)**2\n",
        "    d = 2 * r * asin(sqrt(a))\n",
        "    return d"
      ],
      "metadata": {
        "id": "ykuFf9KN0F19"
      },
      "execution_count": null,
      "outputs": []
    },
    {
      "cell_type": "code",
      "source": [
        "df['HaversineDistance'] = [HaversineDistance(x, y) for x, y in zip(df['Latitude'], df['Longitude'])]"
      ],
      "metadata": {
        "id": "QTnn3Wlz0Htr"
      },
      "execution_count": null,
      "outputs": []
    },
    {
      "cell_type": "code",
      "source": [
        "cor=df.corr()\n",
        "sns.heatmap(cor, annot=True)"
      ],
      "metadata": {
        "id": "EsW7-K1_6A2R",
        "colab": {
          "base_uri": "https://localhost:8080/",
          "height": 687
        },
        "outputId": "fbd3aec1-3538-44d0-ce1c-3a33be054617"
      },
      "execution_count": null,
      "outputs": [
        {
          "output_type": "execute_result",
          "data": {
            "text/plain": [
              "<Axes: >"
            ]
          },
          "metadata": {},
          "execution_count": 502
        },
        {
          "output_type": "display_data",
          "data": {
            "text/plain": [
              "<Figure size 640x480 with 2 Axes>"
            ],
            "image/png": "[encoded data removed]"
          },
          "metadata": {}
        }
      ]
    },
    {
      "cell_type": "markdown",
      "source": [
        "I can see the correlation bewteen  transaction data and  house price of unit area is nearby 0 => not a linear relationship as well as the correlation bewteen Longtude and harvesine_distance is extreme high =>Multicollinearity. So dropping these features"
      ],
      "metadata": {
        "id": "rmyvQHD4hvnD"
      }
    },
    {
      "cell_type": "code",
      "source": [
        "df.drop(['Transaction date'],axis=1,inplace=True)\n",
        "df.drop(['Longitude'],axis=1,inplace=True)"
      ],
      "metadata": {
        "id": "pOdSYo3k6AyS"
      },
      "execution_count": null,
      "outputs": []
    },
    {
      "cell_type": "markdown",
      "source": [
        "# **Data Preprocessing**"
      ],
      "metadata": {
        "id": "rRRTf3m66Pi9"
      }
    },
    {
      "cell_type": "code",
      "source": [
        "X=df.drop(['House prices'],axis=1).values\n",
        "y=df['House prices'].values.reshape(-1,1)"
      ],
      "metadata": {
        "id": "R7kgzqTc6A7G"
      },
      "execution_count": null,
      "outputs": []
    },
    {
      "cell_type": "markdown",
      "source": [
        "# **Model Training**"
      ],
      "metadata": {
        "id": "2IW95OO0LR2a"
      }
    },
    {
      "cell_type": "code",
      "source": [
        "X_train,X_test,y_train,y_test=train_test_split(X,y,test_size=0.2,random_state=50)"
      ],
      "metadata": {
        "id": "wQvaIA4M6ApA"
      },
      "execution_count": null,
      "outputs": []
    },
    {
      "cell_type": "markdown",
      "source": [
        "To prevent a bad result, we ensure that the training data isn't exposed to the testing data when using the model to predict real-world data."
      ],
      "metadata": {
        "id": "ngaFfffn8y4R"
      }
    },
    {
      "cell_type": "code",
      "source": [
        "scaler=StandardScaler()\n",
        "scaler.fit(X_train)\n",
        "X_train=scaler.transform(X_train)\n",
        "X_test=scaler.transform(X_test)"
      ],
      "metadata": {
        "id": "1eyejf9l5Ta4"
      },
      "execution_count": null,
      "outputs": []
    },
    {
      "cell_type": "code",
      "source": [
        "model_LR=LinearRegression()\n",
        "model_LR.fit(X_train,y_train)"
      ],
      "metadata": {
        "colab": {
          "base_uri": "https://localhost:8080/",
          "height": 74
        },
        "id": "wNVn0jCqMvZJ",
        "outputId": "c4fe2af4-4f47-40b3-9ff2-6a9b9a5a575d"
      },
      "execution_count": null,
      "outputs": [
        {
          "output_type": "execute_result",
          "data": {
            "text/plain": [
              "LinearRegression()"
            ],
            "text/html": [
              "<style>#sk-container-id-14 {color: black;background-color: white;}#sk-container-id-14 pre{padding: 0;}#sk-container-id-14 div.sk-toggleable {background-color: white;}#sk-container-id-14 label.sk-toggleable__label {cursor: pointer;display: block;width: 100%;margin-bottom: 0;padding: 0.3em;box-sizing: border-box;text-align: center;}#sk-container-id-14 label.sk-toggleable__label-arrow:before {content: \"▸\";float: left;margin-right: 0.25em;color: #696969;}#sk-container-id-14 label.sk-toggleable__label-arrow:hover:before {color: black;}#sk-container-id-14 div.sk-estimator:hover label.sk-toggleable__label-arrow:before {color: black;}#sk-container-id-14 div.sk-toggleable__content {max-height: 0;max-width: 0;overflow: hidden;text-align: left;background-color: #f0f8ff;}#sk-container-id-14 div.sk-toggleable__content pre {margin: 0.2em;color: black;border-radius: 0.25em;background-color: #f0f8ff;}#sk-container-id-14 input.sk-toggleable__control:checked~div.sk-toggleable__content {max-height: 200px;max-width: 100%;overflow: auto;}#sk-container-id-14 input.sk-toggleable__control:checked~label.sk-toggleable__label-arrow:before {content: \"▾\";}#sk-container-id-14 div.sk-estimator input.sk-toggleable__control:checked~label.sk-toggleable__label {background-color: #d4ebff;}#sk-container-id-14 div.sk-label input.sk-toggleable__control:checked~label.sk-toggleable__label {background-color: #d4ebff;}#sk-container-id-14 input.sk-hidden--visually {border: 0;clip: rect(1px 1px 1px 1px);clip: rect(1px, 1px, 1px, 1px);height: 1px;margin: -1px;overflow: hidden;padding: 0;position: absolute;width: 1px;}#sk-container-id-14 div.sk-estimator {font-family: monospace;background-color: #f0f8ff;border: 1px dotted black;border-radius: 0.25em;box-sizing: border-box;margin-bottom: 0.5em;}#sk-container-id-14 div.sk-estimator:hover {background-color: #d4ebff;}#sk-container-id-14 div.sk-parallel-item::after {content: \"\";width: 100%;border-bottom: 1px solid gray;flex-grow: 1;}#sk-container-id-14 div.sk-label:hover label.sk-toggleable__label {background-color: #d4ebff;}#sk-container-id-14 div.sk-serial::before {content: \"\";position: absolute;border-left: 1px solid gray;box-sizing: border-box;top: 0;bottom: 0;left: 50%;z-index: 0;}#sk-container-id-14 div.sk-serial {display: flex;flex-direction: column;align-items: center;background-color: white;padding-right: 0.2em;padding-left: 0.2em;position: relative;}#sk-container-id-14 div.sk-item {position: relative;z-index: 1;}#sk-container-id-14 div.sk-parallel {display: flex;align-items: stretch;justify-content: center;background-color: white;position: relative;}#sk-container-id-14 div.sk-item::before, #sk-container-id-14 div.sk-parallel-item::before {content: \"\";position: absolute;border-left: 1px solid gray;box-sizing: border-box;top: 0;bottom: 0;left: 50%;z-index: -1;}#sk-container-id-14 div.sk-parallel-item {display: flex;flex-direction: column;z-index: 1;position: relative;background-color: white;}#sk-container-id-14 div.sk-parallel-item:first-child::after {align-self: flex-end;width: 50%;}#sk-container-id-14 div.sk-parallel-item:last-child::after {align-self: flex-start;width: 50%;}#sk-container-id-14 div.sk-parallel-item:only-child::after {width: 0;}#sk-container-id-14 div.sk-dashed-wrapped {border: 1px dashed gray;margin: 0 0.4em 0.5em 0.4em;box-sizing: border-box;padding-bottom: 0.4em;background-color: white;}#sk-container-id-14 div.sk-label label {font-family: monospace;font-weight: bold;display: inline-block;line-height: 1.2em;}#sk-container-id-14 div.sk-label-container {text-align: center;}#sk-container-id-14 div.sk-container {/* jupyter's `normalize.less` sets `[hidden] { display: none; }` but bootstrap.min.css set `[hidden] { display: none !important; }` so we also need the `!important` here to be able to override the default hidden behavior on the sphinx rendered scikit-learn.org. See: https://github.com/scikit-learn/scikit-learn/issues/21755 */display: inline-block !important;position: relative;}#sk-container-id-14 div.sk-text-repr-fallback {display: none;}</style><div id=\"sk-container-id-14\" class=\"sk-top-container\"><div class=\"sk-text-repr-fallback\"><pre>LinearRegression()</pre><b>In a Jupyter environment, please rerun this cell to show the HTML representation or trust the notebook. <br />On GitHub, the HTML representation is unable to render, please try loading this page with nbviewer.org.</b></div><div class=\"sk-container\" hidden><div class=\"sk-item\"><div class=\"sk-estimator sk-toggleable\"><input class=\"sk-toggleable__control sk-hidden--visually\" id=\"sk-estimator-id-14\" type=\"checkbox\" checked><label for=\"sk-estimator-id-14\" class=\"sk-toggleable__label sk-toggleable__label-arrow\">LinearRegression</label><div class=\"sk-toggleable__content\"><pre>LinearRegression()</pre></div></div></div></div></div>"
            ]
          },
          "metadata": {},
          "execution_count": 507
        }
      ]
    },
    {
      "cell_type": "markdown",
      "source": [
        "# **Model Evaluation**"
      ],
      "metadata": {
        "id": "ISnPszM5P6K5"
      }
    },
    {
      "cell_type": "code",
      "source": [
        "y_pred=model_LR.predict(X_train)\n",
        "MSE(y_pred,y_train)"
      ],
      "metadata": {
        "colab": {
          "base_uri": "https://localhost:8080/"
        },
        "id": "FkTYAgG7Ok7M",
        "outputId": "2e7c3017-e3e4-4301-c657-80b3a08acaa9"
      },
      "execution_count": null,
      "outputs": [
        {
          "output_type": "execute_result",
          "data": {
            "text/plain": [
              "53.02343962881884"
            ]
          },
          "metadata": {},
          "execution_count": 508
        }
      ]
    },
    {
      "cell_type": "code",
      "source": [
        "y_pred_test=model_LR.predict(X_test)\n",
        "MSE(y_pred_test,y_test)"
      ],
      "metadata": {
        "colab": {
          "base_uri": "https://localhost:8080/"
        },
        "id": "_RmlGgFhOgr7",
        "outputId": "57f95164-f5b4-448d-d9ca-1e89824253f5"
      },
      "execution_count": null,
      "outputs": [
        {
          "output_type": "execute_result",
          "data": {
            "text/plain": [
              "86.17892972171703"
            ]
          },
          "metadata": {},
          "execution_count": 509
        }
      ]
    },
    {
      "cell_type": "code",
      "source": [
        "evaluate_model={\n",
        "    \"Mean Squared Error\":MSE,\n",
        "    \"Mean Absolute Error\":MAE,\n",
        "    \"R-squared\":R2\n",
        "}\n",
        "def evaluate(y,y_pred,evaluate_model):\n",
        "  result=[]\n",
        "  for names,method in evaluate_model.items():\n",
        "    result.append({\n",
        "        \"Method\":names,\n",
        "        \"Result\":method(y_pred,y)\n",
        "    })\n",
        "  return pd.DataFrame(result,columns=['Method','Result'])\n",
        "evaluate(y_train,y_pred,evaluate_model)"
      ],
      "metadata": {
        "colab": {
          "base_uri": "https://localhost:8080/",
          "height": 143
        },
        "id": "tN_MnOwSui8E",
        "outputId": "f52ad969-4ce3-4697-84f5-826671a2d6f0"
      },
      "execution_count": null,
      "outputs": [
        {
          "output_type": "execute_result",
          "data": {
            "text/plain": [
              "                Method     Result\n",
              "0   Mean Squared Error  53.023440\n",
              "1  Mean Absolute Error   5.424334\n",
              "2            R-squared   0.481540"
            ],
            "text/html": [
              "\n",
              "  <div id=\"df-88ebdbf7-9a58-4f9a-a079-172407b18eee\" class=\"colab-df-container\">\n",
              "    <div>\n",
              "<style scoped>\n",
              "    .dataframe tbody tr th:only-of-type {\n",
              "        vertical-align: middle;\n",
              "    }\n",
              "\n",
              "    .dataframe tbody tr th {\n",
              "        vertical-align: top;\n",
              "    }\n",
              "\n",
              "    .dataframe thead th {\n",
              "        text-align: right;\n",
              "    }\n",
              "</style>\n",
              "<table border=\"1\" class=\"dataframe\">\n",
              "  <thead>\n",
              "    <tr style=\"text-align: right;\">\n",
              "      <th></th>\n",
              "      <th>Method</th>\n",
              "      <th>Result</th>\n",
              "    </tr>\n",
              "  </thead>\n",
              "  <tbody>\n",
              "    <tr>\n",
              "      <th>0</th>\n",
              "      <td>Mean Squared Error</td>\n",
              "      <td>53.023440</td>\n",
              "    </tr>\n",
              "    <tr>\n",
              "      <th>1</th>\n",
              "      <td>Mean Absolute Error</td>\n",
              "      <td>5.424334</td>\n",
              "    </tr>\n",
              "    <tr>\n",
              "      <th>2</th>\n",
              "      <td>R-squared</td>\n",
              "      <td>0.481540</td>\n",
              "    </tr>\n",
              "  </tbody>\n",
              "</table>\n",
              "</div>\n",
              "    <div class=\"colab-df-buttons\">\n",
              "\n",
              "  <div class=\"colab-df-container\">\n",
              "    <button class=\"colab-df-convert\" onclick=\"convertToInteractive('df-88ebdbf7-9a58-4f9a-a079-172407b18eee')\"\n",
              "            title=\"Convert this dataframe to an interactive table.\"\n",
              "            style=\"display:none;\">\n",
              "\n",
              "  <svg xmlns=\"http://www.w3.org/2000/svg\" height=\"24px\" viewBox=\"0 -960 960 960\">\n",
              "    <path d=\"M120-120v-720h720v720H120Zm60-500h600v-160H180v160Zm220 220h160v-160H400v160Zm0 220h160v-160H400v160ZM180-400h160v-160H180v160Zm440 0h160v-160H620v160ZM180-180h160v-160H180v160Zm440 0h160v-160H620v160Z\"/>\n",
              "  </svg>\n",
              "    </button>\n",
              "\n",
              "  <style>\n",
              "    .colab-df-container {\n",
              "      display:flex;\n",
              "      gap: 12px;\n",
              "    }\n",
              "\n",
              "    .colab-df-convert {\n",
              "      background-color: #E8F0FE;\n",
              "      border: none;\n",
              "      border-radius: 50%;\n",
              "      cursor: pointer;\n",
              "      display: none;\n",
              "      fill: #1967D2;\n",
              "      height: 32px;\n",
              "      padding: 0 0 0 0;\n",
              "      width: 32px;\n",
              "    }\n",
              "\n",
              "    .colab-df-convert:hover {\n",
              "      background-color: #E2EBFA;\n",
              "      box-shadow: 0px 1px 2px rgba(60, 64, 67, 0.3), 0px 1px 3px 1px rgba(60, 64, 67, 0.15);\n",
              "      fill: #174EA6;\n",
              "    }\n",
              "\n",
              "    .colab-df-buttons div {\n",
              "      margin-bottom: 4px;\n",
              "    }\n",
              "\n",
              "    [theme=dark] .colab-df-convert {\n",
              "      background-color: #3B4455;\n",
              "      fill: #D2E3FC;\n",
              "    }\n",
              "\n",
              "    [theme=dark] .colab-df-convert:hover {\n",
              "      background-color: #434B5C;\n",
              "      box-shadow: 0px 1px 3px 1px rgba(0, 0, 0, 0.15);\n",
              "      filter: drop-shadow(0px 1px 2px rgba(0, 0, 0, 0.3));\n",
              "      fill: #FFFFFF;\n",
              "    }\n",
              "  </style>\n",
              "\n",
              "    <script>\n",
              "      const buttonEl =\n",
              "        document.querySelector('#df-88ebdbf7-9a58-4f9a-a079-172407b18eee button.colab-df-convert');\n",
              "      buttonEl.style.display =\n",
              "        google.colab.kernel.accessAllowed ? 'block' : 'none';\n",
              "\n",
              "      async function convertToInteractive(key) {\n",
              "        const element = document.querySelector('#df-88ebdbf7-9a58-4f9a-a079-172407b18eee');\n",
              "        const dataTable =\n",
              "          await google.colab.kernel.invokeFunction('convertToInteractive',\n",
              "                                                    [key], {});\n",
              "        if (!dataTable) return;\n",
              "\n",
              "        const docLinkHtml = 'Like what you see? Visit the ' +\n",
              "          '<a target=\"_blank\" href=https://colab.research.google.com/notebooks/data_table.ipynb>data table notebook</a>'\n",
              "          + ' to learn more about interactive tables.';\n",
              "        element.innerHTML = '';\n",
              "        dataTable['output_type'] = 'display_data';\n",
              "        await google.colab.output.renderOutput(dataTable, element);\n",
              "        const docLink = document.createElement('div');\n",
              "        docLink.innerHTML = docLinkHtml;\n",
              "        element.appendChild(docLink);\n",
              "      }\n",
              "    </script>\n",
              "  </div>\n",
              "\n",
              "\n",
              "<div id=\"df-9d4b8471-4431-43ae-a868-99d82088fbcb\">\n",
              "  <button class=\"colab-df-quickchart\" onclick=\"quickchart('df-9d4b8471-4431-43ae-a868-99d82088fbcb')\"\n",
              "            title=\"Suggest charts\"\n",
              "            style=\"display:none;\">\n",
              "\n",
              "<svg xmlns=\"http://www.w3.org/2000/svg\" height=\"24px\"viewBox=\"0 0 24 24\"\n",
              "     width=\"24px\">\n",
              "    <g>\n",
              "        <path d=\"M19 3H5c-1.1 0-2 .9-2 2v14c0 1.1.9 2 2 2h14c1.1 0 2-.9 2-2V5c0-1.1-.9-2-2-2zM9 17H7v-7h2v7zm4 0h-2V7h2v10zm4 0h-2v-4h2v4z\"/>\n",
              "    </g>\n",
              "</svg>\n",
              "  </button>\n",
              "\n",
              "<style>\n",
              "  .colab-df-quickchart {\n",
              "      --bg-color: #E8F0FE;\n",
              "      --fill-color: #1967D2;\n",
              "      --hover-bg-color: #E2EBFA;\n",
              "      --hover-fill-color: #174EA6;\n",
              "      --disabled-fill-color: #AAA;\n",
              "      --disabled-bg-color: #DDD;\n",
              "  }\n",
              "\n",
              "  [theme=dark] .colab-df-quickchart {\n",
              "      --bg-color: #3B4455;\n",
              "      --fill-color: #D2E3FC;\n",
              "      --hover-bg-color: #434B5C;\n",
              "      --hover-fill-color: #FFFFFF;\n",
              "      --disabled-bg-color: #3B4455;\n",
              "      --disabled-fill-color: #666;\n",
              "  }\n",
              "\n",
              "  .colab-df-quickchart {\n",
              "    background-color: var(--bg-color);\n",
              "    border: none;\n",
              "    border-radius: 50%;\n",
              "    cursor: pointer;\n",
              "    display: none;\n",
              "    fill: var(--fill-color);\n",
              "    height: 32px;\n",
              "    padding: 0;\n",
              "    width: 32px;\n",
              "  }\n",
              "\n",
              "  .colab-df-quickchart:hover {\n",
              "    background-color: var(--hover-bg-color);\n",
              "    box-shadow: 0 1px 2px rgba(60, 64, 67, 0.3), 0 1px 3px 1px rgba(60, 64, 67, 0.15);\n",
              "    fill: var(--button-hover-fill-color);\n",
              "  }\n",
              "\n",
              "  .colab-df-quickchart-complete:disabled,\n",
              "  .colab-df-quickchart-complete:disabled:hover {\n",
              "    background-color: var(--disabled-bg-color);\n",
              "    fill: var(--disabled-fill-color);\n",
              "    box-shadow: none;\n",
              "  }\n",
              "\n",
              "  .colab-df-spinner {\n",
              "    border: 2px solid var(--fill-color);\n",
              "    border-color: transparent;\n",
              "    border-bottom-color: var(--fill-color);\n",
              "    animation:\n",
              "      spin 1s steps(1) infinite;\n",
              "  }\n",
              "\n",
              "  @keyframes spin {\n",
              "    0% {\n",
              "      border-color: transparent;\n",
              "      border-bottom-color: var(--fill-color);\n",
              "      border-left-color: var(--fill-color);\n",
              "    }\n",
              "    20% {\n",
              "      border-color: transparent;\n",
              "      border-left-color: var(--fill-color);\n",
              "      border-top-color: var(--fill-color);\n",
              "    }\n",
              "    30% {\n",
              "      border-color: transparent;\n",
              "      border-left-color: var(--fill-color);\n",
              "      border-top-color: var(--fill-color);\n",
              "      border-right-color: var(--fill-color);\n",
              "    }\n",
              "    40% {\n",
              "      border-color: transparent;\n",
              "      border-right-color: var(--fill-color);\n",
              "      border-top-color: var(--fill-color);\n",
              "    }\n",
              "    60% {\n",
              "      border-color: transparent;\n",
              "      border-right-color: var(--fill-color);\n",
              "    }\n",
              "    80% {\n",
              "      border-color: transparent;\n",
              "      border-right-color: var(--fill-color);\n",
              "      border-bottom-color: var(--fill-color);\n",
              "    }\n",
              "    90% {\n",
              "      border-color: transparent;\n",
              "      border-bottom-color: var(--fill-color);\n",
              "    }\n",
              "  }\n",
              "</style>\n",
              "\n",
              "  <script>\n",
              "    async function quickchart(key) {\n",
              "      const quickchartButtonEl =\n",
              "        document.querySelector('#' + key + ' button');\n",
              "      quickchartButtonEl.disabled = true;  // To prevent multiple clicks.\n",
              "      quickchartButtonEl.classList.add('colab-df-spinner');\n",
              "      try {\n",
              "        const charts = await google.colab.kernel.invokeFunction(\n",
              "            'suggestCharts', [key], {});\n",
              "      } catch (error) {\n",
              "        console.error('Error during call to suggestCharts:', error);\n",
              "      }\n",
              "      quickchartButtonEl.classList.remove('colab-df-spinner');\n",
              "      quickchartButtonEl.classList.add('colab-df-quickchart-complete');\n",
              "    }\n",
              "    (() => {\n",
              "      let quickchartButtonEl =\n",
              "        document.querySelector('#df-9d4b8471-4431-43ae-a868-99d82088fbcb button');\n",
              "      quickchartButtonEl.style.display =\n",
              "        google.colab.kernel.accessAllowed ? 'block' : 'none';\n",
              "    })();\n",
              "  </script>\n",
              "</div>\n",
              "\n",
              "    </div>\n",
              "  </div>\n"
            ],
            "application/vnd.google.colaboratory.intrinsic+json": {
              "type": "dataframe",
              "summary": "{\n  \"name\": \"evaluate(y_train,y_pred,evaluate_model)\",\n  \"rows\": 3,\n  \"fields\": [\n    {\n      \"column\": \"Method\",\n      \"properties\": {\n        \"dtype\": \"string\",\n        \"num_unique_values\": 3,\n        \"samples\": [\n          \"Mean Squared Error\",\n          \"Mean Absolute Error\",\n          \"R-squared\"\n        ],\n        \"semantic_type\": \"\",\n        \"description\": \"\"\n      }\n    },\n    {\n      \"column\": \"Result\",\n      \"properties\": {\n        \"dtype\": \"number\",\n        \"std\": 29.01366715919788,\n        \"min\": 0.4815400511653022,\n        \"max\": 53.02343962881884,\n        \"num_unique_values\": 3,\n        \"samples\": [\n          53.02343962881884,\n          5.424333856574743,\n          0.4815400511653022\n        ],\n        \"semantic_type\": \"\",\n        \"description\": \"\"\n      }\n    }\n  ]\n}"
            }
          },
          "metadata": {},
          "execution_count": 510
        }
      ]
    },
    {
      "cell_type": "markdown",
      "source": [
        "The result is not satisfactory despite employing various methods of evaluation"
      ],
      "metadata": {
        "id": "x1VUoLXDw7G_"
      }
    },
    {
      "cell_type": "markdown",
      "source": [
        "Residual plot"
      ],
      "metadata": {
        "id": "1TDa0zDXgbqv"
      }
    },
    {
      "cell_type": "code",
      "source": [
        "plt.scatter(y_pred,y_train-y_pred)\n",
        "plt.axhline(y=0, color='k', linestyle='--')\n",
        "plt.xlabel('Prediction')\n",
        "plt.ylabel('Residual')\n",
        "plt.show()"
      ],
      "metadata": {
        "colab": {
          "base_uri": "https://localhost:8080/",
          "height": 449
        },
        "id": "su97W4apRtaS",
        "outputId": "1d6da002-f735-4943-e224-c297b23e3963"
      },
      "execution_count": null,
      "outputs": [
        {
          "output_type": "display_data",
          "data": {
            "text/plain": [
              "<Figure size 640x480 with 1 Axes>"
            ],
            "image/png": "[encoded data removed]"
          },
          "metadata": {}
        }
      ]
    },
    {
      "cell_type": "markdown",
      "source": [
        "We can see that :\n",
        "Heteroscedastic data (points at widely varying distances from the line).\n",
        "\n",
        "Data that is non-linearly associated.\n",
        "\n",
        "Data sets with outliers.\n",
        "\n",
        "=> model is not good enough"
      ],
      "metadata": {
        "id": "DsguLLHIXPqR"
      }
    },
    {
      "cell_type": "code",
      "source": [
        "pca = PCA(n_components=1)  # use PCA to easier visualize\n",
        "X_new=pca.fit_transform(X_train)"
      ],
      "metadata": {
        "id": "nWVD8Up1RPJz"
      },
      "execution_count": null,
      "outputs": []
    },
    {
      "cell_type": "code",
      "source": [
        "model = LinearRegression()\n",
        "model.fit(X_new, y_train)\n",
        "x_range = np.linspace(X_new.min(), X_new.max(), len(X_new)).reshape(-1, 1)\n",
        "y_pred = model.predict(x_range)"
      ],
      "metadata": {
        "id": "iLmIeyPlYTVj"
      },
      "execution_count": null,
      "outputs": []
    },
    {
      "cell_type": "code",
      "source": [
        "plt.figure(figsize=(10,10))\n",
        "plt.scatter(X_new[:,0],y_train, label='Actual')\n",
        "plt.plot(x_range,y_pred, label='Predicted', color='red')\n",
        "plt.legend()\n",
        "plt.show()"
      ],
      "metadata": {
        "colab": {
          "base_uri": "https://localhost:8080/",
          "height": 830
        },
        "id": "9RXFAPLTQPKi",
        "outputId": "677bec9a-ef67-484b-eb31-c5195e8f0624"
      },
      "execution_count": null,
      "outputs": [
        {
          "output_type": "display_data",
          "data": {
            "text/plain": [
              "<Figure size 1000x1000 with 1 Axes>"
            ],
            "image/png": "[encoded data removed]"
          },
          "metadata": {}
        }
      ]
    },
    {
      "cell_type": "markdown",
      "source": [
        "Data is not far complex for accurate prediction"
      ],
      "metadata": {
        "id": "aUpsfe4zJvgV"
      }
    },
    {
      "cell_type": "markdown",
      "source": [
        "I use validation to test whether the model is overfitting."
      ],
      "metadata": {
        "id": "tINgD5TvaLaD"
      }
    },
    {
      "cell_type": "code",
      "source": [
        "def plot_learning_curves(model, X, y):\n",
        "  X_train,X_val,y_train,y_val=train_test_split(X,y,test_size=0.2,random_state=42)\n",
        "  train_score=[]\n",
        "  val_score=[]\n",
        "  for m in range(1,len(X_train)):\n",
        "    model.fit(X_train[:m],y_train[:m])\n",
        "    y_pre_train=model.predict(X_train[:m])\n",
        "    y_pre_val=model.predict(X_val)\n",
        "    train_score.append(MSE(y_pre_train,y_train[:m]))\n",
        "    val_score.append(MSE(y_pre_val,y_val))\n",
        "  plt.plot(train_score,linewidth=3,label=\"train\")\n",
        "  plt.plot(val_score,linewidth=3,label=\"validation\")\n",
        "  plt.xlabel('Train size')\n",
        "  plt.ylabel('MSE')\n",
        "  plt.ylim(0,100)\n",
        "  plt.legend()\n",
        "  plt.show()\n",
        "\n",
        "plot_learning_curves(LinearRegression(),X_train,y_train)\n",
        "\n",
        "\n"
      ],
      "metadata": {
        "colab": {
          "base_uri": "https://localhost:8080/",
          "height": 455
        },
        "id": "68qq7i9aQCUV",
        "outputId": "223b36fc-93e6-40b9-d2b6-600849f44cb1"
      },
      "execution_count": null,
      "outputs": [
        {
          "output_type": "display_data",
          "data": {
            "text/plain": [
              "<Figure size 640x480 with 1 Axes>"
            ],
            "image/png": "[encoded data removed]"
          },
          "metadata": {}
        }
      ]
    },
    {
      "cell_type": "markdown",
      "source": [
        "The train size higher than 80 has the results on the training data do not deviate too much from those on the validation data."
      ],
      "metadata": {
        "id": "CqQx1KeCeEdh"
      }
    },
    {
      "cell_type": "markdown",
      "source": [
        "# **Hyperparameter Tuning**"
      ],
      "metadata": {
        "id": "No8M40WggcOg"
      }
    },
    {
      "cell_type": "code",
      "source": [
        "degrees=[2,3,4,5]\n",
        "for d in degrees:\n",
        "  pipeline = Pipeline([\n",
        "        (\"polynomial_features\", PolynomialFeatures(degree=d)),\n",
        "        (\"regressor\", LinearRegression()),\n",
        "    ])\n",
        "  pipeline.fit(X_train,y_train)\n",
        "  y_pred=pipeline.predict(X_train)\n",
        "  y_pred_te=pipeline.predict(X_test)\n",
        "  print(f\"Mean square error  with degree {d} in trainning:\",MSE(y_pred,y_train))\n",
        "  print(f\"Mean square error  with degree {d} in testing:\",MSE(y_pred_te,y_test))\n"
      ],
      "metadata": {
        "colab": {
          "base_uri": "https://localhost:8080/"
        },
        "id": "DxecsI-G1WpF",
        "outputId": "fab77a54-267b-4424-b602-4749d32e6733"
      },
      "execution_count": null,
      "outputs": [
        {
          "output_type": "stream",
          "name": "stdout",
          "text": [
            "Mean square error  with degree 2 in trainning: 35.39879918705041\n",
            "Mean square error  with degree 2 in testing: 57.75531102717137\n",
            "Mean square error  with degree 3 in trainning: 42.287257065191504\n",
            "Mean square error  with degree 3 in testing: 60.75158200183546\n",
            "Mean square error  with degree 4 in trainning: 16.054901326505306\n",
            "Mean square error  with degree 4 in testing: 4006.0257933767825\n",
            "Mean square error  with degree 5 in trainning: 4.073271554899225\n",
            "Mean square error  with degree 5 in testing: 137812419.53382576\n"
          ]
        }
      ]
    },
    {
      "cell_type": "markdown",
      "source": [
        "As the degree increases, the likelihood of overfitting also increases. I realize that degree 2 is the best with smallest errors  in both trainning and testing as well as not overfitting"
      ],
      "metadata": {
        "id": "qVNhHU3heqrJ"
      }
    },
    {
      "cell_type": "code",
      "source": [
        "models={\n",
        "      \"LinearRegression\":{\n",
        "          \"model\":LinearRegression(),\n",
        "          \"parameter\":{\n",
        "              \"poly__degree\":[2,4],\n",
        "              \"linear__positive\":[True,False],\n",
        "\n",
        "              }\n",
        "      },\n",
        "      \"Ridge\":{\n",
        "          \"model\":Ridge(),\n",
        "          \"parameter\":{\n",
        "              \"poly__degree\":[2,4],\n",
        "              \"linear__alpha\":[0.01,0.1],\n",
        "\n",
        "              }\n",
        "      },\n",
        "      \"Lasso\":{\n",
        "          \"model\":Lasso(),\n",
        "          \"parameter\":{\n",
        "              \"poly__degree\":[2,4],\n",
        "              \"linear__alpha\":[0.01,0.1],}\n",
        "\n",
        "      },\n",
        "      \"ElasticNet\":{\n",
        "          \"model\":ElasticNet(),\n",
        "          \"parameter\":{\n",
        "              \"poly__degree\":[2,4],\n",
        "              \"linear__l1_ratio\":[0,0.5],\n",
        "\n",
        "          }\n",
        "      },\n",
        "  }"
      ],
      "metadata": {
        "id": "g5vj64h5nMMT"
      },
      "execution_count": null,
      "outputs": []
    },
    {
      "cell_type": "code",
      "source": [
        "def find_best_model1(X,y,models):\n",
        "  best_model=[]\n",
        "  for names,s in models.items():\n",
        "    model=s[\"model\"]\n",
        "    model.fit(X_train,y_train)\n",
        "    best_model.append({\n",
        "        \"model\":names,\n",
        "        \"MSE\":MSE(model.predict(X_train),y_train)\n",
        "        })\n",
        "  return pd.DataFrame(best_model,columns=['model','MSE'])"
      ],
      "metadata": {
        "id": "GSGiQO6InhMo"
      },
      "execution_count": null,
      "outputs": []
    },
    {
      "cell_type": "code",
      "source": [
        "find_best_model1(X,y,models)"
      ],
      "metadata": {
        "colab": {
          "base_uri": "https://localhost:8080/",
          "height": 175
        },
        "id": "VjlRxdXQotx7",
        "outputId": "3e29a8d9-5d2c-4d2f-e2bf-b6a8cbc17149"
      },
      "execution_count": null,
      "outputs": [
        {
          "output_type": "execute_result",
          "data": {
            "text/plain": [
              "              model        MSE\n",
              "0  LinearRegression  53.023440\n",
              "1             Ridge  53.024359\n",
              "2             Lasso  55.718926\n",
              "3        ElasticNet  60.872196"
            ],
            "text/html": [
              "\n",
              "  <div id=\"df-9edc20e6-5b93-4961-979a-ddac720a068d\" class=\"colab-df-container\">\n",
              "    <div>\n",
              "<style scoped>\n",
              "    .dataframe tbody tr th:only-of-type {\n",
              "        vertical-align: middle;\n",
              "    }\n",
              "\n",
              "    .dataframe tbody tr th {\n",
              "        vertical-align: top;\n",
              "    }\n",
              "\n",
              "    .dataframe thead th {\n",
              "        text-align: right;\n",
              "    }\n",
              "</style>\n",
              "<table border=\"1\" class=\"dataframe\">\n",
              "  <thead>\n",
              "    <tr style=\"text-align: right;\">\n",
              "      <th></th>\n",
              "      <th>model</th>\n",
              "      <th>MSE</th>\n",
              "    </tr>\n",
              "  </thead>\n",
              "  <tbody>\n",
              "    <tr>\n",
              "      <th>0</th>\n",
              "      <td>LinearRegression</td>\n",
              "      <td>53.023440</td>\n",
              "    </tr>\n",
              "    <tr>\n",
              "      <th>1</th>\n",
              "      <td>Ridge</td>\n",
              "      <td>53.024359</td>\n",
              "    </tr>\n",
              "    <tr>\n",
              "      <th>2</th>\n",
              "      <td>Lasso</td>\n",
              "      <td>55.718926</td>\n",
              "    </tr>\n",
              "    <tr>\n",
              "      <th>3</th>\n",
              "      <td>ElasticNet</td>\n",
              "      <td>60.872196</td>\n",
              "    </tr>\n",
              "  </tbody>\n",
              "</table>\n",
              "</div>\n",
              "    <div class=\"colab-df-buttons\">\n",
              "\n",
              "  <div class=\"colab-df-container\">\n",
              "    <button class=\"colab-df-convert\" onclick=\"convertToInteractive('df-9edc20e6-5b93-4961-979a-ddac720a068d')\"\n",
              "            title=\"Convert this dataframe to an interactive table.\"\n",
              "            style=\"display:none;\">\n",
              "\n",
              "  <svg xmlns=\"http://www.w3.org/2000/svg\" height=\"24px\" viewBox=\"0 -960 960 960\">\n",
              "    <path d=\"M120-120v-720h720v720H120Zm60-500h600v-160H180v160Zm220 220h160v-160H400v160Zm0 220h160v-160H400v160ZM180-400h160v-160H180v160Zm440 0h160v-160H620v160ZM180-180h160v-160H180v160Zm440 0h160v-160H620v160Z\"/>\n",
              "  </svg>\n",
              "    </button>\n",
              "\n",
              "  <style>\n",
              "    .colab-df-container {\n",
              "      display:flex;\n",
              "      gap: 12px;\n",
              "    }\n",
              "\n",
              "    .colab-df-convert {\n",
              "      background-color: #E8F0FE;\n",
              "      border: none;\n",
              "      border-radius: 50%;\n",
              "      cursor: pointer;\n",
              "      display: none;\n",
              "      fill: #1967D2;\n",
              "      height: 32px;\n",
              "      padding: 0 0 0 0;\n",
              "      width: 32px;\n",
              "    }\n",
              "\n",
              "    .colab-df-convert:hover {\n",
              "      background-color: #E2EBFA;\n",
              "      box-shadow: 0px 1px 2px rgba(60, 64, 67, 0.3), 0px 1px 3px 1px rgba(60, 64, 67, 0.15);\n",
              "      fill: #174EA6;\n",
              "    }\n",
              "\n",
              "    .colab-df-buttons div {\n",
              "      margin-bottom: 4px;\n",
              "    }\n",
              "\n",
              "    [theme=dark] .colab-df-convert {\n",
              "      background-color: #3B4455;\n",
              "      fill: #D2E3FC;\n",
              "    }\n",
              "\n",
              "    [theme=dark] .colab-df-convert:hover {\n",
              "      background-color: #434B5C;\n",
              "      box-shadow: 0px 1px 3px 1px rgba(0, 0, 0, 0.15);\n",
              "      filter: drop-shadow(0px 1px 2px rgba(0, 0, 0, 0.3));\n",
              "      fill: #FFFFFF;\n",
              "    }\n",
              "  </style>\n",
              "\n",
              "    <script>\n",
              "      const buttonEl =\n",
              "        document.querySelector('#df-9edc20e6-5b93-4961-979a-ddac720a068d button.colab-df-convert');\n",
              "      buttonEl.style.display =\n",
              "        google.colab.kernel.accessAllowed ? 'block' : 'none';\n",
              "\n",
              "      async function convertToInteractive(key) {\n",
              "        const element = document.querySelector('#df-9edc20e6-5b93-4961-979a-ddac720a068d');\n",
              "        const dataTable =\n",
              "          await google.colab.kernel.invokeFunction('convertToInteractive',\n",
              "                                                    [key], {});\n",
              "        if (!dataTable) return;\n",
              "\n",
              "        const docLinkHtml = 'Like what you see? Visit the ' +\n",
              "          '<a target=\"_blank\" href=https://colab.research.google.com/notebooks/data_table.ipynb>data table notebook</a>'\n",
              "          + ' to learn more about interactive tables.';\n",
              "        element.innerHTML = '';\n",
              "        dataTable['output_type'] = 'display_data';\n",
              "        await google.colab.output.renderOutput(dataTable, element);\n",
              "        const docLink = document.createElement('div');\n",
              "        docLink.innerHTML = docLinkHtml;\n",
              "        element.appendChild(docLink);\n",
              "      }\n",
              "    </script>\n",
              "  </div>\n",
              "\n",
              "\n",
              "<div id=\"df-204872a9-f832-4872-bb7c-070661ac0556\">\n",
              "  <button class=\"colab-df-quickchart\" onclick=\"quickchart('df-204872a9-f832-4872-bb7c-070661ac0556')\"\n",
              "            title=\"Suggest charts\"\n",
              "            style=\"display:none;\">\n",
              "\n",
              "<svg xmlns=\"http://www.w3.org/2000/svg\" height=\"24px\"viewBox=\"0 0 24 24\"\n",
              "     width=\"24px\">\n",
              "    <g>\n",
              "        <path d=\"M19 3H5c-1.1 0-2 .9-2 2v14c0 1.1.9 2 2 2h14c1.1 0 2-.9 2-2V5c0-1.1-.9-2-2-2zM9 17H7v-7h2v7zm4 0h-2V7h2v10zm4 0h-2v-4h2v4z\"/>\n",
              "    </g>\n",
              "</svg>\n",
              "  </button>\n",
              "\n",
              "<style>\n",
              "  .colab-df-quickchart {\n",
              "      --bg-color: #E8F0FE;\n",
              "      --fill-color: #1967D2;\n",
              "      --hover-bg-color: #E2EBFA;\n",
              "      --hover-fill-color: #174EA6;\n",
              "      --disabled-fill-color: #AAA;\n",
              "      --disabled-bg-color: #DDD;\n",
              "  }\n",
              "\n",
              "  [theme=dark] .colab-df-quickchart {\n",
              "      --bg-color: #3B4455;\n",
              "      --fill-color: #D2E3FC;\n",
              "      --hover-bg-color: #434B5C;\n",
              "      --hover-fill-color: #FFFFFF;\n",
              "      --disabled-bg-color: #3B4455;\n",
              "      --disabled-fill-color: #666;\n",
              "  }\n",
              "\n",
              "  .colab-df-quickchart {\n",
              "    background-color: var(--bg-color);\n",
              "    border: none;\n",
              "    border-radius: 50%;\n",
              "    cursor: pointer;\n",
              "    display: none;\n",
              "    fill: var(--fill-color);\n",
              "    height: 32px;\n",
              "    padding: 0;\n",
              "    width: 32px;\n",
              "  }\n",
              "\n",
              "  .colab-df-quickchart:hover {\n",
              "    background-color: var(--hover-bg-color);\n",
              "    box-shadow: 0 1px 2px rgba(60, 64, 67, 0.3), 0 1px 3px 1px rgba(60, 64, 67, 0.15);\n",
              "    fill: var(--button-hover-fill-color);\n",
              "  }\n",
              "\n",
              "  .colab-df-quickchart-complete:disabled,\n",
              "  .colab-df-quickchart-complete:disabled:hover {\n",
              "    background-color: var(--disabled-bg-color);\n",
              "    fill: var(--disabled-fill-color);\n",
              "    box-shadow: none;\n",
              "  }\n",
              "\n",
              "  .colab-df-spinner {\n",
              "    border: 2px solid var(--fill-color);\n",
              "    border-color: transparent;\n",
              "    border-bottom-color: var(--fill-color);\n",
              "    animation:\n",
              "      spin 1s steps(1) infinite;\n",
              "  }\n",
              "\n",
              "  @keyframes spin {\n",
              "    0% {\n",
              "      border-color: transparent;\n",
              "      border-bottom-color: var(--fill-color);\n",
              "      border-left-color: var(--fill-color);\n",
              "    }\n",
              "    20% {\n",
              "      border-color: transparent;\n",
              "      border-left-color: var(--fill-color);\n",
              "      border-top-color: var(--fill-color);\n",
              "    }\n",
              "    30% {\n",
              "      border-color: transparent;\n",
              "      border-left-color: var(--fill-color);\n",
              "      border-top-color: var(--fill-color);\n",
              "      border-right-color: var(--fill-color);\n",
              "    }\n",
              "    40% {\n",
              "      border-color: transparent;\n",
              "      border-right-color: var(--fill-color);\n",
              "      border-top-color: var(--fill-color);\n",
              "    }\n",
              "    60% {\n",
              "      border-color: transparent;\n",
              "      border-right-color: var(--fill-color);\n",
              "    }\n",
              "    80% {\n",
              "      border-color: transparent;\n",
              "      border-right-color: var(--fill-color);\n",
              "      border-bottom-color: var(--fill-color);\n",
              "    }\n",
              "    90% {\n",
              "      border-color: transparent;\n",
              "      border-bottom-color: var(--fill-color);\n",
              "    }\n",
              "  }\n",
              "</style>\n",
              "\n",
              "  <script>\n",
              "    async function quickchart(key) {\n",
              "      const quickchartButtonEl =\n",
              "        document.querySelector('#' + key + ' button');\n",
              "      quickchartButtonEl.disabled = true;  // To prevent multiple clicks.\n",
              "      quickchartButtonEl.classList.add('colab-df-spinner');\n",
              "      try {\n",
              "        const charts = await google.colab.kernel.invokeFunction(\n",
              "            'suggestCharts', [key], {});\n",
              "      } catch (error) {\n",
              "        console.error('Error during call to suggestCharts:', error);\n",
              "      }\n",
              "      quickchartButtonEl.classList.remove('colab-df-spinner');\n",
              "      quickchartButtonEl.classList.add('colab-df-quickchart-complete');\n",
              "    }\n",
              "    (() => {\n",
              "      let quickchartButtonEl =\n",
              "        document.querySelector('#df-204872a9-f832-4872-bb7c-070661ac0556 button');\n",
              "      quickchartButtonEl.style.display =\n",
              "        google.colab.kernel.accessAllowed ? 'block' : 'none';\n",
              "    })();\n",
              "  </script>\n",
              "</div>\n",
              "\n",
              "    </div>\n",
              "  </div>\n"
            ],
            "application/vnd.google.colaboratory.intrinsic+json": {
              "type": "dataframe",
              "summary": "{\n  \"name\": \"find_best_model1(X,y,models)\",\n  \"rows\": 4,\n  \"fields\": [\n    {\n      \"column\": \"model\",\n      \"properties\": {\n        \"dtype\": \"string\",\n        \"num_unique_values\": 4,\n        \"samples\": [\n          \"Ridge\",\n          \"ElasticNet\",\n          \"LinearRegression\"\n        ],\n        \"semantic_type\": \"\",\n        \"description\": \"\"\n      }\n    },\n    {\n      \"column\": \"MSE\",\n      \"properties\": {\n        \"dtype\": \"number\",\n        \"std\": 3.6999329377755195,\n        \"min\": 53.02343962881884,\n        \"max\": 60.872195619677335,\n        \"num_unique_values\": 4,\n        \"samples\": [\n          53.02435861866284,\n          60.872195619677335,\n          53.02343962881884\n        ],\n        \"semantic_type\": \"\",\n        \"description\": \"\"\n      }\n    }\n  ]\n}"
            }
          },
          "metadata": {},
          "execution_count": 519
        }
      ]
    },
    {
      "cell_type": "markdown",
      "source": [
        "Lasso, Ridge, ElasticNet are regularized regression techniques. Consequently, the score in LinearRegression tends to be lower as it doesn't incorporate regularization. Elasticnet is highest because of combining L1  and L2 penalties of the lasso and ridge methods. Plus, Ridge  helps to reduce the risk of overfitting; Lasso helps for feature selection and ElasticNet balances feature selection and regularization"
      ],
      "metadata": {
        "id": "sXNWukEzXPEy"
      }
    },
    {
      "cell_type": "code",
      "source": [
        "def find_best_model2(X,y,models):\n",
        "\n",
        "  cv = ShuffleSplit(5,random_state=42)\n",
        "  best_model=[]\n",
        "  for names,s in models.items():\n",
        "    pipeline = Pipeline([\n",
        "        (\"poly\", PolynomialFeatures()),\n",
        "        (\"linear\", s[\"model\"])])\n",
        "    grid = GridSearchCV(pipeline,s[\"parameter\"],cv=cv,scoring='neg_mean_squared_error',return_train_score=False)\n",
        "    grid.fit(X,y)\n",
        "    best_model.append(\n",
        "        {\n",
        "            'model':names,\n",
        "            'best_score':-grid.best_score_,\n",
        "            #Scikit-Learn cross-validation features expect a utility function\n",
        "            #(greater is better) rather than a cost function (lower is better), so\n",
        "            #the scoring function is actually the opposite of the MSE (i.e., a neg‐\n",
        "            #ative value), which is why the preceding code computes -scores\n",
        "            #before calculating the square root.\n",
        "            'best_param':grid.best_params_,\n",
        "             'time':np.mean(grid.cv_results_['mean_fit_time'])\n",
        "\n",
        "        }\n",
        "    )\n",
        "  return pd.DataFrame(best_model,columns=['model','best_score','best_param','time'])"
      ],
      "metadata": {
        "id": "Y15dHeyHmGWR"
      },
      "execution_count": null,
      "outputs": []
    },
    {
      "cell_type": "code",
      "source": [
        "find_best_model2(X_train,y_train,models)"
      ],
      "metadata": {
        "id": "JItgaWr2mGUC",
        "colab": {
          "base_uri": "https://localhost:8080/",
          "height": 1000
        },
        "outputId": "1c32ddbe-74bd-4357-921a-92060abc7ad3"
      },
      "execution_count": null,
      "outputs": [
        {
          "output_type": "stream",
          "name": "stderr",
          "text": [
            "/usr/local/lib/python3.10/dist-packages/sklearn/linear_model/_coordinate_descent.py:631: ConvergenceWarning: Objective did not converge. You might want to increase the number of iterations, check the scale of the features or consider increasing regularisation. Duality gap: 2.328e+03, tolerance: 4.568e+00\n",
            "  model = cd_fast.enet_coordinate_descent(\n",
            "/usr/local/lib/python3.10/dist-packages/sklearn/linear_model/_coordinate_descent.py:631: ConvergenceWarning: Objective did not converge. You might want to increase the number of iterations, check the scale of the features or consider increasing regularisation. Duality gap: 2.284e+03, tolerance: 4.547e+00\n",
            "  model = cd_fast.enet_coordinate_descent(\n",
            "/usr/local/lib/python3.10/dist-packages/sklearn/linear_model/_coordinate_descent.py:631: ConvergenceWarning: Objective did not converge. You might want to increase the number of iterations, check the scale of the features or consider increasing regularisation. Duality gap: 2.309e+03, tolerance: 4.625e+00\n",
            "  model = cd_fast.enet_coordinate_descent(\n",
            "/usr/local/lib/python3.10/dist-packages/sklearn/linear_model/_coordinate_descent.py:631: ConvergenceWarning: Objective did not converge. You might want to increase the number of iterations, check the scale of the features or consider increasing regularisation. Duality gap: 1.847e+03, tolerance: 4.703e+00\n",
            "  model = cd_fast.enet_coordinate_descent(\n",
            "/usr/local/lib/python3.10/dist-packages/sklearn/linear_model/_coordinate_descent.py:631: ConvergenceWarning: Objective did not converge. You might want to increase the number of iterations, check the scale of the features or consider increasing regularisation. Duality gap: 2.426e+03, tolerance: 4.487e+00\n",
            "  model = cd_fast.enet_coordinate_descent(\n",
            "/usr/local/lib/python3.10/dist-packages/sklearn/linear_model/_coordinate_descent.py:631: ConvergenceWarning: Objective did not converge. You might want to increase the number of iterations, check the scale of the features or consider increasing regularisation. Duality gap: 1.625e+02, tolerance: 4.568e+00\n",
            "  model = cd_fast.enet_coordinate_descent(\n",
            "/usr/local/lib/python3.10/dist-packages/sklearn/linear_model/_coordinate_descent.py:631: ConvergenceWarning: Objective did not converge. You might want to increase the number of iterations, check the scale of the features or consider increasing regularisation. Duality gap: 3.209e+02, tolerance: 4.547e+00\n",
            "  model = cd_fast.enet_coordinate_descent(\n",
            "/usr/local/lib/python3.10/dist-packages/sklearn/linear_model/_coordinate_descent.py:631: ConvergenceWarning: Objective did not converge. You might want to increase the number of iterations, check the scale of the features or consider increasing regularisation. Duality gap: 1.018e+02, tolerance: 4.625e+00\n",
            "  model = cd_fast.enet_coordinate_descent(\n",
            "/usr/local/lib/python3.10/dist-packages/sklearn/linear_model/_coordinate_descent.py:631: ConvergenceWarning: Objective did not converge. You might want to increase the number of iterations, check the scale of the features or consider increasing regularisation. Duality gap: 4.618e+01, tolerance: 4.703e+00\n",
            "  model = cd_fast.enet_coordinate_descent(\n",
            "/usr/local/lib/python3.10/dist-packages/sklearn/linear_model/_coordinate_descent.py:631: ConvergenceWarning: Objective did not converge. You might want to increase the number of iterations, check the scale of the features or consider increasing regularisation. Duality gap: 2.535e+02, tolerance: 4.487e+00\n",
            "  model = cd_fast.enet_coordinate_descent(\n",
            "/usr/local/lib/python3.10/dist-packages/sklearn/linear_model/_coordinate_descent.py:631: ConvergenceWarning: Objective did not converge. You might want to increase the number of iterations, check the scale of the features or consider increasing regularisation. Duality gap: 1.078e+04, tolerance: 4.568e+00 Linear regression models with null weight for the l1 regularization term are more efficiently fitted using one of the solvers implemented in sklearn.linear_model.Ridge/RidgeCV instead.\n",
            "  model = cd_fast.enet_coordinate_descent(\n",
            "/usr/local/lib/python3.10/dist-packages/sklearn/linear_model/_coordinate_descent.py:631: ConvergenceWarning: Objective did not converge. You might want to increase the number of iterations, check the scale of the features or consider increasing regularisation. Duality gap: 1.079e+04, tolerance: 4.547e+00 Linear regression models with null weight for the l1 regularization term are more efficiently fitted using one of the solvers implemented in sklearn.linear_model.Ridge/RidgeCV instead.\n",
            "  model = cd_fast.enet_coordinate_descent(\n",
            "/usr/local/lib/python3.10/dist-packages/sklearn/linear_model/_coordinate_descent.py:631: ConvergenceWarning: Objective did not converge. You might want to increase the number of iterations, check the scale of the features or consider increasing regularisation. Duality gap: 1.102e+04, tolerance: 4.625e+00 Linear regression models with null weight for the l1 regularization term are more efficiently fitted using one of the solvers implemented in sklearn.linear_model.Ridge/RidgeCV instead.\n",
            "  model = cd_fast.enet_coordinate_descent(\n",
            "/usr/local/lib/python3.10/dist-packages/sklearn/linear_model/_coordinate_descent.py:631: ConvergenceWarning: Objective did not converge. You might want to increase the number of iterations, check the scale of the features or consider increasing regularisation. Duality gap: 1.102e+04, tolerance: 4.703e+00 Linear regression models with null weight for the l1 regularization term are more efficiently fitted using one of the solvers implemented in sklearn.linear_model.Ridge/RidgeCV instead.\n",
            "  model = cd_fast.enet_coordinate_descent(\n",
            "/usr/local/lib/python3.10/dist-packages/sklearn/linear_model/_coordinate_descent.py:631: ConvergenceWarning: Objective did not converge. You might want to increase the number of iterations, check the scale of the features or consider increasing regularisation. Duality gap: 1.080e+04, tolerance: 4.487e+00 Linear regression models with null weight for the l1 regularization term are more efficiently fitted using one of the solvers implemented in sklearn.linear_model.Ridge/RidgeCV instead.\n",
            "  model = cd_fast.enet_coordinate_descent(\n",
            "/usr/local/lib/python3.10/dist-packages/sklearn/linear_model/_coordinate_descent.py:631: ConvergenceWarning: Objective did not converge. You might want to increase the number of iterations, check the scale of the features or consider increasing regularisation. Duality gap: 7.453e+03, tolerance: 4.568e+00 Linear regression models with null weight for the l1 regularization term are more efficiently fitted using one of the solvers implemented in sklearn.linear_model.Ridge/RidgeCV instead.\n",
            "  model = cd_fast.enet_coordinate_descent(\n",
            "/usr/local/lib/python3.10/dist-packages/sklearn/linear_model/_coordinate_descent.py:631: ConvergenceWarning: Objective did not converge. You might want to increase the number of iterations, check the scale of the features or consider increasing regularisation. Duality gap: 7.410e+03, tolerance: 4.547e+00 Linear regression models with null weight for the l1 regularization term are more efficiently fitted using one of the solvers implemented in sklearn.linear_model.Ridge/RidgeCV instead.\n",
            "  model = cd_fast.enet_coordinate_descent(\n",
            "/usr/local/lib/python3.10/dist-packages/sklearn/linear_model/_coordinate_descent.py:631: ConvergenceWarning: Objective did not converge. You might want to increase the number of iterations, check the scale of the features or consider increasing regularisation. Duality gap: 7.434e+03, tolerance: 4.625e+00 Linear regression models with null weight for the l1 regularization term are more efficiently fitted using one of the solvers implemented in sklearn.linear_model.Ridge/RidgeCV instead.\n",
            "  model = cd_fast.enet_coordinate_descent(\n",
            "/usr/local/lib/python3.10/dist-packages/sklearn/linear_model/_coordinate_descent.py:631: ConvergenceWarning: Objective did not converge. You might want to increase the number of iterations, check the scale of the features or consider increasing regularisation. Duality gap: 7.328e+03, tolerance: 4.703e+00 Linear regression models with null weight for the l1 regularization term are more efficiently fitted using one of the solvers implemented in sklearn.linear_model.Ridge/RidgeCV instead.\n",
            "  model = cd_fast.enet_coordinate_descent(\n",
            "/usr/local/lib/python3.10/dist-packages/sklearn/linear_model/_coordinate_descent.py:631: ConvergenceWarning: Objective did not converge. You might want to increase the number of iterations, check the scale of the features or consider increasing regularisation. Duality gap: 7.403e+03, tolerance: 4.487e+00 Linear regression models with null weight for the l1 regularization term are more efficiently fitted using one of the solvers implemented in sklearn.linear_model.Ridge/RidgeCV instead.\n",
            "  model = cd_fast.enet_coordinate_descent(\n",
            "/usr/local/lib/python3.10/dist-packages/sklearn/linear_model/_coordinate_descent.py:631: ConvergenceWarning: Objective did not converge. You might want to increase the number of iterations, check the scale of the features or consider increasing regularisation. Duality gap: 6.055e+00, tolerance: 4.568e+00\n",
            "  model = cd_fast.enet_coordinate_descent(\n",
            "/usr/local/lib/python3.10/dist-packages/sklearn/linear_model/_coordinate_descent.py:631: ConvergenceWarning: Objective did not converge. You might want to increase the number of iterations, check the scale of the features or consider increasing regularisation. Duality gap: 8.129e+01, tolerance: 4.547e+00\n",
            "  model = cd_fast.enet_coordinate_descent(\n",
            "/usr/local/lib/python3.10/dist-packages/sklearn/linear_model/_coordinate_descent.py:631: ConvergenceWarning: Objective did not converge. You might want to increase the number of iterations, check the scale of the features or consider increasing regularisation. Duality gap: 8.754e+01, tolerance: 4.625e+00\n",
            "  model = cd_fast.enet_coordinate_descent(\n",
            "/usr/local/lib/python3.10/dist-packages/sklearn/linear_model/_coordinate_descent.py:631: ConvergenceWarning: Objective did not converge. You might want to increase the number of iterations, check the scale of the features or consider increasing regularisation. Duality gap: 2.314e+01, tolerance: 4.703e+00\n",
            "  model = cd_fast.enet_coordinate_descent(\n",
            "/usr/local/lib/python3.10/dist-packages/sklearn/linear_model/_coordinate_descent.py:631: ConvergenceWarning: Objective did not converge. You might want to increase the number of iterations, check the scale of the features or consider increasing regularisation. Duality gap: 5.962e+01, tolerance: 4.487e+00\n",
            "  model = cd_fast.enet_coordinate_descent(\n",
            "/usr/local/lib/python3.10/dist-packages/sklearn/linear_model/_coordinate_descent.py:631: ConvergenceWarning: Objective did not converge. You might want to increase the number of iterations, check the scale of the features or consider increasing regularisation. Duality gap: 8.287e+03, tolerance: 5.094e+00 Linear regression models with null weight for the l1 regularization term are more efficiently fitted using one of the solvers implemented in sklearn.linear_model.Ridge/RidgeCV instead.\n",
            "  model = cd_fast.enet_coordinate_descent(\n"
          ]
        },
        {
          "output_type": "execute_result",
          "data": {
            "text/plain": [
              "              model  best_score  \\\n",
              "0  LinearRegression   46.845977   \n",
              "1             Ridge   46.392167   \n",
              "2             Lasso   43.224364   \n",
              "3        ElasticNet   51.635625   \n",
              "\n",
              "                                       best_param      time  \n",
              "0  {'linear__positive': False, 'poly__degree': 2}  0.006428  \n",
              "1       {'linear__alpha': 0.1, 'poly__degree': 2}  0.003561  \n",
              "2       {'linear__alpha': 0.1, 'poly__degree': 2}  0.023426  \n",
              "3      {'linear__l1_ratio': 0, 'poly__degree': 4}  0.023377  "
            ],
            "text/html": [
              "\n",
              "  <div id=\"df-6bb39965-8043-407a-9483-565ee78b6079\" class=\"colab-df-container\">\n",
              "    <div>\n",
              "<style scoped>\n",
              "    .dataframe tbody tr th:only-of-type {\n",
              "        vertical-align: middle;\n",
              "    }\n",
              "\n",
              "    .dataframe tbody tr th {\n",
              "        vertical-align: top;\n",
              "    }\n",
              "\n",
              "    .dataframe thead th {\n",
              "        text-align: right;\n",
              "    }\n",
              "</style>\n",
              "<table border=\"1\" class=\"dataframe\">\n",
              "  <thead>\n",
              "    <tr style=\"text-align: right;\">\n",
              "      <th></th>\n",
              "      <th>model</th>\n",
              "      <th>best_score</th>\n",
              "      <th>best_param</th>\n",
              "      <th>time</th>\n",
              "    </tr>\n",
              "  </thead>\n",
              "  <tbody>\n",
              "    <tr>\n",
              "      <th>0</th>\n",
              "      <td>LinearRegression</td>\n",
              "      <td>46.845977</td>\n",
              "      <td>{'linear__positive': False, 'poly__degree': 2}</td>\n",
              "      <td>0.006428</td>\n",
              "    </tr>\n",
              "    <tr>\n",
              "      <th>1</th>\n",
              "      <td>Ridge</td>\n",
              "      <td>46.392167</td>\n",
              "      <td>{'linear__alpha': 0.1, 'poly__degree': 2}</td>\n",
              "      <td>0.003561</td>\n",
              "    </tr>\n",
              "    <tr>\n",
              "      <th>2</th>\n",
              "      <td>Lasso</td>\n",
              "      <td>43.224364</td>\n",
              "      <td>{'linear__alpha': 0.1, 'poly__degree': 2}</td>\n",
              "      <td>0.023426</td>\n",
              "    </tr>\n",
              "    <tr>\n",
              "      <th>3</th>\n",
              "      <td>ElasticNet</td>\n",
              "      <td>51.635625</td>\n",
              "      <td>{'linear__l1_ratio': 0, 'poly__degree': 4}</td>\n",
              "      <td>0.023377</td>\n",
              "    </tr>\n",
              "  </tbody>\n",
              "</table>\n",
              "</div>\n",
              "    <div class=\"colab-df-buttons\">\n",
              "\n",
              "  <div class=\"colab-df-container\">\n",
              "    <button class=\"colab-df-convert\" onclick=\"convertToInteractive('df-6bb39965-8043-407a-9483-565ee78b6079')\"\n",
              "            title=\"Convert this dataframe to an interactive table.\"\n",
              "            style=\"display:none;\">\n",
              "\n",
              "  <svg xmlns=\"http://www.w3.org/2000/svg\" height=\"24px\" viewBox=\"0 -960 960 960\">\n",
              "    <path d=\"M120-120v-720h720v720H120Zm60-500h600v-160H180v160Zm220 220h160v-160H400v160Zm0 220h160v-160H400v160ZM180-400h160v-160H180v160Zm440 0h160v-160H620v160ZM180-180h160v-160H180v160Zm440 0h160v-160H620v160Z\"/>\n",
              "  </svg>\n",
              "    </button>\n",
              "\n",
              "  <style>\n",
              "    .colab-df-container {\n",
              "      display:flex;\n",
              "      gap: 12px;\n",
              "    }\n",
              "\n",
              "    .colab-df-convert {\n",
              "      background-color: #E8F0FE;\n",
              "      border: none;\n",
              "      border-radius: 50%;\n",
              "      cursor: pointer;\n",
              "      display: none;\n",
              "      fill: #1967D2;\n",
              "      height: 32px;\n",
              "      padding: 0 0 0 0;\n",
              "      width: 32px;\n",
              "    }\n",
              "\n",
              "    .colab-df-convert:hover {\n",
              "      background-color: #E2EBFA;\n",
              "      box-shadow: 0px 1px 2px rgba(60, 64, 67, 0.3), 0px 1px 3px 1px rgba(60, 64, 67, 0.15);\n",
              "      fill: #174EA6;\n",
              "    }\n",
              "\n",
              "    .colab-df-buttons div {\n",
              "      margin-bottom: 4px;\n",
              "    }\n",
              "\n",
              "    [theme=dark] .colab-df-convert {\n",
              "      background-color: #3B4455;\n",
              "      fill: #D2E3FC;\n",
              "    }\n",
              "\n",
              "    [theme=dark] .colab-df-convert:hover {\n",
              "      background-color: #434B5C;\n",
              "      box-shadow: 0px 1px 3px 1px rgba(0, 0, 0, 0.15);\n",
              "      filter: drop-shadow(0px 1px 2px rgba(0, 0, 0, 0.3));\n",
              "      fill: #FFFFFF;\n",
              "    }\n",
              "  </style>\n",
              "\n",
              "    <script>\n",
              "      const buttonEl =\n",
              "        document.querySelector('#df-6bb39965-8043-407a-9483-565ee78b6079 button.colab-df-convert');\n",
              "      buttonEl.style.display =\n",
              "        google.colab.kernel.accessAllowed ? 'block' : 'none';\n",
              "\n",
              "      async function convertToInteractive(key) {\n",
              "        const element = document.querySelector('#df-6bb39965-8043-407a-9483-565ee78b6079');\n",
              "        const dataTable =\n",
              "          await google.colab.kernel.invokeFunction('convertToInteractive',\n",
              "                                                    [key], {});\n",
              "        if (!dataTable) return;\n",
              "\n",
              "        const docLinkHtml = 'Like what you see? Visit the ' +\n",
              "          '<a target=\"_blank\" href=https://colab.research.google.com/notebooks/data_table.ipynb>data table notebook</a>'\n",
              "          + ' to learn more about interactive tables.';\n",
              "        element.innerHTML = '';\n",
              "        dataTable['output_type'] = 'display_data';\n",
              "        await google.colab.output.renderOutput(dataTable, element);\n",
              "        const docLink = document.createElement('div');\n",
              "        docLink.innerHTML = docLinkHtml;\n",
              "        element.appendChild(docLink);\n",
              "      }\n",
              "    </script>\n",
              "  </div>\n",
              "\n",
              "\n",
              "<div id=\"df-85f9bbb3-fa7c-445c-b9b5-d86026d1b950\">\n",
              "  <button class=\"colab-df-quickchart\" onclick=\"quickchart('df-85f9bbb3-fa7c-445c-b9b5-d86026d1b950')\"\n",
              "            title=\"Suggest charts\"\n",
              "            style=\"display:none;\">\n",
              "\n",
              "<svg xmlns=\"http://www.w3.org/2000/svg\" height=\"24px\"viewBox=\"0 0 24 24\"\n",
              "     width=\"24px\">\n",
              "    <g>\n",
              "        <path d=\"M19 3H5c-1.1 0-2 .9-2 2v14c0 1.1.9 2 2 2h14c1.1 0 2-.9 2-2V5c0-1.1-.9-2-2-2zM9 17H7v-7h2v7zm4 0h-2V7h2v10zm4 0h-2v-4h2v4z\"/>\n",
              "    </g>\n",
              "</svg>\n",
              "  </button>\n",
              "\n",
              "<style>\n",
              "  .colab-df-quickchart {\n",
              "      --bg-color: #E8F0FE;\n",
              "      --fill-color: #1967D2;\n",
              "      --hover-bg-color: #E2EBFA;\n",
              "      --hover-fill-color: #174EA6;\n",
              "      --disabled-fill-color: #AAA;\n",
              "      --disabled-bg-color: #DDD;\n",
              "  }\n",
              "\n",
              "  [theme=dark] .colab-df-quickchart {\n",
              "      --bg-color: #3B4455;\n",
              "      --fill-color: #D2E3FC;\n",
              "      --hover-bg-color: #434B5C;\n",
              "      --hover-fill-color: #FFFFFF;\n",
              "      --disabled-bg-color: #3B4455;\n",
              "      --disabled-fill-color: #666;\n",
              "  }\n",
              "\n",
              "  .colab-df-quickchart {\n",
              "    background-color: var(--bg-color);\n",
              "    border: none;\n",
              "    border-radius: 50%;\n",
              "    cursor: pointer;\n",
              "    display: none;\n",
              "    fill: var(--fill-color);\n",
              "    height: 32px;\n",
              "    padding: 0;\n",
              "    width: 32px;\n",
              "  }\n",
              "\n",
              "  .colab-df-quickchart:hover {\n",
              "    background-color: var(--hover-bg-color);\n",
              "    box-shadow: 0 1px 2px rgba(60, 64, 67, 0.3), 0 1px 3px 1px rgba(60, 64, 67, 0.15);\n",
              "    fill: var(--button-hover-fill-color);\n",
              "  }\n",
              "\n",
              "  .colab-df-quickchart-complete:disabled,\n",
              "  .colab-df-quickchart-complete:disabled:hover {\n",
              "    background-color: var(--disabled-bg-color);\n",
              "    fill: var(--disabled-fill-color);\n",
              "    box-shadow: none;\n",
              "  }\n",
              "\n",
              "  .colab-df-spinner {\n",
              "    border: 2px solid var(--fill-color);\n",
              "    border-color: transparent;\n",
              "    border-bottom-color: var(--fill-color);\n",
              "    animation:\n",
              "      spin 1s steps(1) infinite;\n",
              "  }\n",
              "\n",
              "  @keyframes spin {\n",
              "    0% {\n",
              "      border-color: transparent;\n",
              "      border-bottom-color: var(--fill-color);\n",
              "      border-left-color: var(--fill-color);\n",
              "    }\n",
              "    20% {\n",
              "      border-color: transparent;\n",
              "      border-left-color: var(--fill-color);\n",
              "      border-top-color: var(--fill-color);\n",
              "    }\n",
              "    30% {\n",
              "      border-color: transparent;\n",
              "      border-left-color: var(--fill-color);\n",
              "      border-top-color: var(--fill-color);\n",
              "      border-right-color: var(--fill-color);\n",
              "    }\n",
              "    40% {\n",
              "      border-color: transparent;\n",
              "      border-right-color: var(--fill-color);\n",
              "      border-top-color: var(--fill-color);\n",
              "    }\n",
              "    60% {\n",
              "      border-color: transparent;\n",
              "      border-right-color: var(--fill-color);\n",
              "    }\n",
              "    80% {\n",
              "      border-color: transparent;\n",
              "      border-right-color: var(--fill-color);\n",
              "      border-bottom-color: var(--fill-color);\n",
              "    }\n",
              "    90% {\n",
              "      border-color: transparent;\n",
              "      border-bottom-color: var(--fill-color);\n",
              "    }\n",
              "  }\n",
              "</style>\n",
              "\n",
              "  <script>\n",
              "    async function quickchart(key) {\n",
              "      const quickchartButtonEl =\n",
              "        document.querySelector('#' + key + ' button');\n",
              "      quickchartButtonEl.disabled = true;  // To prevent multiple clicks.\n",
              "      quickchartButtonEl.classList.add('colab-df-spinner');\n",
              "      try {\n",
              "        const charts = await google.colab.kernel.invokeFunction(\n",
              "            'suggestCharts', [key], {});\n",
              "      } catch (error) {\n",
              "        console.error('Error during call to suggestCharts:', error);\n",
              "      }\n",
              "      quickchartButtonEl.classList.remove('colab-df-spinner');\n",
              "      quickchartButtonEl.classList.add('colab-df-quickchart-complete');\n",
              "    }\n",
              "    (() => {\n",
              "      let quickchartButtonEl =\n",
              "        document.querySelector('#df-85f9bbb3-fa7c-445c-b9b5-d86026d1b950 button');\n",
              "      quickchartButtonEl.style.display =\n",
              "        google.colab.kernel.accessAllowed ? 'block' : 'none';\n",
              "    })();\n",
              "  </script>\n",
              "</div>\n",
              "\n",
              "    </div>\n",
              "  </div>\n"
            ],
            "application/vnd.google.colaboratory.intrinsic+json": {
              "type": "dataframe",
              "summary": "{\n  \"name\": \"find_best_model2(X_train,y_train,models)\",\n  \"rows\": 4,\n  \"fields\": [\n    {\n      \"column\": \"model\",\n      \"properties\": {\n        \"dtype\": \"string\",\n        \"num_unique_values\": 4,\n        \"samples\": [\n          \"Ridge\",\n          \"ElasticNet\",\n          \"LinearRegression\"\n        ],\n        \"semantic_type\": \"\",\n        \"description\": \"\"\n      }\n    },\n    {\n      \"column\": \"best_score\",\n      \"properties\": {\n        \"dtype\": \"number\",\n        \"std\": 3.4706017708057377,\n        \"min\": 43.224363683223004,\n        \"max\": 51.63562548645159,\n        \"num_unique_values\": 4,\n        \"samples\": [\n          46.392166917690815,\n          51.63562548645159,\n          46.8459767407391\n        ],\n        \"semantic_type\": \"\",\n        \"description\": \"\"\n      }\n    },\n    {\n      \"column\": \"best_param\",\n      \"properties\": {\n        \"dtype\": \"object\",\n        \"semantic_type\": \"\",\n        \"description\": \"\"\n      }\n    },\n    {\n      \"column\": \"time\",\n      \"properties\": {\n        \"dtype\": \"number\",\n        \"std\": 0.010691851021542428,\n        \"min\": 0.003561031818389893,\n        \"max\": 0.023426377773284913,\n        \"num_unique_values\": 4,\n        \"samples\": [\n          0.003561031818389893,\n          0.023377275466918944,\n          0.006427550315856934\n        ],\n        \"semantic_type\": \"\",\n        \"description\": \"\"\n      }\n    }\n  ]\n}"
            }
          },
          "metadata": {},
          "execution_count": 521
        }
      ]
    },
    {
      "cell_type": "markdown",
      "source": [
        "The score is lower than before.This could be due to a perfect grid search or my data being seen during cross-validation. Additionally,  We can see the best_score of Lasso is lowest"
      ],
      "metadata": {
        "id": "-xDxLhLde3lS"
      }
    },
    {
      "cell_type": "markdown",
      "source": [
        "Because I've chosen a degree of 2  with lowest errors in both trainning and testing as well as not overfitting ,I don't need Ridge and ElasticNet for regularization. So Lasso regression is my best model choice"
      ],
      "metadata": {
        "id": "XTTQlpzgNuWK"
      }
    },
    {
      "cell_type": "markdown",
      "source": [
        "# **Conclusion and Further Analysis:**"
      ],
      "metadata": {
        "id": "gAho19eN7nnD"
      }
    },
    {
      "cell_type": "markdown",
      "source": [
        "Summary :\n",
        "\n",
        "Despite not overfitting and underfitting, the result is still high and not good enough\n",
        "\n",
        "Since the data exhibits non-linearity, choosing degree 2 is the best with smallest errors in both trainning and testing as well as not overfitting\n",
        "\n",
        "Ridge  helps to reduce the risk of overfitting; Lasso helps for feature selection and ElasticNet balances feature selection and regularization\n",
        "\n",
        "Lasso is the lowest in MSE\n",
        "\n",
        "\n",
        "\n",
        "\n",
        "\n"
      ],
      "metadata": {
        "id": "y29fcOYxGYsN"
      }
    },
    {
      "cell_type": "markdown",
      "source": [
        " Limitations or Assumptions:\n",
        "\n",
        " The dataset is insufficient; the model should be trained on a larger volume of data to ensure it learns diverse patterns and makes precise predictions aligned with real-world data\n",
        "  \n",
        "  The dataset doesn't have enough features to lead high complexity of model\n",
        "\n",
        "  Since PCA is sensitive to the scale of features, I've opted to use StandardScaler to normalize the data. However, I've decided to retain some outliers due to the legitimate  outliers. It's worth noting that StandardScaler may not be appropriate for datasets containing outliers, as the scaling process relies on mean and standard deviation, making outliers disproportionately influential\n",
        "  \n",
        "  House prices is not a linear trend, therefore using linear regression with degree 1 is not suitable. The result when using polynomial model is good, but it can lead overfitting\n",
        "\n",
        "Because of having transaction date, we can use it for time-series data and don't need to drop it\n",
        "\n",
        "We can use RMSE to evaluate model result, because it is much more straightforward\n",
        "for instance we are talking about the residual of hosing prices as opposed to square of the residual of hosing prices\n",
        "\n",
        "Using cross-validation helps ensures model robustness and reliability, early detection of errors ,assesses model performance on unseen data . By contrast, model can see all data\n",
        "\n",
        "\n",
        "In grid search, setting fixed hyperparameters can introduce a level of uncertainty. When hyperparameters aren't optimal, the results can be compromised. This may lead to suboptimal performance\n",
        "\n",
        "\n",
        "\n",
        "\n"
      ],
      "metadata": {
        "id": "QCZwyW11yzlS"
      }
    },
    {
      "cell_type": "markdown",
      "source": [
        "  Potential avenues for further analysis or model improvement:\n",
        "  \n",
        "  Utilizing web crawling techniques to gather additional data and extract relevant features\n",
        "\n",
        " Using LSTM for time-series data\n",
        "\n",
        " Using of ensemble methods to combine the predictions of multiple models.\n",
        "\n",
        " Based on latitude and longitude can use KNN to cluster people. For example: densely populated  areas tend have higher housing prices,while sparsely populated area tend to have lower housing prices.\n",
        "\n",
        " Using A/B test to test multiple features simultaneously to see which yields the best results\n",
        "\n",
        " Using SHAP  to understand the contributions of each input feature to the model's predictions\n",
        "\n",
        "Since I plan to use a Q-Q plot rather than PCA to evaluate the model, I will opt for RobustScaler instead of StandardScaler. Given the small size of the dataset, RobustScaler not only scales numerical features but also effectively handles outliers\n",
        "\n",
        "I will opt for Random search instead of Grid search. Random search is appropriate for discovering new hyperparameter values or new combinations of hyperparameters, often resulting in better performance, although it may take more time to complete.\n",
        "\n",
        "Since the data exhibits non-linearity, employing Kernel PCA would be suitable\n",
        "\n"
      ],
      "metadata": {
        "id": "Nj9-zElgGNFv"
      }
    }
  ]
}