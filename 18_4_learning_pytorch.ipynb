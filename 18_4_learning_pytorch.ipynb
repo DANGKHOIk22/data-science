{
  "nbformat": 4,
  "nbformat_minor": 0,
  "metadata": {
    "colab": {
      "provenance": [],
      "gpuType": "T4",
      "authorship_tag": "ABX9TyMlhaD/caAXBuaOtjDn9q6T",
      "include_colab_link": true
    },
    "kernelspec": {
      "name": "python3",
      "display_name": "Python 3"
    },
    "language_info": {
      "name": "python"
    },
    "accelerator": "GPU"
  },
  "cells": [
    {
      "cell_type": "markdown",
      "metadata": {
        "id": "view-in-github",
        "colab_type": "text"
      },
      "source": [
        "<a href=\"https://colab.research.google.com/github/DANGKHOIk22/data-science/blob/main/18_4_learning_pytorch.ipynb\" target=\"_parent\"><img src=\"https://colab.research.google.com/assets/colab-badge.svg\" alt=\"Open In Colab\"/></a>"
      ]
    },
    {
      "cell_type": "code",
      "source": [
        "import torch\n",
        "import pandas as pd\n",
        "import numpy as np"
      ],
      "metadata": {
        "id": "nBv0h9bNDYSf"
      },
      "execution_count": 2,
      "outputs": []
    },
    {
      "cell_type": "markdown",
      "source": [
        "# TENSOR"
      ],
      "metadata": {
        "id": "dlSGb0GpGf3H"
      }
    },
    {
      "cell_type": "code",
      "source": [
        "scalar=torch.tensor(7)\n",
        "scalar"
      ],
      "metadata": {
        "colab": {
          "base_uri": "https://localhost:8080/"
        },
        "id": "N8P0SkbnEJBU",
        "outputId": "8bf0a95a-56fc-4ae2-9e0b-4c414b6fa6db"
      },
      "execution_count": 3,
      "outputs": [
        {
          "output_type": "execute_result",
          "data": {
            "text/plain": [
              "tensor(7)"
            ]
          },
          "metadata": {},
          "execution_count": 3
        }
      ]
    },
    {
      "cell_type": "code",
      "source": [
        "scalar.ndim"
      ],
      "metadata": {
        "colab": {
          "base_uri": "https://localhost:8080/"
        },
        "id": "GFs4GEWbDYPg",
        "outputId": "5becf646-088c-4ce2-94e2-cea2771005ff"
      },
      "execution_count": 4,
      "outputs": [
        {
          "output_type": "execute_result",
          "data": {
            "text/plain": [
              "0"
            ]
          },
          "metadata": {},
          "execution_count": 4
        }
      ]
    },
    {
      "cell_type": "code",
      "source": [
        "scalar.item()"
      ],
      "metadata": {
        "colab": {
          "base_uri": "https://localhost:8080/"
        },
        "id": "QYEsHGmlEqOB",
        "outputId": "51ca1c13-a7bd-4336-d626-42a036bcde3a"
      },
      "execution_count": 5,
      "outputs": [
        {
          "output_type": "execute_result",
          "data": {
            "text/plain": [
              "7"
            ]
          },
          "metadata": {},
          "execution_count": 5
        }
      ]
    },
    {
      "cell_type": "code",
      "source": [
        "vector=torch.tensor([2,2])\n",
        "vector.ndim"
      ],
      "metadata": {
        "colab": {
          "base_uri": "https://localhost:8080/"
        },
        "id": "rNU6V5zaEs4v",
        "outputId": "bd222d0f-c031-4d46-c54f-12f0ee5a9a89"
      },
      "execution_count": 6,
      "outputs": [
        {
          "output_type": "execute_result",
          "data": {
            "text/plain": [
              "1"
            ]
          },
          "metadata": {},
          "execution_count": 6
        }
      ]
    },
    {
      "cell_type": "code",
      "source": [
        "vector.shape"
      ],
      "metadata": {
        "colab": {
          "base_uri": "https://localhost:8080/"
        },
        "id": "sJRqWKR3Es13",
        "outputId": "27a50809-b7b8-4d75-c51b-5d8b80c4286f"
      },
      "execution_count": 7,
      "outputs": [
        {
          "output_type": "execute_result",
          "data": {
            "text/plain": [
              "torch.Size([2])"
            ]
          },
          "metadata": {},
          "execution_count": 7
        }
      ]
    },
    {
      "cell_type": "code",
      "source": [
        "matrix=torch.tensor([[1,2],\n",
        "                     [3,4]])\n",
        "matrix.ndim"
      ],
      "metadata": {
        "colab": {
          "base_uri": "https://localhost:8080/"
        },
        "id": "7sj1a9-dEsy_",
        "outputId": "593ede96-711f-4b5e-e56e-432a8dc48008"
      },
      "execution_count": 8,
      "outputs": [
        {
          "output_type": "execute_result",
          "data": {
            "text/plain": [
              "2"
            ]
          },
          "metadata": {},
          "execution_count": 8
        }
      ]
    },
    {
      "cell_type": "code",
      "source": [
        "matrix.shape"
      ],
      "metadata": {
        "colab": {
          "base_uri": "https://localhost:8080/"
        },
        "id": "1azO8iTAFWno",
        "outputId": "f89e4a8e-819b-4997-a949-67f5d9241c45"
      },
      "execution_count": 9,
      "outputs": [
        {
          "output_type": "execute_result",
          "data": {
            "text/plain": [
              "torch.Size([2, 2])"
            ]
          },
          "metadata": {},
          "execution_count": 9
        }
      ]
    },
    {
      "cell_type": "code",
      "source": [
        "matrix[0]"
      ],
      "metadata": {
        "colab": {
          "base_uri": "https://localhost:8080/"
        },
        "id": "bXfjs0DKGDQP",
        "outputId": "029dba3f-df44-4a10-bd20-65b4b7468a2f"
      },
      "execution_count": 10,
      "outputs": [
        {
          "output_type": "execute_result",
          "data": {
            "text/plain": [
              "tensor([1, 2])"
            ]
          },
          "metadata": {},
          "execution_count": 10
        }
      ]
    },
    {
      "cell_type": "markdown",
      "source": [
        "# Random tensor"
      ],
      "metadata": {
        "id": "YSdAzgd_Givn"
      }
    },
    {
      "cell_type": "code",
      "source": [
        "random_tensor=torch.rand(3,4)\n",
        "random_tensor"
      ],
      "metadata": {
        "colab": {
          "base_uri": "https://localhost:8080/"
        },
        "id": "qdNifCZcGSk3",
        "outputId": "bf4afc58-4fae-42df-a4f9-46dc3a7d9d49"
      },
      "execution_count": 11,
      "outputs": [
        {
          "output_type": "execute_result",
          "data": {
            "text/plain": [
              "tensor([[0.9797, 0.1219, 0.2550, 0.1545],\n",
              "        [0.3642, 0.6614, 0.3174, 0.4091],\n",
              "        [0.0663, 0.1291, 0.5347, 0.3793]])"
            ]
          },
          "metadata": {},
          "execution_count": 11
        }
      ]
    },
    {
      "cell_type": "code",
      "source": [
        "random_tensor.ndim"
      ],
      "metadata": {
        "colab": {
          "base_uri": "https://localhost:8080/"
        },
        "id": "33iyiVShHQFZ",
        "outputId": "d4d35323-9c5d-442b-cdeb-dc864a391e1b"
      },
      "execution_count": 12,
      "outputs": [
        {
          "output_type": "execute_result",
          "data": {
            "text/plain": [
              "2"
            ]
          },
          "metadata": {},
          "execution_count": 12
        }
      ]
    },
    {
      "cell_type": "code",
      "source": [
        "random_image_size=torch.rand((224,224,3))\n",
        "random_image_size.shape,random_image_size.ndim"
      ],
      "metadata": {
        "colab": {
          "base_uri": "https://localhost:8080/"
        },
        "id": "lL-HxZaGGSik",
        "outputId": "33a52f6f-5363-4525-fa3d-72b25538764f"
      },
      "execution_count": 13,
      "outputs": [
        {
          "output_type": "execute_result",
          "data": {
            "text/plain": [
              "(torch.Size([224, 224, 3]), 3)"
            ]
          },
          "metadata": {},
          "execution_count": 13
        }
      ]
    },
    {
      "cell_type": "markdown",
      "source": [
        "# Zeros and Ones"
      ],
      "metadata": {
        "id": "CuWM1FoEIcft"
      }
    },
    {
      "cell_type": "code",
      "source": [
        "zero=torch.zeros(size=(3,4))\n",
        "zero"
      ],
      "metadata": {
        "colab": {
          "base_uri": "https://localhost:8080/"
        },
        "id": "ERC4uAMoGSfi",
        "outputId": "658ab5cc-5cb5-4ae6-c608-58bb99788bfc"
      },
      "execution_count": 14,
      "outputs": [
        {
          "output_type": "execute_result",
          "data": {
            "text/plain": [
              "tensor([[0., 0., 0., 0.],\n",
              "        [0., 0., 0., 0.],\n",
              "        [0., 0., 0., 0.]])"
            ]
          },
          "metadata": {},
          "execution_count": 14
        }
      ]
    },
    {
      "cell_type": "code",
      "source": [
        "ones=torch.ones(size=(4,3))\n",
        "ones"
      ],
      "metadata": {
        "colab": {
          "base_uri": "https://localhost:8080/"
        },
        "id": "Bvfxk6RqIq8P",
        "outputId": "3e5df435-24fe-4403-beeb-01f345b7c96b"
      },
      "execution_count": 15,
      "outputs": [
        {
          "output_type": "execute_result",
          "data": {
            "text/plain": [
              "tensor([[1., 1., 1.],\n",
              "        [1., 1., 1.],\n",
              "        [1., 1., 1.],\n",
              "        [1., 1., 1.]])"
            ]
          },
          "metadata": {},
          "execution_count": 15
        }
      ]
    },
    {
      "cell_type": "code",
      "source": [
        "zero.dtype"
      ],
      "metadata": {
        "colab": {
          "base_uri": "https://localhost:8080/"
        },
        "id": "ZYvXu3T9I5i3",
        "outputId": "5db3587d-e0d3-4629-8663-1ca175d9d2a9"
      },
      "execution_count": 16,
      "outputs": [
        {
          "output_type": "execute_result",
          "data": {
            "text/plain": [
              "torch.float32"
            ]
          },
          "metadata": {},
          "execution_count": 16
        }
      ]
    },
    {
      "cell_type": "markdown",
      "source": [
        "# Creating a range of tensors and tensors-like"
      ],
      "metadata": {
        "id": "Bg0alLHaI_kf"
      }
    },
    {
      "cell_type": "markdown",
      "source": [
        "3 big errors you'll run into with pytorch & DL\n",
        "\n",
        "1. tensor is not right datatype\n",
        "2. tensor is not right shape\n",
        "3. tensor is on not right device"
      ],
      "metadata": {
        "id": "ChLFyVHlIop9"
      }
    },
    {
      "cell_type": "code",
      "source": [
        "one_to_ten=torch.arange(start=0,end=10,step=2)"
      ],
      "metadata": {
        "id": "cJuPCSLbI633"
      },
      "execution_count": 17,
      "outputs": []
    },
    {
      "cell_type": "code",
      "source": [
        "ten_zeros=torch.zeros_like(one_to_ten)\n",
        "ten_zeros"
      ],
      "metadata": {
        "colab": {
          "base_uri": "https://localhost:8080/"
        },
        "id": "E521XoHLJQMR",
        "outputId": "cb366993-a754-4a59-b8a5-3552ee5026b0"
      },
      "execution_count": 18,
      "outputs": [
        {
          "output_type": "execute_result",
          "data": {
            "text/plain": [
              "tensor([0, 0, 0, 0, 0])"
            ]
          },
          "metadata": {},
          "execution_count": 18
        }
      ]
    },
    {
      "cell_type": "code",
      "source": [
        "tensor=torch.tensor([1.,2.,3.],dtype=None,device=None,requires_grad=False)\n",
        "tensor.dtype"
      ],
      "metadata": {
        "colab": {
          "base_uri": "https://localhost:8080/"
        },
        "id": "xw78FwniKiBf",
        "outputId": "9b98e2af-e267-4f64-cb92-09e95d8afbbc"
      },
      "execution_count": 19,
      "outputs": [
        {
          "output_type": "execute_result",
          "data": {
            "text/plain": [
              "torch.float32"
            ]
          },
          "metadata": {},
          "execution_count": 19
        }
      ]
    },
    {
      "cell_type": "code",
      "source": [
        "tensor_16=tensor.type(torch.float16)"
      ],
      "metadata": {
        "id": "YqTgCJBfNdMX"
      },
      "execution_count": 20,
      "outputs": []
    },
    {
      "cell_type": "markdown",
      "source": [
        "# Getting information from tensors"
      ],
      "metadata": {
        "id": "Wn8L4t04PCNd"
      }
    },
    {
      "cell_type": "markdown",
      "source": [
        "We've seen these before but three of the most common attributes you'll want to find out about tensors are:\n",
        "\n",
        "shape - what shape is the tensor? (some operations require specific shape rules)\n",
        "\n",
        "dtype - what datatype are the elements within the tensor stored in?\n",
        "\n",
        "device - what device is the tensor stored on? (usually GPU or CPU)"
      ],
      "metadata": {
        "id": "TYTXQzNHJwSl"
      }
    },
    {
      "cell_type": "code",
      "source": [
        "random_tensor=torch.rand(3,4)\n",
        "random_tensor.shape"
      ],
      "metadata": {
        "colab": {
          "base_uri": "https://localhost:8080/"
        },
        "id": "9IitTZtJJU9o",
        "outputId": "431d2141-29f7-4eb6-dfce-f1c1ed6fe209"
      },
      "execution_count": 21,
      "outputs": [
        {
          "output_type": "execute_result",
          "data": {
            "text/plain": [
              "torch.Size([3, 4])"
            ]
          },
          "metadata": {},
          "execution_count": 21
        }
      ]
    },
    {
      "cell_type": "code",
      "source": [
        "random_tensor.size()"
      ],
      "metadata": {
        "colab": {
          "base_uri": "https://localhost:8080/"
        },
        "id": "r1pI_I-aLTr_",
        "outputId": "eddbf95f-c0e1-49d2-87d7-eb8336505681"
      },
      "execution_count": 22,
      "outputs": [
        {
          "output_type": "execute_result",
          "data": {
            "text/plain": [
              "torch.Size([3, 4])"
            ]
          },
          "metadata": {},
          "execution_count": 22
        }
      ]
    },
    {
      "cell_type": "code",
      "source": [
        "random_tensor.device"
      ],
      "metadata": {
        "colab": {
          "base_uri": "https://localhost:8080/"
        },
        "id": "iySB9VfBLrEq",
        "outputId": "e9c166c3-f7ce-46b9-ad47-6b14e2924bd2"
      },
      "execution_count": 23,
      "outputs": [
        {
          "output_type": "execute_result",
          "data": {
            "text/plain": [
              "device(type='cpu')"
            ]
          },
          "metadata": {},
          "execution_count": 23
        }
      ]
    },
    {
      "cell_type": "markdown",
      "source": [
        "# Manipulating tensors (tensor operations)"
      ],
      "metadata": {
        "id": "snnOJ-jPPE7F"
      }
    },
    {
      "cell_type": "code",
      "source": [
        "tensor=torch.tensor([1,2,3])\n",
        "tensor+10"
      ],
      "metadata": {
        "colab": {
          "base_uri": "https://localhost:8080/"
        },
        "id": "2vCNVWOqL2NM",
        "outputId": "c16269db-18ae-48ae-cee0-815e6498df5d"
      },
      "execution_count": 24,
      "outputs": [
        {
          "output_type": "execute_result",
          "data": {
            "text/plain": [
              "tensor([11, 12, 13])"
            ]
          },
          "metadata": {},
          "execution_count": 24
        }
      ]
    },
    {
      "cell_type": "code",
      "source": [
        "tensor*10"
      ],
      "metadata": {
        "colab": {
          "base_uri": "https://localhost:8080/"
        },
        "id": "E95t__VML2K9",
        "outputId": "dc8a18ef-2fb5-4f6d-dc64-ba384e2aace6"
      },
      "execution_count": 25,
      "outputs": [
        {
          "output_type": "execute_result",
          "data": {
            "text/plain": [
              "tensor([10, 20, 30])"
            ]
          },
          "metadata": {},
          "execution_count": 25
        }
      ]
    },
    {
      "cell_type": "code",
      "source": [
        "torch.matmul(tensor,tensor)"
      ],
      "metadata": {
        "colab": {
          "base_uri": "https://localhost:8080/"
        },
        "id": "gmxig5CcL2G8",
        "outputId": "8d7d7ea3-655b-4650-b58d-506f249774bf"
      },
      "execution_count": 26,
      "outputs": [
        {
          "output_type": "execute_result",
          "data": {
            "text/plain": [
              "tensor(14)"
            ]
          },
          "metadata": {},
          "execution_count": 26
        }
      ]
    },
    {
      "cell_type": "markdown",
      "source": [
        "# Finding the min, max, mean, sum, etc (aggregation)"
      ],
      "metadata": {
        "id": "GNM_JiJzTCMW"
      }
    },
    {
      "cell_type": "code",
      "source": [
        "matrix=torch.arange(1,10)"
      ],
      "metadata": {
        "id": "2jhPV3tQSk-c"
      },
      "execution_count": 27,
      "outputs": []
    },
    {
      "cell_type": "code",
      "source": [
        "torch.mean(matrix.type(torch.float32))"
      ],
      "metadata": {
        "id": "vlq1NPiLTK20",
        "outputId": "f1d65b13-985e-4386-d3ea-dd0751ac4a5c",
        "colab": {
          "base_uri": "https://localhost:8080/"
        }
      },
      "execution_count": 28,
      "outputs": [
        {
          "output_type": "execute_result",
          "data": {
            "text/plain": [
              "tensor(5.)"
            ]
          },
          "metadata": {},
          "execution_count": 28
        }
      ]
    },
    {
      "cell_type": "code",
      "source": [
        "torch.sum(matrix),matrix.sum()"
      ],
      "metadata": {
        "colab": {
          "base_uri": "https://localhost:8080/"
        },
        "id": "U3Pi27yiWymF",
        "outputId": "89f4a3c6-d385-4f26-b170-e451945f9e7e"
      },
      "execution_count": 29,
      "outputs": [
        {
          "output_type": "execute_result",
          "data": {
            "text/plain": [
              "(tensor(45), tensor(45))"
            ]
          },
          "metadata": {},
          "execution_count": 29
        }
      ]
    },
    {
      "cell_type": "markdown",
      "source": [
        "# Finding positional min and max"
      ],
      "metadata": {
        "id": "G8idRPYbXQai"
      }
    },
    {
      "cell_type": "code",
      "source": [
        "matrix.argmin()"
      ],
      "metadata": {
        "colab": {
          "base_uri": "https://localhost:8080/"
        },
        "id": "vcA7y05DXJHs",
        "outputId": "a6ea3034-f8d7-473b-9f0a-84f60b235f1a"
      },
      "execution_count": 30,
      "outputs": [
        {
          "output_type": "execute_result",
          "data": {
            "text/plain": [
              "tensor(0)"
            ]
          },
          "metadata": {},
          "execution_count": 30
        }
      ]
    },
    {
      "cell_type": "code",
      "source": [
        "matrix.argmax()"
      ],
      "metadata": {
        "colab": {
          "base_uri": "https://localhost:8080/"
        },
        "id": "v5j91_YYXm1L",
        "outputId": "d38fdc21-2108-4d0e-caa3-f523043a07d0"
      },
      "execution_count": 31,
      "outputs": [
        {
          "output_type": "execute_result",
          "data": {
            "text/plain": [
              "tensor(8)"
            ]
          },
          "metadata": {},
          "execution_count": 31
        }
      ]
    },
    {
      "cell_type": "markdown",
      "source": [
        "# Reshaping, stacking, squeezing, unsqueezing tensor"
      ],
      "metadata": {
        "id": "xjxZ2JHCpO5s"
      }
    },
    {
      "cell_type": "markdown",
      "source": [
        "torch.reshape(input, shape)\tReshapes input to shape (if compatible)\n",
        "\n",
        "torch.view(shape)\tReturns a view of the original tensor in a different shape but shares the memory data as the original tensor.\n",
        "\n",
        "torch.stack(tensors, dim=0)\tConcatenates a sequence of tensors along a new dimension (dim), all tensors must be same size.\n",
        "\n",
        "torch.squeeze(input)\tSqueezes input to remove all the dimenions with value 1.\n",
        "\n",
        "torch.unsqueeze(input, dim)\tReturns input with a dimension value of 1 added at dim.\n",
        "\n",
        "torch.permute(input, dims)\tReturns a view of the original input with its dimensions permuted (rearranged) to dims but shares the memory data as the original tensor."
      ],
      "metadata": {
        "id": "OnYiz0torOss"
      }
    },
    {
      "cell_type": "code",
      "source": [
        "x=torch.arange(0,10,2)\n",
        "x.reshape(1,5)"
      ],
      "metadata": {
        "colab": {
          "base_uri": "https://localhost:8080/"
        },
        "id": "a_qPfdD-XmyN",
        "outputId": "dd69ea92-5a08-45b8-d2f8-89ecaca96dc0"
      },
      "execution_count": 32,
      "outputs": [
        {
          "output_type": "execute_result",
          "data": {
            "text/plain": [
              "tensor([[0, 2, 4, 6, 8]])"
            ]
          },
          "metadata": {},
          "execution_count": 32
        }
      ]
    },
    {
      "cell_type": "code",
      "source": [
        "z=x.view(1,5)\n",
        "z[:,2]=12\n",
        "x"
      ],
      "metadata": {
        "colab": {
          "base_uri": "https://localhost:8080/"
        },
        "id": "_jwaLsDwqfeV",
        "outputId": "3beca857-cdec-416b-ffd1-cf178cb90e0b"
      },
      "execution_count": 33,
      "outputs": [
        {
          "output_type": "execute_result",
          "data": {
            "text/plain": [
              "tensor([ 0,  2, 12,  6,  8])"
            ]
          },
          "metadata": {},
          "execution_count": 33
        }
      ]
    },
    {
      "cell_type": "code",
      "source": [
        "torch.stack([x,x,x,x],dim=0)"
      ],
      "metadata": {
        "colab": {
          "base_uri": "https://localhost:8080/"
        },
        "id": "-N-i-iMdrweN",
        "outputId": "f1cd1d72-ab42-498f-95e6-4183f96c6c43"
      },
      "execution_count": 34,
      "outputs": [
        {
          "output_type": "execute_result",
          "data": {
            "text/plain": [
              "tensor([[ 0,  2, 12,  6,  8],\n",
              "        [ 0,  2, 12,  6,  8],\n",
              "        [ 0,  2, 12,  6,  8],\n",
              "        [ 0,  2, 12,  6,  8]])"
            ]
          },
          "metadata": {},
          "execution_count": 34
        }
      ]
    },
    {
      "cell_type": "code",
      "source": [
        "torch.vstack([x,x,x,x])"
      ],
      "metadata": {
        "colab": {
          "base_uri": "https://localhost:8080/"
        },
        "id": "Gq9MfkbstL2T",
        "outputId": "96d8f987-8233-4c50-c0bb-96cfa40ea7b4"
      },
      "execution_count": 35,
      "outputs": [
        {
          "output_type": "execute_result",
          "data": {
            "text/plain": [
              "tensor([[ 0,  2, 12,  6,  8],\n",
              "        [ 0,  2, 12,  6,  8],\n",
              "        [ 0,  2, 12,  6,  8],\n",
              "        [ 0,  2, 12,  6,  8]])"
            ]
          },
          "metadata": {},
          "execution_count": 35
        }
      ]
    },
    {
      "cell_type": "code",
      "source": [
        "torch.hstack([x,x,x,x])"
      ],
      "metadata": {
        "colab": {
          "base_uri": "https://localhost:8080/"
        },
        "id": "GY7zgSBZtPNa",
        "outputId": "682ce489-929c-41b1-856f-8ed51a4cbdc2"
      },
      "execution_count": 36,
      "outputs": [
        {
          "output_type": "execute_result",
          "data": {
            "text/plain": [
              "tensor([ 0,  2, 12,  6,  8,  0,  2, 12,  6,  8,  0,  2, 12,  6,  8,  0,  2, 12,\n",
              "         6,  8])"
            ]
          },
          "metadata": {},
          "execution_count": 36
        }
      ]
    },
    {
      "cell_type": "code",
      "source": [
        "zero=torch.zeros(1,1,3)\n",
        "zero=zero.squeeze()"
      ],
      "metadata": {
        "id": "oJeOzpbUtSTM"
      },
      "execution_count": 37,
      "outputs": []
    },
    {
      "cell_type": "code",
      "source": [
        "zero.shape"
      ],
      "metadata": {
        "colab": {
          "base_uri": "https://localhost:8080/"
        },
        "id": "fxozQ_oyvWxE",
        "outputId": "8482a911-e54f-4792-de77-1ca981ef265d"
      },
      "execution_count": 38,
      "outputs": [
        {
          "output_type": "execute_result",
          "data": {
            "text/plain": [
              "torch.Size([3])"
            ]
          },
          "metadata": {},
          "execution_count": 38
        }
      ]
    },
    {
      "cell_type": "code",
      "source": [
        "zero=zero.unsqueeze(dim=0)\n",
        "zero.shape"
      ],
      "metadata": {
        "colab": {
          "base_uri": "https://localhost:8080/"
        },
        "id": "frC_i8KxvDdq",
        "outputId": "2e8a8507-c7df-468e-96e8-68f056bf07ee"
      },
      "execution_count": 39,
      "outputs": [
        {
          "output_type": "execute_result",
          "data": {
            "text/plain": [
              "torch.Size([1, 3])"
            ]
          },
          "metadata": {},
          "execution_count": 39
        }
      ]
    },
    {
      "cell_type": "code",
      "source": [
        "x_original=torch.rand(size=(224,224,3))\n",
        "x_pe=x_original.permute(2,0,1) # shift positional axis"
      ],
      "metadata": {
        "id": "Qr4RB7bov-zs"
      },
      "execution_count": 40,
      "outputs": []
    },
    {
      "cell_type": "code",
      "source": [
        "x_original[0,0,0]=33\n",
        "x_pe[0,0,0]"
      ],
      "metadata": {
        "colab": {
          "base_uri": "https://localhost:8080/"
        },
        "id": "gMsYKA-IxCS7",
        "outputId": "9920ed4e-db9d-40aa-c801-717a23db409d"
      },
      "execution_count": 41,
      "outputs": [
        {
          "output_type": "execute_result",
          "data": {
            "text/plain": [
              "tensor(33.)"
            ]
          },
          "metadata": {},
          "execution_count": 41
        }
      ]
    },
    {
      "cell_type": "markdown",
      "source": [
        "# Indexing (selecting data from tensors)"
      ],
      "metadata": {
        "id": "8hBYytz-xqNg"
      }
    },
    {
      "cell_type": "code",
      "source": [
        "x=torch.arange(1,10)\n",
        "x=x.reshape(1,3,3)"
      ],
      "metadata": {
        "id": "OcWaucdAxpAk"
      },
      "execution_count": 42,
      "outputs": []
    },
    {
      "cell_type": "code",
      "source": [
        "x[0]"
      ],
      "metadata": {
        "colab": {
          "base_uri": "https://localhost:8080/"
        },
        "id": "3c4KT-a5ya76",
        "outputId": "bc4b75c0-4c4d-492e-b65b-40a1cc90af64"
      },
      "execution_count": 43,
      "outputs": [
        {
          "output_type": "execute_result",
          "data": {
            "text/plain": [
              "tensor([[1, 2, 3],\n",
              "        [4, 5, 6],\n",
              "        [7, 8, 9]])"
            ]
          },
          "metadata": {},
          "execution_count": 43
        }
      ]
    },
    {
      "cell_type": "code",
      "source": [
        "x[0,0]"
      ],
      "metadata": {
        "colab": {
          "base_uri": "https://localhost:8080/"
        },
        "id": "A-Xm9uKAyfee",
        "outputId": "a0575502-38fc-4917-8558-f4e71d010343"
      },
      "execution_count": 44,
      "outputs": [
        {
          "output_type": "execute_result",
          "data": {
            "text/plain": [
              "tensor([1, 2, 3])"
            ]
          },
          "metadata": {},
          "execution_count": 44
        }
      ]
    },
    {
      "cell_type": "code",
      "source": [
        "x[0,0,0].item()"
      ],
      "metadata": {
        "colab": {
          "base_uri": "https://localhost:8080/"
        },
        "id": "1q2QjK3hyiL1",
        "outputId": "bb0f8d35-a6ee-4070-f906-dff74bf691f0"
      },
      "execution_count": 45,
      "outputs": [
        {
          "output_type": "execute_result",
          "data": {
            "text/plain": [
              "1"
            ]
          },
          "metadata": {},
          "execution_count": 45
        }
      ]
    },
    {
      "cell_type": "code",
      "source": [
        "x[:,:,1]"
      ],
      "metadata": {
        "colab": {
          "base_uri": "https://localhost:8080/"
        },
        "id": "4JQoM39Uyk8T",
        "outputId": "3c9eeb58-0ce6-42f6-b6ba-c70fcda18daf"
      },
      "execution_count": 46,
      "outputs": [
        {
          "output_type": "execute_result",
          "data": {
            "text/plain": [
              "tensor([[2, 5, 8]])"
            ]
          },
          "metadata": {},
          "execution_count": 46
        }
      ]
    },
    {
      "cell_type": "code",
      "source": [
        "x[0,2,2]"
      ],
      "metadata": {
        "colab": {
          "base_uri": "https://localhost:8080/"
        },
        "id": "kNBOMXHGzWT-",
        "outputId": "9d104ae6-deb6-4104-a5bc-3fe14aa4a282"
      },
      "execution_count": 47,
      "outputs": [
        {
          "output_type": "execute_result",
          "data": {
            "text/plain": [
              "tensor(9)"
            ]
          },
          "metadata": {},
          "execution_count": 47
        }
      ]
    },
    {
      "cell_type": "code",
      "source": [
        "x[0,:,2]"
      ],
      "metadata": {
        "colab": {
          "base_uri": "https://localhost:8080/"
        },
        "id": "jfQrp5G3z0GU",
        "outputId": "fcbe20e7-40a0-4a68-d53d-1e6e54b59131"
      },
      "execution_count": 48,
      "outputs": [
        {
          "output_type": "execute_result",
          "data": {
            "text/plain": [
              "tensor([3, 6, 9])"
            ]
          },
          "metadata": {},
          "execution_count": 48
        }
      ]
    },
    {
      "cell_type": "markdown",
      "source": [
        "# pytorch and numpy"
      ],
      "metadata": {
        "id": "32ITn_3Nz63a"
      }
    },
    {
      "cell_type": "markdown",
      "source": [
        "torch.from_numpy(ndarray) - NumPy array -> PyTorch tensor.\n",
        "\n",
        "torch.Tensor.numpy() - PyTorch tensor -> NumPy array."
      ],
      "metadata": {
        "id": "vvpHoZLs0Wfs"
      }
    },
    {
      "cell_type": "code",
      "source": [
        "import numpy as np\n",
        "array=np.arange(0,10)\n",
        "tensor=torch.from_numpy(array)"
      ],
      "metadata": {
        "id": "-QtmXBfgz3d7"
      },
      "execution_count": 49,
      "outputs": []
    },
    {
      "cell_type": "markdown",
      "source": [
        "Note: By default, NumPy arrays are created with the datatype float64 and if you convert it to a PyTorch tensor, it'll keep the same datatype (as above).\n",
        "\n",
        "However, many PyTorch calculations default to using float32.\n",
        "\n",
        "So if you want to convert your NumPy array (float64) -> PyTorch tensor (float64) -> PyTorch tensor (float32), you can use tensor = torch.from_numpy(array).type(torch.float32)."
      ],
      "metadata": {
        "id": "roXQ5IkN5hI8"
      }
    },
    {
      "cell_type": "code",
      "source": [
        "array=array+1\n",
        "array,tensor"
      ],
      "metadata": {
        "colab": {
          "base_uri": "https://localhost:8080/"
        },
        "id": "ZAztuN8f42_k",
        "outputId": "8b03ccde-26ca-47e2-c618-3c780049187e"
      },
      "execution_count": 50,
      "outputs": [
        {
          "output_type": "execute_result",
          "data": {
            "text/plain": [
              "(array([ 1,  2,  3,  4,  5,  6,  7,  8,  9, 10]),\n",
              " tensor([0, 1, 2, 3, 4, 5, 6, 7, 8, 9]))"
            ]
          },
          "metadata": {},
          "execution_count": 50
        }
      ]
    },
    {
      "cell_type": "markdown",
      "source": [
        "# Reproducibility"
      ],
      "metadata": {
        "id": "GVYqwS9xNrrM"
      }
    },
    {
      "cell_type": "code",
      "source": [
        "torch.manual_seed(42)\n",
        "torch.rand(3,4)"
      ],
      "metadata": {
        "id": "R-ZK8k355D1M",
        "colab": {
          "base_uri": "https://localhost:8080/"
        },
        "outputId": "ed8014fa-e513-4569-9e4d-e4f56ea978ac"
      },
      "execution_count": 51,
      "outputs": [
        {
          "output_type": "execute_result",
          "data": {
            "text/plain": [
              "tensor([[0.8823, 0.9150, 0.3829, 0.9593],\n",
              "        [0.3904, 0.6009, 0.2566, 0.7936],\n",
              "        [0.9408, 0.1332, 0.9346, 0.5936]])"
            ]
          },
          "metadata": {},
          "execution_count": 51
        }
      ]
    },
    {
      "cell_type": "markdown",
      "source": [
        "# Getting PyTorch to run on the GPU"
      ],
      "metadata": {
        "id": "5uGl2IvmVijd"
      }
    },
    {
      "cell_type": "code",
      "source": [
        "# Check for GPU\n",
        "torch.cuda.is_available()"
      ],
      "metadata": {
        "colab": {
          "base_uri": "https://localhost:8080/"
        },
        "id": "x-FX_93yVg-_",
        "outputId": "77a7e899-1b27-4faa-9fdf-b0fc731ba48e"
      },
      "execution_count": 52,
      "outputs": [
        {
          "output_type": "execute_result",
          "data": {
            "text/plain": [
              "True"
            ]
          },
          "metadata": {},
          "execution_count": 52
        }
      ]
    },
    {
      "cell_type": "code",
      "source": [
        "# Set device type\n",
        "device = \"cuda\" if torch.cuda.is_available() else \"cpu\"\n",
        "device"
      ],
      "metadata": {
        "colab": {
          "base_uri": "https://localhost:8080/",
          "height": 35
        },
        "id": "kX_uiSoRVnYV",
        "outputId": "804565ef-96ee-48c8-f044-338bf57e4dea"
      },
      "execution_count": 53,
      "outputs": [
        {
          "output_type": "execute_result",
          "data": {
            "text/plain": [
              "'cuda'"
            ],
            "application/vnd.google.colaboratory.intrinsic+json": {
              "type": "string"
            }
          },
          "metadata": {},
          "execution_count": 53
        }
      ]
    },
    {
      "cell_type": "markdown",
      "source": [
        "\n",
        "Knowing the number of GPUs PyTorch has access to is helpful incase you wanted to run a specific process on one GPU and another process on another (PyTorch also has features to let you run a process across all GPUs)."
      ],
      "metadata": {
        "id": "L9rCS-5CV2Hd"
      }
    },
    {
      "cell_type": "code",
      "source": [
        "torch.cuda.device_count()"
      ],
      "metadata": {
        "colab": {
          "base_uri": "https://localhost:8080/"
        },
        "id": "_65HdHqtVprl",
        "outputId": "617af360-55d3-47de-f4e4-265329918194"
      },
      "execution_count": 54,
      "outputs": [
        {
          "output_type": "execute_result",
          "data": {
            "text/plain": [
              "1"
            ]
          },
          "metadata": {},
          "execution_count": 54
        }
      ]
    },
    {
      "cell_type": "markdown",
      "source": [
        "# Putting tensors (and models) on the GPU"
      ],
      "metadata": {
        "id": "S8BJnNTFV7Xt"
      }
    },
    {
      "cell_type": "code",
      "source": [
        "# Create tensor (default on CPU)\n",
        "tensor = torch.tensor([1, 2, 3])\n",
        "\n",
        "# Tensor not on GPU\n",
        "print(tensor, tensor.device)\n",
        "\n",
        "# Move tensor to GPU (if available)\n",
        "tensor_on_gpu = tensor.to(device)\n",
        "tensor_on_gpu"
      ],
      "metadata": {
        "colab": {
          "base_uri": "https://localhost:8080/"
        },
        "id": "UA4FEKVsV8au",
        "outputId": "52e01f3b-acbe-4b81-a165-e2cb353516bf"
      },
      "execution_count": 55,
      "outputs": [
        {
          "output_type": "stream",
          "name": "stdout",
          "text": [
            "tensor([1, 2, 3]) cpu\n"
          ]
        },
        {
          "output_type": "execute_result",
          "data": {
            "text/plain": [
              "tensor([1, 2, 3], device='cuda:0')"
            ]
          },
          "metadata": {},
          "execution_count": 55
        }
      ]
    },
    {
      "cell_type": "markdown",
      "source": [
        "#  Moving tensors back to the CPU"
      ],
      "metadata": {
        "id": "4D_TLAPEWEs_"
      }
    },
    {
      "cell_type": "code",
      "source": [
        "tensor_on_gpu.numpy()"
      ],
      "metadata": {
        "colab": {
          "base_uri": "https://localhost:8080/",
          "height": 141
        },
        "id": "Ydj0o6I_V_FV",
        "outputId": "65ae74ae-219c-4469-d25f-b609e423a1bb"
      },
      "execution_count": 56,
      "outputs": [
        {
          "output_type": "error",
          "ename": "TypeError",
          "evalue": "can't convert cuda:0 device type tensor to numpy. Use Tensor.cpu() to copy the tensor to host memory first.",
          "traceback": [
            "\u001b[0;31m---------------------------------------------------------------------------\u001b[0m",
            "\u001b[0;31mTypeError\u001b[0m                                 Traceback (most recent call last)",
            "\u001b[0;32m<ipython-input-56-e0c96c7436fd>\u001b[0m in \u001b[0;36m<cell line: 1>\u001b[0;34m()\u001b[0m\n\u001b[0;32m----> 1\u001b[0;31m \u001b[0mtensor_on_gpu\u001b[0m\u001b[0;34m.\u001b[0m\u001b[0mnumpy\u001b[0m\u001b[0;34m(\u001b[0m\u001b[0;34m)\u001b[0m\u001b[0;34m\u001b[0m\u001b[0;34m\u001b[0m\u001b[0m\n\u001b[0m",
            "\u001b[0;31mTypeError\u001b[0m: can't convert cuda:0 device type tensor to numpy. Use Tensor.cpu() to copy the tensor to host memory first."
          ]
        }
      ]
    },
    {
      "cell_type": "code",
      "source": [
        "tensor_back_on_cpu = tensor_on_gpu.cpu().numpy()\n",
        "tensor_back_on_cpu"
      ],
      "metadata": {
        "colab": {
          "base_uri": "https://localhost:8080/"
        },
        "id": "5BkXZASaWH8N",
        "outputId": "3cf18cf0-77bc-4656-abd3-280209f7d9e7"
      },
      "execution_count": 57,
      "outputs": [
        {
          "output_type": "execute_result",
          "data": {
            "text/plain": [
              "array([1, 2, 3])"
            ]
          },
          "metadata": {},
          "execution_count": 57
        }
      ]
    },
    {
      "cell_type": "code",
      "source": [
        "tensor_on_gpu"
      ],
      "metadata": {
        "colab": {
          "base_uri": "https://localhost:8080/"
        },
        "id": "rwOYLQ-aWKjN",
        "outputId": "c43e0f8b-218c-4caa-f34a-8be65304e63b"
      },
      "execution_count": 58,
      "outputs": [
        {
          "output_type": "execute_result",
          "data": {
            "text/plain": [
              "tensor([1, 2, 3], device='cuda:0')"
            ]
          },
          "metadata": {},
          "execution_count": 58
        }
      ]
    },
    {
      "cell_type": "markdown",
      "source": [
        "# Exercise"
      ],
      "metadata": {
        "id": "RUhyT5wyWjgG"
      }
    },
    {
      "cell_type": "code",
      "source": [
        "A=torch.rand(size=(7,7))"
      ],
      "metadata": {
        "id": "PquVu9lsWjP1"
      },
      "execution_count": 61,
      "outputs": []
    },
    {
      "cell_type": "code",
      "source": [
        "B=torch.rand(size=(7,7))\n",
        "A@B.T"
      ],
      "metadata": {
        "colab": {
          "base_uri": "https://localhost:8080/"
        },
        "id": "dZdsXvgIXN2t",
        "outputId": "7689aa88-08cc-4e01-efd7-1b55b5ce7e5c"
      },
      "execution_count": 62,
      "outputs": [
        {
          "output_type": "execute_result",
          "data": {
            "text/plain": [
              "tensor([[1.7076, 1.8826, 1.1483, 2.2462, 1.8776, 1.3752, 1.4623],\n",
              "        [1.1082, 0.9401, 0.8433, 1.2373, 1.0883, 0.9750, 0.8197],\n",
              "        [1.2293, 1.6033, 1.2308, 2.1269, 1.8825, 1.2372, 0.8286],\n",
              "        [1.0241, 0.9660, 0.8691, 1.3800, 1.0965, 1.1705, 1.1153],\n",
              "        [1.3169, 1.5830, 1.2840, 2.1803, 1.6294, 1.4803, 1.3084],\n",
              "        [2.5243, 2.1800, 1.4394, 2.5405, 2.2355, 1.9520, 2.1277],\n",
              "        [1.6868, 1.8788, 1.6629, 2.5312, 2.2523, 1.7354, 1.3013]])"
            ]
          },
          "metadata": {},
          "execution_count": 62
        }
      ]
    },
    {
      "cell_type": "code",
      "source": [
        "torch.manual_seed(0)\n",
        "B=torch.rand(size=(7,7))\n",
        "A@B.T"
      ],
      "metadata": {
        "colab": {
          "base_uri": "https://localhost:8080/"
        },
        "id": "E9y3KbmVXr_F",
        "outputId": "c8f24976-bf94-4820-9b4a-928ebe062426"
      },
      "execution_count": 64,
      "outputs": [
        {
          "output_type": "execute_result",
          "data": {
            "text/plain": [
              "tensor([[1.5628, 1.7665, 1.6012, 2.1706, 0.8454, 1.2318, 1.2685],\n",
              "        [0.8029, 0.6490, 0.9981, 1.1764, 0.8510, 1.1275, 0.8638],\n",
              "        [1.2734, 1.0155, 1.3630, 1.4816, 0.7154, 1.5502, 1.4960],\n",
              "        [0.6571, 1.4104, 1.1883, 1.7737, 0.8236, 1.3598, 0.9107],\n",
              "        [1.2475, 1.6478, 1.4078, 2.0119, 0.8120, 1.6300, 1.4380],\n",
              "        [1.6568, 1.8957, 2.3531, 2.7087, 1.7913, 2.1838, 1.3954],\n",
              "        [1.4086, 1.5421, 1.7349, 2.4403, 0.9620, 2.1114, 1.7751]])"
            ]
          },
          "metadata": {},
          "execution_count": 64
        }
      ]
    },
    {
      "cell_type": "code",
      "source": [
        "device = \"cuda\" if torch.cuda.is_available() else \"cpu\"\n",
        "device"
      ],
      "metadata": {
        "colab": {
          "base_uri": "https://localhost:8080/",
          "height": 35
        },
        "id": "gzeiBMrtX5sF",
        "outputId": "95873644-6db4-4d78-a3dd-07ad777b3d3b"
      },
      "execution_count": 65,
      "outputs": [
        {
          "output_type": "execute_result",
          "data": {
            "text/plain": [
              "'cuda'"
            ],
            "application/vnd.google.colaboratory.intrinsic+json": {
              "type": "string"
            }
          },
          "metadata": {},
          "execution_count": 65
        }
      ]
    },
    {
      "cell_type": "code",
      "source": [
        "torch.manual_seed(1234)\n",
        "A=torch.rand(size=(2,3))\n",
        "B=torch.rand(size=(2,3))\n",
        "A=A.to(device)\n",
        "B=B.to(device)"
      ],
      "metadata": {
        "id": "_j54FivHYEyV"
      },
      "execution_count": 67,
      "outputs": []
    },
    {
      "cell_type": "code",
      "source": [
        "C=A@B.T"
      ],
      "metadata": {
        "id": "YZRP6E5CYlh3"
      },
      "execution_count": 71,
      "outputs": []
    },
    {
      "cell_type": "code",
      "source": [
        "torch.max(C)\n",
        "torch.min(C)"
      ],
      "metadata": {
        "colab": {
          "base_uri": "https://localhost:8080/"
        },
        "id": "tP28qLzlYxbV",
        "outputId": "14bdb038-df94-473a-bd7e-cb5ebd464c33"
      },
      "execution_count": 73,
      "outputs": [
        {
          "output_type": "execute_result",
          "data": {
            "text/plain": [
              "tensor(0.3647, device='cuda:0')"
            ]
          },
          "metadata": {},
          "execution_count": 73
        }
      ]
    },
    {
      "cell_type": "code",
      "source": [
        "torch.argmax(C)\n",
        "torch.argmin(C)"
      ],
      "metadata": {
        "colab": {
          "base_uri": "https://localhost:8080/"
        },
        "id": "4ZPvQLuKY6F-",
        "outputId": "45e6ad9f-ec62-4c68-af37-cdf6cf6bd033"
      },
      "execution_count": 75,
      "outputs": [
        {
          "output_type": "execute_result",
          "data": {
            "text/plain": [
              "tensor(0, device='cuda:0')"
            ]
          },
          "metadata": {},
          "execution_count": 75
        }
      ]
    },
    {
      "cell_type": "code",
      "source": [
        "torch.manual_seed(7)\n",
        "A=torch.rand(size=(1,1,1,10))\n",
        "A.squeeze()"
      ],
      "metadata": {
        "colab": {
          "base_uri": "https://localhost:8080/"
        },
        "id": "vpFuFkxdY_SV",
        "outputId": "4e7dc39a-547c-4c9a-8383-2861c257e5c9"
      },
      "execution_count": 77,
      "outputs": [
        {
          "output_type": "execute_result",
          "data": {
            "text/plain": [
              "tensor([0.5349, 0.1988, 0.6592, 0.6569, 0.2328, 0.4251, 0.2071, 0.6297, 0.3653,\n",
              "        0.8513])"
            ]
          },
          "metadata": {},
          "execution_count": 77
        }
      ]
    }
  ]
}